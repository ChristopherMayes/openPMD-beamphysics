{
 "cells": [
  {
   "cell_type": "markdown",
   "id": "892a58d5-2d7f-4053-9bd0-1a02d3b7d455",
   "metadata": {},
   "source": [
    "# Resistive Wall Wakefield"
   ]
  },
  {
   "cell_type": "code",
   "execution_count": null,
   "id": "2d6c6812-1b4f-45d9-b1a4-4e50baa4b7c7",
   "metadata": {},
   "outputs": [],
   "source": [
    "%load_ext autoreload\n",
    "%autoreload 2"
   ]
  },
  {
   "cell_type": "code",
   "execution_count": null,
   "id": "fee8faee-1f31-4e4d-a2af-18bfb25fa0cc",
   "metadata": {},
   "outputs": [],
   "source": [
    "from pmd_beamphysics.wakefields.resistive_wall import (\n",
    "    ResistiveWallWakefield,\n",
    "    epsilon_0,\n",
    "    apply_sr_wake,\n",
    ")\n",
    "\n",
    "from pmd_beamphysics import ParticleGroup\n",
    "import numpy as np\n",
    "import matplotlib.pyplot as plt"
   ]
  },
  {
   "cell_type": "code",
   "execution_count": null,
   "id": "56a82d9d-9079-45d5-8bcd-6c8f5f2bdd32",
   "metadata": {},
   "outputs": [],
   "source": [
    "radius_ref = 2.5e-3\n",
    "\n",
    "wake = ResistiveWallWakefield(radius_ref, geometry=\"round\", material=\"Cu\")\n",
    "\n",
    "wake.plot()\n",
    "# plt.yscale('symlog')"
   ]
  },
  {
   "cell_type": "code",
   "execution_count": null,
   "id": "47eb70ea-ff85-4b1d-8de0-f9b9f44b5f9b",
   "metadata": {},
   "outputs": [],
   "source": [
    "print(wake.to_bmad())"
   ]
  },
  {
   "cell_type": "markdown",
   "id": "ad1249db-19e5-42a2-a976-2ff48843a91d",
   "metadata": {},
   "source": [
    "# Compare with SLAC-PUB-10707"
   ]
  },
  {
   "cell_type": "code",
   "execution_count": null,
   "id": "3da1bc51-50ad-48ec-b019-68c7ea495c73",
   "metadata": {},
   "outputs": [],
   "source": [
    "!ls ../data"
   ]
  },
  {
   "cell_type": "code",
   "execution_count": null,
   "id": "19cff809-238b-4cbc-90d4-1cbac8032022",
   "metadata": {},
   "outputs": [],
   "source": [
    "raw_data = np.loadtxt(\"../data/SLAC-PUB-10707-digitized-Fig4-AC-Cu.csv\", delimiter=\",\")\n",
    "\n",
    "\n",
    "# Convert to SI\n",
    "zref, Wref = (\n",
    "    raw_data[:, 0] * 1e-6,\n",
    "    raw_data[:, 1] * 4 / radius_ref**2 / (4 * np.pi * epsilon_0),\n",
    ")\n",
    "plt.plot(zref, Wref)"
   ]
  },
  {
   "cell_type": "code",
   "execution_count": null,
   "id": "eabb80d7-969c-45e6-bd56-60cd05b8d494",
   "metadata": {},
   "outputs": [],
   "source": [
    "zlist = np.linspace(0, 300e-6, 200)\n",
    "Wz = wake.pseudomode(-zlist)\n",
    "\n",
    "fig, ax = plt.subplots()\n",
    "ax.plot(zlist * 1e6, Wz * 1e-12, label=\"ResistiveWallWakefield\")\n",
    "\n",
    "ax.plot(zref * 1e6, Wref * 1e-12, \"--\", label=\"Fig4-AC-Cu from SLAC-PUB-10707 2004\")\n",
    "plt.legend()\n",
    "\n",
    "ax.set_xlabel(r\"$-z$ (µm)\")\n",
    "ax.set_ylabel(r\"$W_z$ (V/pC/m)\")"
   ]
  },
  {
   "cell_type": "markdown",
   "id": "16a42f85-33f4-4469-b9d2-9d61b7c09d33",
   "metadata": {},
   "source": [
    "# Test with Bmad"
   ]
  },
  {
   "cell_type": "code",
   "execution_count": null,
   "id": "1b98f7ac-12e9-4a31-89dd-d36b30db9e03",
   "metadata": {},
   "outputs": [],
   "source": [
    "LAT = f\"\"\"\n",
    "no_digested\n",
    "parameter[lattice] = LCLS\n",
    "parameter[e_tot] = 14e9 \n",
    "parameter[particle] = electron        \n",
    "parameter[geometry] = open\n",
    "\n",
    "beginning[beta_a] = 10\n",
    "beginning[beta_b] = 10\n",
    "p1: pipe, L = 1\n",
    "\n",
    "lat: line = (p1)\n",
    "\n",
    "P1[sr_wake] = {wake.to_bmad()}\n",
    "\n",
    "use, lat\n",
    "\n",
    "\"\"\""
   ]
  },
  {
   "cell_type": "code",
   "execution_count": null,
   "id": "37af5028-0223-4cd8-b1ff-9f391f02e140",
   "metadata": {},
   "outputs": [],
   "source": [
    "from pytao import Tao"
   ]
  },
  {
   "cell_type": "code",
   "execution_count": null,
   "id": "363e04cd-9c10-42ac-922e-9dba887acb15",
   "metadata": {},
   "outputs": [],
   "source": [
    "tao = Tao.from_lattice_contents(LAT, noplot=True)"
   ]
  },
  {
   "cell_type": "code",
   "execution_count": null,
   "id": "b5a76d8f-ce0a-4b82-b10c-392df762d3ba",
   "metadata": {},
   "outputs": [],
   "source": [
    "beam_init = dict(\n",
    "    n_particle=1_000,\n",
    "    a_norm_emit=1e-12,\n",
    "    b_norm_emit=1e-12,\n",
    "    sig_z=20e-6,\n",
    "    sig_pz=1e-9,\n",
    "    n_bunch=1,\n",
    "    bunch_charge=1e-9,\n",
    "    random_engine=\"quasi\",\n",
    ")\n",
    "\n",
    "cmds = []\n",
    "for k, v in beam_init.items():\n",
    "    cmd = f\"set beam_init {k} = {v}\"\n",
    "    cmds.append(cmd)\n",
    "    print(cmd)\n",
    "\n",
    "tao.cmds(cmds, suppress_lattice_calc=False)"
   ]
  },
  {
   "cell_type": "code",
   "execution_count": null,
   "id": "3aa366c0-e988-4155-b188-c1a1dbc58194",
   "metadata": {},
   "outputs": [],
   "source": [
    "%%time\n",
    "tao.track_beam()"
   ]
  },
  {
   "cell_type": "code",
   "execution_count": null,
   "id": "04e1ceec-17ce-4ed1-acf2-a13ddd331d21",
   "metadata": {},
   "outputs": [],
   "source": [
    "P0 = ParticleGroup(data=tao.bunch_data(\"beginning\"))\n",
    "P1 = ParticleGroup(data=tao.bunch_data(\"end\"))\n",
    "P0.drift_to_t()\n",
    "P1.drift_to_t()\n",
    "P1.plot(\"delta_z\", \"energy\", bins=100)"
   ]
  },
  {
   "cell_type": "code",
   "execution_count": null,
   "id": "6702d4dc-1341-4cc3-957f-8882107b1a73",
   "metadata": {},
   "outputs": [],
   "source": [
    "e1 = P1[\"mean_energy\"]\n",
    "e0 = P0[\"mean_energy\"]\n",
    "(e1 - e0)"
   ]
  },
  {
   "cell_type": "code",
   "execution_count": null,
   "id": "ca94b3f9-8add-46bb-a83c-9dbb5eabda7f",
   "metadata": {},
   "outputs": [],
   "source": []
  },
  {
   "cell_type": "code",
   "execution_count": null,
   "id": "02583eb6-5d51-4b97-89ff-60cb88b32548",
   "metadata": {},
   "outputs": [],
   "source": [
    "def gaussian(z, sigma=beam_init[\"sig_z\"], mean=0):\n",
    "    return 1 / np.sqrt(2 * np.pi) / sigma * np.exp(-0.5 * ((z - mean) / sigma) ** 2)\n",
    "\n",
    "\n",
    "# 1. Choose a sampling grid\n",
    "z_min, z_max, dz = -200e-6, 200e-6, 0.1e-6\n",
    "z = np.arange(z_min, z_max + dz, dz)\n",
    "\n",
    "# 2. Define / sample your functions\n",
    "density = gaussian(z, mean=-0)  # Density"
   ]
  },
  {
   "cell_type": "code",
   "execution_count": null,
   "id": "1a5ddff3-e5e8-447a-b500-33fb4ecce116",
   "metadata": {},
   "outputs": [],
   "source": [
    "iwake = wake.convolve(density, dz=dz)"
   ]
  },
  {
   "cell_type": "code",
   "execution_count": null,
   "id": "d09f7d80-3491-44db-9b63-68c1db2cc055",
   "metadata": {},
   "outputs": [],
   "source": [
    "z_particles = P1[\"delta_z\"]\n",
    "de_particles = P1.energy - P0[\"mean_energy\"]\n",
    "\n",
    "zscale = 1 / 1e-6\n",
    "fig, ax = plt.subplots()\n",
    "ax.scatter(\n",
    "    z_particles * zscale, de_particles, label=\"tracking\", marker=\".\", color=\"black\"\n",
    ")\n",
    "\n",
    "# ax.plot(z_conv * zscale, conv * N * e, color='red', label='convolution')\n",
    "\n",
    "ax.plot(\n",
    "    z * zscale, -iwake * beam_init[\"bunch_charge\"], color=\"red\", label=\"convolution\"\n",
    ")\n",
    "\n",
    "ax.legend()\n",
    "ax.set_xlim(z_particles.min() * zscale, z_particles.max() * zscale)\n",
    "ax.set_xlabel(r\"$z$ (µm)\")\n",
    "ax.set_ylabel(r\"$W_z$ (eV/m)\")"
   ]
  },
  {
   "cell_type": "markdown",
   "id": "5d112e6f-839f-4d62-bc24-3130c91b2e9d",
   "metadata": {},
   "source": [
    "# Detailed wake\n"
   ]
  },
  {
   "cell_type": "code",
   "execution_count": null,
   "id": "e2478b38-e658-40fb-95bb-a1574e784d50",
   "metadata": {},
   "outputs": [],
   "source": [
    "iz = np.argsort(P0.z)\n",
    "\n",
    "z = P0.z[iz]\n",
    "weight = P0.weight[iz]\n",
    "z[0], z[-1]"
   ]
  },
  {
   "cell_type": "code",
   "execution_count": null,
   "id": "431741ae-b3f8-492c-b13f-ec68182492d2",
   "metadata": {},
   "outputs": [],
   "source": [
    "%%time\n",
    "zwake = apply_sr_wake(z, weight, wake.pseudomode)\n",
    "len(zwake)"
   ]
  },
  {
   "cell_type": "code",
   "execution_count": null,
   "id": "951358f0-f4eb-4771-98eb-e48b9cfd05a1",
   "metadata": {},
   "outputs": [],
   "source": [
    "fig, ax = plt.subplots()\n",
    "ax.scatter(z * zscale, zwake, label=\"Python\", color=\"black\")\n",
    "ax.scatter(\n",
    "    z_particles * zscale, de_particles, label=\"Bmad tracking\", marker=\".\", color=\"blue\"\n",
    ")\n",
    "ax.legend()\n",
    "ax.set_xlabel(r\"$z$ (µm)\")\n",
    "ax.set_ylabel(r\"$W_z$ (eV/m)\")"
   ]
  },
  {
   "cell_type": "code",
   "execution_count": null,
   "id": "55fed64e-1d70-44aa-af54-d4d23d6cc023",
   "metadata": {},
   "outputs": [],
   "source": []
  }
 ],
 "metadata": {
  "kernelspec": {
   "display_name": "Python 3 (ipykernel)",
   "language": "python",
   "name": "python3"
  },
  "language_info": {
   "codemirror_mode": {
    "name": "ipython",
    "version": 3
   },
   "file_extension": ".py",
   "mimetype": "text/x-python",
   "name": "python",
   "nbconvert_exporter": "python",
   "pygments_lexer": "ipython3",
   "version": "3.13.3"
  }
 },
 "nbformat": 4,
 "nbformat_minor": 5
}
