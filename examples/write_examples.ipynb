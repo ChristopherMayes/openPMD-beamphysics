{
 "cells": [
  {
   "cell_type": "code",
   "execution_count": 1,
   "metadata": {},
   "outputs": [],
   "source": [
    "# Useful for debugging\n",
    "%load_ext autoreload\n",
    "%autoreload 2"
   ]
  },
  {
   "cell_type": "markdown",
   "metadata": {},
   "source": [
    "# Writer examples"
   ]
  },
  {
   "cell_type": "code",
   "execution_count": 2,
   "metadata": {},
   "outputs": [],
   "source": [
    "from pmd_beamphysics import ParticleGroup, particle_paths, pmd_init\n",
    "from h5py import File"
   ]
  },
  {
   "cell_type": "code",
   "execution_count": 3,
   "metadata": {},
   "outputs": [
    {
     "data": {
      "text/plain": [
       "['//']"
      ]
     },
     "execution_count": 3,
     "metadata": {},
     "output_type": "execute_result"
    }
   ],
   "source": [
    "# Open a file, fine the particle paths from the root attributes\n",
    "# Pick one:\n",
    "#H5FILE = 'data/bmad_particles2.h5'\n",
    "H5FILE = 'data/distgen_particles.h5'\n",
    "#H5FILE = 'data/astra_particles.h5'\n",
    "\n",
    "# Load\n",
    "h5 = File(H5FILE, 'r')\n",
    "ppaths = particle_paths(h5)\n",
    "ph5 = h5[ppaths[0]]\n",
    "\n",
    "P = ParticleGroup(ph5)\n",
    "ppaths"
   ]
  },
  {
   "cell_type": "markdown",
   "metadata": {},
   "source": [
    "# openPMD"
   ]
  },
  {
   "cell_type": "code",
   "execution_count": 4,
   "metadata": {},
   "outputs": [],
   "source": [
    "# The regular write routine writes in a proper openPMD format\n",
    "P.write('openpmd_particles.h5')"
   ]
  },
  {
   "cell_type": "code",
   "execution_count": 5,
   "metadata": {},
   "outputs": [],
   "source": [
    "# An open h5 hande can also be used, but it needs to be properly initialized\n",
    "with File('openpmd_particles.h5', 'w') as h5:\n",
    "    pmd_init(h5, basePath='/', particlesPath='/' )\n",
    "    P.write(h5)"
   ]
  },
  {
   "cell_type": "code",
   "execution_count": 6,
   "metadata": {},
   "outputs": [],
   "source": [
    "# This can be read in by another ParticleGroup\n",
    "P2 = ParticleGroup('openpmd_particles.h5')"
   ]
  },
  {
   "cell_type": "code",
   "execution_count": 7,
   "metadata": {},
   "outputs": [
    {
     "data": {
      "text/plain": [
       "True"
      ]
     },
     "execution_count": 7,
     "metadata": {},
     "output_type": "execute_result"
    }
   ],
   "source": [
    "# Check that these are the same\n",
    "all(P2.x == P.x)"
   ]
  },
  {
   "cell_type": "markdown",
   "metadata": {},
   "source": [
    "# Astra"
   ]
  },
  {
   "cell_type": "code",
   "execution_count": 8,
   "metadata": {},
   "outputs": [],
   "source": [
    "P.write_astra('astra_particles.txt')"
   ]
  },
  {
   "cell_type": "code",
   "execution_count": 9,
   "metadata": {},
   "outputs": [
    {
     "name": "stdout",
     "output_type": "stream",
     "text": [
      " -1.289814080985e-05   1.712192978919e-05   0.000000000000e+00  -9.245284702413e-01  -3.316650265292e+00   2.210558337183e+02   1.819664001274e-05   0.000000000000e+00    1   -1\n",
      " -1.184861337727e-03  -2.101371437059e-03   0.000000000000e+00  -3.047044656318e+02  -3.039342419008e+02  -1.005645891013e+02  -9.745607002167e-04   1.000000000000e-06    1   -1\n",
      " -5.181307340245e-04  -2.178353405029e-03   0.000000000000e+00   5.525456229648e+02   2.416723877028e+02  -6.554342847563e+01   1.280843753434e-03   1.000000000000e-06    1   -1\n",
      " -1.773501610902e-03   2.864979597813e-03   0.000000000000e+00  -2.226004747820e+02   9.450238076106e+00  -1.055085411491e+02   3.835366744569e-04   1.000000000000e-06    1   -1\n",
      "  1.686555815999e-03  -2.401048305081e-04   0.000000000000e+00  -1.891692499417e+02   4.859547751754e+01   3.339263495319e+02   1.902998338336e-03   1.000000000000e-06    1   -1\n",
      " -7.779454935491e-04  -6.800063114796e-04   0.000000000000e+00   6.716138938638e+01  -2.064173000222e+02  -1.405963302134e+02   1.779005092730e-04   1.000000000000e-06    1   -1\n",
      " -2.593702199590e-03  -2.301030494125e-03   0.000000000000e+00  -1.455653402031e+01   2.074634953296e+02  -1.397453142110e+02   1.368567098305e-03   1.000000000000e-06    1   -1\n",
      "  1.997801509161e-03   2.648416193086e-03   0.000000000000e+00  -2.124047726665e+00  -6.792723569247e+01   6.931081537770e+01   2.616497721112e-04   1.000000000000e-06    1   -1\n",
      "  1.999741847023e-03  -6.945690451493e-04   0.000000000000e+00  -9.991142908925e+01  -9.189412445573e+01   2.259539675809e+02  -8.681109991004e-04   1.000000000000e-06    1   -1\n",
      " -7.033822974359e-04  -5.677746866954e-04   0.000000000000e+00   7.520962264129e+02   3.125940718167e+02  -1.451032665210e+02   4.315191990002e-04   1.000000000000e-06    1   -1\n"
     ]
    }
   ],
   "source": [
    "!head astra_particles.txt"
   ]
  },
  {
   "cell_type": "markdown",
   "metadata": {},
   "source": [
    "# Bmad ASCII"
   ]
  },
  {
   "cell_type": "code",
   "execution_count": 10,
   "metadata": {},
   "outputs": [],
   "source": [
    "P.write_bmad('bmad_particles.txt')"
   ]
  },
  {
   "cell_type": "code",
   "execution_count": 11,
   "metadata": {},
   "outputs": [
    {
     "name": "stdout",
     "output_type": "stream",
     "text": [
      "!ASCII::3\n",
      "0 ! ix_ele, not used\n",
      "1 ! n_bunch\n",
      "10000 ! n_particle\n",
      "BEGIN_BUNCH\n",
      "electron \n",
      "1.0000000000000003e-11  ! bunch_charge\n",
      "0 ! z_center\n",
      "0 ! t_center\n",
      " -1.184861337727e-03  -3.047044656318e+02  -2.101371437059e-03  -3.039342419008e+02  -9.563640602039e-13   1.204912446170e+02   1.000000000000e-15  1\n"
     ]
    }
   ],
   "source": [
    "!head bmad_particles.txt"
   ]
  },
  {
   "cell_type": "markdown",
   "metadata": {},
   "source": [
    "# elegant"
   ]
  },
  {
   "cell_type": "code",
   "execution_count": 12,
   "metadata": {},
   "outputs": [
    {
     "name": "stdout",
     "output_type": "stream",
     "text": [
      "writing 10000 particles to elegant_particles.txt\n"
     ]
    }
   ],
   "source": [
    "P.write_elegant('elegant_particles.txt', verbose=True)"
   ]
  },
  {
   "cell_type": "code",
   "execution_count": 13,
   "metadata": {},
   "outputs": [
    {
     "name": "stdout",
     "output_type": "stream",
     "text": [
      "SDDS1\n",
      "! \n",
      "! Created using the openPMD-beamphysics Python package\n",
      "! https://github.com/ChristopherMayes/openPMD-beamphysics\n",
      "! species: electron\n",
      "!\n",
      "&parameter name=Charge, type=double, units=C, description=\"total charge in Coulombs\" &end\n",
      "&column name=t,  type=double, units=s, description=\"time in seconds\" &end\n",
      "&column name=x,  type=double, units=m, description=\"x in meters\" &end\n",
      "&column name=xp, type=double, description=\"px/pz\" &end\n",
      "&column name=y,  type=double, units=m, description=\"y in meters\" &end\n",
      "&column name=yp, type=double, description=\"py/pz\" &end\n",
      "&column name=p,  type=double, description=\"relativistic gamma*beta\" &end\n",
      "&data mode=ascii &end\n",
      "1.0000000000000003e-11\n",
      "10000\n",
      " -9.563640602039e-13  -1.184861337727e-03  -2.528851507845e+00  -2.101371437059e-03  -2.522459145201e+00   8.746038816275e-04\n",
      "  1.299040393447e-12  -5.181307340245e-04   3.553064606663e+00  -2.178353405029e-03   1.554039289185e+00   1.218815083118e-03\n",
      "  4.017333144697e-13  -1.773501610902e-03  -1.926488019169e+00   2.864979597813e-03   8.178675472159e-02   4.911575370556e-04\n",
      "  1.921194978349e-12   1.686555815999e-03  -3.408564376497e-01  -2.401048305081e-04   8.756222989528e-02   1.151365621035e-03\n"
     ]
    }
   ],
   "source": [
    "!head -n 20 elegant_particles.txt"
   ]
  },
  {
   "cell_type": "markdown",
   "metadata": {},
   "source": [
    "# Genesis 1.3 v2 "
   ]
  },
  {
   "cell_type": "code",
   "execution_count": 14,
   "metadata": {},
   "outputs": [
    {
     "name": "stdout",
     "output_type": "stream",
     "text": [
      "Beam written: genesis2.beam\n"
     ]
    }
   ],
   "source": [
    "P.write_genesis2_beam_file('genesis2.beam', n_slice=50, verbose=True)"
   ]
  },
  {
   "cell_type": "code",
   "execution_count": 15,
   "metadata": {},
   "outputs": [
    {
     "name": "stdout",
     "output_type": "stream",
     "text": [
      "? VERSION=1.0\n",
      "? SIZE=50\n",
      "? COLUMNS TPOS CURPEAK GAMMA0 DELGAM EMITX EMITY RXBEAM RYBEAM XBEAM YBEAM PXBEAM PYBEAM ALPHAX ALPHAY\n",
      "-1.96236040e-12 2.75359318e+00 1.00000042e+00 3.87022121e-07 1.19639887e-06 9.26536586e-07 2.04948080e-03 1.83621527e-03 -2.06231144e-04 5.85738124e-05 1.38209180e-05 4.17553934e-05 -1.01973407e-02 7.54079832e-04\n",
      "-1.88646733e-12 2.46723994e+00 1.00000043e+00 3.39783124e-07 1.04698472e-06 1.03470799e-06 2.05064183e-03 1.92139881e-03 -2.53107201e-05 -1.13678787e-04 -2.85190907e-05 -2.90105675e-05 -2.32400675e-02 -2.55583997e-03\n",
      "-1.80734757e-12 2.61898031e+00 1.00000043e+00 3.65257967e-07 9.78086023e-07 1.03038032e-06 1.97065976e-03 1.88550433e-03 -7.56576638e-05 1.77044304e-04 -4.48907172e-05 6.98821769e-05 5.38708456e-03 4.70844009e-03\n",
      "-1.72583745e-12 2.30361285e+00 1.00000043e+00 3.43343193e-07 9.42099457e-07 1.07137205e-06 1.90156644e-03 1.92054974e-03 4.82559113e-05 -6.43105052e-05 1.66595205e-05 1.33986604e-05 9.16890850e-02 8.20635086e-03\n",
      "-1.64047654e-12 2.48779835e+00 1.00000043e+00 3.76740497e-07 1.12901501e-06 1.01496464e-06 2.07085748e-03 1.84284581e-03 -2.63780641e-04 2.16425678e-05 9.07228824e-06 -2.65046022e-05 1.91567484e-03 3.63234933e-03\n",
      "-1.55820367e-12 2.33273410e+00 1.00000041e+00 3.38657590e-07 9.79796547e-07 1.04648255e-06 1.84685458e-03 1.99189484e-03 3.36520774e-05 1.02123362e-04 3.01402301e-06 6.13937003e-05 -7.84493116e-02 2.84788841e-02\n",
      "-1.47800120e-12 2.62363489e+00 1.00000044e+00 3.34570582e-07 1.12580877e-06 1.08628803e-06 1.97095399e-03 2.02149469e-03 -1.94415715e-04 -1.05666747e-04 -1.70675102e-05 -5.61809635e-06 -1.81522208e-01 -5.08353286e-03\n"
     ]
    }
   ],
   "source": [
    "!head genesis2.beam"
   ]
  },
  {
   "cell_type": "markdown",
   "metadata": {},
   "source": [
    "# Genesis 1.3 v4"
   ]
  },
  {
   "cell_type": "code",
   "execution_count": 16,
   "metadata": {},
   "outputs": [
    {
     "name": "stdout",
     "output_type": "stream",
     "text": [
      "Datasets x, xp, y, yp, t, p written to: genesis4_distribution.h5\n"
     ]
    }
   ],
   "source": [
    "P.write_genesis4_distribution('genesis4_distribution.h5', verbose=True)"
   ]
  },
  {
   "cell_type": "code",
   "execution_count": 17,
   "metadata": {},
   "outputs": [
    {
     "name": "stdout",
     "output_type": "stream",
     "text": [
      "p 10000\n",
      "t 10000\n",
      "x 10000\n",
      "xp 10000\n",
      "y 10000\n",
      "yp 10000\n"
     ]
    }
   ],
   "source": [
    "# These are written\n",
    "with File('genesis4_distribution.h5', 'r') as h5:\n",
    "    for g in h5:\n",
    "        print(g, len(h5[g]))"
   ]
  },
  {
   "cell_type": "markdown",
   "metadata": {},
   "source": [
    "# GPT ASCII"
   ]
  },
  {
   "cell_type": "code",
   "execution_count": 18,
   "metadata": {},
   "outputs": [
    {
     "name": "stdout",
     "output_type": "stream",
     "text": [
      "writing 10000 particles to gpt_particles.txt\n",
      "ASCII particles written. Convert to GDF using: asci2df -o particles.gdf gpt_particles.txt\n"
     ]
    }
   ],
   "source": [
    "# ASCII Particles\n",
    "P.write_gpt('gpt_particles.txt', verbose=True)"
   ]
  },
  {
   "cell_type": "code",
   "execution_count": 19,
   "metadata": {},
   "outputs": [
    {
     "name": "stdout",
     "output_type": "stream",
     "text": [
      "writing 10000 particles to gpt_particles.gdf\n",
      "/Users/chrisonian/Code/xgpt/gpt321MacOSX/bin/asci2gdf -o gpt_particles.gdf gpt_particles.gdf.txt\n"
     ]
    }
   ],
   "source": [
    "# ASCII Particles\n",
    "P.write_gpt('gpt_particles.gdf', verbose=True, asci2gdf_bin='$ASCI2GDF_BIN')"
   ]
  },
  {
   "cell_type": "code",
   "execution_count": 20,
   "metadata": {},
   "outputs": [
    {
     "name": "stdout",
     "output_type": "stream",
     "text": [
      "x y z GBx GBy GBz t q nmacro ID\n",
      " -1.184861337727e-03  -2.101371437059e-03   0.000000000000e+00  -5.962917646539e-04  -5.947844744119e-04   2.357954837618e-04  -9.563640602039e-13  -1.602176634000e-19   6.241509074461e+03   1.000000000000e+00\n",
      " -5.181307340245e-04  -2.178353405029e-03   0.000000000000e+00   1.081304810831e-03   4.729410651486e-04   3.043301854978e-04   1.299040393447e-12  -1.602176634000e-19   6.241509074461e+03   2.000000000000e+00\n",
      " -1.773501610902e-03   2.864979597813e-03   0.000000000000e+00  -4.356182625855e-04   1.849365458795e-05   2.261204109505e-04   4.017333144697e-13  -1.602176634000e-19   6.241509074461e+03   3.000000000000e+00\n",
      "  1.686555815999e-03  -2.401048305081e-04   0.000000000000e+00  -3.701949875665e-04   9.509897724358e-05   1.086073040366e-03   1.921194978349e-12  -1.602176634000e-19   6.241509074461e+03   4.000000000000e+00\n",
      " -7.779454935491e-04  -6.800063114796e-04   0.000000000000e+00   1.314315604491e-04  -4.039485795855e-04   1.574553206125e-04   1.960971492857e-13  -1.602176634000e-19   6.241509074461e+03   5.000000000000e+00\n",
      " -2.593702199590e-03  -2.301030494125e-03   0.000000000000e+00  -2.848642647957e-05   4.059959327305e-04   1.591207173856e-04   1.386763738318e-12  -1.602176634000e-19   6.241509074461e+03   6.000000000000e+00\n",
      "  1.997801509161e-03   2.648416193086e-03   0.000000000000e+00  -4.156657712632e-06  -1.329302842843e-04   5.682333576146e-04   2.798464121239e-13  -1.602176634000e-19   6.241509074461e+03   7.000000000000e+00\n",
      "  1.999741847023e-03  -6.945690451493e-04   0.000000000000e+00  -1.955217894073e-04  -1.798323156158e-04   8.747763597150e-04  -8.499143590877e-13  -1.602176634000e-19   6.241509074461e+03   8.000000000000e+00\n",
      " -7.033822974359e-04  -5.677746866954e-04   0.000000000000e+00   1.471815600429e-03   6.117313388153e-04   1.486354662711e-04   4.497158390130e-13  -1.602176634000e-19   6.241509074461e+03   9.000000000000e+00\n"
     ]
    }
   ],
   "source": [
    "!head gpt_particles.txt"
   ]
  },
  {
   "cell_type": "markdown",
   "metadata": {},
   "source": [
    "# Impact-T"
   ]
  },
  {
   "cell_type": "code",
   "execution_count": 21,
   "metadata": {},
   "outputs": [],
   "source": [
    "# Impact-T particles must all be a the same time\n",
    "P.drift_to_t(P['mean_t'])"
   ]
  },
  {
   "cell_type": "code",
   "execution_count": 22,
   "metadata": {},
   "outputs": [
    {
     "data": {
      "text/plain": [
       "{'input_particle_file': 'impact_particles.txt',\n",
       " 'Np': 10000,\n",
       " 'Tini': 1.8196640012738955e-14,\n",
       " 'Flagimg': 0}"
      ]
     },
     "execution_count": 22,
     "metadata": {},
     "output_type": "execute_result"
    }
   ],
   "source": [
    "# This will return settings for Impact-T to use. \n",
    "P.write_impact('impact_particles.txt')"
   ]
  },
  {
   "cell_type": "code",
   "execution_count": 23,
   "metadata": {},
   "outputs": [
    {
     "name": "stdout",
     "output_type": "stream",
     "text": [
      "10000\n",
      "-1.185035553808772143e-03 -5.962917646539026830e-04 -2.101545212762252063e-03 -5.947844744118674322e-04 6.889138464881933100e-08 2.357954837617718671e-04\n",
      "-5.185459410277813361e-04 1.081304810831444467e-03 -2.178535008255722601e-03 4.729410651485857421e-04 -1.168588385748075519e-07 3.043301854978374224e-04\n",
      "-1.773451522909312962e-03 -4.356182625855454051e-04 2.864977471386669170e-03 1.849365458795189073e-05 -2.599963881922582005e-08 2.261204109504710369e-04\n",
      "1.686767013783966630e-03 -3.701949875665073173e-04 -2.401590848712557098e-04 9.509897724357652376e-05 -6.196091998406063829e-07 1.086073040365844247e-03\n",
      "-7.779525032181127363e-04 1.314315604491483218e-04 -6.799847675988795461e-04 -4.039485795854574294e-04 -8.397600117458310294e-09 1.574553206124528490e-04\n",
      "-2.593690512006350136e-03 -2.848642647956871628e-05 -2.301197068594195913e-03 4.059959327304890142e-04 -6.528501143099030074e-08 1.591207173856017500e-04\n",
      "1.997801835211931738e-03 -4.156657712632428115e-06 2.648426620219643604e-03 -1.329302842842788868e-04 -4.457257401140207067e-08 5.682333576145901953e-04\n",
      "1.999690961886589624e-03 -1.955217894072916376e-04 -6.946158470527933476e-04 -1.798323156157682705e-04 2.276631907326255499e-07 8.747763597149906109e-04\n",
      "-7.035727003852429310e-04 1.471815600429043089e-03 -5.678538239535645561e-04 6.117313388152664398e-04 -1.922838101944327160e-08 1.486354662711139932e-04\n"
     ]
    }
   ],
   "source": [
    "!head impact_particles.txt"
   ]
  },
  {
   "cell_type": "markdown",
   "metadata": {},
   "source": [
    "# OPAL"
   ]
  },
  {
   "cell_type": "code",
   "execution_count": 24,
   "metadata": {},
   "outputs": [],
   "source": [
    "# Injected particled must be at the same time\n",
    "P.write_opal('opal_injected.txt', dist_type='injected')"
   ]
  },
  {
   "cell_type": "code",
   "execution_count": 25,
   "metadata": {},
   "outputs": [
    {
     "name": "stdout",
     "output_type": "stream",
     "text": [
      "10000\n",
      " -1.185035553809e-03  -5.962917646539e-04  -2.101545212762e-03  -5.947844744119e-04   6.889138464882e-08   2.357954837618e-04\n",
      " -5.185459410278e-04   1.081304810831e-03  -2.178535008256e-03   4.729410651486e-04  -1.168588385748e-07   3.043301854978e-04\n",
      " -1.773451522909e-03  -4.356182625855e-04   2.864977471387e-03   1.849365458795e-05  -2.599963881923e-08   2.261204109505e-04\n",
      "  1.686767013784e-03  -3.701949875665e-04  -2.401590848713e-04   9.509897724358e-05  -6.196091998406e-07   1.086073040366e-03\n",
      " -7.779525032181e-04   1.314315604491e-04  -6.799847675989e-04  -4.039485795855e-04  -8.397600117458e-09   1.574553206125e-04\n",
      " -2.593690512006e-03  -2.848642647957e-05  -2.301197068594e-03   4.059959327305e-04  -6.528501143099e-08   1.591207173856e-04\n",
      "  1.997801835212e-03  -4.156657712632e-06   2.648426620220e-03  -1.329302842843e-04  -4.457257401140e-08   5.682333576146e-04\n",
      "  1.999690961887e-03  -1.955217894073e-04  -6.946158470528e-04  -1.798323156158e-04   2.276631907326e-07   8.747763597150e-04\n",
      " -7.035727003852e-04   1.471815600429e-03  -5.678538239536e-04   6.117313388153e-04  -1.922838101944e-08   1.486354662711e-04\n"
     ]
    }
   ],
   "source": [
    "!head opal_injected.txt"
   ]
  },
  {
   "cell_type": "code",
   "execution_count": 26,
   "metadata": {},
   "outputs": [],
   "source": [
    "# Emitted particles must be at the same z\n",
    "P.drift_to_z(P['mean_z'])\n",
    "P.write_opal('opal_emitted.txt', dist_type='emitted')"
   ]
  },
  {
   "cell_type": "code",
   "execution_count": 27,
   "metadata": {},
   "outputs": [
    {
     "name": "stdout",
     "output_type": "stream",
     "text": [
      "10000\n",
      " -1.184858771695e-03  -5.962917646539e-04  -2.101368877513e-03  -5.947844744119e-04  -9.707183829115e-13   2.357954837618e-04\n",
      " -5.181343393280e-04   1.081304810831e-03  -2.178354981917e-03   4.729410651486e-04   1.287918638696e-12   3.043301854978e-04\n",
      " -1.773499656090e-03  -4.356182625855e-04   2.864979514824e-03   1.849365458795e-05   3.867648135439e-13   2.261204109505e-04\n",
      "  1.686556161867e-03  -3.701949875665e-04  -2.401049193577e-04   9.509897724358e-05   1.918078534712e-12   1.086073040366e-03\n",
      " -7.779463405445e-04   1.314315604491e-04  -6.800037082800e-04  -4.039485795855e-04   1.746009971928e-13   1.574553206125e-04\n",
      " -2.593702017934e-03  -2.848642647957e-05  -2.301033083134e-03   4.059959327305e-04   1.365492570420e-12   1.591207173856e-04\n",
      "  1.997801516584e-03  -4.156657712632e-06   2.648416430462e-03  -1.329302842843e-04   2.738899090369e-13   5.682333576146e-04\n",
      "  1.999742073820e-03  -1.955217894073e-04  -6.945688365516e-04  -1.798323156158e-04  -8.537835589686e-13   8.747763597150e-04\n",
      " -7.033923452057e-04   1.471815600429e-03  -5.677788628542e-04   6.117313388153e-04   4.269441036122e-13   1.486354662711e-04\n"
     ]
    }
   ],
   "source": [
    "!head opal_emitted.txt"
   ]
  },
  {
   "cell_type": "markdown",
   "metadata": {},
   "source": [
    "# Cleanup"
   ]
  },
  {
   "cell_type": "code",
   "execution_count": 28,
   "metadata": {},
   "outputs": [],
   "source": [
    "!rm astra_particles.txt bmad_particles.txt elegant_particles.txt gpt_particles.txt impact_particles.txt opal_injected.txt opal_emitted.txt openpmd_particles.h5"
   ]
  },
  {
   "cell_type": "code",
   "execution_count": 29,
   "metadata": {},
   "outputs": [],
   "source": [
    "!rm genesis4_distribution.h5 genesis2.beam"
   ]
  },
  {
   "cell_type": "code",
   "execution_count": 30,
   "metadata": {},
   "outputs": [],
   "source": [
    "!rm gpt_particles.gdf"
   ]
  }
 ],
 "metadata": {
  "kernelspec": {
   "display_name": "Python 3",
   "language": "python",
   "name": "python3"
  },
  "language_info": {
   "codemirror_mode": {
    "name": "ipython",
    "version": 3
   },
   "file_extension": ".py",
   "mimetype": "text/x-python",
   "name": "python",
   "nbconvert_exporter": "python",
   "pygments_lexer": "ipython3",
   "version": "3.7.6"
  }
 },
 "nbformat": 4,
 "nbformat_minor": 4
}
