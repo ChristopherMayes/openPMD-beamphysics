{
 "cells": [
  {
   "cell_type": "markdown",
   "metadata": {},
   "source": [
    "# FieldMesh Examples"
   ]
  },
  {
   "cell_type": "code",
   "execution_count": null,
   "metadata": {
    "tags": []
   },
   "outputs": [],
   "source": [
    "from pmd_beamphysics import FieldMesh\n",
    "\n",
    "\n",
    "import numpy as np\n",
    "\n",
    "# Nicer plotting\n",
    "import matplotlib.pyplot as plt"
   ]
  },
  {
   "cell_type": "code",
   "execution_count": null,
   "metadata": {
    "tags": []
   },
   "outputs": [],
   "source": [
    "FM = FieldMesh(\"../data/solenoid.h5\")\n",
    "FM.geometry"
   ]
  },
  {
   "cell_type": "markdown",
   "metadata": {},
   "source": [
    "Built-in plotting:"
   ]
  },
  {
   "cell_type": "code",
   "execution_count": null,
   "metadata": {
    "tags": []
   },
   "outputs": [],
   "source": [
    "FM.plot(\"B\", aspect=\"equal\")"
   ]
  },
  {
   "cell_type": "markdown",
   "metadata": {},
   "source": [
    "On-axis field plotting"
   ]
  },
  {
   "cell_type": "code",
   "execution_count": null,
   "metadata": {
    "tags": []
   },
   "outputs": [],
   "source": [
    "FM.plot_onaxis()"
   ]
  },
  {
   "attachments": {},
   "cell_type": "markdown",
   "metadata": {},
   "source": [
    "Off-axis plotting can be done with the `axis_values` method to get interpolated values, and manually plot:"
   ]
  },
  {
   "cell_type": "code",
   "execution_count": null,
   "metadata": {},
   "outputs": [],
   "source": [
    "z, Bz = FM.axis_values(\"z\", \"abs_B\", r=0.04)\n",
    "plt.plot(z, Bz)\n",
    "plt.xlabel(r\"$z$ (m)\")\n",
    "plt.ylabel(r\"$\\left|B\\right|$ (T)\")\n",
    "plt.show()"
   ]
  },
  {
   "cell_type": "markdown",
   "metadata": {},
   "source": [
    "# Interpolation\n",
    "\n",
    "Arbirtrary points can also be interpolated. Here is the value of $B_z$ at `r=0.01`, `theta=0`, `z=0`:"
   ]
  },
  {
   "cell_type": "code",
   "execution_count": null,
   "metadata": {},
   "outputs": [],
   "source": [
    "FM.interpolate(\"Bz\", (0.01, 0, 0))"
   ]
  },
  {
   "cell_type": "code",
   "execution_count": null,
   "metadata": {},
   "outputs": [],
   "source": [
    "FM.interpolate(\"Bz\", [(0, 0, z) for z in np.linspace(-0.1, 0.1, 3)])"
   ]
  },
  {
   "cell_type": "markdown",
   "metadata": {},
   "source": [
    "Note that the points are orderd by the axis labels:"
   ]
  },
  {
   "cell_type": "code",
   "execution_count": null,
   "metadata": {},
   "outputs": [],
   "source": [
    "FM.axis_labels"
   ]
  },
  {
   "cell_type": "markdown",
   "metadata": {},
   "source": [
    "# Internal data\n",
    "\n",
    "attributes and components"
   ]
  },
  {
   "cell_type": "code",
   "execution_count": null,
   "metadata": {
    "tags": []
   },
   "outputs": [],
   "source": [
    "FM.attrs, FM.components.keys()"
   ]
  },
  {
   "cell_type": "markdown",
   "metadata": {},
   "source": [
    "# Properties\n",
    "\n",
    "Convenient access to these"
   ]
  },
  {
   "cell_type": "code",
   "execution_count": null,
   "metadata": {
    "tags": []
   },
   "outputs": [],
   "source": [
    "FM.shape"
   ]
  },
  {
   "cell_type": "code",
   "execution_count": null,
   "metadata": {
    "tags": []
   },
   "outputs": [],
   "source": [
    "FM.frequency"
   ]
  },
  {
   "cell_type": "markdown",
   "metadata": {},
   "source": [
    "Coordinate vectors: `.r`, `.theta`, `.z`, etc."
   ]
  },
  {
   "cell_type": "code",
   "execution_count": null,
   "metadata": {
    "tags": []
   },
   "outputs": [],
   "source": [
    "FM.r, FM.dr"
   ]
  },
  {
   "cell_type": "markdown",
   "metadata": {},
   "source": [
    "Grid info"
   ]
  },
  {
   "cell_type": "code",
   "execution_count": null,
   "metadata": {
    "tags": []
   },
   "outputs": [],
   "source": [
    "FM.mins, FM.maxs, FM.deltas"
   ]
  },
  {
   "cell_type": "code",
   "execution_count": null,
   "metadata": {},
   "outputs": [],
   "source": [
    "FM.zmin, FM.zmax"
   ]
  },
  {
   "cell_type": "markdown",
   "metadata": {},
   "source": [
    "Convenient setting"
   ]
  },
  {
   "cell_type": "code",
   "execution_count": null,
   "metadata": {},
   "outputs": [],
   "source": [
    "zmin_save = FM.zmin\n",
    "FM.zmin = 0\n",
    "print(FM.zmin, FM.zmax)\n",
    "FM.zmin = zmin_save"
   ]
  },
  {
   "cell_type": "markdown",
   "metadata": {},
   "source": [
    "Convenient logicals"
   ]
  },
  {
   "cell_type": "code",
   "execution_count": null,
   "metadata": {
    "tags": []
   },
   "outputs": [],
   "source": [
    "FM.is_static, FM.is_pure_magnetic, FM.is_pure_magnetic, FM.is_pure_electric"
   ]
  },
  {
   "cell_type": "markdown",
   "metadata": {},
   "source": [
    "# Components"
   ]
  },
  {
   "cell_type": "code",
   "execution_count": null,
   "metadata": {
    "tags": []
   },
   "outputs": [],
   "source": [
    "FM.components"
   ]
  },
  {
   "cell_type": "markdown",
   "metadata": {},
   "source": [
    "Convenient access to component data"
   ]
  },
  {
   "cell_type": "code",
   "execution_count": null,
   "metadata": {
    "tags": []
   },
   "outputs": [],
   "source": [
    "FM.Bz is FM[\"magneticField/z\"]"
   ]
  },
  {
   "cell_type": "markdown",
   "metadata": {},
   "source": [
    "Setting .scale will set the underlying attribute"
   ]
  },
  {
   "cell_type": "code",
   "execution_count": null,
   "metadata": {
    "tags": []
   },
   "outputs": [],
   "source": [
    "FM.scale = 2\n",
    "FM.attrs[\"fieldScale\"], FM.scale"
   ]
  },
  {
   "cell_type": "markdown",
   "metadata": {},
   "source": [
    "Raw components accessed by their full key"
   ]
  },
  {
   "cell_type": "code",
   "execution_count": null,
   "metadata": {},
   "outputs": [],
   "source": [
    "FM[\"magneticField/z\"]"
   ]
  },
  {
   "cell_type": "markdown",
   "metadata": {},
   "source": [
    "Scaled component accessed by shorter keys, e.g. "
   ]
  },
  {
   "cell_type": "code",
   "execution_count": null,
   "metadata": {},
   "outputs": [],
   "source": [
    "FM[\"Bz\"]"
   ]
  },
  {
   "cell_type": "code",
   "execution_count": null,
   "metadata": {
    "tags": []
   },
   "outputs": [],
   "source": [
    "FM[\"magneticField/z\"].max(), FM[\"Bz\"].max()"
   ]
  },
  {
   "cell_type": "markdown",
   "metadata": {},
   "source": [
    "# Oscillating fields\n",
    "\n",
    "Oscillating fields have `.harmonic > 0`"
   ]
  },
  {
   "cell_type": "code",
   "execution_count": null,
   "metadata": {
    "tags": []
   },
   "outputs": [],
   "source": [
    "FM = FieldMesh(\"../data/rfgun.h5\")\n",
    "FM.plot(\"re_E\", aspect=\"equal\", figsize=(12, 4))"
   ]
  },
  {
   "cell_type": "markdown",
   "metadata": {},
   "source": [
    "The magnetic field is out of phase, so use the `im_` syntax:"
   ]
  },
  {
   "cell_type": "code",
   "execution_count": null,
   "metadata": {
    "tags": []
   },
   "outputs": [],
   "source": [
    "FM.plot(\"im_Btheta\", aspect=\"equal\", figsize=(12, 4))"
   ]
  },
  {
   "cell_type": "markdown",
   "metadata": {},
   "source": [
    "Max on-axis field:"
   ]
  },
  {
   "cell_type": "code",
   "execution_count": null,
   "metadata": {
    "tags": []
   },
   "outputs": [],
   "source": [
    "np.abs(FM.Ez[0, 0, :]).max()"
   ]
  },
  {
   "cell_type": "markdown",
   "metadata": {},
   "source": [
    "## Verify the oscillation\n",
    "\n",
    "Complex fields oscillate as $e^{-i\\omega t}$. For TM fields, the spatial components $E_z$ and $B_\\theta$ near the axis \n",
    "\n",
    "$\\Re E_{z} = -\\frac{r}{2}\\frac{\\omega}{c^2} \\Im B_\\theta$\n"
   ]
  },
  {
   "cell_type": "code",
   "execution_count": null,
   "metadata": {
    "tags": []
   },
   "outputs": [],
   "source": [
    "c_light = 299792458.0\n",
    "\n",
    "dr = FM.dr\n",
    "omega = FM.frequency * 2 * np.pi\n",
    "\n",
    "# Check the first off-axis grid points\n",
    "z0 = FM.z\n",
    "Ez0 = np.real(FM.Ez[0, 0, :])\n",
    "B1 = -np.imag(FM.Btheta[1, 0, :])\n",
    "\n",
    "plt.plot(z0, Ez0, label=r\"$\\Re \\left( E_z\\right)$\")\n",
    "plt.plot(\n",
    "    z0,\n",
    "    B1 * 2 / dr * c_light**2 / omega,\n",
    "    \"--\",\n",
    "    label=r\"$-\\frac{r}{2}\\frac{\\omega}{c^2} \\Im\\left(B_\\theta\\right)$\",\n",
    ")\n",
    "plt.ylabel(\"field (V/m)\")\n",
    "plt.xlabel(\"z (m)\")\n",
    "plt.legend()\n",
    "plt.title(r\"Complex field oscillation\")"
   ]
  },
  {
   "cell_type": "markdown",
   "metadata": {},
   "source": [
    "# Units"
   ]
  },
  {
   "cell_type": "code",
   "execution_count": null,
   "metadata": {
    "tags": []
   },
   "outputs": [],
   "source": [
    "FM.units(\"Bz\")"
   ]
  },
  {
   "cell_type": "markdown",
   "metadata": {},
   "source": [
    "This also works:"
   ]
  },
  {
   "cell_type": "code",
   "execution_count": null,
   "metadata": {
    "tags": []
   },
   "outputs": [],
   "source": [
    "FM.units(\"abs_Ez\")"
   ]
  },
  {
   "cell_type": "markdown",
   "metadata": {},
   "source": [
    "# Write"
   ]
  },
  {
   "cell_type": "code",
   "execution_count": null,
   "metadata": {
    "tags": []
   },
   "outputs": [],
   "source": [
    "FM.write(\"rfgun2.h5\")"
   ]
  },
  {
   "cell_type": "markdown",
   "metadata": {},
   "source": [
    "Read back and make sure the data are the same."
   ]
  },
  {
   "cell_type": "code",
   "execution_count": null,
   "metadata": {
    "tags": []
   },
   "outputs": [],
   "source": [
    "FM2 = FieldMesh(\"rfgun2.h5\")\n",
    "\n",
    "assert FM == FM2"
   ]
  },
  {
   "cell_type": "markdown",
   "metadata": {},
   "source": [
    "Write to open HDF5 file and test reload:"
   ]
  },
  {
   "cell_type": "code",
   "execution_count": null,
   "metadata": {
    "tags": []
   },
   "outputs": [],
   "source": [
    "import h5py\n",
    "\n",
    "with h5py.File(\"test.h5\", \"w\") as h5:\n",
    "    FM.write(h5, name=\"myfield\")\n",
    "    FM2 = FieldMesh(h5=h5[\"myfield\"])\n",
    "    assert FM == FM2"
   ]
  },
  {
   "cell_type": "markdown",
   "metadata": {},
   "source": [
    "## Write Astra 1D\n",
    "\n",
    "Astra primarily uses simple 1D (on-axis) fieldmaps."
   ]
  },
  {
   "cell_type": "code",
   "execution_count": null,
   "metadata": {},
   "outputs": [],
   "source": [
    "FM.write_astra_1d(\"astra_1d.dat\")"
   ]
  },
  {
   "cell_type": "markdown",
   "metadata": {},
   "source": [
    "Another method returns the array data with some annotation"
   ]
  },
  {
   "cell_type": "code",
   "execution_count": null,
   "metadata": {},
   "outputs": [],
   "source": [
    "FM.to_astra_1d()"
   ]
  },
  {
   "cell_type": "markdown",
   "metadata": {},
   "source": [
    "## Write Impact-T \n",
    "\n",
    "Impact-T uses a particular Fourier representation for 1D fields. These routines form this data."
   ]
  },
  {
   "cell_type": "code",
   "execution_count": null,
   "metadata": {
    "tags": []
   },
   "outputs": [],
   "source": [
    "idata = FM.to_impact_solrf()\n",
    "idata.keys()"
   ]
  },
  {
   "cell_type": "markdown",
   "metadata": {},
   "source": [
    "This is an element that can be used with LUME-Impact"
   ]
  },
  {
   "cell_type": "code",
   "execution_count": null,
   "metadata": {
    "tags": []
   },
   "outputs": [],
   "source": [
    "idata[\"ele\"]"
   ]
  },
  {
   "cell_type": "markdown",
   "metadata": {},
   "source": [
    "This is a line that would be used "
   ]
  },
  {
   "cell_type": "code",
   "execution_count": null,
   "metadata": {
    "tags": []
   },
   "outputs": [],
   "source": [
    "idata[\"line\"]"
   ]
  },
  {
   "cell_type": "markdown",
   "metadata": {},
   "source": [
    "Data that would be written to the rfdata999 file"
   ]
  },
  {
   "cell_type": "code",
   "execution_count": null,
   "metadata": {
    "tags": []
   },
   "outputs": [],
   "source": [
    "idata[\"rfdata\"]"
   ]
  },
  {
   "cell_type": "markdown",
   "metadata": {},
   "source": [
    "This is the fieldmap that makes that data:"
   ]
  },
  {
   "cell_type": "code",
   "execution_count": null,
   "metadata": {
    "tags": []
   },
   "outputs": [],
   "source": [
    "fmap = idata[\"fmap\"]\n",
    "fmap.keys()"
   ]
  },
  {
   "cell_type": "markdown",
   "metadata": {},
   "source": [
    "Additional info:"
   ]
  },
  {
   "cell_type": "code",
   "execution_count": null,
   "metadata": {
    "tags": []
   },
   "outputs": [],
   "source": [
    "fmap[\"info\"]"
   ]
  },
  {
   "cell_type": "code",
   "execution_count": null,
   "metadata": {
    "tags": []
   },
   "outputs": [],
   "source": [
    "from pmd_beamphysics.interfaces.impact import fourier_field_reconsruction\n",
    "\n",
    "L = np.ptp(z0)\n",
    "zlist = np.linspace(0, L, len(Ez0))\n",
    "fcoefs = fmap[\"field\"][\"Ez\"][\"fourier_coefficients\"]\n",
    "reconstructed_Ez0 = np.array(\n",
    "    [fourier_field_reconsruction(z, fcoefs, z0=-L, zlen=2 * L) for z in zlist]\n",
    ")\n",
    "\n",
    "fig, ax = plt.subplots()\n",
    "ax2 = ax.twinx()\n",
    "ax.plot(z0, Ez0, label=r\"$\\Re \\left( E_z\\right)$\", color=\"black\")\n",
    "ax.plot(\n",
    "    zlist,\n",
    "    reconstructed_Ez0,\n",
    "    \"--\",\n",
    "    label=\"reconstructed\",\n",
    "    color=\"red\",\n",
    ")\n",
    "ax2.plot(\n",
    "    zlist, abs(reconstructed_Ez0 / Ez0 - 1), \"--\", label=\"reconstructed\", color=\"black\"\n",
    ")\n",
    "ax2.set_ylabel(\"relative error\")\n",
    "ax2.set_yscale(\"log\")\n",
    "ax.set_ylabel(\"field (V/m)\")\n",
    "ax.set_xlabel(\"z (m)\")\n",
    "plt.legend()"
   ]
  },
  {
   "cell_type": "markdown",
   "metadata": {},
   "source": [
    "This function can also be used to study the reconstruction error as a function of the number of coefficients:"
   ]
  },
  {
   "cell_type": "code",
   "execution_count": null,
   "metadata": {
    "tags": []
   },
   "outputs": [],
   "source": [
    "ncoefs = np.arange(10, FM2.shape[2] // 2)\n",
    "errs = np.array(\n",
    "    [\n",
    "        FM2.to_impact_solrf(n_coef=n, zmirror=True)[\"fmap\"][\"info\"][\"Ez_err\"]\n",
    "        for n in ncoefs\n",
    "    ]\n",
    ")\n",
    "\n",
    "fig, ax = plt.subplots()\n",
    "ax.plot(ncoefs, errs, marker=\".\", color=\"black\")\n",
    "ax.set_xlabel(\"n_coef\")\n",
    "ax.set_ylabel(\"Ez reconstruction error\")\n",
    "ax.set_yscale(\"log\")"
   ]
  },
  {
   "cell_type": "markdown",
   "metadata": {},
   "source": [
    "## Write GPT"
   ]
  },
  {
   "cell_type": "code",
   "execution_count": null,
   "metadata": {
    "tags": []
   },
   "outputs": [],
   "source": [
    "# FM.write_gpt('solenoid.gdf', asci2gdf_bin='$ASCI2GDF_BIN', verbose=True)\n",
    "FM.write_gpt(\"rfgun_for_gpt.txt\", verbose=True)"
   ]
  },
  {
   "cell_type": "code",
   "execution_count": null,
   "metadata": {
    "tags": []
   },
   "outputs": [],
   "source": [
    "FM.write_superfish(\"rfgun2.t7\")"
   ]
  },
  {
   "cell_type": "markdown",
   "metadata": {},
   "source": [
    "# Read Superfish\n",
    "\n",
    "Proper Superfish T7 can also be read."
   ]
  },
  {
   "cell_type": "code",
   "execution_count": null,
   "metadata": {
    "tags": []
   },
   "outputs": [],
   "source": [
    "FM3 = FieldMesh.from_superfish(\"rfgun2.t7\")\n",
    "FM3"
   ]
  },
  {
   "cell_type": "code",
   "execution_count": null,
   "metadata": {
    "tags": []
   },
   "outputs": [],
   "source": [
    "help(FieldMesh.from_superfish)"
   ]
  },
  {
   "cell_type": "markdown",
   "metadata": {},
   "source": [
    "Note that writing the ASCII and conversions alter the data slightly"
   ]
  },
  {
   "cell_type": "code",
   "execution_count": null,
   "metadata": {
    "tags": []
   },
   "outputs": [],
   "source": [
    "FM == FM3"
   ]
  },
  {
   "cell_type": "markdown",
   "metadata": {},
   "source": [
    "But the data are all close:"
   ]
  },
  {
   "cell_type": "code",
   "execution_count": null,
   "metadata": {
    "tags": []
   },
   "outputs": [],
   "source": [
    "for c in FM.components:\n",
    "    close = np.allclose(FM.components[c], FM3.components[c])\n",
    "    equal = np.all(FM.components[c] == FM3.components[c])\n",
    "    print(c, equal, close)"
   ]
  },
  {
   "cell_type": "markdown",
   "metadata": {},
   "source": [
    "## Read ANSYS\n",
    "\n",
    "Read ANSYS E and H ASCII files:"
   ]
  },
  {
   "cell_type": "code",
   "execution_count": null,
   "metadata": {},
   "outputs": [],
   "source": [
    "FM3D = FieldMesh.from_ansys_ascii_3d(\n",
    "    efile=\"../data/ansys_rfgun_2856MHz_E.dat\",\n",
    "    hfile=\"../data/ansys_rfgun_2856MHz_H.dat\",\n",
    "    frequency=2856e6,\n",
    ")\n",
    "\n",
    "\n",
    "FM3D"
   ]
  },
  {
   "cell_type": "code",
   "execution_count": null,
   "metadata": {},
   "outputs": [],
   "source": [
    "FM3D.attrs"
   ]
  },
  {
   "cell_type": "markdown",
   "metadata": {},
   "source": [
    "This can then be written:"
   ]
  },
  {
   "cell_type": "code",
   "execution_count": null,
   "metadata": {},
   "outputs": [],
   "source": [
    "FM3D.write(\"../data/rfgun_rectangular.h5\")"
   ]
  },
  {
   "cell_type": "markdown",
   "metadata": {},
   "source": [
    "The y=0 plane can be extracted to be used as cylindrically symmetric data:"
   ]
  },
  {
   "cell_type": "code",
   "execution_count": null,
   "metadata": {},
   "outputs": [],
   "source": [
    "FM2D = FM3D.to_cylindrical()\n",
    "FM2D"
   ]
  },
  {
   "cell_type": "markdown",
   "metadata": {},
   "source": [
    "# Cleanup"
   ]
  },
  {
   "cell_type": "code",
   "execution_count": null,
   "metadata": {},
   "outputs": [],
   "source": [
    "import os\n",
    "\n",
    "for file in (\"test.h5\", \"astra_1d.dat\", \"rfgun_for_gpt.txt\", \"rfgun2.h5\", \"rfgun2.t7\"):\n",
    "    os.remove(file)"
   ]
  }
 ],
 "metadata": {
  "kernelspec": {
   "display_name": "Python 3 (ipykernel)",
   "language": "python",
   "name": "python3"
  },
  "language_info": {
   "codemirror_mode": {
    "name": "ipython",
    "version": 3
   },
   "file_extension": ".py",
   "mimetype": "text/x-python",
   "name": "python",
   "nbconvert_exporter": "python",
   "pygments_lexer": "ipython3",
   "version": "3.12.6"
  }
 },
 "nbformat": 4,
 "nbformat_minor": 4
}
