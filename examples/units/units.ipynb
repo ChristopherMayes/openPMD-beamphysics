{
 "cells": [
  {
   "cell_type": "markdown",
   "metadata": {},
   "source": [
    "# Units\n",
    "\n",
    "This package provides unit conversion tools "
   ]
  },
  {
   "cell_type": "code",
   "execution_count": 1,
   "metadata": {
    "execution": {
     "iopub.execute_input": "2023-06-28T18:44:50.549344Z",
     "iopub.status.busy": "2023-06-28T18:44:50.548245Z",
     "iopub.status.idle": "2023-06-28T18:44:50.566894Z",
     "shell.execute_reply": "2023-06-28T18:44:50.565996Z"
    },
    "tags": []
   },
   "outputs": [],
   "source": [
    "# Useful for debugging\n",
    "%load_ext autoreload\n",
    "%autoreload 2"
   ]
  },
  {
   "cell_type": "code",
   "execution_count": 2,
   "metadata": {
    "execution": {
     "iopub.execute_input": "2023-06-28T18:44:50.569805Z",
     "iopub.status.busy": "2023-06-28T18:44:50.569354Z",
     "iopub.status.idle": "2023-06-28T18:44:51.264602Z",
     "shell.execute_reply": "2023-06-28T18:44:51.263945Z"
    },
    "tags": []
   },
   "outputs": [],
   "source": [
    "from pmd_beamphysics import particle_paths\n",
    "from pmd_beamphysics.units import pmd_unit, dimension_name, sqrt_unit, known_unit, multiply_units\n",
    "from h5py import File\n",
    "import numpy as np"
   ]
  },
  {
   "cell_type": "markdown",
   "metadata": {},
   "source": [
    "This is the basic class:"
   ]
  },
  {
   "cell_type": "code",
   "execution_count": 3,
   "metadata": {
    "execution": {
     "iopub.execute_input": "2023-06-28T18:44:51.268260Z",
     "iopub.status.busy": "2023-06-28T18:44:51.267645Z",
     "iopub.status.idle": "2023-06-28T18:44:51.316713Z",
     "shell.execute_reply": "2023-06-28T18:44:51.316165Z"
    },
    "tags": []
   },
   "outputs": [],
   "source": [
    "?pmd_unit"
   ]
  },
  {
   "cell_type": "markdown",
   "metadata": {},
   "source": [
    "Get a known units. These can be multiplied and divided:"
   ]
  },
  {
   "cell_type": "code",
   "execution_count": 4,
   "metadata": {
    "execution": {
     "iopub.execute_input": "2023-06-28T18:44:51.319262Z",
     "iopub.status.busy": "2023-06-28T18:44:51.319068Z",
     "iopub.status.idle": "2023-06-28T18:44:51.334428Z",
     "shell.execute_reply": "2023-06-28T18:44:51.333866Z"
    },
    "tags": []
   },
   "outputs": [
    {
     "data": {
      "text/plain": [
       "(pmd_unit('J', 1, (2, 1, -2, 0, 0, 0, 0)),\n",
       " pmd_unit('m', 1, (1, 0, 0, 0, 0, 0, 0)),\n",
       " pmd_unit('J/m', 1.0, (1, 1, -2, 0, 0, 0, 0)),\n",
       " pmd_unit('J*m', 1, (3, 1, -2, 0, 0, 0, 0)))"
      ]
     },
     "execution_count": 4,
     "metadata": {},
     "output_type": "execute_result"
    }
   ],
   "source": [
    "u1 = known_unit['J']\n",
    "u2 = known_unit['m']\n",
    "u1, u2, u1/u2, u1*u2"
   ]
  },
  {
   "cell_type": "markdown",
   "metadata": {},
   "source": [
    "Special function for sqrt:"
   ]
  },
  {
   "cell_type": "code",
   "execution_count": 5,
   "metadata": {
    "execution": {
     "iopub.execute_input": "2023-06-28T18:44:51.372288Z",
     "iopub.status.busy": "2023-06-28T18:44:51.371696Z",
     "iopub.status.idle": "2023-06-28T18:44:51.383955Z",
     "shell.execute_reply": "2023-06-28T18:44:51.383407Z"
    },
    "tags": []
   },
   "outputs": [
    {
     "data": {
      "text/plain": [
       "pmd_unit('\\sqrt{ J }', 1.0, (1.0, 0.5, -1.0, 0.0, 0.0, 0.0, 0.0))"
      ]
     },
     "execution_count": 5,
     "metadata": {},
     "output_type": "execute_result"
    }
   ],
   "source": [
    "sqrt_unit(u1)"
   ]
  },
  {
   "cell_type": "markdown",
   "metadata": {},
   "source": [
    "# openPMD HDF5 units\n",
    "\n",
    "Open a file, find the particle paths from the root attributes"
   ]
  },
  {
   "cell_type": "code",
   "execution_count": 6,
   "metadata": {
    "execution": {
     "iopub.execute_input": "2023-06-28T18:44:51.386551Z",
     "iopub.status.busy": "2023-06-28T18:44:51.386021Z",
     "iopub.status.idle": "2023-06-28T18:44:51.398742Z",
     "shell.execute_reply": "2023-06-28T18:44:51.398220Z"
    },
    "tags": []
   },
   "outputs": [
    {
     "name": "stdout",
     "output_type": "stream",
     "text": [
      "['//']\n"
     ]
    }
   ],
   "source": [
    "# Pick one:\n",
    "#H5FILE = 'data/bmad_particles.h5'\n",
    "H5FILE = 'data/distgen_particles.h5'\n",
    "#H5FILE = 'data/astra_particles.h5'\n",
    "h5 = File(H5FILE, 'r')\n",
    "\n",
    "ppaths = particle_paths(h5)\n",
    "print(ppaths)\n"
   ]
  },
  {
   "cell_type": "markdown",
   "metadata": {},
   "source": [
    "This points to a single particle group:"
   ]
  },
  {
   "cell_type": "code",
   "execution_count": 7,
   "metadata": {
    "execution": {
     "iopub.execute_input": "2023-06-28T18:44:51.401276Z",
     "iopub.status.busy": "2023-06-28T18:44:51.400751Z",
     "iopub.status.idle": "2023-06-28T18:44:51.413104Z",
     "shell.execute_reply": "2023-06-28T18:44:51.412521Z"
    }
   },
   "outputs": [
    {
     "data": {
      "text/plain": [
       "['momentum', 'particleStatus', 'position', 'time', 'weight']"
      ]
     },
     "execution_count": 7,
     "metadata": {},
     "output_type": "execute_result"
    }
   ],
   "source": [
    "ph5 = h5[ppaths[0]]\n",
    "list(ph5)"
   ]
  },
  {
   "cell_type": "markdown",
   "metadata": {},
   "source": [
    "Each component should have a dimension and a conversion factor to SI:"
   ]
  },
  {
   "cell_type": "code",
   "execution_count": 8,
   "metadata": {
    "execution": {
     "iopub.execute_input": "2023-06-28T18:44:51.415530Z",
     "iopub.status.busy": "2023-06-28T18:44:51.415218Z",
     "iopub.status.idle": "2023-06-28T18:44:51.428260Z",
     "shell.execute_reply": "2023-06-28T18:44:51.427690Z"
    },
    "tags": []
   },
   "outputs": [
    {
     "data": {
      "text/plain": [
       "{'unitDimension': array([ 1,  1, -1,  0,  0,  0,  0]),\n",
       " 'unitSI': 5.344285992678308e-28,\n",
       " 'unitSymbol': 'eV/c'}"
      ]
     },
     "execution_count": 8,
     "metadata": {},
     "output_type": "execute_result"
    }
   ],
   "source": [
    "d = dict(ph5['momentum/x'].attrs)\n",
    "d"
   ]
  },
  {
   "cell_type": "code",
   "execution_count": 9,
   "metadata": {
    "execution": {
     "iopub.execute_input": "2023-06-28T18:44:51.430625Z",
     "iopub.status.busy": "2023-06-28T18:44:51.430311Z",
     "iopub.status.idle": "2023-06-28T18:44:51.442519Z",
     "shell.execute_reply": "2023-06-28T18:44:51.441948Z"
    },
    "tags": []
   },
   "outputs": [
    {
     "data": {
      "text/plain": [
       "(1, 1, -1, 0, 0, 0, 0)"
      ]
     },
     "execution_count": 9,
     "metadata": {},
     "output_type": "execute_result"
    }
   ],
   "source": [
    "tuple(d['unitDimension'])"
   ]
  },
  {
   "cell_type": "markdown",
   "metadata": {},
   "source": [
    "This will extract the name of this dimension:"
   ]
  },
  {
   "cell_type": "code",
   "execution_count": 10,
   "metadata": {
    "execution": {
     "iopub.execute_input": "2023-06-28T18:44:51.445127Z",
     "iopub.status.busy": "2023-06-28T18:44:51.444813Z",
     "iopub.status.idle": "2023-06-28T18:44:51.456898Z",
     "shell.execute_reply": "2023-06-28T18:44:51.456308Z"
    },
    "tags": []
   },
   "outputs": [
    {
     "data": {
      "text/plain": [
       "'momentum'"
      ]
     },
     "execution_count": 10,
     "metadata": {},
     "output_type": "execute_result"
    }
   ],
   "source": [
    "dimension_name(d['unitDimension'])"
   ]
  },
  {
   "cell_type": "markdown",
   "metadata": {},
   "source": [
    "# Nice arrays"
   ]
  },
  {
   "cell_type": "code",
   "execution_count": 11,
   "metadata": {
    "execution": {
     "iopub.execute_input": "2023-06-28T18:44:51.459304Z",
     "iopub.status.busy": "2023-06-28T18:44:51.458994Z",
     "iopub.status.idle": "2023-06-28T18:44:51.470761Z",
     "shell.execute_reply": "2023-06-28T18:44:51.469918Z"
    },
    "tags": []
   },
   "outputs": [],
   "source": [
    "from pmd_beamphysics.units import nice_array"
   ]
  },
  {
   "cell_type": "markdown",
   "metadata": {},
   "source": [
    "This will scale the array, and return the appropriate SI prefix:"
   ]
  },
  {
   "cell_type": "code",
   "execution_count": 12,
   "metadata": {
    "execution": {
     "iopub.execute_input": "2023-06-28T18:44:51.473371Z",
     "iopub.status.busy": "2023-06-28T18:44:51.473187Z",
     "iopub.status.idle": "2023-06-28T18:44:51.485183Z",
     "shell.execute_reply": "2023-06-28T18:44:51.484600Z"
    },
    "tags": []
   },
   "outputs": [
    {
     "data": {
      "text/plain": [
       "(100.00000000000001, 1e-06, 'µ')"
      ]
     },
     "execution_count": 12,
     "metadata": {},
     "output_type": "execute_result"
    }
   ],
   "source": [
    "x = 1e-4\n",
    "unit = 'm'\n",
    "nice_array(x)"
   ]
  },
  {
   "cell_type": "code",
   "execution_count": 13,
   "metadata": {
    "execution": {
     "iopub.execute_input": "2023-06-28T18:44:51.487580Z",
     "iopub.status.busy": "2023-06-28T18:44:51.487269Z",
     "iopub.status.idle": "2023-06-28T18:44:51.499689Z",
     "shell.execute_reply": "2023-06-28T18:44:51.499112Z"
    },
    "tags": []
   },
   "outputs": [
    {
     "data": {
      "text/plain": [
       "(array([-10.,  10.]), 0.001, 'm')"
      ]
     },
     "execution_count": 13,
     "metadata": {},
     "output_type": "execute_result"
    }
   ],
   "source": [
    "nice_array([-0.01, 0.01])"
   ]
  },
  {
   "cell_type": "code",
   "execution_count": 14,
   "metadata": {
    "execution": {
     "iopub.execute_input": "2023-06-28T18:44:51.502070Z",
     "iopub.status.busy": "2023-06-28T18:44:51.501760Z",
     "iopub.status.idle": "2023-06-28T18:44:51.513002Z",
     "shell.execute_reply": "2023-06-28T18:44:51.512215Z"
    },
    "tags": []
   },
   "outputs": [],
   "source": [
    "from pmd_beamphysics.units import nice_scale_prefix"
   ]
  },
  {
   "cell_type": "code",
   "execution_count": 15,
   "metadata": {
    "execution": {
     "iopub.execute_input": "2023-06-28T18:44:51.515388Z",
     "iopub.status.busy": "2023-06-28T18:44:51.515190Z",
     "iopub.status.idle": "2023-06-28T18:44:51.527310Z",
     "shell.execute_reply": "2023-06-28T18:44:51.526735Z"
    },
    "tags": []
   },
   "outputs": [
    {
     "data": {
      "text/plain": [
       "(0.001, 'm')"
      ]
     },
     "execution_count": 15,
     "metadata": {},
     "output_type": "execute_result"
    }
   ],
   "source": [
    "nice_scale_prefix(0.009)"
   ]
  },
  {
   "cell_type": "markdown",
   "metadata": {},
   "source": [
    "# Limitations\n",
    "\n",
    "This is a simple class for use with this package. So even simple things like the example below will fail. \n",
    "\n",
    "For more advanced units, use a package like Pint: https://pint.readthedocs.io/\n"
   ]
  },
  {
   "cell_type": "code",
   "execution_count": 16,
   "metadata": {
    "execution": {
     "iopub.execute_input": "2023-06-28T18:44:51.529745Z",
     "iopub.status.busy": "2023-06-28T18:44:51.529429Z",
     "iopub.status.idle": "2023-06-28T18:44:51.541768Z",
     "shell.execute_reply": "2023-06-28T18:44:51.541203Z"
    },
    "tags": []
   },
   "outputs": [
    {
     "name": "stdout",
     "output_type": "stream",
     "text": [
      "you cannot do this\n"
     ]
    }
   ],
   "source": [
    "try:\n",
    "    u1/1\n",
    "except:\n",
    "    print('you cannot do this')\n",
    "    \n"
   ]
  }
 ],
 "metadata": {
  "kernelspec": {
   "display_name": "Python 3 (ipykernel)",
   "language": "python",
   "name": "python3"
  },
  "language_info": {
   "codemirror_mode": {
    "name": "ipython",
    "version": 3
   },
   "file_extension": ".py",
   "mimetype": "text/x-python",
   "name": "python",
   "nbconvert_exporter": "python",
   "pygments_lexer": "ipython3",
   "version": "3.9.16"
  }
 },
 "nbformat": 4,
 "nbformat_minor": 4
}
