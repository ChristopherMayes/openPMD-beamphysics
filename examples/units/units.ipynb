{
 "cells": [
  {
   "cell_type": "markdown",
   "metadata": {},
   "source": [
    "# Units\n",
    "\n",
    "This package provides unit conversion tools "
   ]
  },
  {
   "cell_type": "code",
   "execution_count": 1,
   "metadata": {
    "execution": {
     "iopub.execute_input": "2022-09-09T02:37:05.044129Z",
     "iopub.status.busy": "2022-09-09T02:37:05.043284Z",
     "iopub.status.idle": "2022-09-09T02:37:05.073357Z",
     "shell.execute_reply": "2022-09-09T02:37:05.072308Z"
    }
   },
   "outputs": [],
   "source": [
    "# Useful for debugging\n",
    "%load_ext autoreload\n",
    "%autoreload 2"
   ]
  },
  {
   "cell_type": "code",
   "execution_count": 2,
   "metadata": {
    "execution": {
     "iopub.execute_input": "2022-09-09T02:37:05.078070Z",
     "iopub.status.busy": "2022-09-09T02:37:05.077805Z",
     "iopub.status.idle": "2022-09-09T02:37:06.093641Z",
     "shell.execute_reply": "2022-09-09T02:37:06.092464Z"
    }
   },
   "outputs": [],
   "source": [
    "from pmd_beamphysics import particle_paths\n",
    "from pmd_beamphysics.units import pmd_unit, dimension_name, sqrt_unit, known_unit, multiply_units\n",
    "from h5py import File\n",
    "import numpy as np"
   ]
  },
  {
   "cell_type": "code",
   "execution_count": 3,
   "metadata": {
    "execution": {
     "iopub.execute_input": "2022-09-09T02:37:06.098234Z",
     "iopub.status.busy": "2022-09-09T02:37:06.097822Z",
     "iopub.status.idle": "2022-09-09T02:37:06.163102Z",
     "shell.execute_reply": "2022-09-09T02:37:06.161906Z"
    }
   },
   "outputs": [],
   "source": [
    "# This is the basic class.\n",
    "?pmd_unit"
   ]
  },
  {
   "cell_type": "code",
   "execution_count": 4,
   "metadata": {
    "execution": {
     "iopub.execute_input": "2022-09-09T02:37:06.168396Z",
     "iopub.status.busy": "2022-09-09T02:37:06.167943Z",
     "iopub.status.idle": "2022-09-09T02:37:06.193497Z",
     "shell.execute_reply": "2022-09-09T02:37:06.192766Z"
    }
   },
   "outputs": [
    {
     "data": {
      "text/plain": [
       "(pmd_unit('J', 1, (2, 1, -2, 0, 0, 0, 0)),\n",
       " pmd_unit('m', 1, (1, 0, 0, 0, 0, 0, 0)),\n",
       " pmd_unit('J/m', 1.0, (1, 1, -2, 0, 0, 0, 0)),\n",
       " pmd_unit('J*m', 1, (3, 1, -2, 0, 0, 0, 0)))"
      ]
     },
     "execution_count": 4,
     "metadata": {},
     "output_type": "execute_result"
    }
   ],
   "source": [
    "# Get a known units. These can be multiplied and divided\n",
    "u1 = known_unit['J']\n",
    "u2 = known_unit['m']\n",
    "u1, u2, u1/u2, u1*u2"
   ]
  },
  {
   "cell_type": "code",
   "execution_count": 5,
   "metadata": {
    "execution": {
     "iopub.execute_input": "2022-09-09T02:37:06.246988Z",
     "iopub.status.busy": "2022-09-09T02:37:06.245478Z",
     "iopub.status.idle": "2022-09-09T02:37:06.262888Z",
     "shell.execute_reply": "2022-09-09T02:37:06.262005Z"
    }
   },
   "outputs": [
    {
     "data": {
      "text/plain": [
       "pmd_unit('\\sqrt{ J }', 1.0, (1.0, 0.5, -1.0, 0.0, 0.0, 0.0, 0.0))"
      ]
     },
     "execution_count": 5,
     "metadata": {},
     "output_type": "execute_result"
    }
   ],
   "source": [
    "# Special function for sqrt\n",
    "sqrt_unit(u1)"
   ]
  },
  {
   "cell_type": "markdown",
   "metadata": {},
   "source": [
    "# openPMD hdf5 units"
   ]
  },
  {
   "cell_type": "code",
   "execution_count": 6,
   "metadata": {
    "execution": {
     "iopub.execute_input": "2022-09-09T02:37:06.267165Z",
     "iopub.status.busy": "2022-09-09T02:37:06.266886Z",
     "iopub.status.idle": "2022-09-09T02:37:06.290657Z",
     "shell.execute_reply": "2022-09-09T02:37:06.289696Z"
    }
   },
   "outputs": [
    {
     "name": "stdout",
     "output_type": "stream",
     "text": [
      "['//']\n"
     ]
    },
    {
     "data": {
      "text/plain": [
       "['momentum', 'particleStatus', 'position', 'time', 'weight']"
      ]
     },
     "execution_count": 6,
     "metadata": {},
     "output_type": "execute_result"
    }
   ],
   "source": [
    "# Open a file, find the particle paths from the root attributes\n",
    "# Pick one:\n",
    "#H5FILE = 'data/bmad_particles.h5'\n",
    "H5FILE = 'data/distgen_particles.h5'\n",
    "#H5FILE = 'data/astra_particles.h5'\n",
    "h5 = File(H5FILE, 'r')\n",
    "\n",
    "ppaths = particle_paths(h5)\n",
    "print(ppaths)\n",
    "# This points to a partigle group\n",
    "ph5 = h5[ppaths[0]]\n",
    "list(ph5)"
   ]
  },
  {
   "cell_type": "code",
   "execution_count": 7,
   "metadata": {
    "execution": {
     "iopub.execute_input": "2022-09-09T02:37:06.294311Z",
     "iopub.status.busy": "2022-09-09T02:37:06.293917Z",
     "iopub.status.idle": "2022-09-09T02:37:06.312246Z",
     "shell.execute_reply": "2022-09-09T02:37:06.311350Z"
    }
   },
   "outputs": [
    {
     "data": {
      "text/plain": [
       "{'unitDimension': array([ 1,  1, -1,  0,  0,  0,  0]),\n",
       " 'unitSI': 5.344285992678308e-28,\n",
       " 'unitSymbol': 'eV/c'}"
      ]
     },
     "execution_count": 7,
     "metadata": {},
     "output_type": "execute_result"
    }
   ],
   "source": [
    "# Each component should have a dimension and a conversion factor to SI:\n",
    "d = dict(ph5['momentum/x'].attrs)\n",
    "d"
   ]
  },
  {
   "cell_type": "code",
   "execution_count": 8,
   "metadata": {
    "execution": {
     "iopub.execute_input": "2022-09-09T02:37:06.316708Z",
     "iopub.status.busy": "2022-09-09T02:37:06.315551Z",
     "iopub.status.idle": "2022-09-09T02:37:06.331709Z",
     "shell.execute_reply": "2022-09-09T02:37:06.330863Z"
    }
   },
   "outputs": [
    {
     "data": {
      "text/plain": [
       "(1, 1, -1, 0, 0, 0, 0)"
      ]
     },
     "execution_count": 8,
     "metadata": {},
     "output_type": "execute_result"
    }
   ],
   "source": [
    "tuple(d['unitDimension'])"
   ]
  },
  {
   "cell_type": "code",
   "execution_count": 9,
   "metadata": {
    "execution": {
     "iopub.execute_input": "2022-09-09T02:37:06.335427Z",
     "iopub.status.busy": "2022-09-09T02:37:06.334929Z",
     "iopub.status.idle": "2022-09-09T02:37:06.350226Z",
     "shell.execute_reply": "2022-09-09T02:37:06.349409Z"
    }
   },
   "outputs": [
    {
     "data": {
      "text/plain": [
       "'momentum'"
      ]
     },
     "execution_count": 9,
     "metadata": {},
     "output_type": "execute_result"
    }
   ],
   "source": [
    "# This will extract the name of this dimension\n",
    "\n",
    "dimension_name(d['unitDimension'])"
   ]
  },
  {
   "cell_type": "markdown",
   "metadata": {},
   "source": [
    "# Nice arrays"
   ]
  },
  {
   "cell_type": "code",
   "execution_count": 10,
   "metadata": {
    "execution": {
     "iopub.execute_input": "2022-09-09T02:37:06.354248Z",
     "iopub.status.busy": "2022-09-09T02:37:06.353755Z",
     "iopub.status.idle": "2022-09-09T02:37:06.368530Z",
     "shell.execute_reply": "2022-09-09T02:37:06.367615Z"
    }
   },
   "outputs": [],
   "source": [
    "from pmd_beamphysics.units import nice_array\n"
   ]
  },
  {
   "cell_type": "code",
   "execution_count": 11,
   "metadata": {
    "execution": {
     "iopub.execute_input": "2022-09-09T02:37:06.372615Z",
     "iopub.status.busy": "2022-09-09T02:37:06.372182Z",
     "iopub.status.idle": "2022-09-09T02:37:06.388306Z",
     "shell.execute_reply": "2022-09-09T02:37:06.387331Z"
    }
   },
   "outputs": [
    {
     "data": {
      "text/plain": [
       "(100.00000000000001, 1e-06, 'µ')"
      ]
     },
     "execution_count": 11,
     "metadata": {},
     "output_type": "execute_result"
    }
   ],
   "source": [
    "# This will scale the array, and return the appropriate SI prefix\n",
    "\n",
    "x = 1e-4\n",
    "unit = 'm'\n",
    "nice_array(x)"
   ]
  },
  {
   "cell_type": "code",
   "execution_count": 12,
   "metadata": {
    "execution": {
     "iopub.execute_input": "2022-09-09T02:37:06.392575Z",
     "iopub.status.busy": "2022-09-09T02:37:06.392095Z",
     "iopub.status.idle": "2022-09-09T02:37:06.410910Z",
     "shell.execute_reply": "2022-09-09T02:37:06.410063Z"
    }
   },
   "outputs": [
    {
     "data": {
      "text/plain": [
       "(array([-10.,  10.]), 0.001, 'm')"
      ]
     },
     "execution_count": 12,
     "metadata": {},
     "output_type": "execute_result"
    }
   ],
   "source": [
    "nice_array([-0.01, 0.01])"
   ]
  },
  {
   "cell_type": "code",
   "execution_count": 13,
   "metadata": {
    "execution": {
     "iopub.execute_input": "2022-09-09T02:37:06.415550Z",
     "iopub.status.busy": "2022-09-09T02:37:06.415070Z",
     "iopub.status.idle": "2022-09-09T02:37:06.428648Z",
     "shell.execute_reply": "2022-09-09T02:37:06.427817Z"
    }
   },
   "outputs": [],
   "source": [
    "from pmd_beamphysics.units import nice_scale_prefix"
   ]
  },
  {
   "cell_type": "code",
   "execution_count": 14,
   "metadata": {
    "execution": {
     "iopub.execute_input": "2022-09-09T02:37:06.432438Z",
     "iopub.status.busy": "2022-09-09T02:37:06.431976Z",
     "iopub.status.idle": "2022-09-09T02:37:06.447057Z",
     "shell.execute_reply": "2022-09-09T02:37:06.446206Z"
    }
   },
   "outputs": [
    {
     "data": {
      "text/plain": [
       "(0.001, 'm')"
      ]
     },
     "execution_count": 14,
     "metadata": {},
     "output_type": "execute_result"
    }
   ],
   "source": [
    "nice_scale_prefix(0.009)"
   ]
  },
  {
   "cell_type": "markdown",
   "metadata": {},
   "source": [
    "# Limitations\n",
    "\n",
    "This is a simple class for use with this package. So even simple things like the example below will fail. \n",
    "\n",
    "For more advanced units, use a package like Pint: https://pint.readthedocs.io/\n"
   ]
  },
  {
   "cell_type": "code",
   "execution_count": 15,
   "metadata": {
    "execution": {
     "iopub.execute_input": "2022-09-09T02:37:06.450653Z",
     "iopub.status.busy": "2022-09-09T02:37:06.450396Z",
     "iopub.status.idle": "2022-09-09T02:37:06.464644Z",
     "shell.execute_reply": "2022-09-09T02:37:06.463805Z"
    }
   },
   "outputs": [
    {
     "name": "stdout",
     "output_type": "stream",
     "text": [
      "you cannot do this\n"
     ]
    }
   ],
   "source": [
    "try:\n",
    "    u1/1\n",
    "except:\n",
    "    print('you cannot do this')\n",
    "    \n"
   ]
  }
 ],
 "metadata": {
  "kernelspec": {
   "display_name": "Python 3 (ipykernel)",
   "language": "python",
   "name": "python3"
  },
  "language_info": {
   "codemirror_mode": {
    "name": "ipython",
    "version": 3
   },
   "file_extension": ".py",
   "mimetype": "text/x-python",
   "name": "python",
   "nbconvert_exporter": "python",
   "pygments_lexer": "ipython3",
   "version": "3.9.13"
  }
 },
 "nbformat": 4,
 "nbformat_minor": 4
}
