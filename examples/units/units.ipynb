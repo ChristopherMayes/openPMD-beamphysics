{
 "cells": [
  {
   "cell_type": "markdown",
   "metadata": {},
   "source": [
    "# Units\n",
    "\n",
    "This package provides unit conversion tools "
   ]
  },
  {
   "cell_type": "code",
   "execution_count": 1,
   "metadata": {
    "execution": {
     "iopub.execute_input": "2023-02-22T07:20:59.697279Z",
     "iopub.status.busy": "2023-02-22T07:20:59.696985Z",
     "iopub.status.idle": "2023-02-22T07:20:59.717337Z",
     "shell.execute_reply": "2023-02-22T07:20:59.716360Z"
    },
    "tags": []
   },
   "outputs": [],
   "source": [
    "# Useful for debugging\n",
    "%load_ext autoreload\n",
    "%autoreload 2"
   ]
  },
  {
   "cell_type": "code",
   "execution_count": 2,
   "metadata": {
    "execution": {
     "iopub.execute_input": "2023-02-22T07:20:59.720798Z",
     "iopub.status.busy": "2023-02-22T07:20:59.720489Z",
     "iopub.status.idle": "2023-02-22T07:21:00.437591Z",
     "shell.execute_reply": "2023-02-22T07:21:00.436543Z"
    },
    "tags": []
   },
   "outputs": [],
   "source": [
    "from pmd_beamphysics import particle_paths\n",
    "from pmd_beamphysics.units import pmd_unit, dimension_name, sqrt_unit, known_unit, multiply_units\n",
    "from h5py import File\n",
    "import numpy as np"
   ]
  },
  {
   "cell_type": "markdown",
   "metadata": {},
   "source": [
    "This is the basic class:"
   ]
  },
  {
   "cell_type": "code",
   "execution_count": 3,
   "metadata": {
    "execution": {
     "iopub.execute_input": "2023-02-22T07:21:00.441698Z",
     "iopub.status.busy": "2023-02-22T07:21:00.441289Z",
     "iopub.status.idle": "2023-02-22T07:21:00.506815Z",
     "shell.execute_reply": "2023-02-22T07:21:00.505860Z"
    },
    "tags": []
   },
   "outputs": [],
   "source": [
    "?pmd_unit"
   ]
  },
  {
   "cell_type": "markdown",
   "metadata": {},
   "source": [
    "Get a known units. These can be multiplied and divided:"
   ]
  },
  {
   "cell_type": "code",
   "execution_count": 4,
   "metadata": {
    "execution": {
     "iopub.execute_input": "2023-02-22T07:21:00.511186Z",
     "iopub.status.busy": "2023-02-22T07:21:00.510475Z",
     "iopub.status.idle": "2023-02-22T07:21:00.534091Z",
     "shell.execute_reply": "2023-02-22T07:21:00.533389Z"
    },
    "tags": []
   },
   "outputs": [
    {
     "data": {
      "text/plain": [
       "(pmd_unit('J', 1, (2, 1, -2, 0, 0, 0, 0)),\n",
       " pmd_unit('m', 1, (1, 0, 0, 0, 0, 0, 0)),\n",
       " pmd_unit('J/m', 1.0, (1, 1, -2, 0, 0, 0, 0)),\n",
       " pmd_unit('J*m', 1, (3, 1, -2, 0, 0, 0, 0)))"
      ]
     },
     "execution_count": 4,
     "metadata": {},
     "output_type": "execute_result"
    }
   ],
   "source": [
    "u1 = known_unit['J']\n",
    "u2 = known_unit['m']\n",
    "u1, u2, u1/u2, u1*u2"
   ]
  },
  {
   "cell_type": "markdown",
   "metadata": {},
   "source": [
    "Special function for sqrt:"
   ]
  },
  {
   "cell_type": "code",
   "execution_count": 5,
   "metadata": {
    "execution": {
     "iopub.execute_input": "2023-02-22T07:21:00.580941Z",
     "iopub.status.busy": "2023-02-22T07:21:00.580189Z",
     "iopub.status.idle": "2023-02-22T07:21:00.597732Z",
     "shell.execute_reply": "2023-02-22T07:21:00.596895Z"
    },
    "tags": []
   },
   "outputs": [
    {
     "data": {
      "text/plain": [
       "pmd_unit('\\sqrt{ J }', 1.0, (1.0, 0.5, -1.0, 0.0, 0.0, 0.0, 0.0))"
      ]
     },
     "execution_count": 5,
     "metadata": {},
     "output_type": "execute_result"
    }
   ],
   "source": [
    "sqrt_unit(u1)"
   ]
  },
  {
   "cell_type": "markdown",
   "metadata": {},
   "source": [
    "# openPMD HDF5 units\n",
    "\n",
    "Open a file, find the particle paths from the root attributes"
   ]
  },
  {
   "cell_type": "code",
   "execution_count": 6,
   "metadata": {
    "execution": {
     "iopub.execute_input": "2023-02-22T07:21:00.600871Z",
     "iopub.status.busy": "2023-02-22T07:21:00.600387Z",
     "iopub.status.idle": "2023-02-22T07:21:00.616164Z",
     "shell.execute_reply": "2023-02-22T07:21:00.615380Z"
    },
    "tags": []
   },
   "outputs": [
    {
     "name": "stdout",
     "output_type": "stream",
     "text": [
      "['//']\n"
     ]
    }
   ],
   "source": [
    "# Pick one:\n",
    "#H5FILE = 'data/bmad_particles.h5'\n",
    "H5FILE = 'data/distgen_particles.h5'\n",
    "#H5FILE = 'data/astra_particles.h5'\n",
    "h5 = File(H5FILE, 'r')\n",
    "\n",
    "ppaths = particle_paths(h5)\n",
    "print(ppaths)\n"
   ]
  },
  {
   "cell_type": "markdown",
   "metadata": {},
   "source": [
    "This points to a single particle group:"
   ]
  },
  {
   "cell_type": "code",
   "execution_count": 7,
   "metadata": {
    "execution": {
     "iopub.execute_input": "2023-02-22T07:21:00.619286Z",
     "iopub.status.busy": "2023-02-22T07:21:00.618970Z",
     "iopub.status.idle": "2023-02-22T07:21:00.636037Z",
     "shell.execute_reply": "2023-02-22T07:21:00.635118Z"
    }
   },
   "outputs": [
    {
     "data": {
      "text/plain": [
       "['momentum', 'particleStatus', 'position', 'time', 'weight']"
      ]
     },
     "execution_count": 7,
     "metadata": {},
     "output_type": "execute_result"
    }
   ],
   "source": [
    "ph5 = h5[ppaths[0]]\n",
    "list(ph5)"
   ]
  },
  {
   "cell_type": "markdown",
   "metadata": {},
   "source": [
    "Each component should have a dimension and a conversion factor to SI:"
   ]
  },
  {
   "cell_type": "code",
   "execution_count": 8,
   "metadata": {
    "execution": {
     "iopub.execute_input": "2023-02-22T07:21:00.639477Z",
     "iopub.status.busy": "2023-02-22T07:21:00.638772Z",
     "iopub.status.idle": "2023-02-22T07:21:00.657975Z",
     "shell.execute_reply": "2023-02-22T07:21:00.656919Z"
    },
    "tags": []
   },
   "outputs": [
    {
     "data": {
      "text/plain": [
       "{'unitDimension': array([ 1,  1, -1,  0,  0,  0,  0]),\n",
       " 'unitSI': 5.344285992678308e-28,\n",
       " 'unitSymbol': 'eV/c'}"
      ]
     },
     "execution_count": 8,
     "metadata": {},
     "output_type": "execute_result"
    }
   ],
   "source": [
    "d = dict(ph5['momentum/x'].attrs)\n",
    "d"
   ]
  },
  {
   "cell_type": "code",
   "execution_count": 9,
   "metadata": {
    "execution": {
     "iopub.execute_input": "2023-02-22T07:21:00.660928Z",
     "iopub.status.busy": "2023-02-22T07:21:00.660696Z",
     "iopub.status.idle": "2023-02-22T07:21:00.681105Z",
     "shell.execute_reply": "2023-02-22T07:21:00.680227Z"
    },
    "tags": []
   },
   "outputs": [
    {
     "data": {
      "text/plain": [
       "(1, 1, -1, 0, 0, 0, 0)"
      ]
     },
     "execution_count": 9,
     "metadata": {},
     "output_type": "execute_result"
    }
   ],
   "source": [
    "tuple(d['unitDimension'])"
   ]
  },
  {
   "cell_type": "markdown",
   "metadata": {},
   "source": [
    "This will extract the name of this dimension:"
   ]
  },
  {
   "cell_type": "code",
   "execution_count": 10,
   "metadata": {
    "execution": {
     "iopub.execute_input": "2023-02-22T07:21:00.684809Z",
     "iopub.status.busy": "2023-02-22T07:21:00.684541Z",
     "iopub.status.idle": "2023-02-22T07:21:00.705888Z",
     "shell.execute_reply": "2023-02-22T07:21:00.704418Z"
    },
    "tags": []
   },
   "outputs": [
    {
     "data": {
      "text/plain": [
       "'momentum'"
      ]
     },
     "execution_count": 10,
     "metadata": {},
     "output_type": "execute_result"
    }
   ],
   "source": [
    "dimension_name(d['unitDimension'])"
   ]
  },
  {
   "cell_type": "markdown",
   "metadata": {},
   "source": [
    "# Nice arrays"
   ]
  },
  {
   "cell_type": "code",
   "execution_count": 11,
   "metadata": {
    "execution": {
     "iopub.execute_input": "2023-02-22T07:21:00.710458Z",
     "iopub.status.busy": "2023-02-22T07:21:00.709767Z",
     "iopub.status.idle": "2023-02-22T07:21:00.729789Z",
     "shell.execute_reply": "2023-02-22T07:21:00.729047Z"
    },
    "tags": []
   },
   "outputs": [],
   "source": [
    "from pmd_beamphysics.units import nice_array"
   ]
  },
  {
   "cell_type": "markdown",
   "metadata": {},
   "source": [
    "This will scale the array, and return the appropriate SI prefix:"
   ]
  },
  {
   "cell_type": "code",
   "execution_count": 12,
   "metadata": {
    "execution": {
     "iopub.execute_input": "2023-02-22T07:21:00.733168Z",
     "iopub.status.busy": "2023-02-22T07:21:00.732889Z",
     "iopub.status.idle": "2023-02-22T07:21:00.752495Z",
     "shell.execute_reply": "2023-02-22T07:21:00.751581Z"
    },
    "tags": []
   },
   "outputs": [
    {
     "data": {
      "text/plain": [
       "(100.00000000000001, 1e-06, 'µ')"
      ]
     },
     "execution_count": 12,
     "metadata": {},
     "output_type": "execute_result"
    }
   ],
   "source": [
    "x = 1e-4\n",
    "unit = 'm'\n",
    "nice_array(x)"
   ]
  },
  {
   "cell_type": "code",
   "execution_count": 13,
   "metadata": {
    "execution": {
     "iopub.execute_input": "2023-02-22T07:21:00.756162Z",
     "iopub.status.busy": "2023-02-22T07:21:00.755915Z",
     "iopub.status.idle": "2023-02-22T07:21:00.776885Z",
     "shell.execute_reply": "2023-02-22T07:21:00.776131Z"
    },
    "tags": []
   },
   "outputs": [
    {
     "data": {
      "text/plain": [
       "(array([-10.,  10.]), 0.001, 'm')"
      ]
     },
     "execution_count": 13,
     "metadata": {},
     "output_type": "execute_result"
    }
   ],
   "source": [
    "nice_array([-0.01, 0.01])"
   ]
  },
  {
   "cell_type": "code",
   "execution_count": 14,
   "metadata": {
    "execution": {
     "iopub.execute_input": "2023-02-22T07:21:00.780571Z",
     "iopub.status.busy": "2023-02-22T07:21:00.780066Z",
     "iopub.status.idle": "2023-02-22T07:21:00.793963Z",
     "shell.execute_reply": "2023-02-22T07:21:00.793115Z"
    },
    "tags": []
   },
   "outputs": [],
   "source": [
    "from pmd_beamphysics.units import nice_scale_prefix"
   ]
  },
  {
   "cell_type": "code",
   "execution_count": 15,
   "metadata": {
    "execution": {
     "iopub.execute_input": "2023-02-22T07:21:00.797437Z",
     "iopub.status.busy": "2023-02-22T07:21:00.796853Z",
     "iopub.status.idle": "2023-02-22T07:21:00.812341Z",
     "shell.execute_reply": "2023-02-22T07:21:00.811599Z"
    },
    "tags": []
   },
   "outputs": [
    {
     "data": {
      "text/plain": [
       "(0.001, 'm')"
      ]
     },
     "execution_count": 15,
     "metadata": {},
     "output_type": "execute_result"
    }
   ],
   "source": [
    "nice_scale_prefix(0.009)"
   ]
  },
  {
   "cell_type": "markdown",
   "metadata": {},
   "source": [
    "# Limitations\n",
    "\n",
    "This is a simple class for use with this package. So even simple things like the example below will fail. \n",
    "\n",
    "For more advanced units, use a package like Pint: https://pint.readthedocs.io/\n"
   ]
  },
  {
   "cell_type": "code",
   "execution_count": 16,
   "metadata": {
    "execution": {
     "iopub.execute_input": "2023-02-22T07:21:00.815623Z",
     "iopub.status.busy": "2023-02-22T07:21:00.815307Z",
     "iopub.status.idle": "2023-02-22T07:21:00.831180Z",
     "shell.execute_reply": "2023-02-22T07:21:00.830361Z"
    },
    "tags": []
   },
   "outputs": [
    {
     "name": "stdout",
     "output_type": "stream",
     "text": [
      "you cannot do this\n"
     ]
    }
   ],
   "source": [
    "try:\n",
    "    u1/1\n",
    "except:\n",
    "    print('you cannot do this')\n",
    "    \n"
   ]
  }
 ],
 "metadata": {
  "kernelspec": {
   "display_name": "Python 3 (ipykernel)",
   "language": "python",
   "name": "python3"
  },
  "language_info": {
   "codemirror_mode": {
    "name": "ipython",
    "version": 3
   },
   "file_extension": ".py",
   "mimetype": "text/x-python",
   "name": "python",
   "nbconvert_exporter": "python",
   "pygments_lexer": "ipython3",
   "version": "3.9.16"
  }
 },
 "nbformat": 4,
 "nbformat_minor": 4
}
