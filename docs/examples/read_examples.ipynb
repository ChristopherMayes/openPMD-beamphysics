{
 "cells": [
  {
   "cell_type": "markdown",
   "metadata": {},
   "source": [
    "# Read examples"
   ]
  },
  {
   "cell_type": "code",
   "execution_count": null,
   "metadata": {
    "execution": {
     "iopub.execute_input": "2024-10-17T23:18:26.404727Z",
     "iopub.status.busy": "2024-10-17T23:18:26.404338Z",
     "iopub.status.idle": "2024-10-17T23:18:26.431800Z",
     "shell.execute_reply": "2024-10-17T23:18:26.431113Z"
    },
    "tags": []
   },
   "outputs": [],
   "source": [
    "# Useful for debugging\n",
    "%load_ext autoreload\n",
    "%autoreload 2"
   ]
  },
  {
   "cell_type": "code",
   "execution_count": null,
   "metadata": {
    "execution": {
     "iopub.execute_input": "2024-10-17T23:18:26.434439Z",
     "iopub.status.busy": "2024-10-17T23:18:26.434222Z",
     "iopub.status.idle": "2024-10-17T23:18:27.006225Z",
     "shell.execute_reply": "2024-10-17T23:18:27.005886Z"
    },
    "tags": []
   },
   "outputs": [],
   "source": [
    "from pmd_beamphysics import ParticleGroup"
   ]
  },
  {
   "cell_type": "markdown",
   "metadata": {},
   "source": [
    "# elegant hdf5 format"
   ]
  },
  {
   "cell_type": "code",
   "execution_count": null,
   "metadata": {
    "execution": {
     "iopub.execute_input": "2024-10-17T23:18:27.007895Z",
     "iopub.status.busy": "2024-10-17T23:18:27.007692Z",
     "iopub.status.idle": "2024-10-17T23:18:27.018400Z",
     "shell.execute_reply": "2024-10-17T23:18:27.018161Z"
    },
    "tags": []
   },
   "outputs": [],
   "source": [
    "from pmd_beamphysics.interfaces.elegant import elegant_h5_to_data"
   ]
  },
  {
   "cell_type": "markdown",
   "metadata": {},
   "source": [
    "This will convert to a data dict"
   ]
  },
  {
   "cell_type": "code",
   "execution_count": null,
   "metadata": {
    "execution": {
     "iopub.execute_input": "2024-10-17T23:18:27.019838Z",
     "iopub.status.busy": "2024-10-17T23:18:27.019749Z",
     "iopub.status.idle": "2024-10-17T23:18:27.038539Z",
     "shell.execute_reply": "2024-10-17T23:18:27.038287Z"
    },
    "tags": []
   },
   "outputs": [],
   "source": [
    "data = elegant_h5_to_data(\"data/elegant_raw.h5\")\n",
    "data"
   ]
  },
  {
   "cell_type": "markdown",
   "metadata": {},
   "source": [
    "Create `ParticleGroup` and plot:"
   ]
  },
  {
   "cell_type": "code",
   "execution_count": null,
   "metadata": {
    "execution": {
     "iopub.execute_input": "2024-10-17T23:18:27.060724Z",
     "iopub.status.busy": "2024-10-17T23:18:27.060588Z",
     "iopub.status.idle": "2024-10-17T23:18:27.383511Z",
     "shell.execute_reply": "2024-10-17T23:18:27.383284Z"
    },
    "tags": []
   },
   "outputs": [],
   "source": [
    "P = ParticleGroup(data=data)\n",
    "P.plot(\"delta_t\", \"delta_pz\")"
   ]
  },
  {
   "cell_type": "markdown",
   "metadata": {},
   "source": [
    "# Genesis4 HDF5 format"
   ]
  },
  {
   "cell_type": "code",
   "execution_count": null,
   "metadata": {
    "execution": {
     "iopub.execute_input": "2024-10-17T23:18:27.385069Z",
     "iopub.status.busy": "2024-10-17T23:18:27.384959Z",
     "iopub.status.idle": "2024-10-17T23:18:27.395330Z",
     "shell.execute_reply": "2024-10-17T23:18:27.395103Z"
    }
   },
   "outputs": [],
   "source": [
    "from pmd_beamphysics.interfaces.genesis import genesis4_par_to_data"
   ]
  },
  {
   "cell_type": "code",
   "execution_count": null,
   "metadata": {
    "execution": {
     "iopub.execute_input": "2024-10-17T23:18:27.396506Z",
     "iopub.status.busy": "2024-10-17T23:18:27.396431Z",
     "iopub.status.idle": "2024-10-17T23:18:27.491746Z",
     "shell.execute_reply": "2024-10-17T23:18:27.491430Z"
    }
   },
   "outputs": [],
   "source": [
    "P = ParticleGroup(data=genesis4_par_to_data(\"data/genesis4.par.h5\"))\n",
    "P"
   ]
  },
  {
   "cell_type": "code",
   "execution_count": null,
   "metadata": {
    "execution": {
     "iopub.execute_input": "2024-10-17T23:18:27.493261Z",
     "iopub.status.busy": "2024-10-17T23:18:27.493141Z",
     "iopub.status.idle": "2024-10-17T23:18:27.692929Z",
     "shell.execute_reply": "2024-10-17T23:18:27.692655Z"
    }
   },
   "outputs": [],
   "source": [
    "P.plot(\"z\", \"pz\")"
   ]
  }
 ],
 "metadata": {
  "kernelspec": {
   "display_name": "Python 3 (ipykernel)",
   "language": "python",
   "name": "python3"
  },
  "language_info": {
   "codemirror_mode": {
    "name": "ipython",
    "version": 3
   },
   "file_extension": ".py",
   "mimetype": "text/x-python",
   "name": "python",
   "nbconvert_exporter": "python",
   "pygments_lexer": "ipython3",
   "version": "3.12.7"
  }
 },
 "nbformat": 4,
 "nbformat_minor": 4
}
