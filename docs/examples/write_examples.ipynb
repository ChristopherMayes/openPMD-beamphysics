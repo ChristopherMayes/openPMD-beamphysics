{
 "cells": [
  {
   "cell_type": "markdown",
   "metadata": {},
   "source": [
    "# Write examples"
   ]
  },
  {
   "cell_type": "code",
   "execution_count": null,
   "metadata": {
    "execution": {
     "iopub.execute_input": "2024-10-17T23:18:38.314935Z",
     "iopub.status.busy": "2024-10-17T23:18:38.314334Z",
     "iopub.status.idle": "2024-10-17T23:18:38.343463Z",
     "shell.execute_reply": "2024-10-17T23:18:38.342971Z"
    },
    "tags": []
   },
   "outputs": [],
   "source": [
    "# Useful for debugging\n",
    "%load_ext autoreload\n",
    "%autoreload 2"
   ]
  },
  {
   "cell_type": "code",
   "execution_count": null,
   "metadata": {
    "execution": {
     "iopub.execute_input": "2024-10-17T23:18:38.345974Z",
     "iopub.status.busy": "2024-10-17T23:18:38.345739Z",
     "iopub.status.idle": "2024-10-17T23:18:38.868061Z",
     "shell.execute_reply": "2024-10-17T23:18:38.867800Z"
    },
    "tags": []
   },
   "outputs": [],
   "source": [
    "from pmd_beamphysics import ParticleGroup, pmd_init\n",
    "from h5py import File\n",
    "import os"
   ]
  },
  {
   "cell_type": "code",
   "execution_count": null,
   "metadata": {
    "execution": {
     "iopub.execute_input": "2024-10-17T23:18:38.869637Z",
     "iopub.status.busy": "2024-10-17T23:18:38.869429Z",
     "iopub.status.idle": "2024-10-17T23:18:38.882511Z",
     "shell.execute_reply": "2024-10-17T23:18:38.882281Z"
    },
    "tags": []
   },
   "outputs": [],
   "source": [
    "# Pick one:\n",
    "\n",
    "# H5File = 'data/bmad_particles2.h5'\n",
    "H5FILE = \"data/distgen_particles.h5\"\n",
    "# H5FILE = 'data/astra_particles.h5'\n",
    "\n",
    "P = ParticleGroup(H5FILE)"
   ]
  },
  {
   "cell_type": "markdown",
   "metadata": {},
   "source": [
    "# openPMD"
   ]
  },
  {
   "cell_type": "markdown",
   "metadata": {},
   "source": [
    "The regular write routine writes in a proper openPMD format"
   ]
  },
  {
   "cell_type": "code",
   "execution_count": null,
   "metadata": {
    "execution": {
     "iopub.execute_input": "2024-10-17T23:18:38.883754Z",
     "iopub.status.busy": "2024-10-17T23:18:38.883668Z",
     "iopub.status.idle": "2024-10-17T23:18:38.896226Z",
     "shell.execute_reply": "2024-10-17T23:18:38.895996Z"
    },
    "tags": []
   },
   "outputs": [],
   "source": [
    "P.write(\"openpmd_particles.h5\")"
   ]
  },
  {
   "cell_type": "markdown",
   "metadata": {},
   "source": [
    "An open h5 hande can also be used, but it needs to be properly initialized"
   ]
  },
  {
   "cell_type": "code",
   "execution_count": null,
   "metadata": {
    "execution": {
     "iopub.execute_input": "2024-10-17T23:18:38.897446Z",
     "iopub.status.busy": "2024-10-17T23:18:38.897346Z",
     "iopub.status.idle": "2024-10-17T23:18:38.909816Z",
     "shell.execute_reply": "2024-10-17T23:18:38.909590Z"
    },
    "tags": []
   },
   "outputs": [],
   "source": [
    "with File(\"openpmd_particles.h5\", \"w\") as h5:\n",
    "    pmd_init(h5, basePath=\"/\", particlesPath=\"/\")\n",
    "    P.write(h5)"
   ]
  },
  {
   "cell_type": "markdown",
   "metadata": {},
   "source": [
    "This can be read in by another ParticleGroup"
   ]
  },
  {
   "cell_type": "code",
   "execution_count": null,
   "metadata": {
    "execution": {
     "iopub.execute_input": "2024-10-17T23:18:38.910989Z",
     "iopub.status.busy": "2024-10-17T23:18:38.910914Z",
     "iopub.status.idle": "2024-10-17T23:18:38.922857Z",
     "shell.execute_reply": "2024-10-17T23:18:38.922626Z"
    },
    "tags": []
   },
   "outputs": [],
   "source": [
    "P2 = ParticleGroup(\"openpmd_particles.h5\")"
   ]
  },
  {
   "cell_type": "markdown",
   "metadata": {},
   "source": [
    "Check that they are the same:"
   ]
  },
  {
   "cell_type": "code",
   "execution_count": null,
   "metadata": {
    "execution": {
     "iopub.execute_input": "2024-10-17T23:18:38.924187Z",
     "iopub.status.busy": "2024-10-17T23:18:38.924110Z",
     "iopub.status.idle": "2024-10-17T23:18:38.935757Z",
     "shell.execute_reply": "2024-10-17T23:18:38.935543Z"
    },
    "tags": []
   },
   "outputs": [],
   "source": [
    "P2 == P"
   ]
  },
  {
   "cell_type": "markdown",
   "metadata": {},
   "source": [
    "# Astra"
   ]
  },
  {
   "cell_type": "code",
   "execution_count": null,
   "metadata": {
    "execution": {
     "iopub.execute_input": "2024-10-17T23:18:38.955434Z",
     "iopub.status.busy": "2024-10-17T23:18:38.955331Z",
     "iopub.status.idle": "2024-10-17T23:18:39.023146Z",
     "shell.execute_reply": "2024-10-17T23:18:39.022889Z"
    }
   },
   "outputs": [],
   "source": [
    "P.write_astra(\"astra_particles.txt\")"
   ]
  },
  {
   "cell_type": "code",
   "execution_count": null,
   "metadata": {
    "execution": {
     "iopub.execute_input": "2024-10-17T23:18:39.024486Z",
     "iopub.status.busy": "2024-10-17T23:18:39.024401Z",
     "iopub.status.idle": "2024-10-17T23:18:39.155786Z",
     "shell.execute_reply": "2024-10-17T23:18:39.155373Z"
    }
   },
   "outputs": [],
   "source": [
    "!head astra_particles.txt"
   ]
  },
  {
   "cell_type": "markdown",
   "metadata": {},
   "source": [
    "Check the readback:"
   ]
  },
  {
   "cell_type": "code",
   "execution_count": null,
   "metadata": {
    "execution": {
     "iopub.execute_input": "2024-10-17T23:18:39.157944Z",
     "iopub.status.busy": "2024-10-17T23:18:39.157675Z",
     "iopub.status.idle": "2024-10-17T23:18:39.188096Z",
     "shell.execute_reply": "2024-10-17T23:18:39.187757Z"
    }
   },
   "outputs": [],
   "source": [
    "from pmd_beamphysics.interfaces.astra import parse_astra_phase_file\n",
    "import numpy as np\n",
    "\n",
    "P1 = ParticleGroup(data=parse_astra_phase_file(\"astra_particles.txt\"))\n",
    "for k in [\"x\", \"px\", \"y\", \"py\", \"z\", \"pz\"]:\n",
    "    assert np.allclose(P[k], P1[k])"
   ]
  },
  {
   "cell_type": "markdown",
   "metadata": {},
   "source": [
    "# Bmad ASCII"
   ]
  },
  {
   "cell_type": "code",
   "execution_count": null,
   "metadata": {
    "execution": {
     "iopub.execute_input": "2024-10-17T23:18:39.190150Z",
     "iopub.status.busy": "2024-10-17T23:18:39.190000Z",
     "iopub.status.idle": "2024-10-17T23:18:39.231265Z",
     "shell.execute_reply": "2024-10-17T23:18:39.231013Z"
    }
   },
   "outputs": [],
   "source": [
    "P.write_bmad(\"bmad_particles.txt\")"
   ]
  },
  {
   "cell_type": "code",
   "execution_count": null,
   "metadata": {
    "execution": {
     "iopub.execute_input": "2024-10-17T23:18:39.232633Z",
     "iopub.status.busy": "2024-10-17T23:18:39.232553Z",
     "iopub.status.idle": "2024-10-17T23:18:39.360285Z",
     "shell.execute_reply": "2024-10-17T23:18:39.359875Z"
    }
   },
   "outputs": [],
   "source": [
    "!head bmad_particles.txt"
   ]
  },
  {
   "cell_type": "markdown",
   "metadata": {},
   "source": [
    "# Bmad dict"
   ]
  },
  {
   "cell_type": "code",
   "execution_count": null,
   "metadata": {
    "execution": {
     "iopub.execute_input": "2024-10-17T23:18:39.362561Z",
     "iopub.status.busy": "2024-10-17T23:18:39.362301Z",
     "iopub.status.idle": "2024-10-17T23:18:39.382143Z",
     "shell.execute_reply": "2024-10-17T23:18:39.381741Z"
    }
   },
   "outputs": [],
   "source": [
    "P.to_bmad()"
   ]
  },
  {
   "cell_type": "markdown",
   "metadata": {},
   "source": [
    "Check that the conversion preserves information. Note that `==` uses `np.allclose`, because there is roundoff error in the conversion."
   ]
  },
  {
   "cell_type": "code",
   "execution_count": null,
   "metadata": {
    "execution": {
     "iopub.execute_input": "2024-10-17T23:18:39.383994Z",
     "iopub.status.busy": "2024-10-17T23:18:39.383833Z",
     "iopub.status.idle": "2024-10-17T23:18:39.399002Z",
     "shell.execute_reply": "2024-10-17T23:18:39.398715Z"
    }
   },
   "outputs": [],
   "source": [
    "assert P == P.from_bmad(P.to_bmad())"
   ]
  },
  {
   "cell_type": "markdown",
   "metadata": {},
   "source": [
    "# elegant"
   ]
  },
  {
   "cell_type": "code",
   "execution_count": null,
   "metadata": {
    "execution": {
     "iopub.execute_input": "2024-10-17T23:18:39.400510Z",
     "iopub.status.busy": "2024-10-17T23:18:39.400418Z",
     "iopub.status.idle": "2024-10-17T23:18:39.435326Z",
     "shell.execute_reply": "2024-10-17T23:18:39.435095Z"
    }
   },
   "outputs": [],
   "source": [
    "P.write_elegant(\"elegant_particles.txt\", verbose=True)"
   ]
  },
  {
   "cell_type": "code",
   "execution_count": null,
   "metadata": {
    "execution": {
     "iopub.execute_input": "2024-10-17T23:18:39.436550Z",
     "iopub.status.busy": "2024-10-17T23:18:39.436464Z",
     "iopub.status.idle": "2024-10-17T23:18:39.563574Z",
     "shell.execute_reply": "2024-10-17T23:18:39.563115Z"
    }
   },
   "outputs": [],
   "source": [
    "!head -n 20 elegant_particles.txt"
   ]
  },
  {
   "cell_type": "markdown",
   "metadata": {},
   "source": [
    "# Genesis 1.3 v2 "
   ]
  },
  {
   "cell_type": "code",
   "execution_count": null,
   "metadata": {
    "execution": {
     "iopub.execute_input": "2024-10-17T23:18:39.565705Z",
     "iopub.status.busy": "2024-10-17T23:18:39.565518Z",
     "iopub.status.idle": "2024-10-17T23:18:39.605922Z",
     "shell.execute_reply": "2024-10-17T23:18:39.605683Z"
    }
   },
   "outputs": [],
   "source": [
    "P.write_genesis2_beam_file(\"genesis2.beam\", n_slice=50, verbose=True)"
   ]
  },
  {
   "cell_type": "code",
   "execution_count": null,
   "metadata": {
    "execution": {
     "iopub.execute_input": "2024-10-17T23:18:39.607170Z",
     "iopub.status.busy": "2024-10-17T23:18:39.607084Z",
     "iopub.status.idle": "2024-10-17T23:18:39.735066Z",
     "shell.execute_reply": "2024-10-17T23:18:39.734601Z"
    }
   },
   "outputs": [],
   "source": [
    "!head genesis2.beam"
   ]
  },
  {
   "cell_type": "markdown",
   "metadata": {},
   "source": [
    "# Genesis 1.3 v4"
   ]
  },
  {
   "cell_type": "markdown",
   "metadata": {},
   "source": [
    "## beam file (slice statistics)"
   ]
  },
  {
   "cell_type": "code",
   "execution_count": null,
   "metadata": {
    "execution": {
     "iopub.execute_input": "2024-10-17T23:18:39.737301Z",
     "iopub.status.busy": "2024-10-17T23:18:39.737080Z",
     "iopub.status.idle": "2024-10-17T23:18:39.799989Z",
     "shell.execute_reply": "2024-10-17T23:18:39.799720Z"
    },
    "tags": []
   },
   "outputs": [],
   "source": [
    "input_str = P.write_genesis4_beam(\n",
    "    \"genesis4_beam.h5\", n_slice=123, verbose=True, return_input_str=True\n",
    ")"
   ]
  },
  {
   "cell_type": "markdown",
   "metadata": {
    "tags": []
   },
   "source": [
    "This string is optionally returned for use in the main Genesis4 input file:"
   ]
  },
  {
   "cell_type": "code",
   "execution_count": null,
   "metadata": {
    "execution": {
     "iopub.execute_input": "2024-10-17T23:18:39.801350Z",
     "iopub.status.busy": "2024-10-17T23:18:39.801265Z",
     "iopub.status.idle": "2024-10-17T23:18:39.811974Z",
     "shell.execute_reply": "2024-10-17T23:18:39.811703Z"
    },
    "tags": []
   },
   "outputs": [],
   "source": [
    "print(input_str)"
   ]
  },
  {
   "cell_type": "markdown",
   "metadata": {
    "tags": []
   },
   "source": [
    "These are the datasets written:"
   ]
  },
  {
   "cell_type": "code",
   "execution_count": null,
   "metadata": {
    "execution": {
     "iopub.execute_input": "2024-10-17T23:18:39.813192Z",
     "iopub.status.busy": "2024-10-17T23:18:39.813113Z",
     "iopub.status.idle": "2024-10-17T23:18:39.825477Z",
     "shell.execute_reply": "2024-10-17T23:18:39.825242Z"
    },
    "tags": []
   },
   "outputs": [],
   "source": [
    "with File(\"genesis4_beam.h5\", \"r\") as h5:\n",
    "    for g in h5:\n",
    "        print(g, len(h5[g]), h5[g].attrs[\"unitSymbol\"])"
   ]
  },
  {
   "cell_type": "markdown",
   "metadata": {
    "tags": []
   },
   "source": [
    "## Distribution file (particles)"
   ]
  },
  {
   "cell_type": "code",
   "execution_count": null,
   "metadata": {
    "execution": {
     "iopub.execute_input": "2024-10-17T23:18:39.826707Z",
     "iopub.status.busy": "2024-10-17T23:18:39.826627Z",
     "iopub.status.idle": "2024-10-17T23:18:39.837937Z",
     "shell.execute_reply": "2024-10-17T23:18:39.837723Z"
    },
    "tags": []
   },
   "outputs": [],
   "source": [
    "P.write_genesis4_distribution(\"genesis4_distribution.h5\", verbose=True)"
   ]
  },
  {
   "cell_type": "markdown",
   "metadata": {},
   "source": [
    "This is what is written:"
   ]
  },
  {
   "cell_type": "code",
   "execution_count": null,
   "metadata": {
    "execution": {
     "iopub.execute_input": "2024-10-17T23:18:39.839093Z",
     "iopub.status.busy": "2024-10-17T23:18:39.839016Z",
     "iopub.status.idle": "2024-10-17T23:18:39.849486Z",
     "shell.execute_reply": "2024-10-17T23:18:39.849209Z"
    },
    "tags": []
   },
   "outputs": [],
   "source": [
    "with File(\"genesis4_distribution.h5\", \"r\") as h5:\n",
    "    for g in h5:\n",
    "        print(g, len(h5[g]))"
   ]
  },
  {
   "cell_type": "markdown",
   "metadata": {},
   "source": [
    "# GPT ASCII"
   ]
  },
  {
   "cell_type": "code",
   "execution_count": null,
   "metadata": {
    "execution": {
     "iopub.execute_input": "2024-10-17T23:18:39.851187Z",
     "iopub.status.busy": "2024-10-17T23:18:39.851066Z",
     "iopub.status.idle": "2024-10-17T23:18:39.900314Z",
     "shell.execute_reply": "2024-10-17T23:18:39.900078Z"
    }
   },
   "outputs": [],
   "source": [
    "P.write_gpt(\"gpt_particles.txt\", verbose=True)"
   ]
  },
  {
   "cell_type": "code",
   "execution_count": null,
   "metadata": {
    "execution": {
     "iopub.execute_input": "2024-10-17T23:18:39.901621Z",
     "iopub.status.busy": "2024-10-17T23:18:39.901532Z",
     "iopub.status.idle": "2024-10-17T23:18:40.011090Z",
     "shell.execute_reply": "2024-10-17T23:18:40.010793Z"
    }
   },
   "outputs": [],
   "source": [
    "if os.path.exists(os.path.expandvars(\"$ASCI2GDF_BIN\")):\n",
    "    P.write_gpt(\"gpt_particles.gdf\", verbose=True, asci2gdf_bin=\"$ASCI2GDF_BIN\")"
   ]
  },
  {
   "cell_type": "code",
   "execution_count": null,
   "metadata": {
    "execution": {
     "iopub.execute_input": "2024-10-17T23:18:40.012468Z",
     "iopub.status.busy": "2024-10-17T23:18:40.012373Z",
     "iopub.status.idle": "2024-10-17T23:18:40.023967Z",
     "shell.execute_reply": "2024-10-17T23:18:40.023714Z"
    }
   },
   "outputs": [],
   "source": [
    "#!head gpt_particles.txt"
   ]
  },
  {
   "cell_type": "markdown",
   "metadata": {},
   "source": [
    "# Impact-T\n",
    "\n",
    "Impact-T particles must all be a the same time:"
   ]
  },
  {
   "cell_type": "code",
   "execution_count": null,
   "metadata": {
    "execution": {
     "iopub.execute_input": "2024-10-17T23:18:40.025304Z",
     "iopub.status.busy": "2024-10-17T23:18:40.025226Z",
     "iopub.status.idle": "2024-10-17T23:18:40.034900Z",
     "shell.execute_reply": "2024-10-17T23:18:40.034665Z"
    },
    "tags": []
   },
   "outputs": [],
   "source": [
    "P.drift_to_t(P[\"mean_t\"])"
   ]
  },
  {
   "cell_type": "markdown",
   "metadata": {},
   "source": [
    "This will return settings for Impact-T to use:"
   ]
  },
  {
   "cell_type": "code",
   "execution_count": null,
   "metadata": {
    "execution": {
     "iopub.execute_input": "2024-10-17T23:18:40.036173Z",
     "iopub.status.busy": "2024-10-17T23:18:40.036097Z",
     "iopub.status.idle": "2024-10-17T23:18:40.080630Z",
     "shell.execute_reply": "2024-10-17T23:18:40.080411Z"
    },
    "tags": []
   },
   "outputs": [],
   "source": [
    "P.write_impact(\"impact_particles.txt\")"
   ]
  },
  {
   "cell_type": "code",
   "execution_count": null,
   "metadata": {
    "execution": {
     "iopub.execute_input": "2024-10-17T23:18:40.081820Z",
     "iopub.status.busy": "2024-10-17T23:18:40.081740Z",
     "iopub.status.idle": "2024-10-17T23:18:40.208764Z",
     "shell.execute_reply": "2024-10-17T23:18:40.208288Z"
    },
    "tags": []
   },
   "outputs": [],
   "source": [
    "!head impact_particles.txt"
   ]
  },
  {
   "cell_type": "markdown",
   "metadata": {},
   "source": [
    "# LiTrack\n",
    "\n",
    "LiTrack particles must be at the same z:"
   ]
  },
  {
   "cell_type": "code",
   "execution_count": null,
   "metadata": {
    "execution": {
     "iopub.execute_input": "2024-10-17T23:18:40.211141Z",
     "iopub.status.busy": "2024-10-17T23:18:40.210892Z",
     "iopub.status.idle": "2024-10-17T23:18:40.227690Z",
     "shell.execute_reply": "2024-10-17T23:18:40.227404Z"
    },
    "tags": []
   },
   "outputs": [],
   "source": [
    "P.drift_to_z()"
   ]
  },
  {
   "cell_type": "code",
   "execution_count": null,
   "metadata": {
    "execution": {
     "iopub.execute_input": "2024-10-17T23:18:40.229206Z",
     "iopub.status.busy": "2024-10-17T23:18:40.229103Z",
     "iopub.status.idle": "2024-10-17T23:18:40.255371Z",
     "shell.execute_reply": "2024-10-17T23:18:40.255163Z"
    },
    "tags": []
   },
   "outputs": [],
   "source": [
    "P.write_litrack(\"litrack.zd\", verbose=True)"
   ]
  },
  {
   "cell_type": "code",
   "execution_count": null,
   "metadata": {
    "execution": {
     "iopub.execute_input": "2024-10-17T23:18:40.256489Z",
     "iopub.status.busy": "2024-10-17T23:18:40.256404Z",
     "iopub.status.idle": "2024-10-17T23:18:40.383604Z",
     "shell.execute_reply": "2024-10-17T23:18:40.383159Z"
    },
    "tags": []
   },
   "outputs": [],
   "source": [
    "!head -n 20 litrack.zd"
   ]
  },
  {
   "cell_type": "markdown",
   "metadata": {},
   "source": [
    "# Lucretia"
   ]
  },
  {
   "cell_type": "code",
   "execution_count": null,
   "metadata": {
    "execution": {
     "iopub.execute_input": "2024-10-17T23:18:40.386159Z",
     "iopub.status.busy": "2024-10-17T23:18:40.385906Z",
     "iopub.status.idle": "2024-10-17T23:18:40.404927Z",
     "shell.execute_reply": "2024-10-17T23:18:40.404618Z"
    },
    "tags": []
   },
   "outputs": [],
   "source": [
    "P.write_lucretia(\n",
    "    \"lucretia.mat\", ele_name=\"BEGINNING\", t_ref=0, stop_ix=None, verbose=True\n",
    ")"
   ]
  },
  {
   "cell_type": "markdown",
   "metadata": {},
   "source": [
    "Read back:"
   ]
  },
  {
   "cell_type": "code",
   "execution_count": null,
   "metadata": {
    "execution": {
     "iopub.execute_input": "2024-10-17T23:18:40.406577Z",
     "iopub.status.busy": "2024-10-17T23:18:40.406446Z",
     "iopub.status.idle": "2024-10-17T23:18:40.422190Z",
     "shell.execute_reply": "2024-10-17T23:18:40.421969Z"
    },
    "tags": []
   },
   "outputs": [],
   "source": [
    "from pmd_beamphysics.interfaces.lucretia import lucretia_to_data, list_element_names\n",
    "\n",
    "ParticleGroup(data=lucretia_to_data(\"lucretia.mat\", verbose=True))"
   ]
  },
  {
   "cell_type": "markdown",
   "metadata": {},
   "source": [
    "Helper function to list the available elements:"
   ]
  },
  {
   "cell_type": "code",
   "execution_count": null,
   "metadata": {
    "execution": {
     "iopub.execute_input": "2024-10-17T23:18:40.423634Z",
     "iopub.status.busy": "2024-10-17T23:18:40.423548Z",
     "iopub.status.idle": "2024-10-17T23:18:40.434887Z",
     "shell.execute_reply": "2024-10-17T23:18:40.434667Z"
    },
    "tags": []
   },
   "outputs": [],
   "source": [
    "list_element_names(\"lucretia.mat\")"
   ]
  },
  {
   "cell_type": "markdown",
   "metadata": {},
   "source": [
    "# OPAL\n",
    "\n",
    "Injected particled must be at the same time:"
   ]
  },
  {
   "cell_type": "code",
   "execution_count": null,
   "metadata": {
    "execution": {
     "iopub.execute_input": "2024-10-17T23:18:40.436126Z",
     "iopub.status.busy": "2024-10-17T23:18:40.436042Z",
     "iopub.status.idle": "2024-10-17T23:18:40.469140Z",
     "shell.execute_reply": "2024-10-17T23:18:40.468927Z"
    },
    "tags": []
   },
   "outputs": [],
   "source": [
    "P.drift_to_t()\n",
    "\n",
    "P.write_opal(\"opal_injected.txt\", dist_type=\"injected\")"
   ]
  },
  {
   "cell_type": "code",
   "execution_count": null,
   "metadata": {
    "execution": {
     "iopub.execute_input": "2024-10-17T23:18:40.470344Z",
     "iopub.status.busy": "2024-10-17T23:18:40.470268Z",
     "iopub.status.idle": "2024-10-17T23:18:40.597295Z",
     "shell.execute_reply": "2024-10-17T23:18:40.596853Z"
    },
    "tags": []
   },
   "outputs": [],
   "source": [
    "!head opal_injected.txt"
   ]
  },
  {
   "cell_type": "markdown",
   "metadata": {},
   "source": [
    "Emitted particles must be at the same z:"
   ]
  },
  {
   "cell_type": "code",
   "execution_count": null,
   "metadata": {
    "execution": {
     "iopub.execute_input": "2024-10-17T23:18:40.599358Z",
     "iopub.status.busy": "2024-10-17T23:18:40.599169Z",
     "iopub.status.idle": "2024-10-17T23:18:40.646383Z",
     "shell.execute_reply": "2024-10-17T23:18:40.646142Z"
    },
    "tags": []
   },
   "outputs": [],
   "source": [
    "P.drift_to_z(P[\"mean_z\"])\n",
    "P.write_opal(\"opal_emitted.txt\", dist_type=\"emitted\")"
   ]
  },
  {
   "cell_type": "code",
   "execution_count": null,
   "metadata": {
    "execution": {
     "iopub.execute_input": "2024-10-17T23:18:40.647611Z",
     "iopub.status.busy": "2024-10-17T23:18:40.647525Z",
     "iopub.status.idle": "2024-10-17T23:18:40.778018Z",
     "shell.execute_reply": "2024-10-17T23:18:40.777586Z"
    },
    "tags": []
   },
   "outputs": [],
   "source": [
    "!head opal_emitted.txt"
   ]
  },
  {
   "cell_type": "markdown",
   "metadata": {},
   "source": [
    "# SIMION \n",
    "Write SIMION input files (*.ion) "
   ]
  },
  {
   "cell_type": "code",
   "execution_count": null,
   "metadata": {
    "execution": {
     "iopub.execute_input": "2024-10-17T23:18:40.780150Z",
     "iopub.status.busy": "2024-10-17T23:18:40.779964Z",
     "iopub.status.idle": "2024-10-17T23:18:40.836375Z",
     "shell.execute_reply": "2024-10-17T23:18:40.836155Z"
    }
   },
   "outputs": [],
   "source": [
    "P.write_simion(\"simion_particles.ion\")"
   ]
  },
  {
   "cell_type": "markdown",
   "metadata": {},
   "source": [
    "# Cleanup"
   ]
  },
  {
   "cell_type": "code",
   "execution_count": null,
   "metadata": {
    "execution": {
     "iopub.execute_input": "2024-10-17T23:18:40.837935Z",
     "iopub.status.busy": "2024-10-17T23:18:40.837860Z",
     "iopub.status.idle": "2024-10-17T23:18:40.848533Z",
     "shell.execute_reply": "2024-10-17T23:18:40.848318Z"
    },
    "tags": []
   },
   "outputs": [],
   "source": [
    "for file in [\n",
    "    \"astra_particles.txt\",\n",
    "    \"bmad_particles.txt\",\n",
    "    \"elegant_particles.txt\",\n",
    "    \"gpt_particles.txt\",\n",
    "    \"impact_particles.txt\",\n",
    "    \"opal_injected.txt\",\n",
    "    \"opal_emitted.txt\",\n",
    "    \"openpmd_particles.h5\",\n",
    "    \"genesis4_beam.h5\",\n",
    "    \"genesis4_distribution.h5\",\n",
    "    \"genesis2.beam\",\n",
    "    \"litrack.zd\",\n",
    "    \"gpt_particles.gdf\",\n",
    "    \"lucretia.mat\",\n",
    "    \"simion_particles.ion\",\n",
    "]:\n",
    "    if os.path.exists(file):\n",
    "        os.remove(file)"
   ]
  }
 ],
 "metadata": {
  "kernelspec": {
   "display_name": "Python 3 (ipykernel)",
   "language": "python",
   "name": "python3"
  },
  "language_info": {
   "codemirror_mode": {
    "name": "ipython",
    "version": 3
   },
   "file_extension": ".py",
   "mimetype": "text/x-python",
   "name": "python",
   "nbconvert_exporter": "python",
   "pygments_lexer": "ipython3",
   "version": "3.12.7"
  }
 },
 "nbformat": 4,
 "nbformat_minor": 4
}
