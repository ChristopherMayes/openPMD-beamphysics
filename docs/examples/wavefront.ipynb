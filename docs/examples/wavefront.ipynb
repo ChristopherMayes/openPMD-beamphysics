{
 "cells": [
  {
   "cell_type": "code",
   "execution_count": null,
   "id": "9dc899f9-3fa4-4107-b5bc-3169658e9067",
   "metadata": {},
   "outputs": [],
   "source": [
    "import matplotlib.pyplot as plt\n",
    "import scipy.constants\n",
    "import numpy as np\n",
    "from scipy.optimize import curve_fit\n",
    "from scipy.interpolate import UnivariateSpline\n",
    "\n",
    "from pmd_beamphysics.wavefront import Wavefront"
   ]
  },
  {
   "cell_type": "code",
   "execution_count": null,
   "id": "6dd0729f-beb7-4c29-b0d1-68be6a96242c",
   "metadata": {},
   "outputs": [],
   "source": [
    "%config InlineBackend.figure_format = 'retina'"
   ]
  },
  {
   "cell_type": "markdown",
   "id": "5e4fba92-35a2-4ee7-8419-30752376542b",
   "metadata": {},
   "source": [
    "## Creating a Wavefront"
   ]
  },
  {
   "cell_type": "code",
   "execution_count": null,
   "id": "e8ce7490-e599-476d-bbef-b7e20bbef70c",
   "metadata": {},
   "outputs": [],
   "source": [
    "W = Wavefront.gaussian_pulse(\n",
    "    dims=(101, 101, 801),\n",
    "    wavelength=1.35e-8,\n",
    "    grid_spacing=(6e-6, 6e-6, 1e-7),\n",
    "    pad=(100, 100, 40),\n",
    "    nphotons=1e12,\n",
    "    zR=2.0,\n",
    "    sigma_z=3e-6,\n",
    ")"
   ]
  },
  {
   "cell_type": "code",
   "execution_count": null,
   "id": "70414a98-3ff7-420b-a0f0-9adbaddeed9a",
   "metadata": {},
   "outputs": [],
   "source": [
    "W.plot(\"im\", projection=\"xy\", figsize=(3, 3));"
   ]
  },
  {
   "cell_type": "code",
   "execution_count": null,
   "id": "ac403723-be1b-4c36-96bd-d41dcc4c3397",
   "metadata": {},
   "outputs": [],
   "source": [
    "W.plot(\"re\", projection=\"xy\", figsize=(3, 3));"
   ]
  },
  {
   "cell_type": "code",
   "execution_count": null,
   "id": "0f61a93b-6a2e-46b8-8c92-6ceb384026d1",
   "metadata": {},
   "outputs": [],
   "source": [
    "W.plot(\"re\", projection=\"kxky\", xlim=(-0.1, 0.1), ylim=(-0.1, 0.1), figsize=(3, 3));"
   ]
  },
  {
   "cell_type": "code",
   "execution_count": null,
   "id": "c936fe1c-840c-4f47-9842-bee8f34ee1cf",
   "metadata": {},
   "outputs": [],
   "source": [
    "W.fft_unit_coeff"
   ]
  },
  {
   "cell_type": "code",
   "execution_count": null,
   "id": "0469fcd5-3bf7-4134-819c-574ab0d9586a",
   "metadata": {},
   "outputs": [],
   "source": [
    "W.plot(\n",
    "    \"phase\",\n",
    "    projection=\"kxky\",\n",
    "    xlim=(-0.1, 0.1),\n",
    "    ylim=(-0.1, 0.1),\n",
    "    isophase_contour=True,\n",
    ");"
   ]
  },
  {
   "cell_type": "code",
   "execution_count": null,
   "id": "b3dc1a16-7001-4864-9a6e-cdb02c62e4f3",
   "metadata": {},
   "outputs": [],
   "source": [
    "W.plot_1d_far_field_spectral_density();"
   ]
  },
  {
   "cell_type": "code",
   "execution_count": null,
   "id": "eac38b4f-358d-41c0-80c3-a66b082c93c3",
   "metadata": {},
   "outputs": [],
   "source": [
    "W.plot_reciprocal(ylim_theta=(-0.5, 0.5));"
   ]
  },
  {
   "cell_type": "code",
   "execution_count": null,
   "id": "aea249dc-e195-4527-a52f-fb866c944fa5",
   "metadata": {},
   "outputs": [],
   "source": [
    "# W.plot_1d_kmesh_projections();"
   ]
  },
  {
   "cell_type": "code",
   "execution_count": null,
   "id": "dce5b957-e23d-4f28-8fd8-cfa9a2101cf4",
   "metadata": {},
   "outputs": [],
   "source": [
    "def get_longitudinal_slice(arr):\n",
    "    nx, ny, _ = arr.shape\n",
    "    return arr[int(nx / 2), int(ny / 2), :]\n",
    "\n",
    "\n",
    "def get_transverse_slice(arr):\n",
    "    _, _, nz = arr.shape\n",
    "    return arr[:, :, int(nz / 2)]"
   ]
  },
  {
   "cell_type": "code",
   "execution_count": null,
   "id": "45cc01bd-796f-4d78-b03a-34549c5c4a37",
   "metadata": {},
   "outputs": [],
   "source": [
    "plt.figure(figsize=(4, 2))\n",
    "plt.plot(W.rspace_domain[2], np.abs(get_longitudinal_slice(W.rmesh)))\n",
    "plt.xlabel(\"Position z [m]\");"
   ]
  },
  {
   "cell_type": "code",
   "execution_count": null,
   "id": "c5f45d07-f582-47f0-b7c8-91aecd36240a",
   "metadata": {},
   "outputs": [],
   "source": [
    "plt.figure(figsize=(4, 2))\n",
    "plt.plot(\n",
    "    W.rspace_domain[2] / scipy.constants.c * 1e15,\n",
    "    np.abs(get_longitudinal_slice(W.rmesh)),\n",
    ")\n",
    "plt.xlabel(\"Time [fs]\");"
   ]
  },
  {
   "cell_type": "code",
   "execution_count": null,
   "id": "fec5e92a-5d7b-4a9d-8ad1-ffb4bdfdc385",
   "metadata": {},
   "outputs": [],
   "source": [
    "plt.figure(figsize=(4, 4))\n",
    "plt.imshow(np.abs(get_transverse_slice(W.rmesh) ** 2))\n",
    "plt.colorbar();"
   ]
  },
  {
   "cell_type": "code",
   "execution_count": null,
   "id": "50383b40-4b8c-4be8-a8c4-52bfa8bb1e61",
   "metadata": {},
   "outputs": [],
   "source": [
    "plt.figure(figsize=(4, 2))\n",
    "kspace_slice = np.abs(get_longitudinal_slice(W.kmesh))\n",
    "plt.plot(kspace_slice, \".-\", color=\"b\")\n",
    "peak_x = np.argmax(kspace_slice)\n",
    "plt.xlim(peak_x - 20, peak_x + 20);"
   ]
  },
  {
   "cell_type": "code",
   "execution_count": null,
   "id": "4d9388dd-4205-4a77-87bb-0d6bb7a07e77",
   "metadata": {},
   "outputs": [],
   "source": [
    "W.pad"
   ]
  },
  {
   "cell_type": "code",
   "execution_count": null,
   "id": "9e1d14da-0969-42c3-a78a-e14954e77cfc",
   "metadata": {},
   "outputs": [],
   "source": [
    "plt.figure(figsize=(4, 4))\n",
    "kspace_image = np.abs(get_transverse_slice(W.kmesh)) ** 2\n",
    "\n",
    "center = np.argmax(kspace_image, axis=0)[0]\n",
    "plt.imshow(kspace_image)\n",
    "plt.xlim(center - 25, center + 25)\n",
    "plt.ylim(center - 25, center + 25)"
   ]
  },
  {
   "cell_type": "markdown",
   "id": "4f11de5e-3c0b-45d1-8665-55f59e871bca",
   "metadata": {},
   "source": [
    "## Propagation"
   ]
  },
  {
   "cell_type": "code",
   "execution_count": null,
   "id": "77028bf6-0eca-41c3-ab5a-31305d53c451",
   "metadata": {},
   "outputs": [],
   "source": [
    "drifted_w = W.drift(3.0)\n",
    "fig, (ax1, ax2) = plt.subplots(ncols=2, figsize=(10, 4))\n",
    "\n",
    "rspace_abs_orig = np.abs(get_transverse_slice(W.rmesh)) ** 2\n",
    "rspace_abs_prop = np.abs(get_transverse_slice(drifted_w.rmesh)) ** 2\n",
    "vmin = np.min((np.min(rspace_abs_orig), np.min(rspace_abs_prop)))\n",
    "vmax = np.min((np.max(rspace_abs_orig), np.max(rspace_abs_prop)))\n",
    "im1 = ax1.imshow(rspace_abs_orig, vmin=vmin, vmax=vmax)\n",
    "im2 = ax2.imshow(rspace_abs_prop, vmin=vmin, vmax=vmax)\n",
    "fig.subplots_adjust(right=1.0)\n",
    "plt.colorbar(im2)\n",
    "ax1.set_title(\"Original\")\n",
    "ax2.set_title(\"Drifted to 3m\");"
   ]
  },
  {
   "cell_type": "code",
   "execution_count": null,
   "id": "64ffa0bc-a138-4e1c-b1de-e3544fc8ecde",
   "metadata": {},
   "outputs": [],
   "source": [
    "def gaussian_func(x, a, b, c, d):\n",
    "    return a * np.exp(-((x - b) ** 2) / 2.0 / c**2) + d\n",
    "\n",
    "\n",
    "def gaussian_fit(xdata, ydata, initial_guess):\n",
    "    popt_gaussian, pcov_gaussian = curve_fit(\n",
    "        gaussian_func, xdata, ydata, p0=initial_guess\n",
    "    )\n",
    "    FWHM = popt_gaussian[2] * 2.355\n",
    "\n",
    "    ydata_fit = gaussian_func(xdata, *popt_gaussian)\n",
    "\n",
    "    spline = UnivariateSpline(xdata, ydata_fit - np.max(ydata_fit) / 2.0, s=0)\n",
    "    r1, r2 = spline.roots()\n",
    "\n",
    "    roots = [r1, r2]\n",
    "\n",
    "    return popt_gaussian, ydata_fit, FWHM, roots"
   ]
  },
  {
   "cell_type": "code",
   "execution_count": null,
   "id": "22c3ad4a-8627-497f-85c7-12bf208d6eec",
   "metadata": {},
   "outputs": [],
   "source": [
    "zR = 2.0\n",
    "X = Wavefront.gaussian_pulse(\n",
    "    dims=(101, 101, 801),\n",
    "    wavelength=1.35e-8,\n",
    "    grid_spacing=(6e-6, 6e-6, 1e-7),\n",
    "    pad=(100, 100, 40),\n",
    "    nphotons=1e12,\n",
    "    zR=2.0,\n",
    "    sigma_z=3e-6,\n",
    ")\n",
    "\n",
    "# drift distance [m]\n",
    "dz = 0.25\n",
    "# drift this many steps:\n",
    "num_drift_steps = 15\n",
    "\n",
    "nx, ny = get_transverse_slice(X.rmesh).shape\n",
    "wfz = np.zeros((num_drift_steps, nx, ny))\n",
    "fwhmz_fit = np.zeros(num_drift_steps)\n",
    "\n",
    "w0 = np.sqrt(zR * X.wavelength / np.pi)\n",
    "z = np.linspace(\n",
    "    -num_drift_steps * dz,\n",
    "    num_drift_steps * dz + dz,\n",
    "    2 * num_drift_steps + 1,\n",
    "    endpoint=False,\n",
    ")\n",
    "wz = w0 * np.sqrt(1 + (z / zR) ** 2)\n",
    "\n",
    "domain_x = X.rspace_domain[1]\n",
    "\n",
    "X = X.drift(0.0)\n",
    "\n",
    "for zi in range(0, num_drift_steps):\n",
    "    if zi > 0:\n",
    "        print(\"Propagating to: \", zi * dz)\n",
    "        X = X.drift(dz)\n",
    "    wf = np.abs(get_transverse_slice(X.rmesh)) ** 2\n",
    "\n",
    "    popt_gaussian, ydata_fit, FWHM, roots = gaussian_fit(\n",
    "        domain_x,\n",
    "        np.sum(wf, axis=1),\n",
    "        [8e24, 0.0, 0.0002, 0.0],\n",
    "    )\n",
    "    wfz[zi, :, :] = wf\n",
    "    fwhmz_fit[zi] = FWHM\n",
    "\n",
    "wfz_wx = np.sum(wfz, axis=1)\n",
    "wfz_wx2 = np.vstack((np.flip(wfz_wx, axis=0), wfz_wx))"
   ]
  },
  {
   "cell_type": "code",
   "execution_count": null,
   "id": "4c2ecef2-1efd-40d8-9322-623e75501c16",
   "metadata": {},
   "outputs": [],
   "source": [
    "plt.figure(figsize=(10, 4))\n",
    "\n",
    "ymin, ymax = X.ranges[1]\n",
    "\n",
    "plt.imshow(\n",
    "    wfz_wx2.T,\n",
    "    extent=[-num_drift_steps * dz, num_drift_steps * dz, ymin, ymax],\n",
    "    aspect=\"auto\",\n",
    "    vmin=0.0,\n",
    "    vmax=1.6e26,\n",
    ")\n",
    "\n",
    "plt.plot(z, wz, \"-\", linewidth=2, color=\"white\")\n",
    "plt.plot(z, -wz, \"-\", linewidth=2, color=\"white\")\n",
    "\n",
    "z_slice = z[int(num_drift_steps) : int(2 * num_drift_steps)]\n",
    "plt.plot(z_slice, fwhmz_fit / np.sqrt(2.0 * np.log(2)), \"--\", linewidth=2, color=\"blue\")\n",
    "plt.plot(\n",
    "    z_slice, -fwhmz_fit / np.sqrt(2.0 * np.log(2)), \"--\", linewidth=2, color=\"blue\"\n",
    ")\n",
    "\n",
    "plt.plot(z_slice, fwhmz_fit / 2, \"--\", linewidth=2, color=\"yellow\")\n",
    "plt.plot(z_slice, -fwhmz_fit / 2, \"--\", linewidth=2, color=\"yellow\")\n",
    "\n",
    "\n",
    "plt.ylim(ymin, ymax)\n",
    "\n",
    "plt.xlabel(r\"z ($m$)\")\n",
    "plt.ylabel(\"y (m)\")\n",
    "plt.colorbar();"
   ]
  }
 ],
 "metadata": {
  "kernelspec": {
   "display_name": "Python 3 (ipykernel)",
   "language": "python",
   "name": "python3"
  },
  "language_info": {
   "codemirror_mode": {
    "name": "ipython",
    "version": 3
   },
   "file_extension": ".py",
   "mimetype": "text/x-python",
   "name": "python",
   "nbconvert_exporter": "python",
   "pygments_lexer": "ipython3",
   "version": "3.11.9"
  }
 },
 "nbformat": 4,
 "nbformat_minor": 5
}
