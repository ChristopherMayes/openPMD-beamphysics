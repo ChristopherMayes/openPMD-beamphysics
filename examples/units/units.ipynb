{
 "cells": [
  {
   "cell_type": "markdown",
   "metadata": {},
   "source": [
    "# Units\n",
    "\n",
    "This package provides unit conversion tools "
   ]
  },
  {
   "cell_type": "code",
   "execution_count": 1,
   "metadata": {
    "execution": {
     "iopub.execute_input": "2023-06-28T21:01:05.930067Z",
     "iopub.status.busy": "2023-06-28T21:01:05.929636Z",
     "iopub.status.idle": "2023-06-28T21:01:05.946911Z",
     "shell.execute_reply": "2023-06-28T21:01:05.946271Z"
    },
    "tags": []
   },
   "outputs": [],
   "source": [
    "# Useful for debugging\n",
    "%load_ext autoreload\n",
    "%autoreload 2"
   ]
  },
  {
   "cell_type": "code",
   "execution_count": 2,
   "metadata": {
    "execution": {
     "iopub.execute_input": "2023-06-28T21:01:05.950522Z",
     "iopub.status.busy": "2023-06-28T21:01:05.949939Z",
     "iopub.status.idle": "2023-06-28T21:01:06.702423Z",
     "shell.execute_reply": "2023-06-28T21:01:06.701716Z"
    },
    "tags": []
   },
   "outputs": [],
   "source": [
    "from pmd_beamphysics import particle_paths\n",
    "from pmd_beamphysics.units import pmd_unit, dimension_name, sqrt_unit, known_unit, multiply_units\n",
    "from h5py import File\n",
    "import numpy as np"
   ]
  },
  {
   "cell_type": "markdown",
   "metadata": {},
   "source": [
    "This is the basic class:"
   ]
  },
  {
   "cell_type": "code",
   "execution_count": 3,
   "metadata": {
    "execution": {
     "iopub.execute_input": "2023-06-28T21:01:06.706387Z",
     "iopub.status.busy": "2023-06-28T21:01:06.705906Z",
     "iopub.status.idle": "2023-06-28T21:01:06.758502Z",
     "shell.execute_reply": "2023-06-28T21:01:06.757844Z"
    },
    "tags": []
   },
   "outputs": [],
   "source": [
    "?pmd_unit"
   ]
  },
  {
   "cell_type": "markdown",
   "metadata": {},
   "source": [
    "Get a known units. These can be multiplied and divided:"
   ]
  },
  {
   "cell_type": "code",
   "execution_count": 4,
   "metadata": {
    "execution": {
     "iopub.execute_input": "2023-06-28T21:01:06.761808Z",
     "iopub.status.busy": "2023-06-28T21:01:06.761389Z",
     "iopub.status.idle": "2023-06-28T21:01:06.777960Z",
     "shell.execute_reply": "2023-06-28T21:01:06.777351Z"
    },
    "tags": []
   },
   "outputs": [
    {
     "data": {
      "text/plain": [
       "(pmd_unit('J', 1, (2, 1, -2, 0, 0, 0, 0)),\n",
       " pmd_unit('m', 1, (1, 0, 0, 0, 0, 0, 0)),\n",
       " pmd_unit('J/m', 1.0, (1, 1, -2, 0, 0, 0, 0)),\n",
       " pmd_unit('J*m', 1, (3, 1, -2, 0, 0, 0, 0)))"
      ]
     },
     "execution_count": 4,
     "metadata": {},
     "output_type": "execute_result"
    }
   ],
   "source": [
    "u1 = known_unit['J']\n",
    "u2 = known_unit['m']\n",
    "u1, u2, u1/u2, u1*u2"
   ]
  },
  {
   "cell_type": "markdown",
   "metadata": {},
   "source": [
    "Special function for sqrt:"
   ]
  },
  {
   "cell_type": "code",
   "execution_count": 5,
   "metadata": {
    "execution": {
     "iopub.execute_input": "2023-06-28T21:01:06.817082Z",
     "iopub.status.busy": "2023-06-28T21:01:06.816420Z",
     "iopub.status.idle": "2023-06-28T21:01:06.830841Z",
     "shell.execute_reply": "2023-06-28T21:01:06.830329Z"
    },
    "tags": []
   },
   "outputs": [
    {
     "data": {
      "text/plain": [
       "pmd_unit('\\sqrt{ J }', 1.0, (1.0, 0.5, -1.0, 0.0, 0.0, 0.0, 0.0))"
      ]
     },
     "execution_count": 5,
     "metadata": {},
     "output_type": "execute_result"
    }
   ],
   "source": [
    "sqrt_unit(u1)"
   ]
  },
  {
   "cell_type": "markdown",
   "metadata": {},
   "source": [
    "# openPMD HDF5 units\n",
    "\n",
    "Open a file, find the particle paths from the root attributes"
   ]
  },
  {
   "cell_type": "code",
   "execution_count": 6,
   "metadata": {
    "execution": {
     "iopub.execute_input": "2023-06-28T21:01:06.833582Z",
     "iopub.status.busy": "2023-06-28T21:01:06.833238Z",
     "iopub.status.idle": "2023-06-28T21:01:06.847699Z",
     "shell.execute_reply": "2023-06-28T21:01:06.847135Z"
    },
    "tags": []
   },
   "outputs": [
    {
     "name": "stdout",
     "output_type": "stream",
     "text": [
      "['//']\n"
     ]
    }
   ],
   "source": [
    "# Pick one:\n",
    "#H5FILE = 'data/bmad_particles.h5'\n",
    "H5FILE = 'data/distgen_particles.h5'\n",
    "#H5FILE = 'data/astra_particles.h5'\n",
    "h5 = File(H5FILE, 'r')\n",
    "\n",
    "ppaths = particle_paths(h5)\n",
    "print(ppaths)\n"
   ]
  },
  {
   "cell_type": "markdown",
   "metadata": {},
   "source": [
    "This points to a single particle group:"
   ]
  },
  {
   "cell_type": "code",
   "execution_count": 7,
   "metadata": {
    "execution": {
     "iopub.execute_input": "2023-06-28T21:01:06.850368Z",
     "iopub.status.busy": "2023-06-28T21:01:06.850045Z",
     "iopub.status.idle": "2023-06-28T21:01:06.863831Z",
     "shell.execute_reply": "2023-06-28T21:01:06.863280Z"
    }
   },
   "outputs": [
    {
     "data": {
      "text/plain": [
       "['momentum', 'particleStatus', 'position', 'time', 'weight']"
      ]
     },
     "execution_count": 7,
     "metadata": {},
     "output_type": "execute_result"
    }
   ],
   "source": [
    "ph5 = h5[ppaths[0]]\n",
    "list(ph5)"
   ]
  },
  {
   "cell_type": "markdown",
   "metadata": {},
   "source": [
    "Each component should have a dimension and a conversion factor to SI:"
   ]
  },
  {
   "cell_type": "code",
   "execution_count": 8,
   "metadata": {
    "execution": {
     "iopub.execute_input": "2023-06-28T21:01:06.866678Z",
     "iopub.status.busy": "2023-06-28T21:01:06.866142Z",
     "iopub.status.idle": "2023-06-28T21:01:06.881415Z",
     "shell.execute_reply": "2023-06-28T21:01:06.880775Z"
    },
    "tags": []
   },
   "outputs": [
    {
     "data": {
      "text/plain": [
       "{'unitDimension': array([ 1,  1, -1,  0,  0,  0,  0]),\n",
       " 'unitSI': 5.344285992678308e-28,\n",
       " 'unitSymbol': 'eV/c'}"
      ]
     },
     "execution_count": 8,
     "metadata": {},
     "output_type": "execute_result"
    }
   ],
   "source": [
    "d = dict(ph5['momentum/x'].attrs)\n",
    "d"
   ]
  },
  {
   "cell_type": "code",
   "execution_count": 9,
   "metadata": {
    "execution": {
     "iopub.execute_input": "2023-06-28T21:01:06.884298Z",
     "iopub.status.busy": "2023-06-28T21:01:06.883790Z",
     "iopub.status.idle": "2023-06-28T21:01:06.898889Z",
     "shell.execute_reply": "2023-06-28T21:01:06.898284Z"
    },
    "tags": []
   },
   "outputs": [
    {
     "data": {
      "text/plain": [
       "(1, 1, -1, 0, 0, 0, 0)"
      ]
     },
     "execution_count": 9,
     "metadata": {},
     "output_type": "execute_result"
    }
   ],
   "source": [
    "tuple(d['unitDimension'])"
   ]
  },
  {
   "cell_type": "markdown",
   "metadata": {},
   "source": [
    "This will extract the name of this dimension:"
   ]
  },
  {
   "cell_type": "code",
   "execution_count": 10,
   "metadata": {
    "execution": {
     "iopub.execute_input": "2023-06-28T21:01:06.901609Z",
     "iopub.status.busy": "2023-06-28T21:01:06.901273Z",
     "iopub.status.idle": "2023-06-28T21:01:06.915272Z",
     "shell.execute_reply": "2023-06-28T21:01:06.914631Z"
    },
    "tags": []
   },
   "outputs": [
    {
     "data": {
      "text/plain": [
       "'momentum'"
      ]
     },
     "execution_count": 10,
     "metadata": {},
     "output_type": "execute_result"
    }
   ],
   "source": [
    "dimension_name(d['unitDimension'])"
   ]
  },
  {
   "cell_type": "markdown",
   "metadata": {},
   "source": [
    "# Nice arrays"
   ]
  },
  {
   "cell_type": "code",
   "execution_count": 11,
   "metadata": {
    "execution": {
     "iopub.execute_input": "2023-06-28T21:01:06.918194Z",
     "iopub.status.busy": "2023-06-28T21:01:06.917674Z",
     "iopub.status.idle": "2023-06-28T21:01:06.931985Z",
     "shell.execute_reply": "2023-06-28T21:01:06.931405Z"
    },
    "tags": []
   },
   "outputs": [],
   "source": [
    "from pmd_beamphysics.units import nice_array"
   ]
  },
  {
   "cell_type": "markdown",
   "metadata": {},
   "source": [
    "This will scale the array, and return the appropriate SI prefix:"
   ]
  },
  {
   "cell_type": "code",
   "execution_count": 12,
   "metadata": {
    "execution": {
     "iopub.execute_input": "2023-06-28T21:01:06.935002Z",
     "iopub.status.busy": "2023-06-28T21:01:06.934656Z",
     "iopub.status.idle": "2023-06-28T21:01:06.950056Z",
     "shell.execute_reply": "2023-06-28T21:01:06.949432Z"
    },
    "tags": []
   },
   "outputs": [
    {
     "data": {
      "text/plain": [
       "(100.00000000000001, 1e-06, 'µ')"
      ]
     },
     "execution_count": 12,
     "metadata": {},
     "output_type": "execute_result"
    }
   ],
   "source": [
    "x = 1e-4\n",
    "unit = 'm'\n",
    "nice_array(x)"
   ]
  },
  {
   "cell_type": "code",
   "execution_count": 13,
   "metadata": {
    "execution": {
     "iopub.execute_input": "2023-06-28T21:01:06.953050Z",
     "iopub.status.busy": "2023-06-28T21:01:06.952475Z",
     "iopub.status.idle": "2023-06-28T21:01:06.967106Z",
     "shell.execute_reply": "2023-06-28T21:01:06.966467Z"
    },
    "tags": []
   },
   "outputs": [
    {
     "data": {
      "text/plain": [
       "(array([-10.,  10.]), 0.001, 'm')"
      ]
     },
     "execution_count": 13,
     "metadata": {},
     "output_type": "execute_result"
    }
   ],
   "source": [
    "nice_array([-0.01, 0.01])"
   ]
  },
  {
   "cell_type": "code",
   "execution_count": 14,
   "metadata": {
    "execution": {
     "iopub.execute_input": "2023-06-28T21:01:06.969953Z",
     "iopub.status.busy": "2023-06-28T21:01:06.969399Z",
     "iopub.status.idle": "2023-06-28T21:01:06.982192Z",
     "shell.execute_reply": "2023-06-28T21:01:06.981626Z"
    },
    "tags": []
   },
   "outputs": [],
   "source": [
    "from pmd_beamphysics.units import nice_scale_prefix"
   ]
  },
  {
   "cell_type": "code",
   "execution_count": 15,
   "metadata": {
    "execution": {
     "iopub.execute_input": "2023-06-28T21:01:06.984828Z",
     "iopub.status.busy": "2023-06-28T21:01:06.984501Z",
     "iopub.status.idle": "2023-06-28T21:01:06.998682Z",
     "shell.execute_reply": "2023-06-28T21:01:06.998071Z"
    },
    "tags": []
   },
   "outputs": [
    {
     "data": {
      "text/plain": [
       "(0.001, 'm')"
      ]
     },
     "execution_count": 15,
     "metadata": {},
     "output_type": "execute_result"
    }
   ],
   "source": [
    "nice_scale_prefix(0.009)"
   ]
  },
  {
   "cell_type": "markdown",
   "metadata": {},
   "source": [
    "# Limitations\n",
    "\n",
    "This is a simple class for use with this package. So even simple things like the example below will fail. \n",
    "\n",
    "For more advanced units, use a package like Pint: https://pint.readthedocs.io/\n"
   ]
  },
  {
   "cell_type": "code",
   "execution_count": 16,
   "metadata": {
    "execution": {
     "iopub.execute_input": "2023-06-28T21:01:07.001483Z",
     "iopub.status.busy": "2023-06-28T21:01:07.001138Z",
     "iopub.status.idle": "2023-06-28T21:01:07.014558Z",
     "shell.execute_reply": "2023-06-28T21:01:07.013920Z"
    },
    "tags": []
   },
   "outputs": [
    {
     "name": "stdout",
     "output_type": "stream",
     "text": [
      "you cannot do this\n"
     ]
    }
   ],
   "source": [
    "try:\n",
    "    u1/1\n",
    "except:\n",
    "    print('you cannot do this')\n",
    "    \n"
   ]
  }
 ],
 "metadata": {
  "kernelspec": {
   "display_name": "Python 3 (ipykernel)",
   "language": "python",
   "name": "python3"
  },
  "language_info": {
   "codemirror_mode": {
    "name": "ipython",
    "version": 3
   },
   "file_extension": ".py",
   "mimetype": "text/x-python",
   "name": "python",
   "nbconvert_exporter": "python",
   "pygments_lexer": "ipython3",
   "version": "3.9.16"
  }
 },
 "nbformat": 4,
 "nbformat_minor": 4
}
