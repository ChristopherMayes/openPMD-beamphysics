{
 "cells": [
  {
   "cell_type": "markdown",
   "metadata": {},
   "source": [
    "# Write examples"
   ]
  },
  {
   "cell_type": "code",
   "execution_count": 1,
   "metadata": {
    "tags": []
   },
   "outputs": [],
   "source": [
    "# Useful for debugging\n",
    "%load_ext autoreload\n",
    "%autoreload 2"
   ]
  },
  {
   "cell_type": "code",
   "execution_count": 2,
   "metadata": {
    "tags": []
   },
   "outputs": [],
   "source": [
    "from pmd_beamphysics import ParticleGroup, particle_paths, pmd_init\n",
    "from h5py import File\n",
    "import os"
   ]
  },
  {
   "cell_type": "code",
   "execution_count": 3,
   "metadata": {
    "tags": []
   },
   "outputs": [],
   "source": [
    "# Pick one:\n",
    "\n",
    "#H5File = 'data/bmad_particles2.h5'\n",
    "H5FILE = 'data/distgen_particles.h5'\n",
    "#H5FILE = 'data/astra_particles.h5'\n",
    "\n",
    "P = ParticleGroup(H5FILE)"
   ]
  },
  {
   "cell_type": "code",
   "execution_count": 4,
   "metadata": {},
   "outputs": [],
   "source": [
    "from pmd_beamphysics.interfaces.bmad import particlegroup_to_bmad, bmad_to_particlegroup_data"
   ]
  },
  {
   "cell_type": "code",
   "execution_count": 5,
   "metadata": {},
   "outputs": [
    {
     "data": {
      "text/plain": [
       "\u001b[0;31mSignature:\u001b[0m \u001b[0mParticleGroup\u001b[0m\u001b[0;34m.\u001b[0m\u001b[0mas_bmad\u001b[0m\u001b[0;34m(\u001b[0m\u001b[0mpg\u001b[0m\u001b[0;34m,\u001b[0m \u001b[0mp0c\u001b[0m\u001b[0;34m=\u001b[0m\u001b[0;32mNone\u001b[0m\u001b[0;34m,\u001b[0m \u001b[0mtref\u001b[0m\u001b[0;34m=\u001b[0m\u001b[0;32mNone\u001b[0m\u001b[0;34m)\u001b[0m\u001b[0;34m\u001b[0m\u001b[0;34m\u001b[0m\u001b[0m\n",
       "\u001b[0;31mDocstring:\u001b[0m\n",
       "Convert a ParticleGroup to Bmad phase space coordinates.\n",
       "\n",
       "Bmad      openPMD-beamphysics\n",
       "----      -------------------\n",
       "Bmad x  = x\n",
       "Bmad px = px/p0c\n",
       "Bmad y  = y\n",
       "Bmad py = py/p0c   \n",
       "Bmad z = -beta * c * (t - tref)\n",
       "Bmad pz = p/p0c - 1\n",
       "Bmad t  = t\n",
       "\n",
       "Parameters\n",
       "----------\n",
       "pg: ParticleGroup\n",
       "\n",
       "p0c: float, optional\n",
       "    Reference momentum * c in eV.\n",
       "    Default: None => use pg['mean_p']\n",
       "    \n",
       "tref: float, optional\n",
       "    Reference time in s\n",
       "    Default: None => use pg['mean_t']\n",
       "\n",
       "Returns\n",
       "-------\n",
       "bmad_data: dict\n",
       "    Dict with keys:\n",
       "    'x'\n",
       "    'px'\n",
       "    'y'\n",
       "    'py'\n",
       "    'z'\n",
       "    'pz', \n",
       "    'charge'\n",
       "    'spcecies',\n",
       "    'tref'\n",
       "    'state'\n",
       "\u001b[0;31mFile:\u001b[0m      ~/Code/GitHub/openPMD-beamphysics/pmd_beamphysics/interfaces/bmad.py\n",
       "\u001b[0;31mType:\u001b[0m      function\n"
      ]
     },
     "metadata": {},
     "output_type": "display_data"
    }
   ],
   "source": [
    "?ParticleGroup.as_bmad"
   ]
  },
  {
   "cell_type": "code",
   "execution_count": 6,
   "metadata": {},
   "outputs": [
    {
     "data": {
      "text/plain": [
       "{'x': array([-0.00118486, -0.00051813, -0.0017735 , ..., -0.00052658,\n",
       "         0.00252813,  0.00113815]),\n",
       " 'y': array([-0.00210137, -0.00217835,  0.00286498, ..., -0.00161154,\n",
       "         0.00160049, -0.0010351 ]),\n",
       " 'px': array([-0.69011879,  1.25144906, -0.50416317, ...,  0.60249121,\n",
       "         0.505233  ,  0.74928061]),\n",
       " 'py': array([-0.68837433,  0.54735875,  0.02140365, ..., -0.07882388,\n",
       "         0.29433475, -0.25918357]),\n",
       " 'z': array([ 2.55529374e-07, -4.68009162e-07, -5.64739756e-08, ...,\n",
       "        -9.69805227e-09,  4.20165276e-07,  2.70278113e-07]),\n",
       " 'pz': array([ 0.01222356,  0.41059669, -0.4315584 , ..., -0.3093279 ,\n",
       "         0.02463904,  0.08781142]),\n",
       " 'charge': array([1.e-15, 1.e-15, 1.e-15, ..., 1.e-15, 1.e-15, 1.e-15]),\n",
       " 'species': 'electron',\n",
       " 'p0c': 441.52466167250947,\n",
       " 'tref': 1.8196640012738955e-14,\n",
       " 'state': array([1, 1, 1, ..., 1, 1, 1])}"
      ]
     },
     "execution_count": 6,
     "metadata": {},
     "output_type": "execute_result"
    }
   ],
   "source": [
    "bd = particlegroup_to_bmad(P)\n",
    "bd"
   ]
  },
  {
   "cell_type": "code",
   "execution_count": 7,
   "metadata": {},
   "outputs": [
    {
     "data": {
      "text/plain": [
       "True"
      ]
     },
     "execution_count": 7,
     "metadata": {},
     "output_type": "execute_result"
    }
   ],
   "source": [
    "P3 = ParticleGroup.from_bmad(P.as_bmad())\n",
    "P3 == P"
   ]
  },
  {
   "cell_type": "code",
   "execution_count": 8,
   "metadata": {},
   "outputs": [
    {
     "data": {
      "text/plain": [
       "True"
      ]
     },
     "execution_count": 8,
     "metadata": {},
     "output_type": "execute_result"
    }
   ],
   "source": [
    "P2 = ParticleGroup(data=bmad_to_particlegroup_data(bd))\n",
    "\n",
    "P == P2"
   ]
  },
  {
   "cell_type": "markdown",
   "metadata": {},
   "source": [
    "# openPMD"
   ]
  },
  {
   "cell_type": "markdown",
   "metadata": {},
   "source": [
    "The regular write routine writes in a proper openPMD format"
   ]
  },
  {
   "cell_type": "code",
   "execution_count": 9,
   "metadata": {
    "tags": []
   },
   "outputs": [],
   "source": [
    "P.write('openpmd_particles.h5')"
   ]
  },
  {
   "cell_type": "markdown",
   "metadata": {},
   "source": [
    "An open h5 hande can also be used, but it needs to be properly initialized"
   ]
  },
  {
   "cell_type": "code",
   "execution_count": 10,
   "metadata": {
    "tags": []
   },
   "outputs": [],
   "source": [
    "with File('openpmd_particles.h5', 'w') as h5:\n",
    "    pmd_init(h5, basePath='/', particlesPath='/' )\n",
    "    P.write(h5)"
   ]
  },
  {
   "cell_type": "markdown",
   "metadata": {},
   "source": [
    "This can be read in by another ParticleGroup"
   ]
  },
  {
   "cell_type": "code",
   "execution_count": 11,
   "metadata": {
    "tags": []
   },
   "outputs": [],
   "source": [
    "P2 = ParticleGroup('openpmd_particles.h5')"
   ]
  },
  {
   "cell_type": "markdown",
   "metadata": {},
   "source": [
    "Check that they are the same:"
   ]
  },
  {
   "cell_type": "code",
   "execution_count": 12,
   "metadata": {
    "tags": []
   },
   "outputs": [
    {
     "data": {
      "text/plain": [
       "True"
      ]
     },
     "execution_count": 12,
     "metadata": {},
     "output_type": "execute_result"
    }
   ],
   "source": [
    "P2 == P"
   ]
  },
  {
   "cell_type": "markdown",
   "metadata": {},
   "source": [
    "# Astra"
   ]
  },
  {
   "cell_type": "code",
   "execution_count": 13,
   "metadata": {},
   "outputs": [],
   "source": [
    "P.write_astra('astra_particles.txt')"
   ]
  },
  {
   "cell_type": "code",
   "execution_count": 14,
   "metadata": {},
   "outputs": [
    {
     "name": "stdout",
     "output_type": "stream",
     "text": [
      " -1.289814080985e-05   1.712192978919e-05   0.000000000000e+00  -9.245284702413e-01  -3.316650265292e+00   2.210558337183e+02   1.819664001274e-05   0.000000000000e+00    1    5\n",
      " -1.184861337727e-03  -2.101371437059e-03   0.000000000000e+00  -3.047044656318e+02  -3.039342419008e+02  -1.005645891013e+02  -9.745607002167e-04   1.000000000000e-06    1    5\n",
      " -5.181307340245e-04  -2.178353405029e-03   0.000000000000e+00   5.525456229648e+02   2.416723877028e+02  -6.554342847563e+01   1.280843753434e-03   1.000000000000e-06    1    5\n",
      " -1.773501610902e-03   2.864979597813e-03   0.000000000000e+00  -2.226004747820e+02   9.450238076106e+00  -1.055085411491e+02   3.835366744569e-04   1.000000000000e-06    1    5\n",
      "  1.686555815999e-03  -2.401048305081e-04   0.000000000000e+00  -1.891692499417e+02   4.859547751754e+01   3.339263495319e+02   1.902998338336e-03   1.000000000000e-06    1    5\n",
      " -7.779454935491e-04  -6.800063114796e-04   0.000000000000e+00   6.716138938638e+01  -2.064173000222e+02  -1.405963302134e+02   1.779005092730e-04   1.000000000000e-06    1    5\n",
      " -2.593702199590e-03  -2.301030494125e-03   0.000000000000e+00  -1.455653402031e+01   2.074634953296e+02  -1.397453142110e+02   1.368567098305e-03   1.000000000000e-06    1    5\n",
      "  1.997801509161e-03   2.648416193086e-03   0.000000000000e+00  -2.124047726665e+00  -6.792723569247e+01   6.931081537770e+01   2.616497721112e-04   1.000000000000e-06    1    5\n",
      "  1.999741847023e-03  -6.945690451493e-04   0.000000000000e+00  -9.991142908925e+01  -9.189412445573e+01   2.259539675809e+02  -8.681109991004e-04   1.000000000000e-06    1    5\n",
      " -7.033822974359e-04  -5.677746866954e-04   0.000000000000e+00   7.520962264129e+02   3.125940718167e+02  -1.451032665210e+02   4.315191990002e-04   1.000000000000e-06    1    5\n"
     ]
    }
   ],
   "source": [
    "!head astra_particles.txt"
   ]
  },
  {
   "cell_type": "markdown",
   "metadata": {},
   "source": [
    "Check the readback:"
   ]
  },
  {
   "cell_type": "code",
   "execution_count": 15,
   "metadata": {},
   "outputs": [],
   "source": [
    "from pmd_beamphysics.interfaces.astra import parse_astra_phase_file\n",
    "import numpy as np\n",
    "P1 = ParticleGroup(data=parse_astra_phase_file('astra_particles.txt'))\n",
    "for k in ['x', 'px', 'y', 'py', 'z', 'pz']:\n",
    "    assert np.allclose(P[k], P1[k])"
   ]
  },
  {
   "cell_type": "markdown",
   "metadata": {},
   "source": [
    "# Bmad ASCII"
   ]
  },
  {
   "cell_type": "code",
   "execution_count": 16,
   "metadata": {},
   "outputs": [],
   "source": [
    "P.write_bmad('bmad_particles.txt')"
   ]
  },
  {
   "cell_type": "code",
   "execution_count": 17,
   "metadata": {},
   "outputs": [
    {
     "name": "stdout",
     "output_type": "stream",
     "text": [
      "!ASCII::3\n",
      "0 ! ix_ele, not used\n",
      "1 ! n_bunch\n",
      "10000 ! n_particle\n",
      "BEGIN_BUNCH\n",
      "electron \n",
      "1.0000000000000003e-11  ! bunch_charge\n",
      "0 ! z_center\n",
      "0 ! t_center\n",
      " -1.184861337727e-03  -3.047044656318e+02  -2.101371437059e-03  -3.039342419008e+02  -9.563640602039e-13   1.204912446170e+02   1.000000000000e-15  1\n"
     ]
    }
   ],
   "source": [
    "!head bmad_particles.txt"
   ]
  },
  {
   "cell_type": "markdown",
   "metadata": {},
   "source": [
    "# Bmad dict"
   ]
  },
  {
   "cell_type": "code",
   "execution_count": 18,
   "metadata": {},
   "outputs": [
    {
     "data": {
      "text/plain": [
       "{'x': array([-0.00118486, -0.00051813, -0.0017735 , ..., -0.00052658,\n",
       "         0.00252813,  0.00113815]),\n",
       " 'y': array([-0.00210137, -0.00217835,  0.00286498, ..., -0.00161154,\n",
       "         0.00160049, -0.0010351 ]),\n",
       " 'px': array([-0.69011879,  1.25144906, -0.50416317, ...,  0.60249121,\n",
       "         0.505233  ,  0.74928061]),\n",
       " 'py': array([-0.68837433,  0.54735875,  0.02140365, ..., -0.07882388,\n",
       "         0.29433475, -0.25918357]),\n",
       " 'z': array([ 2.55529374e-07, -4.68009162e-07, -5.64739756e-08, ...,\n",
       "        -9.69805227e-09,  4.20165276e-07,  2.70278113e-07]),\n",
       " 'pz': array([ 0.01222356,  0.41059669, -0.4315584 , ..., -0.3093279 ,\n",
       "         0.02463904,  0.08781142]),\n",
       " 'charge': array([1.e-15, 1.e-15, 1.e-15, ..., 1.e-15, 1.e-15, 1.e-15]),\n",
       " 'species': 'electron',\n",
       " 'p0c': 441.52466167250947,\n",
       " 'tref': 1.8196640012738955e-14,\n",
       " 'state': array([1, 1, 1, ..., 1, 1, 1])}"
      ]
     },
     "execution_count": 18,
     "metadata": {},
     "output_type": "execute_result"
    }
   ],
   "source": [
    "P.as_bmad()"
   ]
  },
  {
   "cell_type": "markdown",
   "metadata": {},
   "source": [
    "Check that the conversion preserves information. Note that `==` uses `np.allclose`, because there is roundoff error in the conversion."
   ]
  },
  {
   "cell_type": "code",
   "execution_count": 19,
   "metadata": {},
   "outputs": [
    {
     "data": {
      "text/plain": [
       "True"
      ]
     },
     "execution_count": 19,
     "metadata": {},
     "output_type": "execute_result"
    }
   ],
   "source": [
    "P == P.from_bmad(P.as_bmad()) "
   ]
  },
  {
   "cell_type": "markdown",
   "metadata": {},
   "source": [
    "# elegant"
   ]
  },
  {
   "cell_type": "code",
   "execution_count": 20,
   "metadata": {},
   "outputs": [
    {
     "name": "stdout",
     "output_type": "stream",
     "text": [
      "writing 10000 particles to elegant_particles.txt\n"
     ]
    }
   ],
   "source": [
    "P.write_elegant('elegant_particles.txt', verbose=True)"
   ]
  },
  {
   "cell_type": "code",
   "execution_count": 21,
   "metadata": {},
   "outputs": [
    {
     "name": "stdout",
     "output_type": "stream",
     "text": [
      "SDDS1\n",
      "! \n",
      "! Created using the openPMD-beamphysics Python package\n",
      "! https://github.com/ChristopherMayes/openPMD-beamphysics\n",
      "! species: electron\n",
      "!\n",
      "&parameter name=Charge, type=double, units=C, description=\"total charge in Coulombs\" &end\n",
      "&column name=t,  type=double, units=s, description=\"time in seconds\" &end\n",
      "&column name=x,  type=double, units=m, description=\"x in meters\" &end\n",
      "&column name=xp, type=double, description=\"px/pz\" &end\n",
      "&column name=y,  type=double, units=m, description=\"y in meters\" &end\n",
      "&column name=yp, type=double, description=\"py/pz\" &end\n",
      "&column name=p,  type=double, units=\"m$be$nc\", description=\"relativistic gamma*beta\" &end\n",
      "&data mode=ascii &end\n",
      "1.0000000000000003e-11\n",
      "10000\n",
      " -9.563640602039e-13  -1.184861337727e-03  -2.528851507845e+00  -2.101371437059e-03  -2.522459145201e+00   8.746038816275e-04\n",
      "  1.299040393447e-12  -5.181307340245e-04   3.553064606663e+00  -2.178353405029e-03   1.554039289185e+00   1.218815083118e-03\n",
      "  4.017333144697e-13  -1.773501610902e-03  -1.926488019169e+00   2.864979597813e-03   8.178675472159e-02   4.911575370556e-04\n",
      "  1.921194978349e-12   1.686555815999e-03  -3.408564376497e-01  -2.401048305081e-04   8.756222989528e-02   1.151365621035e-03\n"
     ]
    }
   ],
   "source": [
    "!head -n 20 elegant_particles.txt"
   ]
  },
  {
   "cell_type": "markdown",
   "metadata": {},
   "source": [
    "# Genesis 1.3 v2 "
   ]
  },
  {
   "cell_type": "code",
   "execution_count": 22,
   "metadata": {},
   "outputs": [
    {
     "name": "stdout",
     "output_type": "stream",
     "text": [
      "Beam written: genesis2.beam\n"
     ]
    }
   ],
   "source": [
    "P.write_genesis2_beam_file('genesis2.beam', n_slice=50, verbose=True)"
   ]
  },
  {
   "cell_type": "code",
   "execution_count": 23,
   "metadata": {},
   "outputs": [
    {
     "name": "stdout",
     "output_type": "stream",
     "text": [
      "? VERSION=1.0\n",
      "? SIZE=50\n",
      "? COLUMNS TPOS CURPEAK GAMMA0 DELGAM EMITX EMITY RXBEAM RYBEAM XBEAM YBEAM PXBEAM PYBEAM ALPHAX ALPHAY\n",
      "-1.96236040e-12 2.75359318e+00 1.00000042e+00 3.87022121e-07 1.19639887e-06 9.26536586e-07 2.04948080e-03 1.83621527e-03 -2.06231144e-04 5.85738124e-05 1.38209180e-05 4.17553934e-05 -1.01973407e-02 7.54079832e-04\n",
      "-1.88646733e-12 2.46723994e+00 1.00000043e+00 3.39783124e-07 1.04698472e-06 1.03470799e-06 2.05064183e-03 1.92139881e-03 -2.53107201e-05 -1.13678787e-04 -2.85190907e-05 -2.90105675e-05 -2.32400675e-02 -2.55583997e-03\n",
      "-1.80734757e-12 2.61898031e+00 1.00000043e+00 3.65257967e-07 9.78086023e-07 1.03038032e-06 1.97065976e-03 1.88550433e-03 -7.56576638e-05 1.77044304e-04 -4.48907172e-05 6.98821769e-05 5.38708456e-03 4.70844009e-03\n",
      "-1.72583745e-12 2.30361285e+00 1.00000043e+00 3.43343193e-07 9.42099457e-07 1.07137205e-06 1.90156644e-03 1.92054974e-03 4.82559113e-05 -6.43105052e-05 1.66595205e-05 1.33986604e-05 9.16890850e-02 8.20635086e-03\n",
      "-1.64047654e-12 2.48779835e+00 1.00000043e+00 3.76740497e-07 1.12901501e-06 1.01496464e-06 2.07085748e-03 1.84284581e-03 -2.63780641e-04 2.16425678e-05 9.07228824e-06 -2.65046022e-05 1.91567484e-03 3.63234933e-03\n",
      "-1.55820367e-12 2.33273410e+00 1.00000041e+00 3.38657590e-07 9.79796547e-07 1.04648255e-06 1.84685458e-03 1.99189484e-03 3.36520774e-05 1.02123362e-04 3.01402301e-06 6.13937003e-05 -7.84493116e-02 2.84788841e-02\n",
      "-1.47800120e-12 2.62363489e+00 1.00000044e+00 3.34570582e-07 1.12580877e-06 1.08628803e-06 1.97095399e-03 2.02149469e-03 -1.94415715e-04 -1.05666747e-04 -1.70675102e-05 -5.61809635e-06 -1.81522208e-01 -5.08353286e-03\n"
     ]
    }
   ],
   "source": [
    "!head genesis2.beam"
   ]
  },
  {
   "cell_type": "markdown",
   "metadata": {},
   "source": [
    "# Genesis 1.3 v4"
   ]
  },
  {
   "cell_type": "markdown",
   "metadata": {},
   "source": [
    "## beam file (slice statistics)"
   ]
  },
  {
   "cell_type": "code",
   "execution_count": 24,
   "metadata": {
    "tags": []
   },
   "outputs": [
    {
     "name": "stdout",
     "output_type": "stream",
     "text": [
      "Genesis4 beam file written: genesis4_beam.h5\n"
     ]
    }
   ],
   "source": [
    "input_str = P.write_genesis4_beam('genesis4_beam.h5', n_slice=123, verbose=True, return_input_str=True)"
   ]
  },
  {
   "cell_type": "markdown",
   "metadata": {
    "tags": []
   },
   "source": [
    "This string is optionally returned for use in the main Genesis4 input file:"
   ]
  },
  {
   "cell_type": "code",
   "execution_count": 25,
   "metadata": {
    "tags": []
   },
   "outputs": [
    {
     "name": "stdout",
     "output_type": "stream",
     "text": [
      "&profile_file\n",
      "  label = current\n",
      "  xdata = genesis4_beam.h5/t\n",
      "  ydata = genesis4_beam.h5/current\n",
      "  isTime = T\n",
      "  reverse = T\n",
      "&end\n",
      "&profile_file\n",
      "  label = gamma\n",
      "  xdata = genesis4_beam.h5/t\n",
      "  ydata = genesis4_beam.h5/gamma\n",
      "  isTime = T\n",
      "  reverse = T\n",
      "&end\n",
      "&profile_file\n",
      "  label = delgam\n",
      "  xdata = genesis4_beam.h5/t\n",
      "  ydata = genesis4_beam.h5/delgam\n",
      "  isTime = T\n",
      "  reverse = T\n",
      "&end\n",
      "&profile_file\n",
      "  label = ex\n",
      "  xdata = genesis4_beam.h5/t\n",
      "  ydata = genesis4_beam.h5/ex\n",
      "  isTime = T\n",
      "  reverse = T\n",
      "&end\n",
      "&profile_file\n",
      "  label = ey\n",
      "  xdata = genesis4_beam.h5/t\n",
      "  ydata = genesis4_beam.h5/ey\n",
      "  isTime = T\n",
      "  reverse = T\n",
      "&end\n",
      "&profile_file\n",
      "  label = xcenter\n",
      "  xdata = genesis4_beam.h5/t\n",
      "  ydata = genesis4_beam.h5/xcenter\n",
      "  isTime = T\n",
      "  reverse = T\n",
      "&end\n",
      "&profile_file\n",
      "  label = ycenter\n",
      "  xdata = genesis4_beam.h5/t\n",
      "  ydata = genesis4_beam.h5/ycenter\n",
      "  isTime = T\n",
      "  reverse = T\n",
      "&end\n",
      "&profile_file\n",
      "  label = pxcenter\n",
      "  xdata = genesis4_beam.h5/t\n",
      "  ydata = genesis4_beam.h5/pxcenter\n",
      "  isTime = T\n",
      "  reverse = T\n",
      "&end\n",
      "&profile_file\n",
      "  label = pycenter\n",
      "  xdata = genesis4_beam.h5/t\n",
      "  ydata = genesis4_beam.h5/pycenter\n",
      "  isTime = T\n",
      "  reverse = T\n",
      "&end\n",
      "&profile_file\n",
      "  label = alphax\n",
      "  xdata = genesis4_beam.h5/t\n",
      "  ydata = genesis4_beam.h5/alphax\n",
      "  isTime = T\n",
      "  reverse = T\n",
      "&end\n",
      "&profile_file\n",
      "  label = alphay\n",
      "  xdata = genesis4_beam.h5/t\n",
      "  ydata = genesis4_beam.h5/alphay\n",
      "  isTime = T\n",
      "  reverse = T\n",
      "&end\n",
      "&profile_file\n",
      "  label = betax\n",
      "  xdata = genesis4_beam.h5/t\n",
      "  ydata = genesis4_beam.h5/betax\n",
      "  isTime = T\n",
      "  reverse = T\n",
      "&end\n",
      "&profile_file\n",
      "  label = betay\n",
      "  xdata = genesis4_beam.h5/t\n",
      "  ydata = genesis4_beam.h5/betay\n",
      "  isTime = T\n",
      "  reverse = T\n",
      "&end\n",
      "&beam\n",
      "  current = @current\n",
      "  gamma = @gamma\n",
      "  delgam = @delgam\n",
      "  ex = @ex\n",
      "  ey = @ey\n",
      "  xcenter = @xcenter\n",
      "  ycenter = @ycenter\n",
      "  pxcenter = @pxcenter\n",
      "  pycenter = @pycenter\n",
      "  alphax = @alphax\n",
      "  alphay = @alphay\n",
      "  betax = @betax\n",
      "  betay = @betay\n",
      "&end\n"
     ]
    }
   ],
   "source": [
    "print(input_str)"
   ]
  },
  {
   "cell_type": "markdown",
   "metadata": {
    "tags": []
   },
   "source": [
    "These are the datasets written:"
   ]
  },
  {
   "cell_type": "code",
   "execution_count": 26,
   "metadata": {
    "tags": []
   },
   "outputs": [
    {
     "name": "stdout",
     "output_type": "stream",
     "text": [
      "alphax 123 \n",
      "alphay 123 \n",
      "betax 123 m\n",
      "betay 123 m\n",
      "current 123 A\n",
      "delgam 123 \n",
      "ex 123 m\n",
      "ey 123 m\n",
      "gamma 123 \n",
      "pxcenter 123 \n",
      "pycenter 123 \n",
      "t 123 s\n",
      "xcenter 123 m\n",
      "ycenter 123 m\n"
     ]
    }
   ],
   "source": [
    "with File('genesis4_beam.h5', 'r') as h5:\n",
    "    for g in h5:\n",
    "        print(g, len(h5[g]), h5[g].attrs['unitSymbol'])"
   ]
  },
  {
   "cell_type": "markdown",
   "metadata": {
    "tags": []
   },
   "source": [
    "## Distribution file (particles)"
   ]
  },
  {
   "cell_type": "code",
   "execution_count": 27,
   "metadata": {
    "tags": []
   },
   "outputs": [
    {
     "name": "stdout",
     "output_type": "stream",
     "text": [
      "Datasets x, xp, y, yp, t, p written to: genesis4_distribution.h5\n"
     ]
    }
   ],
   "source": [
    "P.write_genesis4_distribution('genesis4_distribution.h5', verbose=True)"
   ]
  },
  {
   "cell_type": "markdown",
   "metadata": {},
   "source": [
    "This is what is written:"
   ]
  },
  {
   "cell_type": "code",
   "execution_count": 28,
   "metadata": {
    "tags": []
   },
   "outputs": [
    {
     "name": "stdout",
     "output_type": "stream",
     "text": [
      "p 10000\n",
      "t 10000\n",
      "x 10000\n",
      "xp 10000\n",
      "y 10000\n",
      "yp 10000\n"
     ]
    }
   ],
   "source": [
    "with File('genesis4_distribution.h5', 'r') as h5:\n",
    "    for g in h5:\n",
    "        print(g, len(h5[g]))"
   ]
  },
  {
   "cell_type": "markdown",
   "metadata": {},
   "source": [
    "# GPT ASCII"
   ]
  },
  {
   "cell_type": "code",
   "execution_count": 29,
   "metadata": {},
   "outputs": [
    {
     "name": "stdout",
     "output_type": "stream",
     "text": [
      "writing 10000 particles to gpt_particles.txt\n",
      "ASCII particles written. Convert to GDF using: asci2df -o particles.gdf gpt_particles.txt\n"
     ]
    }
   ],
   "source": [
    "P.write_gpt('gpt_particles.txt', verbose=True)"
   ]
  },
  {
   "cell_type": "code",
   "execution_count": 30,
   "metadata": {},
   "outputs": [
    {
     "name": "stdout",
     "output_type": "stream",
     "text": [
      "writing 10000 particles to gpt_particles.gdf\n"
     ]
    }
   ],
   "source": [
    "if os.path.exists(os.path.expandvars('$ASCI2GDF_BIN')):\n",
    "    P.write_gpt('gpt_particles.gdf', verbose=True, asci2gdf_bin='$ASCI2GDF_BIN')"
   ]
  },
  {
   "cell_type": "code",
   "execution_count": 31,
   "metadata": {},
   "outputs": [],
   "source": [
    "#!head gpt_particles.txt"
   ]
  },
  {
   "cell_type": "markdown",
   "metadata": {},
   "source": [
    "# Impact-T\n",
    "\n",
    "Impact-T particles must all be a the same time:"
   ]
  },
  {
   "cell_type": "code",
   "execution_count": 32,
   "metadata": {
    "tags": []
   },
   "outputs": [],
   "source": [
    "P.drift_to_t(P['mean_t'])"
   ]
  },
  {
   "cell_type": "markdown",
   "metadata": {},
   "source": [
    "This will return settings for Impact-T to use:"
   ]
  },
  {
   "cell_type": "code",
   "execution_count": 33,
   "metadata": {
    "tags": []
   },
   "outputs": [
    {
     "data": {
      "text/plain": [
       "{'input_particle_file': 'impact_particles.txt',\n",
       " 'Np': 10000,\n",
       " 'Tini': 1.8196640012738955e-14,\n",
       " 'Flagimg': 0}"
      ]
     },
     "execution_count": 33,
     "metadata": {},
     "output_type": "execute_result"
    }
   ],
   "source": [
    "P.write_impact('impact_particles.txt')"
   ]
  },
  {
   "cell_type": "code",
   "execution_count": 34,
   "metadata": {
    "tags": []
   },
   "outputs": [
    {
     "name": "stdout",
     "output_type": "stream",
     "text": [
      "10000\n",
      "-1.185035553808772143e-03 -5.962917646539026830e-04 -2.101545212762252063e-03 -5.947844744118675406e-04 6.889138464881934423e-08 2.357954837617718942e-04\n",
      "-5.185459410277813361e-04 1.081304810831444467e-03 -2.178535008255722601e-03 4.729410651485857963e-04 -1.168588385748075652e-07 3.043301854978374224e-04\n",
      "-1.773451522909312962e-03 -4.356182625855454594e-04 2.864977471386669170e-03 1.849365458795189412e-05 -2.599963881922582336e-08 2.261204109504710640e-04\n",
      "1.686767013783966630e-03 -3.701949875665073173e-04 -2.401590848712557098e-04 9.509897724357652376e-05 -6.196091998406064887e-07 1.086073040365844247e-03\n",
      "-7.779525032181127363e-04 1.314315604491483489e-04 -6.799847675988795461e-04 -4.039485795854574836e-04 -8.397600117458311948e-09 1.574553206124528761e-04\n",
      "-2.593690512006350136e-03 -2.848642647956871966e-05 -2.301197068594195913e-03 4.059959327304890142e-04 -6.528501143099030074e-08 1.591207173856017771e-04\n",
      "1.997801835211931738e-03 -4.156657712632428962e-06 2.648426620219643604e-03 -1.329302842842789139e-04 -4.457257401140207729e-08 5.682333576145901953e-04\n",
      "1.999690961886589624e-03 -1.955217894072916647e-04 -6.946158470527933476e-04 -1.798323156157682705e-04 2.276631907326255499e-07 8.747763597149907193e-04\n",
      "-7.035727003852429310e-04 1.471815600429043306e-03 -5.678538239535645561e-04 6.117313388152665482e-04 -1.922838101944327160e-08 1.486354662711140203e-04\n"
     ]
    }
   ],
   "source": [
    "!head impact_particles.txt"
   ]
  },
  {
   "cell_type": "markdown",
   "metadata": {},
   "source": [
    "# LiTrack\n",
    "\n",
    "LiTrack particles must be at the same z:"
   ]
  },
  {
   "cell_type": "code",
   "execution_count": 35,
   "metadata": {
    "tags": []
   },
   "outputs": [],
   "source": [
    "P.drift_to_z()"
   ]
  },
  {
   "cell_type": "code",
   "execution_count": 36,
   "metadata": {
    "tags": []
   },
   "outputs": [
    {
     "name": "stdout",
     "output_type": "stream",
     "text": [
      "Using mean_p as the reference momentum: 441.52466167250947 eV/c\n",
      "writing 10000 LiTrack particles to litrack.zd\n"
     ]
    },
    {
     "data": {
      "text/plain": [
       "'litrack.zd'"
      ]
     },
     "execution_count": 36,
     "metadata": {},
     "output_type": "execute_result"
    }
   ],
   "source": [
    "P.write_litrack('litrack.zd', verbose=True)"
   ]
  },
  {
   "cell_type": "code",
   "execution_count": 37,
   "metadata": {
    "tags": []
   },
   "outputs": [
    {
     "name": "stdout",
     "output_type": "stream",
     "text": [
      "% LiTrack particles\n",
      "% \n",
      "% Created using the openPMD-beamphysics Python package\n",
      "% https://github.com/ChristopherMayes/openPMD-beamphysics\n",
      "%\n",
      "% species: electron\n",
      "% n_particle: 10000\n",
      "% total charge: 1.0000000000000003e-11 (C)\n",
      "% reference momentum p0: 441.52466167250947 (eV/c)\n",
      "%\n",
      "% Columns: ct, delta = p/p0 -1\n",
      "% Units: mm, percent\n",
      " -2.910140500388e-01   1.222356070583e+00\n",
      "  3.861082943987e-01   4.105966931910e+01\n",
      "  1.159491741202e-01  -4.315583986424e+01\n",
      "  5.750254785583e-01   3.325339997689e+01\n",
      "  5.234406211768e-02  -4.756793241308e+01\n",
      "  4.093643740668e-01  -4.942448528425e+01\n",
      "  8.211012905157e-02  -3.245820052454e+01\n",
      " -2.559578717432e-01   5.807578013130e+00\n"
     ]
    }
   ],
   "source": [
    "!head -n 20 litrack.zd"
   ]
  },
  {
   "cell_type": "markdown",
   "metadata": {},
   "source": [
    "# Lucretia"
   ]
  },
  {
   "cell_type": "code",
   "execution_count": 38,
   "metadata": {
    "tags": []
   },
   "outputs": [
    {
     "name": "stdout",
     "output_type": "stream",
     "text": [
      "writing 10000 particles in the Lucretia format to lucretia.mat\n"
     ]
    }
   ],
   "source": [
    "P.write_lucretia('lucretia.mat', ele_name='BEGINNING', t_ref=0, stop_ix=None, verbose=True)"
   ]
  },
  {
   "cell_type": "markdown",
   "metadata": {},
   "source": [
    "Read back:"
   ]
  },
  {
   "cell_type": "code",
   "execution_count": 39,
   "metadata": {
    "tags": []
   },
   "outputs": [
    {
     "name": "stdout",
     "output_type": "stream",
     "text": [
      "1 elements found in the file!\n",
      "10000 particles detected, 0 found dead!\n"
     ]
    },
    {
     "data": {
      "text/plain": [
       "<ParticleGroup with 10000 particles at 0x13865dbd0>"
      ]
     },
     "execution_count": 39,
     "metadata": {},
     "output_type": "execute_result"
    }
   ],
   "source": [
    "from pmd_beamphysics.interfaces.lucretia import lucretia_to_data, list_element_names\n",
    "\n",
    "ParticleGroup(data=lucretia_to_data('lucretia.mat', verbose=True))"
   ]
  },
  {
   "cell_type": "markdown",
   "metadata": {},
   "source": [
    "Helper function to list the available elements:"
   ]
  },
  {
   "cell_type": "code",
   "execution_count": 40,
   "metadata": {
    "tags": []
   },
   "outputs": [
    {
     "data": {
      "text/plain": [
       "['BEGINNING']"
      ]
     },
     "execution_count": 40,
     "metadata": {},
     "output_type": "execute_result"
    }
   ],
   "source": [
    "list_element_names('lucretia.mat')"
   ]
  },
  {
   "cell_type": "markdown",
   "metadata": {},
   "source": [
    "# OPAL\n",
    "\n",
    "Injected particled must be at the same time:"
   ]
  },
  {
   "cell_type": "code",
   "execution_count": 41,
   "metadata": {
    "tags": []
   },
   "outputs": [],
   "source": [
    "P.drift_to_t()\n",
    "\n",
    "P.write_opal('opal_injected.txt', dist_type='injected')"
   ]
  },
  {
   "cell_type": "code",
   "execution_count": 42,
   "metadata": {
    "tags": []
   },
   "outputs": [
    {
     "name": "stdout",
     "output_type": "stream",
     "text": [
      "10000\n",
      " -1.185024568260e-03  -5.962917646539e-04  -2.101534254983e-03  -5.947844744119e-04   6.454729863911e-08   2.357954837618e-04\n",
      " -5.185658620175e-04   1.081304810831e-03  -2.178543721298e-03   4.729410651486e-04  -1.224655448770e-07   3.043301854978e-04\n",
      " -1.773443497464e-03  -4.356182625855e-04   2.864977130676e-03   1.849365458795e-05  -3.016548099423e-08   2.261204109505e-04\n",
      "  1.686773833925e-03  -3.701949875665e-04  -2.401608368896e-04   9.509897724358e-05  -6.396180367454e-07   1.086073040366e-03\n",
      " -7.779549245968e-04   1.314315604491e-04  -6.799773256079e-04  -4.039485795855e-04  -1.129841753741e-08   1.574553206125e-04\n",
      " -2.593689987198e-03  -2.848642647957e-05  -2.301204548304e-03   4.059959327305e-04  -6.821651066751e-08   1.591207173856e-04\n",
      "  1.997801911791e-03  -4.156657712632e-06   2.648429069209e-03  -1.329302842843e-04  -5.504120158406e-08   5.682333576146e-04\n",
      "  1.999694564006e-03  -1.955217894073e-04  -6.946125339825e-04  -1.798323156158e-04   2.115470906675e-07   8.747763597150e-04\n",
      " -7.035998157808e-04   1.471815600429e-03  -5.678650939369e-04   6.117313388153e-04  -2.196670602435e-08   1.486354662711e-04\n"
     ]
    }
   ],
   "source": [
    "!head opal_injected.txt"
   ]
  },
  {
   "cell_type": "markdown",
   "metadata": {},
   "source": [
    "Emitted particles must be at the same z:"
   ]
  },
  {
   "cell_type": "code",
   "execution_count": 43,
   "metadata": {
    "tags": []
   },
   "outputs": [],
   "source": [
    "P.drift_to_z(P['mean_z'])\n",
    "P.write_opal('opal_emitted.txt', dist_type='emitted')"
   ]
  },
  {
   "cell_type": "code",
   "execution_count": 44,
   "metadata": {
    "tags": []
   },
   "outputs": [
    {
     "name": "stdout",
     "output_type": "stream",
     "text": [
      "10000\n",
      " -1.184838617375e-03  -5.962917646539e-04  -2.101348774139e-03  -5.947844744119e-04  -1.083461177889e-12   2.357954837618e-04\n",
      " -5.181626563723e-04   1.081304810831e-03  -2.178367367225e-03   4.729410651486e-04   1.200565320731e-12   3.043301854978e-04\n",
      " -1.773484302458e-03  -4.356182625855e-04   2.864978863003e-03   1.849365458795e-05   2.691980940714e-13   2.261204109505e-04\n",
      "  1.686558878409e-03  -3.701949875665e-04  -2.401056172069e-04   9.509897724358e-05   1.893601130019e-12   1.086073040366e-03\n",
      " -7.779529930790e-04   1.314315604491e-04  -6.799832620349e-04  -4.039485795855e-04   5.764311716727e-15   1.574553206125e-04\n",
      " -2.593700591157e-03  -2.848642647957e-05  -2.301053417928e-03   4.059959327305e-04   1.198422972634e-12   1.591207173856e-04\n",
      "  1.997801574883e-03  -4.156657712632e-06   2.648418294875e-03  -1.329302842843e-04   2.271058970013e-13   5.682333576146e-04\n",
      "  1.999743855144e-03  -1.955217894073e-04  -6.945671981683e-04  -1.798323156158e-04  -8.841733180528e-13   8.747763597150e-04\n",
      " -7.034712631509e-04   1.471815600429e-03  -5.678116635531e-04   6.117313388153e-04   2.480886363183e-13   1.486354662711e-04\n"
     ]
    }
   ],
   "source": [
    "!head opal_emitted.txt"
   ]
  },
  {
   "cell_type": "markdown",
   "metadata": {},
   "source": [
    "# SIMION \n",
    "Write SIMION input files (*.ion) "
   ]
  },
  {
   "cell_type": "code",
   "execution_count": 45,
   "metadata": {},
   "outputs": [],
   "source": [
    "P.write_simion('simion_particles.ion')"
   ]
  },
  {
   "cell_type": "markdown",
   "metadata": {},
   "source": [
    "# Cleanup"
   ]
  },
  {
   "cell_type": "code",
   "execution_count": 46,
   "metadata": {
    "tags": []
   },
   "outputs": [],
   "source": [
    "for file in [\n",
    "    'astra_particles.txt',\n",
    "    'bmad_particles.txt',\n",
    "    'elegant_particles.txt',\n",
    "    'gpt_particles.txt',\n",
    "    'impact_particles.txt',\n",
    "    'opal_injected.txt',\n",
    "    'opal_emitted.txt',\n",
    "    'openpmd_particles.h5',\n",
    "    'genesis4_beam.h5',\n",
    "    'genesis4_distribution.h5',\n",
    "    'genesis2.beam',\n",
    "    'litrack.zd',\n",
    "    'gpt_particles.gdf',\n",
    "    'lucretia.mat',\n",
    "    'simion_particles.ion'\n",
    "    ]:\n",
    "    if os.path.exists(file):\n",
    "        os.remove(file)"
   ]
  }
 ],
 "metadata": {
  "kernelspec": {
   "display_name": "Python 3 (ipykernel)",
   "language": "python",
   "name": "python3"
  },
  "language_info": {
   "codemirror_mode": {
    "name": "ipython",
    "version": 3
   },
   "file_extension": ".py",
   "mimetype": "text/x-python",
   "name": "python",
   "nbconvert_exporter": "python",
   "pygments_lexer": "ipython3",
   "version": "3.11.6"
  }
 },
 "nbformat": 4,
 "nbformat_minor": 4
}
