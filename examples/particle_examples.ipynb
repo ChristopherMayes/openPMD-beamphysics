{
 "cells": [
  {
   "cell_type": "code",
   "execution_count": 1,
   "metadata": {},
   "outputs": [],
   "source": [
    "# Useful for debugging\n",
    "%load_ext autoreload\n",
    "%autoreload 2"
   ]
  },
  {
   "cell_type": "markdown",
   "metadata": {},
   "source": [
    "# openPMD beamphysics examples"
   ]
  },
  {
   "cell_type": "code",
   "execution_count": 2,
   "metadata": {},
   "outputs": [],
   "source": [
    "from opmd_beamphysics import ParticleGroup\n",
    "from opmd_beamphysics.particles import particle_paths, all_components, component_str\n",
    "\n",
    "from h5py import File\n",
    "\n"
   ]
  },
  {
   "cell_type": "code",
   "execution_count": 3,
   "metadata": {},
   "outputs": [
    {
     "data": {
      "text/plain": [
       "['/data/00001/particles/']"
      ]
     },
     "execution_count": 3,
     "metadata": {},
     "output_type": "execute_result"
    }
   ],
   "source": [
    "# Open a file, fine the particle paths from the root attributes\n",
    "H5FILE = 'data/bmad_particles.h5'\n",
    "h5 = File(H5FILE)\n",
    "\n",
    "\n",
    "ppaths = particle_paths(h5)\n",
    "ppaths"
   ]
  },
  {
   "cell_type": "code",
   "execution_count": 4,
   "metadata": {},
   "outputs": [
    {
     "data": {
      "text/plain": [
       "['branchIndex',\n",
       " 'elementIndex',\n",
       " 'locationInElement',\n",
       " 'momentum',\n",
       " 'particleStatus',\n",
       " 'position',\n",
       " 'sPosition',\n",
       " 'spin',\n",
       " 'time',\n",
       " 'timeOffset',\n",
       " 'totalMomentum',\n",
       " 'totalMomentumOffset',\n",
       " 'weight']"
      ]
     },
     "execution_count": 4,
     "metadata": {},
     "output_type": "execute_result"
    }
   ],
   "source": [
    "# Point to particles\n",
    "ph5 = h5[ppaths[0]]\n",
    "list(ph5)"
   ]
  },
  {
   "cell_type": "code",
   "execution_count": 5,
   "metadata": {},
   "outputs": [
    {
     "data": {
      "text/plain": [
       "['branchIndex',\n",
       " 'elementIndex',\n",
       " 'locationInElement',\n",
       " 'momentum/x',\n",
       " 'momentum/y',\n",
       " 'momentum/z',\n",
       " 'particleStatus',\n",
       " 'position/x',\n",
       " 'position/y',\n",
       " 'position/z',\n",
       " 'sPosition',\n",
       " 'spin/x',\n",
       " 'spin/y',\n",
       " 'spin/z',\n",
       " 'time',\n",
       " 'timeOffset',\n",
       " 'totalMomentum',\n",
       " 'totalMomentumOffset',\n",
       " 'weight']"
      ]
     },
     "execution_count": 5,
     "metadata": {},
     "output_type": "execute_result"
    }
   ],
   "source": [
    "# Search for all valid components\n",
    "all_components(ph5)"
   ]
  },
  {
   "cell_type": "code",
   "execution_count": 6,
   "metadata": {},
   "outputs": [
    {
     "name": "stdout",
     "output_type": "stream",
     "text": [
      "branchIndex [constant [0] with shape [10000]]\n",
      "elementIndex [constant [8] with shape [10000]]\n",
      "locationInElement [constant [1] with shape [10000]]\n",
      "momentum/x [10000 items] is a momentum with units: kg*m/s\n",
      "momentum/y [10000 items] is a momentum with units: kg*m/s\n",
      "momentum/z [10000 items] is a momentum with units: kg*m/s\n",
      "particleStatus [constant [1] with shape [10000]]\n",
      "position/x [10000 items] is a length with units: m\n",
      "position/y [10000 items] is a length with units: m\n",
      "position/z [constant [0.] with shape [10000]] is a length with units: m\n",
      "sPosition [constant [0.445] with shape [10000]] is a length with units: m\n",
      "spin/x [constant [0.] with shape [10000]]\n",
      "spin/y [constant [0.] with shape [10000]]\n",
      "spin/z [constant [0.] with shape [10000]]\n",
      "time [10000 items] is a time with units: s\n",
      "timeOffset [10000 items] is a time with units: s\n",
      "totalMomentum [10000 items] is a momentum with units: kg*m/s\n",
      "totalMomentumOffset [constant [2.24443398e-20] with shape [10000]] is a momentum with units: kg*m/s\n",
      "weight [constant [7.7e-15] with shape [10000]]\n"
     ]
    }
   ],
   "source": [
    "# Get some info\n",
    "for component in all_components(ph5):\n",
    "    info = component_str(ph5, component)\n",
    "    print(info)"
   ]
  },
  {
   "cell_type": "markdown",
   "metadata": {},
   "source": [
    "# ParticleGroup class"
   ]
  },
  {
   "cell_type": "code",
   "execution_count": 7,
   "metadata": {},
   "outputs": [],
   "source": [
    "# Parse all these into a class\n",
    "P = ParticleGroup(ph5)"
   ]
  },
  {
   "cell_type": "code",
   "execution_count": 8,
   "metadata": {},
   "outputs": [
    {
     "data": {
      "text/plain": [
       "\u001b[0;31mType:\u001b[0m        ParticleGroup\n",
       "\u001b[0;31mString form:\u001b[0m <opmd_beamphysics.particles.ParticleGroup object at 0x118fd8b10>\n",
       "\u001b[0;31mFile:\u001b[0m        ~/Code/GitHub/openPMD-beamphysics/opmd_beamphysics/particles.py\n",
       "\u001b[0;31mDocstring:\u001b[0m  \n",
       "Particle Group class\n",
       "\n",
       "Initialized on on openPMD beamphysics particle group.\n",
       "\n",
       "The fundamental bunch data is stored in __dict__ with keys\n",
       "    str: species\n",
       "    int: n_particle\n",
       "    np.array: x, px, y, py, z, pz, t, status, weight\n",
       "where:\n",
       "    x, y, z are positions in units of [m]\n",
       "    px, py, pz are momenta in units of [eV/c]\n",
       "    t is time in [s]\n",
       "    weight is the macro-charge weight in C, used for statistical calulations.\n",
       "    \n",
       "Derived data can be computed as properties:\n",
       "    gamma, beta, beta_x, beta_y, beta_z: relativistic factors\n",
       "    energy: energy in eV\n",
       "    p: total momentum in eV\n",
       "    mass: rest mass in eV\n",
       "    \n",
       "Particles are often stored at the same time (i.e. from a t-based code), \n",
       "or with the same z position (i.e. from an s-based code.)\n",
       "Routines: drift_to_z and drift_to_t help to convert these.\n",
       "    \n"
      ]
     },
     "metadata": {},
     "output_type": "display_data"
    }
   ],
   "source": [
    "?P"
   ]
  },
  {
   "cell_type": "code",
   "execution_count": 9,
   "metadata": {},
   "outputs": [
    {
     "data": {
      "text/plain": [
       "array([-7.84703367e-05,  4.65304310e-05, -9.52450043e-05, ...,\n",
       "        4.59195263e-05,  4.03434287e-05,  3.09875028e-05])"
      ]
     },
     "execution_count": 9,
     "metadata": {},
     "output_type": "execute_result"
    }
   ],
   "source": [
    "# x positions, in meters\n",
    "P.x"
   ]
  },
  {
   "cell_type": "code",
   "execution_count": 10,
   "metadata": {},
   "outputs": [
    {
     "data": {
      "text/plain": [
       "array([82.19188175, 82.19279119, 82.19020009, ..., 82.19079634,\n",
       "       82.19137401, 82.19318991])"
      ]
     },
     "execution_count": 10,
     "metadata": {},
     "output_type": "execute_result"
    }
   ],
   "source": [
    "# relativistic gamma, calculated on the fly\n",
    "P.gamma"
   ]
  },
  {
   "cell_type": "code",
   "execution_count": 11,
   "metadata": {},
   "outputs": [
    {
     "data": {
      "text/plain": [
       "(82.19149709866579, 600.0277476673164)"
      ]
     },
     "execution_count": 11,
     "metadata": {},
     "output_type": "execute_result"
    }
   ],
   "source": [
    "# Statistics on any of these\n",
    "P.avg('gamma'), P.std('p')"
   ]
  },
  {
   "cell_type": "code",
   "execution_count": 12,
   "metadata": {},
   "outputs": [
    {
     "data": {
      "text/plain": [
       "array([[ 3.66679176e-09,  1.09983845e+00,  4.00403091e-15,\n",
       "         2.80408658e-06],\n",
       "       [ 1.09983845e+00,  4.01102270e+08,  1.25551199e-06,\n",
       "         1.05247374e+03],\n",
       "       [ 4.00403091e-15,  1.25551199e-06,  4.96199453e-09,\n",
       "        -9.93277411e-01],\n",
       "       [ 2.80408658e-06,  1.05247374e+03, -9.93277411e-01,\n",
       "         2.51458057e+08]])"
      ]
     },
     "execution_count": 12,
     "metadata": {},
     "output_type": "execute_result"
    }
   ],
   "source": [
    "# Covariance matrix of any list of keys\n",
    "P.cov('x', 'px', 'y', 'py')"
   ]
  },
  {
   "cell_type": "code",
   "execution_count": 13,
   "metadata": {},
   "outputs": [
    {
     "data": {
      "text/plain": [
       "('m', 'eV')"
      ]
     },
     "execution_count": 13,
     "metadata": {},
     "output_type": "execute_result"
    }
   ],
   "source": [
    "# Units\n",
    "P.units('x'), P.units('energy')"
   ]
  },
  {
   "cell_type": "code",
   "execution_count": 14,
   "metadata": {},
   "outputs": [
    {
     "data": {
      "text/plain": [
       "(0.0, 3.000495719904134e-12)"
      ]
     },
     "execution_count": 14,
     "metadata": {},
     "output_type": "execute_result"
    }
   ],
   "source": [
    "# These particles are from Bmad, at the same z and different times\n",
    "P.std('z'), P.std('t')"
   ]
  },
  {
   "cell_type": "code",
   "execution_count": 15,
   "metadata": {},
   "outputs": [
    {
     "data": {
      "text/plain": [
       "1.484470349840882e-09"
      ]
     },
     "execution_count": 15,
     "metadata": {},
     "output_type": "execute_result"
    }
   ],
   "source": [
    "# Get the central time\n",
    "t0 = P.avg('t')\n",
    "t0"
   ]
  },
  {
   "cell_type": "code",
   "execution_count": 16,
   "metadata": {},
   "outputs": [],
   "source": [
    "# Drift all particles to this time\n",
    "P.drift_to_t(t0)"
   ]
  },
  {
   "cell_type": "code",
   "execution_count": 17,
   "metadata": {},
   "outputs": [
    {
     "data": {
      "text/plain": [
       "(0.0008994592399391498, 1.4844703498408813e-09, {1.484470349840882e-09})"
      ]
     },
     "execution_count": 17,
     "metadata": {},
     "output_type": "execute_result"
    }
   ],
   "source": [
    "# Now these are at different z, and the same t\n",
    "P.std('z'), P.avg('t'), set(P.t)"
   ]
  },
  {
   "cell_type": "code",
   "execution_count": null,
   "metadata": {},
   "outputs": [],
   "source": []
  },
  {
   "cell_type": "code",
   "execution_count": null,
   "metadata": {},
   "outputs": [],
   "source": []
  }
 ],
 "metadata": {
  "kernelspec": {
   "display_name": "Python 3",
   "language": "python",
   "name": "python3"
  },
  "language_info": {
   "codemirror_mode": {
    "name": "ipython",
    "version": 3
   },
   "file_extension": ".py",
   "mimetype": "text/x-python",
   "name": "python",
   "nbconvert_exporter": "python",
   "pygments_lexer": "ipython3",
   "version": "3.7.5"
  }
 },
 "nbformat": 4,
 "nbformat_minor": 4
}
