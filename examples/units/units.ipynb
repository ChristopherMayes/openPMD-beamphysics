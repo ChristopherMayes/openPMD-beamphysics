{
 "cells": [
  {
   "cell_type": "markdown",
   "metadata": {},
   "source": [
    "# Units\n",
    "\n",
    "This package provides unit conversion tools "
   ]
  },
  {
   "cell_type": "code",
   "execution_count": 1,
   "metadata": {
    "execution": {
     "iopub.execute_input": "2024-06-19T18:01:43.512957Z",
     "iopub.status.busy": "2024-06-19T18:01:43.512756Z",
     "iopub.status.idle": "2024-06-19T18:01:43.527505Z",
     "shell.execute_reply": "2024-06-19T18:01:43.526987Z"
    },
    "tags": []
   },
   "outputs": [],
   "source": [
    "# Useful for debugging\n",
    "%load_ext autoreload\n",
    "%autoreload 2"
   ]
  },
  {
   "cell_type": "code",
   "execution_count": 2,
   "metadata": {
    "execution": {
     "iopub.execute_input": "2024-06-19T18:01:43.530399Z",
     "iopub.status.busy": "2024-06-19T18:01:43.529970Z",
     "iopub.status.idle": "2024-06-19T18:01:44.235193Z",
     "shell.execute_reply": "2024-06-19T18:01:44.234532Z"
    },
    "tags": []
   },
   "outputs": [],
   "source": [
    "from pmd_beamphysics import particle_paths\n",
    "from pmd_beamphysics.units import pmd_unit, dimension_name, sqrt_unit, known_unit, multiply_units\n",
    "from h5py import File\n",
    "import numpy as np"
   ]
  },
  {
   "cell_type": "markdown",
   "metadata": {},
   "source": [
    "This is the basic class:"
   ]
  },
  {
   "cell_type": "code",
   "execution_count": 3,
   "metadata": {
    "execution": {
     "iopub.execute_input": "2024-06-19T18:01:44.237992Z",
     "iopub.status.busy": "2024-06-19T18:01:44.237711Z",
     "iopub.status.idle": "2024-06-19T18:01:44.284553Z",
     "shell.execute_reply": "2024-06-19T18:01:44.283894Z"
    },
    "tags": []
   },
   "outputs": [],
   "source": [
    "?pmd_unit"
   ]
  },
  {
   "cell_type": "markdown",
   "metadata": {},
   "source": [
    "Get a known units. These can be multiplied and divided:"
   ]
  },
  {
   "cell_type": "code",
   "execution_count": 4,
   "metadata": {
    "execution": {
     "iopub.execute_input": "2024-06-19T18:01:44.287598Z",
     "iopub.status.busy": "2024-06-19T18:01:44.287206Z",
     "iopub.status.idle": "2024-06-19T18:01:44.304043Z",
     "shell.execute_reply": "2024-06-19T18:01:44.303454Z"
    },
    "tags": []
   },
   "outputs": [
    {
     "data": {
      "text/plain": [
       "(pmd_unit('J', 1, (2, 1, -2, 0, 0, 0, 0)),\n",
       " pmd_unit('m', 1, (1, 0, 0, 0, 0, 0, 0)),\n",
       " pmd_unit('J/m', 1.0, (1, 1, -2, 0, 0, 0, 0)),\n",
       " pmd_unit('J*m', 1, (3, 1, -2, 0, 0, 0, 0)))"
      ]
     },
     "execution_count": 4,
     "metadata": {},
     "output_type": "execute_result"
    }
   ],
   "source": [
    "u1 = known_unit['J']\n",
    "u2 = known_unit['m']\n",
    "u1, u2, u1/u2, u1*u2"
   ]
  },
  {
   "cell_type": "markdown",
   "metadata": {},
   "source": [
    "Special function for sqrt:"
   ]
  },
  {
   "cell_type": "code",
   "execution_count": 5,
   "metadata": {
    "execution": {
     "iopub.execute_input": "2024-06-19T18:01:44.334664Z",
     "iopub.status.busy": "2024-06-19T18:01:44.334379Z",
     "iopub.status.idle": "2024-06-19T18:01:44.348696Z",
     "shell.execute_reply": "2024-06-19T18:01:44.348161Z"
    },
    "tags": []
   },
   "outputs": [
    {
     "data": {
      "text/plain": [
       "pmd_unit('\\sqrt{ J }', 1.0, (1.0, 0.5, -1.0, 0.0, 0.0, 0.0, 0.0))"
      ]
     },
     "execution_count": 5,
     "metadata": {},
     "output_type": "execute_result"
    }
   ],
   "source": [
    "sqrt_unit(u1)"
   ]
  },
  {
   "cell_type": "markdown",
   "metadata": {},
   "source": [
    "# openPMD HDF5 units\n",
    "\n",
    "Open a file, find the particle paths from the root attributes"
   ]
  },
  {
   "cell_type": "code",
   "execution_count": 6,
   "metadata": {
    "execution": {
     "iopub.execute_input": "2024-06-19T18:01:44.350916Z",
     "iopub.status.busy": "2024-06-19T18:01:44.350727Z",
     "iopub.status.idle": "2024-06-19T18:01:44.365414Z",
     "shell.execute_reply": "2024-06-19T18:01:44.364883Z"
    },
    "tags": []
   },
   "outputs": [
    {
     "name": "stdout",
     "output_type": "stream",
     "text": [
      "['//']\n"
     ]
    }
   ],
   "source": [
    "# Pick one:\n",
    "#H5FILE = 'data/bmad_particles.h5'\n",
    "H5FILE = 'data/distgen_particles.h5'\n",
    "#H5FILE = 'data/astra_particles.h5'\n",
    "h5 = File(H5FILE, 'r')\n",
    "\n",
    "ppaths = particle_paths(h5)\n",
    "print(ppaths)\n"
   ]
  },
  {
   "cell_type": "markdown",
   "metadata": {},
   "source": [
    "This points to a single particle group:"
   ]
  },
  {
   "cell_type": "code",
   "execution_count": 7,
   "metadata": {
    "execution": {
     "iopub.execute_input": "2024-06-19T18:01:44.367575Z",
     "iopub.status.busy": "2024-06-19T18:01:44.367394Z",
     "iopub.status.idle": "2024-06-19T18:01:44.382338Z",
     "shell.execute_reply": "2024-06-19T18:01:44.381767Z"
    }
   },
   "outputs": [
    {
     "data": {
      "text/plain": [
       "['momentum', 'particleStatus', 'position', 'time', 'weight']"
      ]
     },
     "execution_count": 7,
     "metadata": {},
     "output_type": "execute_result"
    }
   ],
   "source": [
    "ph5 = h5[ppaths[0]]\n",
    "list(ph5)"
   ]
  },
  {
   "cell_type": "markdown",
   "metadata": {},
   "source": [
    "Each component should have a dimension and a conversion factor to SI:"
   ]
  },
  {
   "cell_type": "code",
   "execution_count": 8,
   "metadata": {
    "execution": {
     "iopub.execute_input": "2024-06-19T18:01:44.384574Z",
     "iopub.status.busy": "2024-06-19T18:01:44.384355Z",
     "iopub.status.idle": "2024-06-19T18:01:44.398549Z",
     "shell.execute_reply": "2024-06-19T18:01:44.398064Z"
    },
    "tags": []
   },
   "outputs": [
    {
     "data": {
      "text/plain": [
       "{'unitDimension': array([ 1,  1, -1,  0,  0,  0,  0]),\n",
       " 'unitSI': np.float64(5.344285992678308e-28),\n",
       " 'unitSymbol': 'eV/c'}"
      ]
     },
     "execution_count": 8,
     "metadata": {},
     "output_type": "execute_result"
    }
   ],
   "source": [
    "d = dict(ph5['momentum/x'].attrs)\n",
    "d"
   ]
  },
  {
   "cell_type": "code",
   "execution_count": 9,
   "metadata": {
    "execution": {
     "iopub.execute_input": "2024-06-19T18:01:44.400472Z",
     "iopub.status.busy": "2024-06-19T18:01:44.400293Z",
     "iopub.status.idle": "2024-06-19T18:01:44.412817Z",
     "shell.execute_reply": "2024-06-19T18:01:44.412265Z"
    },
    "tags": []
   },
   "outputs": [
    {
     "data": {
      "text/plain": [
       "(np.int64(1),\n",
       " np.int64(1),\n",
       " np.int64(-1),\n",
       " np.int64(0),\n",
       " np.int64(0),\n",
       " np.int64(0),\n",
       " np.int64(0))"
      ]
     },
     "execution_count": 9,
     "metadata": {},
     "output_type": "execute_result"
    }
   ],
   "source": [
    "tuple(d['unitDimension'])"
   ]
  },
  {
   "cell_type": "markdown",
   "metadata": {},
   "source": [
    "This will extract the name of this dimension:"
   ]
  },
  {
   "cell_type": "code",
   "execution_count": 10,
   "metadata": {
    "execution": {
     "iopub.execute_input": "2024-06-19T18:01:44.415172Z",
     "iopub.status.busy": "2024-06-19T18:01:44.414760Z",
     "iopub.status.idle": "2024-06-19T18:01:44.427337Z",
     "shell.execute_reply": "2024-06-19T18:01:44.426777Z"
    },
    "tags": []
   },
   "outputs": [
    {
     "data": {
      "text/plain": [
       "'momentum'"
      ]
     },
     "execution_count": 10,
     "metadata": {},
     "output_type": "execute_result"
    }
   ],
   "source": [
    "dimension_name(d['unitDimension'])"
   ]
  },
  {
   "cell_type": "markdown",
   "metadata": {},
   "source": [
    "# Nice arrays"
   ]
  },
  {
   "cell_type": "code",
   "execution_count": 11,
   "metadata": {
    "execution": {
     "iopub.execute_input": "2024-06-19T18:01:44.429606Z",
     "iopub.status.busy": "2024-06-19T18:01:44.429168Z",
     "iopub.status.idle": "2024-06-19T18:01:44.440102Z",
     "shell.execute_reply": "2024-06-19T18:01:44.439570Z"
    },
    "tags": []
   },
   "outputs": [],
   "source": [
    "from pmd_beamphysics.units import nice_array"
   ]
  },
  {
   "cell_type": "markdown",
   "metadata": {},
   "source": [
    "This will scale the array, and return the appropriate SI prefix:"
   ]
  },
  {
   "cell_type": "code",
   "execution_count": 12,
   "metadata": {
    "execution": {
     "iopub.execute_input": "2024-06-19T18:01:44.442383Z",
     "iopub.status.busy": "2024-06-19T18:01:44.442041Z",
     "iopub.status.idle": "2024-06-19T18:01:44.454439Z",
     "shell.execute_reply": "2024-06-19T18:01:44.453962Z"
    },
    "tags": []
   },
   "outputs": [
    {
     "data": {
      "text/plain": [
       "(np.float64(100.00000000000001), np.float64(1e-06), 'µ')"
      ]
     },
     "execution_count": 12,
     "metadata": {},
     "output_type": "execute_result"
    }
   ],
   "source": [
    "x = 1e-4\n",
    "unit = 'm'\n",
    "nice_array(x)"
   ]
  },
  {
   "cell_type": "code",
   "execution_count": 13,
   "metadata": {
    "execution": {
     "iopub.execute_input": "2024-06-19T18:01:44.456697Z",
     "iopub.status.busy": "2024-06-19T18:01:44.456324Z",
     "iopub.status.idle": "2024-06-19T18:01:44.469061Z",
     "shell.execute_reply": "2024-06-19T18:01:44.468597Z"
    },
    "tags": []
   },
   "outputs": [
    {
     "data": {
      "text/plain": [
       "(array([-10.,  10.]), np.float64(0.001), 'm')"
      ]
     },
     "execution_count": 13,
     "metadata": {},
     "output_type": "execute_result"
    }
   ],
   "source": [
    "nice_array([-0.01, 0.01])"
   ]
  },
  {
   "cell_type": "code",
   "execution_count": 14,
   "metadata": {
    "execution": {
     "iopub.execute_input": "2024-06-19T18:01:44.471106Z",
     "iopub.status.busy": "2024-06-19T18:01:44.470922Z",
     "iopub.status.idle": "2024-06-19T18:01:44.482556Z",
     "shell.execute_reply": "2024-06-19T18:01:44.482064Z"
    },
    "tags": []
   },
   "outputs": [],
   "source": [
    "from pmd_beamphysics.units import nice_scale_prefix"
   ]
  },
  {
   "cell_type": "code",
   "execution_count": 15,
   "metadata": {
    "execution": {
     "iopub.execute_input": "2024-06-19T18:01:44.484649Z",
     "iopub.status.busy": "2024-06-19T18:01:44.484325Z",
     "iopub.status.idle": "2024-06-19T18:01:44.497599Z",
     "shell.execute_reply": "2024-06-19T18:01:44.497080Z"
    },
    "tags": []
   },
   "outputs": [
    {
     "data": {
      "text/plain": [
       "(np.float64(0.001), 'm')"
      ]
     },
     "execution_count": 15,
     "metadata": {},
     "output_type": "execute_result"
    }
   ],
   "source": [
    "nice_scale_prefix(0.009)"
   ]
  },
  {
   "cell_type": "markdown",
   "metadata": {},
   "source": [
    "# Limitations\n",
    "\n",
    "This is a simple class for use with this package. So even simple things like the example below will fail. \n",
    "\n",
    "For more advanced units, use a package like Pint: https://pint.readthedocs.io/\n"
   ]
  },
  {
   "cell_type": "code",
   "execution_count": 16,
   "metadata": {
    "execution": {
     "iopub.execute_input": "2024-06-19T18:01:44.500023Z",
     "iopub.status.busy": "2024-06-19T18:01:44.499665Z",
     "iopub.status.idle": "2024-06-19T18:01:44.513501Z",
     "shell.execute_reply": "2024-06-19T18:01:44.512894Z"
    },
    "tags": []
   },
   "outputs": [
    {
     "name": "stdout",
     "output_type": "stream",
     "text": [
      "you cannot do this\n"
     ]
    }
   ],
   "source": [
    "try:\n",
    "    u1/1\n",
    "except:\n",
    "    print('you cannot do this')\n",
    "    \n"
   ]
  }
 ],
 "metadata": {
  "kernelspec": {
   "display_name": "Python 3 (ipykernel)",
   "language": "python",
   "name": "python3"
  },
  "language_info": {
   "codemirror_mode": {
    "name": "ipython",
    "version": 3
   },
   "file_extension": ".py",
   "mimetype": "text/x-python",
   "name": "python",
   "nbconvert_exporter": "python",
   "pygments_lexer": "ipython3",
   "version": "3.9.19"
  }
 },
 "nbformat": 4,
 "nbformat_minor": 4
}
