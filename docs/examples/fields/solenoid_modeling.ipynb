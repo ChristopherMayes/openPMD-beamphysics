{
 "cells": [
  {
   "cell_type": "markdown",
   "id": "0fe9a7b5-2538-4fb1-93f5-c3dd9e4b1023",
   "metadata": {},
   "source": [
    "# Solenoid Modeling\n",
    "\n",
    "We can create solenoid fieldmesh data using an ideal model described in:\n",
    "\n",
    "Derby, N., & Olbert, S. (2010). Cylindrical magnets and ideal solenoids.\n",
    "American Journal of Physics, 78(3), 229–235. https://doi.org/10.1119/1.3256157\n",
    "\n",
    "(preprint: https://arxiv.org/abs/0909.3880)\n"
   ]
  },
  {
   "cell_type": "code",
   "execution_count": null,
   "id": "7cc6ce6d-99ba-4254-8c49-55cb1a3297c9",
   "metadata": {},
   "outputs": [],
   "source": [
    "from pmd_beamphysics.fields.solenoid import make_solenoid_fieldmesh, fit_ideal_solenoid\n",
    "\n",
    "from pmd_beamphysics.fields.analysis import solenoid_analysis\n",
    "\n",
    "from pmd_beamphysics.fields.analysis import check_static_div_equation\n",
    "from pmd_beamphysics.units import mu_0\n",
    "\n",
    "from pmd_beamphysics import FieldMesh\n",
    "\n",
    "import matplotlib.pyplot as plt\n",
    "import numpy as np"
   ]
  },
  {
   "cell_type": "code",
   "execution_count": null,
   "id": "cfd33797-b867-4353-9626-cf6ef049937f",
   "metadata": {},
   "outputs": [],
   "source": [
    "FM = make_solenoid_fieldmesh(\n",
    "    radius=0.05,\n",
    "    L=0.2,\n",
    "    rmax=0.1,\n",
    "    zmin=-0.5,\n",
    "    zmax=0.5,\n",
    "    nr=51,\n",
    "    nz=100,\n",
    "    B0=1,\n",
    ")"
   ]
  },
  {
   "cell_type": "code",
   "execution_count": null,
   "id": "3bb318b7-c742-4296-9e22-36128eb7b90f",
   "metadata": {},
   "outputs": [],
   "source": [
    "FM.plot()"
   ]
  },
  {
   "cell_type": "code",
   "execution_count": null,
   "id": "c4943cef-3181-48cb-b799-72cc1dfe10bc",
   "metadata": {},
   "outputs": [],
   "source": [
    "FM.plot(stream=True, mirror=\"r\")"
   ]
  },
  {
   "cell_type": "code",
   "execution_count": null,
   "id": "fb8043b4-8030-464a-99a2-fb2888d48eb2",
   "metadata": {},
   "outputs": [],
   "source": [
    "FM.plot_onaxis()"
   ]
  },
  {
   "cell_type": "markdown",
   "id": "6b27bc8a-e07f-4f5c-980f-b07ee4cd64b7",
   "metadata": {},
   "source": [
    "This calculates field integrals, and gives the equivalent hard-edge solenoid parameters:"
   ]
  },
  {
   "cell_type": "code",
   "execution_count": null,
   "id": "d7c3bb9f-47ed-4b0d-86f0-c786e7ffec9f",
   "metadata": {},
   "outputs": [],
   "source": [
    "z0, Bz0 = FM.axis_values(\"z\", \"Bz\")\n",
    "solenoid_analysis(z0, Bz0)"
   ]
  },
  {
   "cell_type": "markdown",
   "id": "ed57f328-93f2-449f-84c6-5300dc554d83",
   "metadata": {},
   "source": [
    "Check the static divergence Maxwell equation"
   ]
  },
  {
   "cell_type": "code",
   "execution_count": null,
   "id": "8a317af4-d705-4481-bc3a-0ea9d767cbb2",
   "metadata": {},
   "outputs": [],
   "source": [
    "check_static_div_equation(FM, rtol=1e-1, plot=True)"
   ]
  },
  {
   "cell_type": "markdown",
   "id": "40936679-14e0-439d-bd12-462c908312a6",
   "metadata": {},
   "source": [
    "## Hard edge\n",
    "\n",
    "Making the radius very small approximates a hard-edge model.\n",
    "\n",
    "Here we expext that $B_z = \\mu_0 n I$"
   ]
  },
  {
   "cell_type": "code",
   "execution_count": null,
   "id": "2616d48f-47f6-4b28-b637-8347e93f15a0",
   "metadata": {},
   "outputs": [],
   "source": [
    "FM_hard = make_solenoid_fieldmesh(\n",
    "    radius=1e-9,\n",
    "    L=0.2,\n",
    "    rmax=0.1,\n",
    "    zmin=-0.4,\n",
    "    zmax=0.4,\n",
    "    nr=101,\n",
    "    nz=200,\n",
    "    nI=1,\n",
    ")"
   ]
  },
  {
   "cell_type": "code",
   "execution_count": null,
   "id": "f21a3461-b9c5-4dfa-9cac-e82cca09eead",
   "metadata": {},
   "outputs": [],
   "source": [
    "FM_hard.Bz[0, 0, :].max() == mu_0"
   ]
  },
  {
   "cell_type": "code",
   "execution_count": null,
   "id": "886f334c-3024-4650-8081-ae68ebdcaaaa",
   "metadata": {},
   "outputs": [],
   "source": [
    "FM_hard.plot_onaxis()"
   ]
  },
  {
   "cell_type": "markdown",
   "id": "0d8fd0e8-1ed4-4c68-8a10-d56b0def6838",
   "metadata": {},
   "source": [
    "Check hard-edge analysis again"
   ]
  },
  {
   "cell_type": "code",
   "execution_count": null,
   "id": "9abcf3c2-fb43-4d09-9b55-23499a9b3505",
   "metadata": {},
   "outputs": [],
   "source": [
    "z0, Bz0 = FM_hard.axis_values(\"z\", \"Bz\")\n",
    "solenoid_analysis(z0, Bz0)"
   ]
  },
  {
   "cell_type": "markdown",
   "id": "bfb0168b-cf80-47d4-a77d-23391391d112",
   "metadata": {},
   "source": [
    "## Compare with a real solenoid"
   ]
  },
  {
   "cell_type": "code",
   "execution_count": null,
   "id": "8148485f-09e5-44dd-96a7-c9cc506f35ff",
   "metadata": {},
   "outputs": [],
   "source": [
    "FM2 = FieldMesh(\"../data/solenoid.h5\")\n",
    "FM2.plot_onaxis()"
   ]
  },
  {
   "cell_type": "code",
   "execution_count": null,
   "id": "891bc4fb-497b-4848-9bad-b7321cb751e1",
   "metadata": {},
   "outputs": [],
   "source": [
    "z0, Bz0 = FM2.axis_values(\"z\", \"Bz\")\n",
    "\n",
    "fit = fit_ideal_solenoid(z0, Bz0)\n",
    "fit"
   ]
  },
  {
   "cell_type": "code",
   "execution_count": null,
   "id": "8a74f0b7-86cd-4235-96cc-27a05f5c7f5c",
   "metadata": {},
   "outputs": [],
   "source": [
    "FM3 = make_solenoid_fieldmesh(\n",
    "    radius=fit[\"radius\"],\n",
    "    L=fit[\"L\"],\n",
    "    rmax=0.1,\n",
    "    zmin=-0.1,\n",
    "    zmax=0.1,\n",
    "    nr=100,\n",
    "    nz=40,\n",
    "    B0=fit[\"B0\"],\n",
    ")"
   ]
  },
  {
   "cell_type": "code",
   "execution_count": null,
   "id": "d40a160f-09e3-41a0-8eb3-66b0e3cca10d",
   "metadata": {},
   "outputs": [],
   "source": [
    "fig, ax = plt.subplots()\n",
    "z0, Bz0 = FM2.axis_values(\"z\", \"Bz\")\n",
    "Bz0 = np.real(Bz0 / Bz0.max())\n",
    "ax.plot(z0, Bz0, label=\"Superfish\")\n",
    "\n",
    "z, Bz = FM3.axis_values(\"z\", \"Bz\")\n",
    "Bz = np.real(Bz / Bz.max())\n",
    "ax.plot(z, Bz, label=\"Ideal\")\n",
    "plt.legend()\n",
    "ax.set_ylim(0, None)\n",
    "ax.set_xlabel(r\"$z$ (m)\")\n",
    "ax.set_ylabel(r\"$B_z$ (T)\")"
   ]
  },
  {
   "cell_type": "markdown",
   "id": "4f19b4b3-2d7b-4f47-a238-1f2c227c32ac",
   "metadata": {},
   "source": [
    "Note that the fields are very different off-axis:"
   ]
  },
  {
   "cell_type": "code",
   "execution_count": null,
   "id": "f4e59992-b296-4482-851e-25014c1ce9ec",
   "metadata": {},
   "outputs": [],
   "source": [
    "FM2.plot()\n",
    "FM3.plot()"
   ]
  },
  {
   "cell_type": "markdown",
   "id": "acdcc414-5197-4d83-b82b-edac6f819c4e",
   "metadata": {},
   "source": [
    "# Stylized Plot\n",
    "\n",
    "Here we make a stylized plot, similar to the figure Fig. 1 in Derby & Olbert (2010)."
   ]
  },
  {
   "cell_type": "code",
   "execution_count": null,
   "id": "fc45736b-45b0-4c07-85ed-ca6bc2d7de15",
   "metadata": {},
   "outputs": [],
   "source": [
    "FM = make_solenoid_fieldmesh(\n",
    "    radius=0.05,\n",
    "    L=0.2,\n",
    "    rmax=0.5,\n",
    "    zmin=-0.5,\n",
    "    zmax=0.5,\n",
    "    nr=200,\n",
    "    nz=200,\n",
    "    B0=1,\n",
    ")"
   ]
  },
  {
   "cell_type": "code",
   "execution_count": null,
   "id": "178dc34e-36e3-4c91-918c-0168b883d057",
   "metadata": {},
   "outputs": [],
   "source": [
    "# Stylize with varying line thickness\n",
    "linewidth = 0.5 + np.random.normal(scale=0.3, size=(2 * FM.shape[0] - 1, FM.shape[2]))\n",
    "\n",
    "FM.plot(\n",
    "    stream=True,\n",
    "    mirror=\"r\",\n",
    "    density=8,\n",
    "    linewidth=linewidth,\n",
    "    arrowsize=0,\n",
    "    figsize=(8, 8),\n",
    "    aspect=\"equal\",\n",
    "    cmap=\"copper\",\n",
    ")"
   ]
  },
  {
   "cell_type": "code",
   "execution_count": null,
   "id": "c21782ae-cf74-40a7-b2c2-41892cc7a1da",
   "metadata": {},
   "outputs": [],
   "source": [
    "\"acfa_\".removesuffix(\"_\")"
   ]
  },
  {
   "cell_type": "code",
   "execution_count": null,
   "id": "64c09567-63a7-4f2f-b08c-9958e595ce5a",
   "metadata": {},
   "outputs": [],
   "source": []
  }
 ],
 "metadata": {
  "kernelspec": {
   "display_name": "Python 3 (ipykernel)",
   "language": "python",
   "name": "python3"
  },
  "language_info": {
   "codemirror_mode": {
    "name": "ipython",
    "version": 3
   },
   "file_extension": ".py",
   "mimetype": "text/x-python",
   "name": "python",
   "nbconvert_exporter": "python",
   "pygments_lexer": "ipython3",
   "version": "3.13.0"
  }
 },
 "nbformat": 4,
 "nbformat_minor": 5
}
