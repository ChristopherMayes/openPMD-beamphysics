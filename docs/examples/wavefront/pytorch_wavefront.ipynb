{
 "cells": [
  {
   "cell_type": "markdown",
   "id": "8a5c4c1f-6047-4d3d-a173-01ba3bd74979",
   "metadata": {},
   "source": [
    "# Pytorch compatibility (experimental)"
   ]
  },
  {
   "cell_type": "code",
   "execution_count": null,
   "id": "4bde6fa0-9f15-4d5e-831e-25aa8b07a639",
   "metadata": {},
   "outputs": [],
   "source": [
    "import torch\n",
    "import numpy as np\n",
    "from pmd_beamphysics.wavefront.wavefront import Wavefront\n",
    "from pmd_beamphysics.wavefront.propagators import drift_wavefront"
   ]
  },
  {
   "cell_type": "code",
   "execution_count": null,
   "id": "bde5c72b-c103-41eb-9d13-01b412f3cc36",
   "metadata": {},
   "outputs": [],
   "source": [
    "W_numpy = Wavefront(\n",
    "    Ex=np.ones((255, 255, 255), dtype=np.complex64),\n",
    ")\n",
    "\n",
    "W_torch_cpu = Wavefront(\n",
    "    Ex=torch.ones((255, 255, 255), device=\"cpu\", dtype=torch.complex64),\n",
    ")\n",
    "\n",
    "W_torch_gpu = Wavefront(\n",
    "    Ex=torch.ones((255, 255, 255), device=\"mps\", dtype=torch.complex64),\n",
    ")"
   ]
  },
  {
   "cell_type": "code",
   "execution_count": null,
   "id": "3116147a-16a6-4dc9-9752-a53ed760813e",
   "metadata": {},
   "outputs": [],
   "source": [
    "%%time\n",
    "W_numpy2 = drift_wavefront(W_numpy, 1)"
   ]
  },
  {
   "cell_type": "code",
   "execution_count": null,
   "id": "db46fd42-0b01-48a2-a0e2-48911db6c019",
   "metadata": {},
   "outputs": [],
   "source": [
    "%%time\n",
    "W_torch_cpu2 = drift_wavefront(W_torch_cpu, 1, backend=torch)"
   ]
  },
  {
   "cell_type": "code",
   "execution_count": null,
   "id": "5915fb41-aa55-41ed-bfc6-c995f24c5054",
   "metadata": {},
   "outputs": [],
   "source": [
    "%%time\n",
    "W_torch_gpu2 = drift_wavefront(W_torch_gpu, 1, device=\"mps\", backend=torch)"
   ]
  },
  {
   "cell_type": "code",
   "execution_count": null,
   "id": "7446e19a-e977-4033-a250-499dae4684da",
   "metadata": {},
   "outputs": [],
   "source": [
    "torch.allclose(W_torch_gpu2.Ex.cpu(), W_torch_cpu2.Ex)"
   ]
  },
  {
   "cell_type": "code",
   "execution_count": null,
   "id": "64e76e79-a587-4d7a-b8ac-74ba8ce471f3",
   "metadata": {},
   "outputs": [],
   "source": [
    "np.allclose(W_torch_gpu2.Ex.cpu(), W_numpy2.Ex)"
   ]
  }
 ],
 "metadata": {
  "kernelspec": {
   "display_name": "Python 3 (ipykernel)",
   "language": "python",
   "name": "python3"
  },
  "language_info": {
   "codemirror_mode": {
    "name": "ipython",
    "version": 3
   },
   "file_extension": ".py",
   "mimetype": "text/x-python",
   "name": "python",
   "nbconvert_exporter": "python",
   "pygments_lexer": "ipython3",
   "version": "3.12.8"
  }
 },
 "nbformat": 4,
 "nbformat_minor": 5
}
