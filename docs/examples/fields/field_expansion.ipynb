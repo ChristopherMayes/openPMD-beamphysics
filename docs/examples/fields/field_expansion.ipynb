{
 "cells": [
  {
   "cell_type": "markdown",
   "id": "6d026a6b-5e1d-4fae-a79a-79d6a3755080",
   "metadata": {},
   "source": [
    "# Field expansion"
   ]
  },
  {
   "cell_type": "code",
   "execution_count": null,
   "id": "526938d7-f85a-4fa2-962e-245842ffacdd",
   "metadata": {
    "execution": {
     "iopub.execute_input": "2024-10-17T23:18:55.365443Z",
     "iopub.status.busy": "2024-10-17T23:18:55.364984Z",
     "iopub.status.idle": "2024-10-17T23:18:55.653619Z",
     "shell.execute_reply": "2024-10-17T23:18:55.653287Z"
    }
   },
   "outputs": [],
   "source": [
    "# Useful for debugging\n",
    "%load_ext autoreload\n",
    "%autoreload 2\n",
    "\n",
    "# Nicer plotting\n",
    "import matplotlib.pyplot as plt\n",
    "\n",
    "%config InlineBackend.figure_format = 'retina'\n",
    "\n",
    "import numpy as np"
   ]
  },
  {
   "cell_type": "code",
   "execution_count": null,
   "id": "6d31292f-04a5-4b69-847f-cbe928e08b7a",
   "metadata": {
    "execution": {
     "iopub.execute_input": "2024-10-17T23:18:55.655162Z",
     "iopub.status.busy": "2024-10-17T23:18:55.655043Z",
     "iopub.status.idle": "2024-10-17T23:18:55.973081Z",
     "shell.execute_reply": "2024-10-17T23:18:55.972830Z"
    }
   },
   "outputs": [],
   "source": [
    "from pmd_beamphysics import FieldMesh"
   ]
  },
  {
   "cell_type": "code",
   "execution_count": null,
   "id": "5e6661cf-6adc-4cd3-b05a-4f1663f151c0",
   "metadata": {
    "execution": {
     "iopub.execute_input": "2024-10-17T23:18:55.974581Z",
     "iopub.status.busy": "2024-10-17T23:18:55.974454Z",
     "iopub.status.idle": "2024-10-17T23:18:56.120411Z",
     "shell.execute_reply": "2024-10-17T23:18:56.120148Z"
    }
   },
   "outputs": [],
   "source": [
    "FM = FieldMesh(\"../data/solenoid.h5\")\n",
    "FM.plot()"
   ]
  },
  {
   "cell_type": "code",
   "execution_count": null,
   "id": "44dc8f20-bdec-4ea2-8007-3af24a8e481d",
   "metadata": {
    "execution": {
     "iopub.execute_input": "2024-10-17T23:18:56.121630Z",
     "iopub.status.busy": "2024-10-17T23:18:56.121519Z",
     "iopub.status.idle": "2024-10-17T23:18:56.277090Z",
     "shell.execute_reply": "2024-10-17T23:18:56.276830Z"
    }
   },
   "outputs": [],
   "source": [
    "FM.plot_onaxis()"
   ]
  },
  {
   "cell_type": "markdown",
   "id": "b3d7f502-a642-44d7-af9a-20fccd45da35",
   "metadata": {},
   "source": [
    "# Derivative array\n",
    "\n",
    "Field expansions depend on numerical derivatives of the on-axis field. Here are two methods."
   ]
  },
  {
   "cell_type": "code",
   "execution_count": null,
   "id": "cd13b912-0c16-47c0-bc42-41dc3ec70ada",
   "metadata": {
    "execution": {
     "iopub.execute_input": "2024-10-17T23:18:56.278794Z",
     "iopub.status.busy": "2024-10-17T23:18:56.278695Z",
     "iopub.status.idle": "2024-10-17T23:18:56.289010Z",
     "shell.execute_reply": "2024-10-17T23:18:56.288787Z"
    }
   },
   "outputs": [],
   "source": [
    "from pmd_beamphysics.fields.expansion import (\n",
    "    fft_derivative_array,\n",
    "    spline_derivative_array,\n",
    ")"
   ]
  },
  {
   "cell_type": "code",
   "execution_count": null,
   "id": "28e99d21-acf4-411d-9cd7-01c77d4c73fa",
   "metadata": {
    "execution": {
     "iopub.execute_input": "2024-10-17T23:18:56.290292Z",
     "iopub.status.busy": "2024-10-17T23:18:56.290218Z",
     "iopub.status.idle": "2024-10-17T23:18:56.301319Z",
     "shell.execute_reply": "2024-10-17T23:18:56.301069Z"
    }
   },
   "outputs": [],
   "source": [
    "Z = FM.coord_vec(\"z\")\n",
    "DZ = FM.dz\n",
    "FZ = FM.Bz[0, 0, :]\n",
    "\n",
    "dfield1 = fft_derivative_array(FZ, DZ, ncoef=10)\n",
    "dfield2 = spline_derivative_array(Z, FZ, s=1e-9)"
   ]
  },
  {
   "cell_type": "code",
   "execution_count": null,
   "id": "833a35d5-b804-4f63-b4db-be04ac459c76",
   "metadata": {
    "execution": {
     "iopub.execute_input": "2024-10-17T23:18:56.302534Z",
     "iopub.status.busy": "2024-10-17T23:18:56.302451Z",
     "iopub.status.idle": "2024-10-17T23:18:56.386894Z",
     "shell.execute_reply": "2024-10-17T23:18:56.386579Z"
    }
   },
   "outputs": [],
   "source": [
    "plt.plot(Z, dfield1[:, 1], label=\"fft\")\n",
    "plt.plot(Z, dfield2[:, 1], label=\"spline\")\n",
    "plt.xlabel(\"z (m)\")\n",
    "plt.ylabel(r\"$dB_z/dz$\" + r\" (T/m)\")"
   ]
  },
  {
   "cell_type": "code",
   "execution_count": null,
   "id": "bacdc66f-068a-40e0-abb2-acd12a1343e7",
   "metadata": {
    "execution": {
     "iopub.execute_input": "2024-10-17T23:18:56.388326Z",
     "iopub.status.busy": "2024-10-17T23:18:56.388216Z",
     "iopub.status.idle": "2024-10-17T23:18:56.487360Z",
     "shell.execute_reply": "2024-10-17T23:18:56.487092Z"
    }
   },
   "outputs": [],
   "source": [
    "plt.plot(Z, dfield1[:, 2], label=\"fft\")\n",
    "plt.plot(Z, dfield2[:, 2], label=\"spline\")\n",
    "plt.xlabel(\"z (m)\")\n",
    "plt.ylabel(r\"$d^2B_z/dz^2$\" + r\" (T/m^2)\")\n",
    "plt.legend()"
   ]
  },
  {
   "cell_type": "code",
   "execution_count": null,
   "id": "7bb3b16d-9ceb-4052-bfa9-ade9ee9466fe",
   "metadata": {
    "execution": {
     "iopub.execute_input": "2024-10-17T23:18:56.488647Z",
     "iopub.status.busy": "2024-10-17T23:18:56.488546Z",
     "iopub.status.idle": "2024-10-17T23:18:56.586841Z",
     "shell.execute_reply": "2024-10-17T23:18:56.586598Z"
    }
   },
   "outputs": [],
   "source": [
    "plt.plot(Z, dfield1[:, 3], label=\"fft\")\n",
    "plt.plot(Z, dfield2[:, 3], label=\"spline\")\n",
    "plt.xlabel(\"z (m)\")\n",
    "plt.ylabel(r\"$d^3B_z/dz^3$\" + r\" (T/m^3)\")\n",
    "plt.legend()"
   ]
  },
  {
   "cell_type": "markdown",
   "id": "ed01da7b-c9c3-4b08-a880-dbde1ec4a1bd",
   "metadata": {},
   "source": [
    "# FieldMesh from 1D data"
   ]
  },
  {
   "cell_type": "code",
   "execution_count": null,
   "id": "4e4eb2f9-0418-4cc3-97ec-74907c356dce",
   "metadata": {
    "execution": {
     "iopub.execute_input": "2024-10-17T23:18:56.588302Z",
     "iopub.status.busy": "2024-10-17T23:18:56.588192Z",
     "iopub.status.idle": "2024-10-17T23:18:56.674304Z",
     "shell.execute_reply": "2024-10-17T23:18:56.673993Z"
    }
   },
   "outputs": [],
   "source": [
    "FM2 = FieldMesh.from_onaxis(z=Z, Bz=FZ)\n",
    "FM2.plot_onaxis()"
   ]
  },
  {
   "cell_type": "markdown",
   "id": "d6b5f097-44c8-42c0-a64a-f4751d33e598",
   "metadata": {},
   "source": [
    "# Expansion 1D -> 2D"
   ]
  },
  {
   "cell_type": "code",
   "execution_count": null,
   "id": "6c5451c8-c33a-4a7b-b58b-29c2360bc8c3",
   "metadata": {
    "execution": {
     "iopub.execute_input": "2024-10-17T23:18:56.675953Z",
     "iopub.status.busy": "2024-10-17T23:18:56.675834Z",
     "iopub.status.idle": "2024-10-17T23:18:56.688598Z",
     "shell.execute_reply": "2024-10-17T23:18:56.688354Z"
    }
   },
   "outputs": [],
   "source": [
    "FM3 = FM2.expand_onaxis(dr=FM.dr, nr=10)\n",
    "FM3"
   ]
  },
  {
   "cell_type": "code",
   "execution_count": null,
   "id": "910f4a38-9083-4cee-a90a-d74a58959b27",
   "metadata": {
    "execution": {
     "iopub.execute_input": "2024-10-17T23:18:56.689908Z",
     "iopub.status.busy": "2024-10-17T23:18:56.689825Z",
     "iopub.status.idle": "2024-10-17T23:18:56.822889Z",
     "shell.execute_reply": "2024-10-17T23:18:56.822633Z"
    }
   },
   "outputs": [],
   "source": [
    "FM3.plot(\"Br\")"
   ]
  },
  {
   "cell_type": "code",
   "execution_count": null,
   "id": "97b3964e-cdb4-4c6d-895a-449d92966464",
   "metadata": {
    "execution": {
     "iopub.execute_input": "2024-10-17T23:18:56.824426Z",
     "iopub.status.busy": "2024-10-17T23:18:56.824231Z",
     "iopub.status.idle": "2024-10-17T23:18:56.974448Z",
     "shell.execute_reply": "2024-10-17T23:18:56.974145Z"
    }
   },
   "outputs": [],
   "source": [
    "def compare(fm1, fm2, component=\"Ez\"):\n",
    "    z = fm1.coord_vec(\"z\")\n",
    "    dr = fm1.dr\n",
    "    nr = min(fm1.shape[0], fm2.shape[0])\n",
    "\n",
    "    Fz1 = np.squeeze(fm1[component])[0:nr, :]\n",
    "    Fz2 = np.squeeze(fm2[component])[0:nr, :]\n",
    "    err = abs(Fz1 - Fz2) / np.abs(Fz1).max()\n",
    "\n",
    "    extent = np.array([z.min(), z.max(), 0, dr * (nr - 1)]) * 1000\n",
    "    plt.imshow(err, origin=\"lower\", extent=extent, aspect=\"auto\")\n",
    "    plt.xlabel(\"z (mm)\")\n",
    "    plt.ylabel(\"r (mm)\")\n",
    "\n",
    "    plt.title(f\"{component} expansion error, max err = {err.max()}\")\n",
    "    plt.colorbar(label=\"relatic expansion error\")\n",
    "\n",
    "\n",
    "compare(FM, FM3, \"B\")"
   ]
  },
  {
   "cell_type": "markdown",
   "id": "893ff23f-3edb-43e3-b96b-82e295252315",
   "metadata": {},
   "source": [
    "# RF Gun 1D -> 2D"
   ]
  },
  {
   "cell_type": "code",
   "execution_count": null,
   "id": "d2d45aa6-7bd1-4314-a1d9-41b8bddfaae2",
   "metadata": {
    "execution": {
     "iopub.execute_input": "2024-10-17T23:18:56.975860Z",
     "iopub.status.busy": "2024-10-17T23:18:56.975754Z",
     "iopub.status.idle": "2024-10-17T23:18:57.134348Z",
     "shell.execute_reply": "2024-10-17T23:18:57.134057Z"
    }
   },
   "outputs": [],
   "source": [
    "FM = FieldMesh(\"../data/rfgun.h5\")\n",
    "FM.plot()"
   ]
  },
  {
   "cell_type": "code",
   "execution_count": null,
   "id": "6351eda5-5129-44f1-a916-f87002f56d96",
   "metadata": {
    "execution": {
     "iopub.execute_input": "2024-10-17T23:18:57.135706Z",
     "iopub.status.busy": "2024-10-17T23:18:57.135547Z",
     "iopub.status.idle": "2024-10-17T23:18:57.224889Z",
     "shell.execute_reply": "2024-10-17T23:18:57.224646Z"
    }
   },
   "outputs": [],
   "source": [
    "Z = FM.coord_vec(\"z\")\n",
    "DZ = FM.dz\n",
    "FZ = np.real(FM.Ez[0, 0, :])\n",
    "\n",
    "FM2 = FieldMesh.from_onaxis(z=Z, Ez=FZ, frequency=FM.frequency)\n",
    "FM2.plot_onaxis()"
   ]
  },
  {
   "cell_type": "code",
   "execution_count": null,
   "id": "944e7ec1-5d51-4628-8433-f54761d15dba",
   "metadata": {},
   "outputs": [],
   "source": []
  },
  {
   "cell_type": "code",
   "execution_count": null,
   "id": "3448a8f5-2d07-4906-b86c-f10b7a02922f",
   "metadata": {
    "execution": {
     "iopub.execute_input": "2024-10-17T23:18:57.226240Z",
     "iopub.status.busy": "2024-10-17T23:18:57.226135Z",
     "iopub.status.idle": "2024-10-17T23:18:57.388028Z",
     "shell.execute_reply": "2024-10-17T23:18:57.387739Z"
    }
   },
   "outputs": [],
   "source": [
    "NR = 40\n",
    "FM3 = FM2.expand_onaxis(dr=FM.dr, nr=NR, method=\"fft\")\n",
    "compare(FM, FM3, \"Er\")"
   ]
  },
  {
   "cell_type": "code",
   "execution_count": null,
   "id": "62c2a4df-1222-4d7e-8e9c-0e9d97714217",
   "metadata": {
    "execution": {
     "iopub.execute_input": "2024-10-17T23:18:57.389463Z",
     "iopub.status.busy": "2024-10-17T23:18:57.389356Z",
     "iopub.status.idle": "2024-10-17T23:18:57.545016Z",
     "shell.execute_reply": "2024-10-17T23:18:57.544776Z"
    }
   },
   "outputs": [],
   "source": [
    "compare(FM, FM3, \"Ez\")"
   ]
  },
  {
   "cell_type": "code",
   "execution_count": null,
   "id": "3a2f9fb9-3e37-4ea4-a0c6-92a94125562f",
   "metadata": {
    "execution": {
     "iopub.execute_input": "2024-10-17T23:18:57.546309Z",
     "iopub.status.busy": "2024-10-17T23:18:57.546202Z",
     "iopub.status.idle": "2024-10-17T23:18:57.713903Z",
     "shell.execute_reply": "2024-10-17T23:18:57.713479Z"
    }
   },
   "outputs": [],
   "source": [
    "compare(FM, FM3, \"Btheta\")"
   ]
  },
  {
   "cell_type": "markdown",
   "id": "10f641d6-c16f-4118-a8e6-54b45f1d33fb",
   "metadata": {},
   "source": [
    "# Spline-based expansion"
   ]
  },
  {
   "cell_type": "code",
   "execution_count": null,
   "id": "00c58b7e-886f-40dd-bfa0-6eab49aa993b",
   "metadata": {
    "execution": {
     "iopub.execute_input": "2024-10-17T23:18:57.715454Z",
     "iopub.status.busy": "2024-10-17T23:18:57.715339Z",
     "iopub.status.idle": "2024-10-17T23:18:57.910963Z",
     "shell.execute_reply": "2024-10-17T23:18:57.910686Z"
    }
   },
   "outputs": [],
   "source": [
    "NR = 40\n",
    "FM4 = FM2.expand_onaxis(dr=FM.dr, nr=NR, method=\"spline\", spline_s=1e-9)\n",
    "compare(FM, FM4, \"Er\")"
   ]
  },
  {
   "cell_type": "code",
   "execution_count": null,
   "id": "4829b28d-6e03-404f-acf4-dc12c0c5c929",
   "metadata": {
    "execution": {
     "iopub.execute_input": "2024-10-17T23:18:57.912308Z",
     "iopub.status.busy": "2024-10-17T23:18:57.912200Z",
     "iopub.status.idle": "2024-10-17T23:18:58.069576Z",
     "shell.execute_reply": "2024-10-17T23:18:58.069302Z"
    }
   },
   "outputs": [],
   "source": [
    "compare(FM, FM4, \"Ez\")"
   ]
  },
  {
   "cell_type": "code",
   "execution_count": null,
   "id": "28607df0-5099-4f7b-9359-f465e52cb206",
   "metadata": {
    "execution": {
     "iopub.execute_input": "2024-10-17T23:18:58.070930Z",
     "iopub.status.busy": "2024-10-17T23:18:58.070817Z",
     "iopub.status.idle": "2024-10-17T23:18:58.231565Z",
     "shell.execute_reply": "2024-10-17T23:18:58.231300Z"
    }
   },
   "outputs": [],
   "source": [
    "compare(FM, FM4, \"Btheta\")"
   ]
  },
  {
   "cell_type": "code",
   "execution_count": null,
   "id": "1ed7bfbd-3b79-426d-adeb-edaa420473c7",
   "metadata": {
    "execution": {
     "iopub.execute_input": "2024-10-17T23:18:58.232778Z",
     "iopub.status.busy": "2024-10-17T23:18:58.232673Z",
     "iopub.status.idle": "2024-10-17T23:18:58.394837Z",
     "shell.execute_reply": "2024-10-17T23:18:58.394404Z"
    }
   },
   "outputs": [],
   "source": [
    "compare(FM, FM4, \"Btheta\")"
   ]
  },
  {
   "cell_type": "markdown",
   "id": "01c969ed-cb64-421b-b598-05de85637e62",
   "metadata": {},
   "source": [
    "# Compare Fourier and Spline "
   ]
  },
  {
   "cell_type": "code",
   "execution_count": null,
   "id": "5571f83f-5307-45f6-bc87-bb208dac658c",
   "metadata": {
    "execution": {
     "iopub.execute_input": "2024-10-17T23:18:58.396120Z",
     "iopub.status.busy": "2024-10-17T23:18:58.396005Z",
     "iopub.status.idle": "2024-10-17T23:18:58.560090Z",
     "shell.execute_reply": "2024-10-17T23:18:58.559829Z"
    }
   },
   "outputs": [],
   "source": [
    "# Differences between the two methods\n",
    "compare(FM3, FM4, \"E\")"
   ]
  },
  {
   "cell_type": "code",
   "execution_count": null,
   "id": "e4cfef90-189c-4c49-8755-e421c6ca7bf6",
   "metadata": {
    "execution": {
     "iopub.execute_input": "2024-10-17T23:18:58.561401Z",
     "iopub.status.busy": "2024-10-17T23:18:58.561287Z",
     "iopub.status.idle": "2024-10-17T23:18:58.573704Z",
     "shell.execute_reply": "2024-10-17T23:18:58.573450Z"
    }
   },
   "outputs": [],
   "source": [
    "def compare2(comp=\"Er\"):\n",
    "    NR = 10\n",
    "    FM5 = FM2.expand_onaxis(dr=FM.dr, nr=NR, method=\"fft\", ncoef=15)\n",
    "\n",
    "    if comp.startswith(\"E\"):\n",
    "        func = np.real\n",
    "    else:\n",
    "        func = np.imag\n",
    "\n",
    "    f0 = func(FM[comp][NR - 1, 0, :])\n",
    "\n",
    "    f5 = func(FM5[comp][NR - 1, 0, :])\n",
    "\n",
    "    FM6 = FM2.expand_onaxis(dr=FM.dr, nr=NR, method=\"spline\", spline_s=1e-9)\n",
    "    f6 = func(FM6[comp][NR - 1, 0, :])\n",
    "\n",
    "    fix, ax = plt.subplots()\n",
    "    ax2 = ax.twinx()\n",
    "    ax.plot(f0, label=\"original\")\n",
    "    ax.plot(f5, \"--\", label=\"fourier\")\n",
    "    ax.plot(f6, \"--\", label=\"spline\")\n",
    "    ax.legend(loc=\"upper left\")\n",
    "    ax2.plot(abs((f5 - f0) / f0), color=\"purple\", label=\"relative fourier error\")\n",
    "    ax2.plot(abs((f6 - f0) / f0), color=\"grey\", label=\"relative spline error\")\n",
    "    ax2.set_yscale(\"log\")\n",
    "    ax.set_ylabel(comp)\n",
    "    ax2.set_ylabel(\"relative error\")\n",
    "    ax2.legend(loc=\"upper right\")\n",
    "    ax.set_xlabel(\"index along z\")"
   ]
  },
  {
   "cell_type": "code",
   "execution_count": null,
   "id": "539bcb9f-7441-41f0-970f-267028f8ba49",
   "metadata": {
    "execution": {
     "iopub.execute_input": "2024-10-17T23:18:58.575027Z",
     "iopub.status.busy": "2024-10-17T23:18:58.574943Z",
     "iopub.status.idle": "2024-10-17T23:18:58.818657Z",
     "shell.execute_reply": "2024-10-17T23:18:58.818412Z"
    }
   },
   "outputs": [],
   "source": [
    "compare2(\"Er\")"
   ]
  },
  {
   "cell_type": "code",
   "execution_count": null,
   "id": "d64f302f-8542-443d-9994-049790f4285f",
   "metadata": {
    "execution": {
     "iopub.execute_input": "2024-10-17T23:18:58.820047Z",
     "iopub.status.busy": "2024-10-17T23:18:58.819939Z",
     "iopub.status.idle": "2024-10-17T23:18:59.084815Z",
     "shell.execute_reply": "2024-10-17T23:18:59.084545Z"
    }
   },
   "outputs": [],
   "source": [
    "compare2(\"Ez\")"
   ]
  },
  {
   "cell_type": "code",
   "execution_count": null,
   "id": "a04450e4-8141-4a7b-a3c4-719737932af1",
   "metadata": {
    "execution": {
     "iopub.execute_input": "2024-10-17T23:18:59.086039Z",
     "iopub.status.busy": "2024-10-17T23:18:59.085932Z",
     "iopub.status.idle": "2024-10-17T23:18:59.320000Z",
     "shell.execute_reply": "2024-10-17T23:18:59.319675Z"
    }
   },
   "outputs": [],
   "source": [
    "compare2(\"Btheta\")"
   ]
  }
 ],
 "metadata": {
  "kernelspec": {
   "display_name": "Python 3 (ipykernel)",
   "language": "python",
   "name": "python3"
  },
  "language_info": {
   "codemirror_mode": {
    "name": "ipython",
    "version": 3
   },
   "file_extension": ".py",
   "mimetype": "text/x-python",
   "name": "python",
   "nbconvert_exporter": "python",
   "pygments_lexer": "ipython3",
   "version": "3.12.7"
  }
 },
 "nbformat": 4,
 "nbformat_minor": 5
}
