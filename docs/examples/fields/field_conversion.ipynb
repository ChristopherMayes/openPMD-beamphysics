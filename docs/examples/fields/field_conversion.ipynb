{
 "cells": [
  {
   "cell_type": "markdown",
   "metadata": {},
   "source": [
    "# FieldMesh Conversion"
   ]
  },
  {
   "cell_type": "code",
   "execution_count": null,
   "metadata": {
    "execution": {
     "iopub.execute_input": "2024-10-17T23:18:52.293285Z",
     "iopub.status.busy": "2024-10-17T23:18:52.292993Z",
     "iopub.status.idle": "2024-10-17T23:18:52.825224Z",
     "shell.execute_reply": "2024-10-17T23:18:52.824976Z"
    },
    "tags": []
   },
   "outputs": [],
   "source": [
    "from pmd_beamphysics import FieldMesh\n",
    "\n",
    "import numpy as np\n",
    "import matplotlib.pyplot as plt"
   ]
  },
  {
   "cell_type": "markdown",
   "metadata": {},
   "source": [
    "## 2D cylindrically symmetric RF gun FieldMesh\n",
    "\n",
    "This data was originally generated using Superfish."
   ]
  },
  {
   "cell_type": "code",
   "execution_count": null,
   "metadata": {
    "execution": {
     "iopub.execute_input": "2024-10-17T23:18:52.826737Z",
     "iopub.status.busy": "2024-10-17T23:18:52.826609Z",
     "iopub.status.idle": "2024-10-17T23:18:52.928563Z",
     "shell.execute_reply": "2024-10-17T23:18:52.928322Z"
    },
    "tags": []
   },
   "outputs": [],
   "source": [
    "FM1 = FieldMesh(\"../data/rfgun.h5\")\n",
    "FM1.plot(\"re_E\", aspect=\"equal\", figsize=(12, 4))"
   ]
  },
  {
   "cell_type": "markdown",
   "metadata": {},
   "source": [
    "## 3D rectangular field from ANSYS "
   ]
  },
  {
   "cell_type": "code",
   "execution_count": null,
   "metadata": {
    "execution": {
     "iopub.execute_input": "2024-10-17T23:18:52.948985Z",
     "iopub.status.busy": "2024-10-17T23:18:52.948862Z",
     "iopub.status.idle": "2024-10-17T23:18:52.959223Z",
     "shell.execute_reply": "2024-10-17T23:18:52.959010Z"
    }
   },
   "outputs": [],
   "source": [
    "FM3D = FieldMesh.from_ansys_ascii_3d(\n",
    "    efile=\"../data/ansys_rfgun_2856MHz_E.dat\",\n",
    "    hfile=\"../data/ansys_rfgun_2856MHz_H.dat\",\n",
    "    frequency=2856e6,\n",
    ")\n",
    "\n",
    "\n",
    "FM3D"
   ]
  },
  {
   "cell_type": "markdown",
   "metadata": {},
   "source": [
    "This will convert to 2D cylindrical:"
   ]
  },
  {
   "cell_type": "code",
   "execution_count": null,
   "metadata": {
    "execution": {
     "iopub.execute_input": "2024-10-17T23:18:52.960408Z",
     "iopub.status.busy": "2024-10-17T23:18:52.960332Z",
     "iopub.status.idle": "2024-10-17T23:18:52.962492Z",
     "shell.execute_reply": "2024-10-17T23:18:52.962244Z"
    }
   },
   "outputs": [],
   "source": [
    "FM2 = FM3D.to_cylindrical()\n",
    "FM2"
   ]
  },
  {
   "cell_type": "markdown",
   "metadata": {},
   "source": [
    "Spacing is different:"
   ]
  },
  {
   "cell_type": "code",
   "execution_count": null,
   "metadata": {
    "execution": {
     "iopub.execute_input": "2024-10-17T23:18:52.963649Z",
     "iopub.status.busy": "2024-10-17T23:18:52.963570Z",
     "iopub.status.idle": "2024-10-17T23:18:52.965505Z",
     "shell.execute_reply": "2024-10-17T23:18:52.965293Z"
    }
   },
   "outputs": [],
   "source": [
    "FM1.dr, FM2.dr"
   ]
  },
  {
   "cell_type": "markdown",
   "metadata": {},
   "source": [
    "Set a scale to rotate and normalize Ez to be mostly real"
   ]
  },
  {
   "cell_type": "code",
   "execution_count": null,
   "metadata": {
    "execution": {
     "iopub.execute_input": "2024-10-17T23:18:52.966674Z",
     "iopub.status.busy": "2024-10-17T23:18:52.966599Z",
     "iopub.status.idle": "2024-10-17T23:18:52.968729Z",
     "shell.execute_reply": "2024-10-17T23:18:52.968537Z"
    }
   },
   "outputs": [],
   "source": [
    "E0 = FM2.components[\"electricField/z\"][0, 0, 0]\n",
    "FM2.scale = -np.exp(-1j * np.angle(E0)) / np.abs(E0)  # - sign to agree with FM1\n",
    "\n",
    "FM2.Ez[0, 0, 0]"
   ]
  },
  {
   "cell_type": "code",
   "execution_count": null,
   "metadata": {
    "execution": {
     "iopub.execute_input": "2024-10-17T23:18:52.969849Z",
     "iopub.status.busy": "2024-10-17T23:18:52.969771Z",
     "iopub.status.idle": "2024-10-17T23:18:53.122202Z",
     "shell.execute_reply": "2024-10-17T23:18:53.121929Z"
    }
   },
   "outputs": [],
   "source": [
    "z1 = FM1.coord_vec(\"z\")\n",
    "z2 = FM2.coord_vec(\"z\")\n",
    "\n",
    "\n",
    "fig, ax = plt.subplots()\n",
    "ax.plot(z1, np.real(FM1.Ez[0, 0, :]), label=\"Superfish\")\n",
    "ax.plot(z2, np.real(FM2.Ez[0, 0, :]), label=\"ANSYS\")\n",
    "ax.set_xlabel(r\"$z$ (m)\")\n",
    "ax.set_ylabel(r\"$E_z$ (V/m)\")\n",
    "plt.legend()"
   ]
  },
  {
   "cell_type": "code",
   "execution_count": null,
   "metadata": {
    "execution": {
     "iopub.execute_input": "2024-10-17T23:18:53.123387Z",
     "iopub.status.busy": "2024-10-17T23:18:53.123273Z",
     "iopub.status.idle": "2024-10-17T23:18:53.226239Z",
     "shell.execute_reply": "2024-10-17T23:18:53.225993Z"
    }
   },
   "outputs": [],
   "source": [
    "fig, ax = plt.subplots()\n",
    "ax.plot(z1, np.imag(FM1.Btheta[4, 0, :]), label=\"superfish\")\n",
    "ax.plot(z2, np.imag(FM2.Btheta[1, 0, :]), label=\"ansys\")\n",
    "\n",
    "ax.set_title(rf\"$r$ = {FM2.dr*1000} mm\")\n",
    "ax.set_xlabel(r\"$z$ (m)\")\n",
    "ax.set_ylabel(r\"$B_\\theta$ (T)\")\n",
    "plt.legend()"
   ]
  },
  {
   "cell_type": "markdown",
   "metadata": {},
   "source": [
    "The magnetic field is out of phase, so use the `im_` syntax:"
   ]
  },
  {
   "cell_type": "code",
   "execution_count": null,
   "metadata": {
    "execution": {
     "iopub.execute_input": "2024-10-17T23:18:53.227638Z",
     "iopub.status.busy": "2024-10-17T23:18:53.227525Z",
     "iopub.status.idle": "2024-10-17T23:18:53.286176Z",
     "shell.execute_reply": "2024-10-17T23:18:53.285921Z"
    },
    "tags": []
   },
   "outputs": [],
   "source": [
    "FM2.plot(\"im_Btheta\", aspect=\"equal\", figsize=(12, 4))"
   ]
  },
  {
   "cell_type": "markdown",
   "metadata": {},
   "source": [
    "Max on-axis field:"
   ]
  },
  {
   "cell_type": "code",
   "execution_count": null,
   "metadata": {
    "execution": {
     "iopub.execute_input": "2024-10-17T23:18:53.287485Z",
     "iopub.status.busy": "2024-10-17T23:18:53.287396Z",
     "iopub.status.idle": "2024-10-17T23:18:53.289642Z",
     "shell.execute_reply": "2024-10-17T23:18:53.289442Z"
    },
    "tags": []
   },
   "outputs": [],
   "source": [
    "np.abs(FM2.Ez[0, 0, :]).max()"
   ]
  },
  {
   "cell_type": "markdown",
   "metadata": {},
   "source": [
    "## Verify the oscillation\n",
    "\n",
    "Complex fields oscillate as $e^{-i\\omega t}$. For TM fields, the spatial components $E_z$ and $B_\\theta$ near the axis \n",
    "\n",
    "$\\Re E_{z} = -\\frac{r}{2}\\frac{\\omega}{c^2} \\Im B_\\theta$\n"
   ]
  },
  {
   "cell_type": "code",
   "execution_count": null,
   "metadata": {
    "execution": {
     "iopub.execute_input": "2024-10-17T23:18:53.290845Z",
     "iopub.status.busy": "2024-10-17T23:18:53.290771Z",
     "iopub.status.idle": "2024-10-17T23:18:53.293170Z",
     "shell.execute_reply": "2024-10-17T23:18:53.292905Z"
    },
    "tags": []
   },
   "outputs": [],
   "source": [
    "def check_oscillation(FM, label=\"\"):\n",
    "    c_light = 299792458.0\n",
    "\n",
    "    dr = FM.dr\n",
    "    omega = FM.frequency * 2 * np.pi\n",
    "\n",
    "    # Check the first off-axis grid points\n",
    "    z0 = FM.z\n",
    "    Ez0 = np.real(FM.Ez[0, 0, :])\n",
    "    B1 = -np.imag(FM.Btheta[1, 0, :])\n",
    "\n",
    "    plt.plot(z0, Ez0, label=r\"$\\Re \\left( E_z\\right)$\")\n",
    "    plt.plot(\n",
    "        z0,\n",
    "        B1 * 2 / dr * c_light**2 / omega,\n",
    "        \"--\",\n",
    "        label=r\"$-\\frac{r}{2}\\frac{\\omega}{c^2} \\Im\\left(B_\\theta\\right)$\",\n",
    "    )\n",
    "    plt.ylabel(\"field (V/m)\")\n",
    "    plt.xlabel(\"z (m)\")\n",
    "    plt.legend()\n",
    "    plt.title(rf\"Complex field oscillation{label}\")"
   ]
  },
  {
   "cell_type": "code",
   "execution_count": null,
   "metadata": {
    "execution": {
     "iopub.execute_input": "2024-10-17T23:18:53.294225Z",
     "iopub.status.busy": "2024-10-17T23:18:53.294145Z",
     "iopub.status.idle": "2024-10-17T23:18:53.402663Z",
     "shell.execute_reply": "2024-10-17T23:18:53.402397Z"
    }
   },
   "outputs": [],
   "source": [
    "check_oscillation(FM1, \", Superfish\")"
   ]
  },
  {
   "cell_type": "code",
   "execution_count": null,
   "metadata": {
    "execution": {
     "iopub.execute_input": "2024-10-17T23:18:53.403863Z",
     "iopub.status.busy": "2024-10-17T23:18:53.403780Z",
     "iopub.status.idle": "2024-10-17T23:18:53.508909Z",
     "shell.execute_reply": "2024-10-17T23:18:53.508669Z"
    }
   },
   "outputs": [],
   "source": [
    "check_oscillation(FM2, \", ANSYS\")"
   ]
  }
 ],
 "metadata": {
  "kernelspec": {
   "display_name": "Python 3 (ipykernel)",
   "language": "python",
   "name": "python3"
  },
  "language_info": {
   "codemirror_mode": {
    "name": "ipython",
    "version": 3
   },
   "file_extension": ".py",
   "mimetype": "text/x-python",
   "name": "python",
   "nbconvert_exporter": "python",
   "pygments_lexer": "ipython3",
   "version": "3.12.7"
  }
 },
 "nbformat": 4,
 "nbformat_minor": 4
}
