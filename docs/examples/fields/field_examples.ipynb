{
 "cells": [
  {
   "cell_type": "markdown",
   "metadata": {},
   "source": [
    "# FieldMesh Examples"
   ]
  },
  {
   "cell_type": "code",
   "execution_count": null,
   "metadata": {
    "execution": {
     "iopub.execute_input": "2024-10-17T23:18:42.691718Z",
     "iopub.status.busy": "2024-10-17T23:18:42.691369Z",
     "iopub.status.idle": "2024-10-17T23:18:43.214968Z",
     "shell.execute_reply": "2024-10-17T23:18:43.214709Z"
    },
    "tags": []
   },
   "outputs": [],
   "source": [
    "from pmd_beamphysics import FieldMesh\n",
    "\n",
    "\n",
    "import numpy as np\n",
    "\n",
    "# Nicer plotting\n",
    "import matplotlib.pyplot as plt"
   ]
  },
  {
   "cell_type": "code",
   "execution_count": null,
   "metadata": {
    "execution": {
     "iopub.execute_input": "2024-10-17T23:18:43.216530Z",
     "iopub.status.busy": "2024-10-17T23:18:43.216397Z",
     "iopub.status.idle": "2024-10-17T23:18:43.222631Z",
     "shell.execute_reply": "2024-10-17T23:18:43.222403Z"
    },
    "tags": []
   },
   "outputs": [],
   "source": [
    "FM = FieldMesh(\"../data/solenoid.h5\")\n",
    "FM.geometry"
   ]
  },
  {
   "cell_type": "markdown",
   "metadata": {},
   "source": [
    "Built-in plotting:"
   ]
  },
  {
   "cell_type": "code",
   "execution_count": null,
   "metadata": {
    "execution": {
     "iopub.execute_input": "2024-10-17T23:18:43.242901Z",
     "iopub.status.busy": "2024-10-17T23:18:43.242783Z",
     "iopub.status.idle": "2024-10-17T23:18:43.358240Z",
     "shell.execute_reply": "2024-10-17T23:18:43.357983Z"
    },
    "tags": []
   },
   "outputs": [],
   "source": [
    "FM.plot(\"B\", aspect=\"equal\")"
   ]
  },
  {
   "cell_type": "markdown",
   "metadata": {},
   "source": [
    "On-axis field plotting"
   ]
  },
  {
   "cell_type": "code",
   "execution_count": null,
   "metadata": {
    "execution": {
     "iopub.execute_input": "2024-10-17T23:18:43.359545Z",
     "iopub.status.busy": "2024-10-17T23:18:43.359444Z",
     "iopub.status.idle": "2024-10-17T23:18:43.499704Z",
     "shell.execute_reply": "2024-10-17T23:18:43.499473Z"
    },
    "tags": []
   },
   "outputs": [],
   "source": [
    "FM.plot_onaxis()"
   ]
  },
  {
   "attachments": {},
   "cell_type": "markdown",
   "metadata": {},
   "source": [
    "Off-axis plotting can be done with the `axis_values` method to get interpolated values, and manually plot:"
   ]
  },
  {
   "cell_type": "code",
   "execution_count": null,
   "metadata": {
    "execution": {
     "iopub.execute_input": "2024-10-17T23:18:43.501037Z",
     "iopub.status.busy": "2024-10-17T23:18:43.500949Z",
     "iopub.status.idle": "2024-10-17T23:18:43.565691Z",
     "shell.execute_reply": "2024-10-17T23:18:43.565442Z"
    }
   },
   "outputs": [],
   "source": [
    "z, Bz = FM.axis_values(\"z\", \"abs_B\", r=0.04)\n",
    "plt.plot(z, Bz)\n",
    "plt.xlabel(r\"$z$ (m)\")\n",
    "plt.ylabel(r\"$\\left|B\\right|$ (T)\")\n",
    "plt.show()"
   ]
  },
  {
   "cell_type": "markdown",
   "metadata": {},
   "source": [
    "# Interpolation\n",
    "\n",
    "Arbirtrary points can also be interpolated. Here is the value of $B_z$ at `r=0.01`, `theta=0`, `z=0`:"
   ]
  },
  {
   "cell_type": "code",
   "execution_count": null,
   "metadata": {
    "execution": {
     "iopub.execute_input": "2024-10-17T23:18:43.566956Z",
     "iopub.status.busy": "2024-10-17T23:18:43.566877Z",
     "iopub.status.idle": "2024-10-17T23:18:43.569243Z",
     "shell.execute_reply": "2024-10-17T23:18:43.569030Z"
    }
   },
   "outputs": [],
   "source": [
    "FM.interpolate(\"Bz\", (0.01, 0, 0))"
   ]
  },
  {
   "cell_type": "code",
   "execution_count": null,
   "metadata": {
    "execution": {
     "iopub.execute_input": "2024-10-17T23:18:43.570364Z",
     "iopub.status.busy": "2024-10-17T23:18:43.570291Z",
     "iopub.status.idle": "2024-10-17T23:18:43.572425Z",
     "shell.execute_reply": "2024-10-17T23:18:43.572201Z"
    }
   },
   "outputs": [],
   "source": [
    "FM.interpolate(\"Bz\", [(0, 0, z) for z in np.linspace(-0.1, 0.1, 3)])"
   ]
  },
  {
   "cell_type": "markdown",
   "metadata": {},
   "source": [
    "Note that the points are orderd by the axis labels:"
   ]
  },
  {
   "cell_type": "code",
   "execution_count": null,
   "metadata": {
    "execution": {
     "iopub.execute_input": "2024-10-17T23:18:43.573534Z",
     "iopub.status.busy": "2024-10-17T23:18:43.573458Z",
     "iopub.status.idle": "2024-10-17T23:18:43.575372Z",
     "shell.execute_reply": "2024-10-17T23:18:43.575172Z"
    }
   },
   "outputs": [],
   "source": [
    "FM.axis_labels"
   ]
  },
  {
   "cell_type": "markdown",
   "metadata": {},
   "source": [
    "# Internal data\n",
    "\n",
    "attributes and components"
   ]
  },
  {
   "cell_type": "code",
   "execution_count": null,
   "metadata": {
    "execution": {
     "iopub.execute_input": "2024-10-17T23:18:43.576439Z",
     "iopub.status.busy": "2024-10-17T23:18:43.576368Z",
     "iopub.status.idle": "2024-10-17T23:18:43.578631Z",
     "shell.execute_reply": "2024-10-17T23:18:43.578342Z"
    },
    "tags": []
   },
   "outputs": [],
   "source": [
    "FM.attrs, FM.components.keys()"
   ]
  },
  {
   "cell_type": "markdown",
   "metadata": {},
   "source": [
    "# Properties\n",
    "\n",
    "Convenient access to these"
   ]
  },
  {
   "cell_type": "code",
   "execution_count": null,
   "metadata": {
    "execution": {
     "iopub.execute_input": "2024-10-17T23:18:43.580371Z",
     "iopub.status.busy": "2024-10-17T23:18:43.580300Z",
     "iopub.status.idle": "2024-10-17T23:18:43.582105Z",
     "shell.execute_reply": "2024-10-17T23:18:43.581905Z"
    },
    "tags": []
   },
   "outputs": [],
   "source": [
    "FM.shape"
   ]
  },
  {
   "cell_type": "code",
   "execution_count": null,
   "metadata": {
    "execution": {
     "iopub.execute_input": "2024-10-17T23:18:43.583181Z",
     "iopub.status.busy": "2024-10-17T23:18:43.583109Z",
     "iopub.status.idle": "2024-10-17T23:18:43.585004Z",
     "shell.execute_reply": "2024-10-17T23:18:43.584813Z"
    },
    "tags": []
   },
   "outputs": [],
   "source": [
    "FM.frequency"
   ]
  },
  {
   "cell_type": "markdown",
   "metadata": {},
   "source": [
    "Coordinate vectors: `.r`, `.theta`, `.z`, etc."
   ]
  },
  {
   "cell_type": "code",
   "execution_count": null,
   "metadata": {
    "execution": {
     "iopub.execute_input": "2024-10-17T23:18:43.586311Z",
     "iopub.status.busy": "2024-10-17T23:18:43.586238Z",
     "iopub.status.idle": "2024-10-17T23:18:43.588336Z",
     "shell.execute_reply": "2024-10-17T23:18:43.588142Z"
    },
    "tags": []
   },
   "outputs": [],
   "source": [
    "FM.r, FM.dr"
   ]
  },
  {
   "cell_type": "markdown",
   "metadata": {},
   "source": [
    "Grid info"
   ]
  },
  {
   "cell_type": "code",
   "execution_count": null,
   "metadata": {
    "execution": {
     "iopub.execute_input": "2024-10-17T23:18:43.589652Z",
     "iopub.status.busy": "2024-10-17T23:18:43.589587Z",
     "iopub.status.idle": "2024-10-17T23:18:43.591656Z",
     "shell.execute_reply": "2024-10-17T23:18:43.591460Z"
    },
    "tags": []
   },
   "outputs": [],
   "source": [
    "FM.mins, FM.maxs, FM.deltas"
   ]
  },
  {
   "cell_type": "markdown",
   "metadata": {},
   "source": [
    "Convenient logicals"
   ]
  },
  {
   "cell_type": "code",
   "execution_count": null,
   "metadata": {
    "execution": {
     "iopub.execute_input": "2024-10-17T23:18:43.592947Z",
     "iopub.status.busy": "2024-10-17T23:18:43.592876Z",
     "iopub.status.idle": "2024-10-17T23:18:43.594932Z",
     "shell.execute_reply": "2024-10-17T23:18:43.594728Z"
    },
    "tags": []
   },
   "outputs": [],
   "source": [
    "FM.is_static, FM.is_pure_magnetic, FM.is_pure_magnetic, FM.is_pure_electric"
   ]
  },
  {
   "cell_type": "markdown",
   "metadata": {},
   "source": [
    "# Components"
   ]
  },
  {
   "cell_type": "code",
   "execution_count": null,
   "metadata": {
    "execution": {
     "iopub.execute_input": "2024-10-17T23:18:43.596009Z",
     "iopub.status.busy": "2024-10-17T23:18:43.595943Z",
     "iopub.status.idle": "2024-10-17T23:18:43.598174Z",
     "shell.execute_reply": "2024-10-17T23:18:43.597976Z"
    },
    "tags": []
   },
   "outputs": [],
   "source": [
    "FM.components"
   ]
  },
  {
   "cell_type": "markdown",
   "metadata": {},
   "source": [
    "Convenient access to component data"
   ]
  },
  {
   "cell_type": "code",
   "execution_count": null,
   "metadata": {
    "execution": {
     "iopub.execute_input": "2024-10-17T23:18:43.599301Z",
     "iopub.status.busy": "2024-10-17T23:18:43.599229Z",
     "iopub.status.idle": "2024-10-17T23:18:43.601120Z",
     "shell.execute_reply": "2024-10-17T23:18:43.600931Z"
    },
    "tags": []
   },
   "outputs": [],
   "source": [
    "FM.Bz is FM[\"magneticField/z\"]"
   ]
  },
  {
   "cell_type": "markdown",
   "metadata": {},
   "source": [
    "Setting .scale will set the underlying attribute"
   ]
  },
  {
   "cell_type": "code",
   "execution_count": null,
   "metadata": {
    "execution": {
     "iopub.execute_input": "2024-10-17T23:18:43.602182Z",
     "iopub.status.busy": "2024-10-17T23:18:43.602111Z",
     "iopub.status.idle": "2024-10-17T23:18:43.604082Z",
     "shell.execute_reply": "2024-10-17T23:18:43.603894Z"
    },
    "tags": []
   },
   "outputs": [],
   "source": [
    "FM.scale = 2\n",
    "FM.attrs[\"fieldScale\"], FM.scale"
   ]
  },
  {
   "cell_type": "markdown",
   "metadata": {},
   "source": [
    "Raw components accessed by their full key"
   ]
  },
  {
   "cell_type": "code",
   "execution_count": null,
   "metadata": {
    "execution": {
     "iopub.execute_input": "2024-10-17T23:18:43.605160Z",
     "iopub.status.busy": "2024-10-17T23:18:43.605092Z",
     "iopub.status.idle": "2024-10-17T23:18:43.607118Z",
     "shell.execute_reply": "2024-10-17T23:18:43.606922Z"
    }
   },
   "outputs": [],
   "source": [
    "FM[\"magneticField/z\"]"
   ]
  },
  {
   "cell_type": "markdown",
   "metadata": {},
   "source": [
    "Scaled component accessed by shorter keys, e.g. "
   ]
  },
  {
   "cell_type": "code",
   "execution_count": null,
   "metadata": {
    "execution": {
     "iopub.execute_input": "2024-10-17T23:18:43.608179Z",
     "iopub.status.busy": "2024-10-17T23:18:43.608112Z",
     "iopub.status.idle": "2024-10-17T23:18:43.610064Z",
     "shell.execute_reply": "2024-10-17T23:18:43.609879Z"
    }
   },
   "outputs": [],
   "source": [
    "FM[\"Bz\"]"
   ]
  },
  {
   "cell_type": "code",
   "execution_count": null,
   "metadata": {
    "execution": {
     "iopub.execute_input": "2024-10-17T23:18:43.611105Z",
     "iopub.status.busy": "2024-10-17T23:18:43.611026Z",
     "iopub.status.idle": "2024-10-17T23:18:43.613064Z",
     "shell.execute_reply": "2024-10-17T23:18:43.612865Z"
    },
    "tags": []
   },
   "outputs": [],
   "source": [
    "FM[\"magneticField/z\"].max(), FM[\"Bz\"].max()"
   ]
  },
  {
   "cell_type": "markdown",
   "metadata": {},
   "source": [
    "# Oscillating fields\n",
    "\n",
    "Oscillating fields have `.harmonic > 0`"
   ]
  },
  {
   "cell_type": "code",
   "execution_count": null,
   "metadata": {
    "execution": {
     "iopub.execute_input": "2024-10-17T23:18:43.614131Z",
     "iopub.status.busy": "2024-10-17T23:18:43.614062Z",
     "iopub.status.idle": "2024-10-17T23:18:43.705873Z",
     "shell.execute_reply": "2024-10-17T23:18:43.705622Z"
    },
    "tags": []
   },
   "outputs": [],
   "source": [
    "FM = FieldMesh(\"../data/rfgun.h5\")\n",
    "FM.plot(\"re_E\", aspect=\"equal\", figsize=(12, 4))"
   ]
  },
  {
   "cell_type": "markdown",
   "metadata": {},
   "source": [
    "The magnetic field is out of phase, so use the `im_` syntax:"
   ]
  },
  {
   "cell_type": "code",
   "execution_count": null,
   "metadata": {
    "execution": {
     "iopub.execute_input": "2024-10-17T23:18:43.707158Z",
     "iopub.status.busy": "2024-10-17T23:18:43.707050Z",
     "iopub.status.idle": "2024-10-17T23:18:43.795881Z",
     "shell.execute_reply": "2024-10-17T23:18:43.795634Z"
    },
    "tags": []
   },
   "outputs": [],
   "source": [
    "FM.plot(\"im_Btheta\", aspect=\"equal\", figsize=(12, 4))"
   ]
  },
  {
   "cell_type": "markdown",
   "metadata": {},
   "source": [
    "Max on-axis field:"
   ]
  },
  {
   "cell_type": "code",
   "execution_count": null,
   "metadata": {
    "execution": {
     "iopub.execute_input": "2024-10-17T23:18:43.797129Z",
     "iopub.status.busy": "2024-10-17T23:18:43.797051Z",
     "iopub.status.idle": "2024-10-17T23:18:43.799178Z",
     "shell.execute_reply": "2024-10-17T23:18:43.798978Z"
    },
    "tags": []
   },
   "outputs": [],
   "source": [
    "np.abs(FM.Ez[0, 0, :]).max()"
   ]
  },
  {
   "cell_type": "markdown",
   "metadata": {},
   "source": [
    "## Verify the oscillation\n",
    "\n",
    "Complex fields oscillate as $e^{-i\\omega t}$. For TM fields, the spatial components $E_z$ and $B_\\theta$ near the axis \n",
    "\n",
    "$\\Re E_{z} = -\\frac{r}{2}\\frac{\\omega}{c^2} \\Im B_\\theta$\n"
   ]
  },
  {
   "cell_type": "code",
   "execution_count": null,
   "metadata": {
    "execution": {
     "iopub.execute_input": "2024-10-17T23:18:43.800298Z",
     "iopub.status.busy": "2024-10-17T23:18:43.800221Z",
     "iopub.status.idle": "2024-10-17T23:18:43.906583Z",
     "shell.execute_reply": "2024-10-17T23:18:43.906321Z"
    },
    "tags": []
   },
   "outputs": [],
   "source": [
    "c_light = 299792458.0\n",
    "\n",
    "dr = FM.dr\n",
    "omega = FM.frequency * 2 * np.pi\n",
    "\n",
    "# Check the first off-axis grid points\n",
    "z0 = FM.z\n",
    "Ez0 = np.real(FM.Ez[0, 0, :])\n",
    "B1 = -np.imag(FM.Btheta[1, 0, :])\n",
    "\n",
    "plt.plot(z0, Ez0, label=r\"$\\Re \\left( E_z\\right)$\")\n",
    "plt.plot(\n",
    "    z0,\n",
    "    B1 * 2 / dr * c_light**2 / omega,\n",
    "    \"--\",\n",
    "    label=r\"$-\\frac{r}{2}\\frac{\\omega}{c^2} \\Im\\left(B_\\theta\\right)$\",\n",
    ")\n",
    "plt.ylabel(\"field (V/m)\")\n",
    "plt.xlabel(\"z (m)\")\n",
    "plt.legend()\n",
    "plt.title(r\"Complex field oscillation\")"
   ]
  },
  {
   "cell_type": "markdown",
   "metadata": {},
   "source": [
    "# Units"
   ]
  },
  {
   "cell_type": "code",
   "execution_count": null,
   "metadata": {
    "execution": {
     "iopub.execute_input": "2024-10-17T23:18:43.907833Z",
     "iopub.status.busy": "2024-10-17T23:18:43.907752Z",
     "iopub.status.idle": "2024-10-17T23:18:43.909903Z",
     "shell.execute_reply": "2024-10-17T23:18:43.909701Z"
    },
    "tags": []
   },
   "outputs": [],
   "source": [
    "FM.units(\"Bz\")"
   ]
  },
  {
   "cell_type": "markdown",
   "metadata": {},
   "source": [
    "This also works:"
   ]
  },
  {
   "cell_type": "code",
   "execution_count": null,
   "metadata": {
    "execution": {
     "iopub.execute_input": "2024-10-17T23:18:43.911016Z",
     "iopub.status.busy": "2024-10-17T23:18:43.910948Z",
     "iopub.status.idle": "2024-10-17T23:18:43.912844Z",
     "shell.execute_reply": "2024-10-17T23:18:43.912648Z"
    },
    "tags": []
   },
   "outputs": [],
   "source": [
    "FM.units(\"abs_Ez\")"
   ]
  },
  {
   "cell_type": "markdown",
   "metadata": {},
   "source": [
    "# Write"
   ]
  },
  {
   "cell_type": "code",
   "execution_count": null,
   "metadata": {
    "execution": {
     "iopub.execute_input": "2024-10-17T23:18:43.914054Z",
     "iopub.status.busy": "2024-10-17T23:18:43.913981Z",
     "iopub.status.idle": "2024-10-17T23:18:43.918440Z",
     "shell.execute_reply": "2024-10-17T23:18:43.918224Z"
    },
    "tags": []
   },
   "outputs": [],
   "source": [
    "FM.write(\"rfgun2.h5\")"
   ]
  },
  {
   "cell_type": "markdown",
   "metadata": {},
   "source": [
    "Read back and make sure the data are the same."
   ]
  },
  {
   "cell_type": "code",
   "execution_count": null,
   "metadata": {
    "execution": {
     "iopub.execute_input": "2024-10-17T23:18:43.919573Z",
     "iopub.status.busy": "2024-10-17T23:18:43.919499Z",
     "iopub.status.idle": "2024-10-17T23:18:43.924086Z",
     "shell.execute_reply": "2024-10-17T23:18:43.923875Z"
    },
    "tags": []
   },
   "outputs": [],
   "source": [
    "FM2 = FieldMesh(\"rfgun2.h5\")\n",
    "\n",
    "assert FM == FM2"
   ]
  },
  {
   "cell_type": "markdown",
   "metadata": {},
   "source": [
    "Write to open HDF5 file and test reload:"
   ]
  },
  {
   "cell_type": "code",
   "execution_count": null,
   "metadata": {
    "execution": {
     "iopub.execute_input": "2024-10-17T23:18:43.925284Z",
     "iopub.status.busy": "2024-10-17T23:18:43.925212Z",
     "iopub.status.idle": "2024-10-17T23:18:43.931910Z",
     "shell.execute_reply": "2024-10-17T23:18:43.931653Z"
    },
    "tags": []
   },
   "outputs": [],
   "source": [
    "import h5py\n",
    "\n",
    "with h5py.File(\"test.h5\", \"w\") as h5:\n",
    "    FM.write(h5, name=\"myfield\")\n",
    "    FM2 = FieldMesh(h5=h5[\"myfield\"])\n",
    "    assert FM == FM2"
   ]
  },
  {
   "cell_type": "markdown",
   "metadata": {},
   "source": [
    "## Write Astra 1D\n",
    "\n",
    "Astra primarily uses simple 1D (on-axis) fieldmaps."
   ]
  },
  {
   "cell_type": "code",
   "execution_count": null,
   "metadata": {
    "execution": {
     "iopub.execute_input": "2024-10-17T23:18:43.933175Z",
     "iopub.status.busy": "2024-10-17T23:18:43.933074Z",
     "iopub.status.idle": "2024-10-17T23:18:43.936186Z",
     "shell.execute_reply": "2024-10-17T23:18:43.935940Z"
    }
   },
   "outputs": [],
   "source": [
    "FM.write_astra_1d(\"astra_1d.dat\")"
   ]
  },
  {
   "cell_type": "markdown",
   "metadata": {},
   "source": [
    "Another method returns the array data with some annotation"
   ]
  },
  {
   "cell_type": "code",
   "execution_count": null,
   "metadata": {
    "execution": {
     "iopub.execute_input": "2024-10-17T23:18:43.937434Z",
     "iopub.status.busy": "2024-10-17T23:18:43.937331Z",
     "iopub.status.idle": "2024-10-17T23:18:43.939885Z",
     "shell.execute_reply": "2024-10-17T23:18:43.939519Z"
    }
   },
   "outputs": [],
   "source": [
    "FM.to_astra_1d()"
   ]
  },
  {
   "cell_type": "markdown",
   "metadata": {},
   "source": [
    "## Write Impact-T \n",
    "\n",
    "Impact-T uses a particular Fourier representation for 1D fields. These routines form this data."
   ]
  },
  {
   "cell_type": "code",
   "execution_count": null,
   "metadata": {
    "execution": {
     "iopub.execute_input": "2024-10-17T23:18:43.941363Z",
     "iopub.status.busy": "2024-10-17T23:18:43.941262Z",
     "iopub.status.idle": "2024-10-17T23:18:43.964397Z",
     "shell.execute_reply": "2024-10-17T23:18:43.964127Z"
    },
    "tags": []
   },
   "outputs": [],
   "source": [
    "idata = FM.to_impact_solrf()\n",
    "idata.keys()"
   ]
  },
  {
   "cell_type": "markdown",
   "metadata": {},
   "source": [
    "This is an element that can be used with LUME-Impact"
   ]
  },
  {
   "cell_type": "code",
   "execution_count": null,
   "metadata": {
    "execution": {
     "iopub.execute_input": "2024-10-17T23:18:43.965715Z",
     "iopub.status.busy": "2024-10-17T23:18:43.965635Z",
     "iopub.status.idle": "2024-10-17T23:18:43.967730Z",
     "shell.execute_reply": "2024-10-17T23:18:43.967519Z"
    },
    "tags": []
   },
   "outputs": [],
   "source": [
    "idata[\"ele\"]"
   ]
  },
  {
   "cell_type": "markdown",
   "metadata": {},
   "source": [
    "This is a line that would be used "
   ]
  },
  {
   "cell_type": "code",
   "execution_count": null,
   "metadata": {
    "execution": {
     "iopub.execute_input": "2024-10-17T23:18:43.968998Z",
     "iopub.status.busy": "2024-10-17T23:18:43.968926Z",
     "iopub.status.idle": "2024-10-17T23:18:43.970671Z",
     "shell.execute_reply": "2024-10-17T23:18:43.970473Z"
    },
    "tags": []
   },
   "outputs": [],
   "source": [
    "idata[\"line\"]"
   ]
  },
  {
   "cell_type": "markdown",
   "metadata": {},
   "source": [
    "Data that would be written to the rfdata999 file"
   ]
  },
  {
   "cell_type": "code",
   "execution_count": null,
   "metadata": {
    "execution": {
     "iopub.execute_input": "2024-10-17T23:18:43.971739Z",
     "iopub.status.busy": "2024-10-17T23:18:43.971668Z",
     "iopub.status.idle": "2024-10-17T23:18:43.973805Z",
     "shell.execute_reply": "2024-10-17T23:18:43.973561Z"
    },
    "tags": []
   },
   "outputs": [],
   "source": [
    "idata[\"rfdata\"]"
   ]
  },
  {
   "cell_type": "markdown",
   "metadata": {},
   "source": [
    "This is the fieldmap that makes that data:"
   ]
  },
  {
   "cell_type": "code",
   "execution_count": null,
   "metadata": {
    "execution": {
     "iopub.execute_input": "2024-10-17T23:18:43.974915Z",
     "iopub.status.busy": "2024-10-17T23:18:43.974848Z",
     "iopub.status.idle": "2024-10-17T23:18:43.976595Z",
     "shell.execute_reply": "2024-10-17T23:18:43.976394Z"
    },
    "tags": []
   },
   "outputs": [],
   "source": [
    "fmap = idata[\"fmap\"]\n",
    "fmap.keys()"
   ]
  },
  {
   "cell_type": "markdown",
   "metadata": {},
   "source": [
    "Additional info:"
   ]
  },
  {
   "cell_type": "code",
   "execution_count": null,
   "metadata": {
    "execution": {
     "iopub.execute_input": "2024-10-17T23:18:43.978059Z",
     "iopub.status.busy": "2024-10-17T23:18:43.977994Z",
     "iopub.status.idle": "2024-10-17T23:18:43.979877Z",
     "shell.execute_reply": "2024-10-17T23:18:43.979666Z"
    },
    "tags": []
   },
   "outputs": [],
   "source": [
    "fmap[\"info\"]"
   ]
  },
  {
   "cell_type": "code",
   "execution_count": null,
   "metadata": {
    "execution": {
     "iopub.execute_input": "2024-10-17T23:18:43.980937Z",
     "iopub.status.busy": "2024-10-17T23:18:43.980869Z",
     "iopub.status.idle": "2024-10-17T23:18:44.178177Z",
     "shell.execute_reply": "2024-10-17T23:18:44.177932Z"
    },
    "tags": []
   },
   "outputs": [],
   "source": [
    "from pmd_beamphysics.interfaces.impact import fourier_field_reconsruction\n",
    "\n",
    "L = np.ptp(z0)\n",
    "zlist = np.linspace(0, L, len(Ez0))\n",
    "fcoefs = fmap[\"field\"][\"Ez\"][\"fourier_coefficients\"]\n",
    "reconstructed_Ez0 = np.array(\n",
    "    [fourier_field_reconsruction(z, fcoefs, z0=-L, zlen=2 * L) for z in zlist]\n",
    ")\n",
    "\n",
    "fig, ax = plt.subplots()\n",
    "ax2 = ax.twinx()\n",
    "ax.plot(z0, Ez0, label=r\"$\\Re \\left( E_z\\right)$\", color=\"black\")\n",
    "ax.plot(\n",
    "    zlist,\n",
    "    reconstructed_Ez0,\n",
    "    \"--\",\n",
    "    label=\"reconstructed\",\n",
    "    color=\"red\",\n",
    ")\n",
    "ax2.plot(\n",
    "    zlist, abs(reconstructed_Ez0 / Ez0 - 1), \"--\", label=\"reconstructed\", color=\"black\"\n",
    ")\n",
    "ax2.set_ylabel(\"relative error\")\n",
    "ax2.set_yscale(\"log\")\n",
    "ax.set_ylabel(\"field (V/m)\")\n",
    "ax.set_xlabel(\"z (m)\")\n",
    "plt.legend()"
   ]
  },
  {
   "cell_type": "markdown",
   "metadata": {},
   "source": [
    "This function can also be used to study the reconstruction error as a function of the number of coefficients:"
   ]
  },
  {
   "cell_type": "code",
   "execution_count": null,
   "metadata": {
    "execution": {
     "iopub.execute_input": "2024-10-17T23:18:44.179670Z",
     "iopub.status.busy": "2024-10-17T23:18:44.179568Z",
     "iopub.status.idle": "2024-10-17T23:18:50.267675Z",
     "shell.execute_reply": "2024-10-17T23:18:50.267382Z"
    },
    "tags": []
   },
   "outputs": [],
   "source": [
    "ncoefs = np.arange(10, FM2.shape[2] // 2)\n",
    "errs = np.array(\n",
    "    [\n",
    "        FM2.to_impact_solrf(n_coef=n, zmirror=True)[\"fmap\"][\"info\"][\"Ez_err\"]\n",
    "        for n in ncoefs\n",
    "    ]\n",
    ")\n",
    "\n",
    "fig, ax = plt.subplots()\n",
    "ax.plot(ncoefs, errs, marker=\".\", color=\"black\")\n",
    "ax.set_xlabel(\"n_coef\")\n",
    "ax.set_ylabel(\"Ez reconstruction error\")\n",
    "ax.set_yscale(\"log\")"
   ]
  },
  {
   "cell_type": "markdown",
   "metadata": {},
   "source": [
    "## Write GPT"
   ]
  },
  {
   "cell_type": "code",
   "execution_count": null,
   "metadata": {
    "execution": {
     "iopub.execute_input": "2024-10-17T23:18:50.269190Z",
     "iopub.status.busy": "2024-10-17T23:18:50.269066Z",
     "iopub.status.idle": "2024-10-17T23:18:50.359403Z",
     "shell.execute_reply": "2024-10-17T23:18:50.359183Z"
    },
    "tags": []
   },
   "outputs": [],
   "source": [
    "# FM.write_gpt('solenoid.gdf', asci2gdf_bin='$ASCI2GDF_BIN', verbose=True)\n",
    "FM.write_gpt(\"rfgun_for_gpt.txt\", verbose=True)"
   ]
  },
  {
   "cell_type": "code",
   "execution_count": null,
   "metadata": {
    "execution": {
     "iopub.execute_input": "2024-10-17T23:18:50.360577Z",
     "iopub.status.busy": "2024-10-17T23:18:50.360494Z",
     "iopub.status.idle": "2024-10-17T23:18:50.413051Z",
     "shell.execute_reply": "2024-10-17T23:18:50.412836Z"
    },
    "tags": []
   },
   "outputs": [],
   "source": [
    "FM.write_superfish(\"rfgun2.t7\")"
   ]
  },
  {
   "cell_type": "markdown",
   "metadata": {},
   "source": [
    "# Read Superfish\n",
    "\n",
    "Proper Superfish T7 can also be read."
   ]
  },
  {
   "cell_type": "code",
   "execution_count": null,
   "metadata": {
    "execution": {
     "iopub.execute_input": "2024-10-17T23:18:50.414206Z",
     "iopub.status.busy": "2024-10-17T23:18:50.414126Z",
     "iopub.status.idle": "2024-10-17T23:18:50.431076Z",
     "shell.execute_reply": "2024-10-17T23:18:50.430841Z"
    },
    "tags": []
   },
   "outputs": [],
   "source": [
    "FM3 = FieldMesh.from_superfish(\"rfgun2.t7\")\n",
    "FM3"
   ]
  },
  {
   "cell_type": "code",
   "execution_count": null,
   "metadata": {
    "execution": {
     "iopub.execute_input": "2024-10-17T23:18:50.432156Z",
     "iopub.status.busy": "2024-10-17T23:18:50.432083Z",
     "iopub.status.idle": "2024-10-17T23:18:50.433997Z",
     "shell.execute_reply": "2024-10-17T23:18:50.433762Z"
    },
    "tags": []
   },
   "outputs": [],
   "source": [
    "help(FieldMesh.from_superfish)"
   ]
  },
  {
   "cell_type": "markdown",
   "metadata": {},
   "source": [
    "Note that writing the ASCII and conversions alter the data slightly"
   ]
  },
  {
   "cell_type": "code",
   "execution_count": null,
   "metadata": {
    "execution": {
     "iopub.execute_input": "2024-10-17T23:18:50.435203Z",
     "iopub.status.busy": "2024-10-17T23:18:50.435012Z",
     "iopub.status.idle": "2024-10-17T23:18:50.437347Z",
     "shell.execute_reply": "2024-10-17T23:18:50.437118Z"
    },
    "tags": []
   },
   "outputs": [],
   "source": [
    "FM == FM3"
   ]
  },
  {
   "cell_type": "markdown",
   "metadata": {},
   "source": [
    "But the data are all close:"
   ]
  },
  {
   "cell_type": "code",
   "execution_count": null,
   "metadata": {
    "execution": {
     "iopub.execute_input": "2024-10-17T23:18:50.438472Z",
     "iopub.status.busy": "2024-10-17T23:18:50.438391Z",
     "iopub.status.idle": "2024-10-17T23:18:50.441445Z",
     "shell.execute_reply": "2024-10-17T23:18:50.441213Z"
    },
    "tags": []
   },
   "outputs": [],
   "source": [
    "for c in FM.components:\n",
    "    close = np.allclose(FM.components[c], FM3.components[c])\n",
    "    equal = np.all(FM.components[c] == FM3.components[c])\n",
    "    print(c, equal, close)"
   ]
  },
  {
   "cell_type": "markdown",
   "metadata": {},
   "source": [
    "## Read ANSYS\n",
    "\n",
    "Read ANSYS E and H ASCII files:"
   ]
  },
  {
   "cell_type": "code",
   "execution_count": null,
   "metadata": {
    "execution": {
     "iopub.execute_input": "2024-10-17T23:18:50.442628Z",
     "iopub.status.busy": "2024-10-17T23:18:50.442530Z",
     "iopub.status.idle": "2024-10-17T23:18:50.451459Z",
     "shell.execute_reply": "2024-10-17T23:18:50.451257Z"
    }
   },
   "outputs": [],
   "source": [
    "FM3D = FieldMesh.from_ansys_ascii_3d(\n",
    "    efile=\"../data/ansys_rfgun_2856MHz_E.dat\",\n",
    "    hfile=\"../data/ansys_rfgun_2856MHz_H.dat\",\n",
    "    frequency=2856e6,\n",
    ")\n",
    "\n",
    "\n",
    "FM3D"
   ]
  },
  {
   "cell_type": "code",
   "execution_count": null,
   "metadata": {
    "execution": {
     "iopub.execute_input": "2024-10-17T23:18:50.452610Z",
     "iopub.status.busy": "2024-10-17T23:18:50.452525Z",
     "iopub.status.idle": "2024-10-17T23:18:50.454832Z",
     "shell.execute_reply": "2024-10-17T23:18:50.454618Z"
    }
   },
   "outputs": [],
   "source": [
    "FM3D.attrs"
   ]
  },
  {
   "cell_type": "markdown",
   "metadata": {},
   "source": [
    "This can then be written:"
   ]
  },
  {
   "cell_type": "code",
   "execution_count": null,
   "metadata": {
    "execution": {
     "iopub.execute_input": "2024-10-17T23:18:50.456002Z",
     "iopub.status.busy": "2024-10-17T23:18:50.455927Z",
     "iopub.status.idle": "2024-10-17T23:18:50.461253Z",
     "shell.execute_reply": "2024-10-17T23:18:50.461050Z"
    }
   },
   "outputs": [],
   "source": [
    "FM3D.write(\"../data/rfgun_rectangular.h5\")"
   ]
  },
  {
   "cell_type": "markdown",
   "metadata": {},
   "source": [
    "The y=0 plane can be extracted to be used as cylindrically symmetric data:"
   ]
  },
  {
   "cell_type": "code",
   "execution_count": null,
   "metadata": {
    "execution": {
     "iopub.execute_input": "2024-10-17T23:18:50.462395Z",
     "iopub.status.busy": "2024-10-17T23:18:50.462304Z",
     "iopub.status.idle": "2024-10-17T23:18:50.464240Z",
     "shell.execute_reply": "2024-10-17T23:18:50.464026Z"
    }
   },
   "outputs": [],
   "source": [
    "FM2D = FM3D.to_cylindrical()\n",
    "FM2D"
   ]
  },
  {
   "cell_type": "markdown",
   "metadata": {},
   "source": [
    "# Cleanup"
   ]
  },
  {
   "cell_type": "code",
   "execution_count": null,
   "metadata": {
    "execution": {
     "iopub.execute_input": "2024-10-17T23:18:50.465256Z",
     "iopub.status.busy": "2024-10-17T23:18:50.465160Z",
     "iopub.status.idle": "2024-10-17T23:18:50.467295Z",
     "shell.execute_reply": "2024-10-17T23:18:50.467076Z"
    }
   },
   "outputs": [],
   "source": [
    "import os\n",
    "\n",
    "for file in (\"test.h5\", \"astra_1d.dat\", \"rfgun_for_gpt.txt\", \"rfgun2.h5\", \"rfgun2.t7\"):\n",
    "    os.remove(file)"
   ]
  }
 ],
 "metadata": {
  "kernelspec": {
   "display_name": "Python 3 (ipykernel)",
   "language": "python",
   "name": "python3"
  },
  "language_info": {
   "codemirror_mode": {
    "name": "ipython",
    "version": 3
   },
   "file_extension": ".py",
   "mimetype": "text/x-python",
   "name": "python",
   "nbconvert_exporter": "python",
   "pygments_lexer": "ipython3",
   "version": "3.12.7"
  }
 },
 "nbformat": 4,
 "nbformat_minor": 4
}
