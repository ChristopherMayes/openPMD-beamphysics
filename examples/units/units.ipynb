{
 "cells": [
  {
   "cell_type": "markdown",
   "metadata": {},
   "source": [
    "# Units\n",
    "\n",
    "This package provides unit conversion tools "
   ]
  },
  {
   "cell_type": "code",
   "execution_count": 1,
   "metadata": {
    "execution": {
     "iopub.execute_input": "2022-10-26T22:08:11.437739Z",
     "iopub.status.busy": "2022-10-26T22:08:11.437165Z",
     "iopub.status.idle": "2022-10-26T22:08:11.452533Z",
     "shell.execute_reply": "2022-10-26T22:08:11.451986Z"
    }
   },
   "outputs": [],
   "source": [
    "# Useful for debugging\n",
    "%load_ext autoreload\n",
    "%autoreload 2"
   ]
  },
  {
   "cell_type": "code",
   "execution_count": 2,
   "metadata": {
    "execution": {
     "iopub.execute_input": "2022-10-26T22:08:11.455613Z",
     "iopub.status.busy": "2022-10-26T22:08:11.455403Z",
     "iopub.status.idle": "2022-10-26T22:08:11.947252Z",
     "shell.execute_reply": "2022-10-26T22:08:11.946561Z"
    }
   },
   "outputs": [],
   "source": [
    "from pmd_beamphysics import particle_paths\n",
    "from pmd_beamphysics.units import pmd_unit, dimension_name, sqrt_unit, known_unit, multiply_units\n",
    "from h5py import File\n",
    "import numpy as np"
   ]
  },
  {
   "cell_type": "code",
   "execution_count": 3,
   "metadata": {
    "execution": {
     "iopub.execute_input": "2022-10-26T22:08:11.951673Z",
     "iopub.status.busy": "2022-10-26T22:08:11.951181Z",
     "iopub.status.idle": "2022-10-26T22:08:12.001317Z",
     "shell.execute_reply": "2022-10-26T22:08:12.000652Z"
    }
   },
   "outputs": [],
   "source": [
    "# This is the basic class.\n",
    "?pmd_unit"
   ]
  },
  {
   "cell_type": "code",
   "execution_count": 4,
   "metadata": {
    "execution": {
     "iopub.execute_input": "2022-10-26T22:08:12.005434Z",
     "iopub.status.busy": "2022-10-26T22:08:12.005049Z",
     "iopub.status.idle": "2022-10-26T22:08:12.023280Z",
     "shell.execute_reply": "2022-10-26T22:08:12.022820Z"
    }
   },
   "outputs": [
    {
     "data": {
      "text/plain": [
       "(pmd_unit('J', 1, (2, 1, -2, 0, 0, 0, 0)),\n",
       " pmd_unit('m', 1, (1, 0, 0, 0, 0, 0, 0)),\n",
       " pmd_unit('J/m', 1.0, (1, 1, -2, 0, 0, 0, 0)),\n",
       " pmd_unit('J*m', 1, (3, 1, -2, 0, 0, 0, 0)))"
      ]
     },
     "execution_count": 4,
     "metadata": {},
     "output_type": "execute_result"
    }
   ],
   "source": [
    "# Get a known units. These can be multiplied and divided\n",
    "u1 = known_unit['J']\n",
    "u2 = known_unit['m']\n",
    "u1, u2, u1/u2, u1*u2"
   ]
  },
  {
   "cell_type": "code",
   "execution_count": 5,
   "metadata": {
    "execution": {
     "iopub.execute_input": "2022-10-26T22:08:12.061374Z",
     "iopub.status.busy": "2022-10-26T22:08:12.060810Z",
     "iopub.status.idle": "2022-10-26T22:08:12.075247Z",
     "shell.execute_reply": "2022-10-26T22:08:12.074610Z"
    }
   },
   "outputs": [
    {
     "data": {
      "text/plain": [
       "pmd_unit('\\sqrt{ J }', 1.0, (1.0, 0.5, -1.0, 0.0, 0.0, 0.0, 0.0))"
      ]
     },
     "execution_count": 5,
     "metadata": {},
     "output_type": "execute_result"
    }
   ],
   "source": [
    "# Special function for sqrt\n",
    "sqrt_unit(u1)"
   ]
  },
  {
   "cell_type": "markdown",
   "metadata": {},
   "source": [
    "# openPMD hdf5 units"
   ]
  },
  {
   "cell_type": "code",
   "execution_count": 6,
   "metadata": {
    "execution": {
     "iopub.execute_input": "2022-10-26T22:08:12.078657Z",
     "iopub.status.busy": "2022-10-26T22:08:12.078043Z",
     "iopub.status.idle": "2022-10-26T22:08:12.093547Z",
     "shell.execute_reply": "2022-10-26T22:08:12.092936Z"
    }
   },
   "outputs": [
    {
     "name": "stdout",
     "output_type": "stream",
     "text": [
      "['//']\n"
     ]
    },
    {
     "data": {
      "text/plain": [
       "['momentum', 'particleStatus', 'position', 'time', 'weight']"
      ]
     },
     "execution_count": 6,
     "metadata": {},
     "output_type": "execute_result"
    }
   ],
   "source": [
    "# Open a file, find the particle paths from the root attributes\n",
    "# Pick one:\n",
    "#H5FILE = 'data/bmad_particles.h5'\n",
    "H5FILE = 'data/distgen_particles.h5'\n",
    "#H5FILE = 'data/astra_particles.h5'\n",
    "h5 = File(H5FILE, 'r')\n",
    "\n",
    "ppaths = particle_paths(h5)\n",
    "print(ppaths)\n",
    "# This points to a partigle group\n",
    "ph5 = h5[ppaths[0]]\n",
    "list(ph5)"
   ]
  },
  {
   "cell_type": "code",
   "execution_count": 7,
   "metadata": {
    "execution": {
     "iopub.execute_input": "2022-10-26T22:08:12.096870Z",
     "iopub.status.busy": "2022-10-26T22:08:12.096462Z",
     "iopub.status.idle": "2022-10-26T22:08:12.109625Z",
     "shell.execute_reply": "2022-10-26T22:08:12.109021Z"
    }
   },
   "outputs": [
    {
     "data": {
      "text/plain": [
       "{'unitDimension': array([ 1,  1, -1,  0,  0,  0,  0]),\n",
       " 'unitSI': 5.344285992678308e-28,\n",
       " 'unitSymbol': 'eV/c'}"
      ]
     },
     "execution_count": 7,
     "metadata": {},
     "output_type": "execute_result"
    }
   ],
   "source": [
    "# Each component should have a dimension and a conversion factor to SI:\n",
    "d = dict(ph5['momentum/x'].attrs)\n",
    "d"
   ]
  },
  {
   "cell_type": "code",
   "execution_count": 8,
   "metadata": {
    "execution": {
     "iopub.execute_input": "2022-10-26T22:08:12.112415Z",
     "iopub.status.busy": "2022-10-26T22:08:12.112014Z",
     "iopub.status.idle": "2022-10-26T22:08:12.124086Z",
     "shell.execute_reply": "2022-10-26T22:08:12.123509Z"
    }
   },
   "outputs": [
    {
     "data": {
      "text/plain": [
       "(1, 1, -1, 0, 0, 0, 0)"
      ]
     },
     "execution_count": 8,
     "metadata": {},
     "output_type": "execute_result"
    }
   ],
   "source": [
    "tuple(d['unitDimension'])"
   ]
  },
  {
   "cell_type": "code",
   "execution_count": 9,
   "metadata": {
    "execution": {
     "iopub.execute_input": "2022-10-26T22:08:12.127022Z",
     "iopub.status.busy": "2022-10-26T22:08:12.126473Z",
     "iopub.status.idle": "2022-10-26T22:08:12.138200Z",
     "shell.execute_reply": "2022-10-26T22:08:12.137588Z"
    }
   },
   "outputs": [
    {
     "data": {
      "text/plain": [
       "'momentum'"
      ]
     },
     "execution_count": 9,
     "metadata": {},
     "output_type": "execute_result"
    }
   ],
   "source": [
    "# This will extract the name of this dimension\n",
    "\n",
    "dimension_name(d['unitDimension'])"
   ]
  },
  {
   "cell_type": "markdown",
   "metadata": {},
   "source": [
    "# Nice arrays"
   ]
  },
  {
   "cell_type": "code",
   "execution_count": 10,
   "metadata": {
    "execution": {
     "iopub.execute_input": "2022-10-26T22:08:12.141009Z",
     "iopub.status.busy": "2022-10-26T22:08:12.140607Z",
     "iopub.status.idle": "2022-10-26T22:08:12.151140Z",
     "shell.execute_reply": "2022-10-26T22:08:12.150610Z"
    }
   },
   "outputs": [],
   "source": [
    "from pmd_beamphysics.units import nice_array\n"
   ]
  },
  {
   "cell_type": "code",
   "execution_count": 11,
   "metadata": {
    "execution": {
     "iopub.execute_input": "2022-10-26T22:08:12.153868Z",
     "iopub.status.busy": "2022-10-26T22:08:12.153467Z",
     "iopub.status.idle": "2022-10-26T22:08:12.164965Z",
     "shell.execute_reply": "2022-10-26T22:08:12.164375Z"
    }
   },
   "outputs": [
    {
     "data": {
      "text/plain": [
       "(100.00000000000001, 1e-06, 'µ')"
      ]
     },
     "execution_count": 11,
     "metadata": {},
     "output_type": "execute_result"
    }
   ],
   "source": [
    "# This will scale the array, and return the appropriate SI prefix\n",
    "\n",
    "x = 1e-4\n",
    "unit = 'm'\n",
    "nice_array(x)"
   ]
  },
  {
   "cell_type": "code",
   "execution_count": 12,
   "metadata": {
    "execution": {
     "iopub.execute_input": "2022-10-26T22:08:12.167909Z",
     "iopub.status.busy": "2022-10-26T22:08:12.167362Z",
     "iopub.status.idle": "2022-10-26T22:08:12.179340Z",
     "shell.execute_reply": "2022-10-26T22:08:12.178750Z"
    }
   },
   "outputs": [
    {
     "data": {
      "text/plain": [
       "(array([-10.,  10.]), 0.001, 'm')"
      ]
     },
     "execution_count": 12,
     "metadata": {},
     "output_type": "execute_result"
    }
   ],
   "source": [
    "nice_array([-0.01, 0.01])"
   ]
  },
  {
   "cell_type": "code",
   "execution_count": 13,
   "metadata": {
    "execution": {
     "iopub.execute_input": "2022-10-26T22:08:12.182216Z",
     "iopub.status.busy": "2022-10-26T22:08:12.181658Z",
     "iopub.status.idle": "2022-10-26T22:08:12.192078Z",
     "shell.execute_reply": "2022-10-26T22:08:12.191559Z"
    }
   },
   "outputs": [],
   "source": [
    "from pmd_beamphysics.units import nice_scale_prefix"
   ]
  },
  {
   "cell_type": "code",
   "execution_count": 14,
   "metadata": {
    "execution": {
     "iopub.execute_input": "2022-10-26T22:08:12.195092Z",
     "iopub.status.busy": "2022-10-26T22:08:12.194545Z",
     "iopub.status.idle": "2022-10-26T22:08:12.205945Z",
     "shell.execute_reply": "2022-10-26T22:08:12.205329Z"
    }
   },
   "outputs": [
    {
     "data": {
      "text/plain": [
       "(0.001, 'm')"
      ]
     },
     "execution_count": 14,
     "metadata": {},
     "output_type": "execute_result"
    }
   ],
   "source": [
    "nice_scale_prefix(0.009)"
   ]
  },
  {
   "cell_type": "markdown",
   "metadata": {},
   "source": [
    "# Limitations\n",
    "\n",
    "This is a simple class for use with this package. So even simple things like the example below will fail. \n",
    "\n",
    "For more advanced units, use a package like Pint: https://pint.readthedocs.io/\n"
   ]
  },
  {
   "cell_type": "code",
   "execution_count": 15,
   "metadata": {
    "execution": {
     "iopub.execute_input": "2022-10-26T22:08:12.208724Z",
     "iopub.status.busy": "2022-10-26T22:08:12.208401Z",
     "iopub.status.idle": "2022-10-26T22:08:12.218997Z",
     "shell.execute_reply": "2022-10-26T22:08:12.218385Z"
    }
   },
   "outputs": [
    {
     "name": "stdout",
     "output_type": "stream",
     "text": [
      "you cannot do this\n"
     ]
    }
   ],
   "source": [
    "try:\n",
    "    u1/1\n",
    "except:\n",
    "    print('you cannot do this')\n",
    "    \n"
   ]
  }
 ],
 "metadata": {
  "kernelspec": {
   "display_name": "Python 3 (ipykernel)",
   "language": "python",
   "name": "python3"
  },
  "language_info": {
   "codemirror_mode": {
    "name": "ipython",
    "version": 3
   },
   "file_extension": ".py",
   "mimetype": "text/x-python",
   "name": "python",
   "nbconvert_exporter": "python",
   "pygments_lexer": "ipython3",
   "version": "3.9.13"
  }
 },
 "nbformat": 4,
 "nbformat_minor": 4
}
