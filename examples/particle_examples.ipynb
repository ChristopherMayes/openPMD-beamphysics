{
 "cells": [
  {
   "cell_type": "code",
   "execution_count": 1,
   "metadata": {},
   "outputs": [],
   "source": [
    "# Useful for debugging\n",
    "%load_ext autoreload\n",
    "%autoreload 2"
   ]
  },
  {
   "cell_type": "markdown",
   "metadata": {},
   "source": [
    "# openPMD beamphysics examples"
   ]
  },
  {
   "cell_type": "code",
   "execution_count": 2,
   "metadata": {},
   "outputs": [],
   "source": [
    "from pmd_beamphysics import ParticleGroup\n",
    "from pmd_beamphysics.particles import particle_paths, all_components, component_str\n",
    "\n",
    "from h5py import File\n",
    "import os"
   ]
  },
  {
   "cell_type": "code",
   "execution_count": 3,
   "metadata": {},
   "outputs": [
    {
     "data": {
      "text/plain": [
       "['/data/0/particles/']"
      ]
     },
     "execution_count": 3,
     "metadata": {},
     "output_type": "execute_result"
    }
   ],
   "source": [
    "# Open a file, fine the particle paths from the root attributes\n",
    "# Pick one:\n",
    "#H5FILE = 'data/bmad_particles.h5'\n",
    "H5FILE = 'data/distgen_particles.h5'\n",
    "#H5FILE = 'data/astra_particles.h5'\n",
    "h5 = File(H5FILE)\n",
    "\n",
    "\n",
    "ppaths = particle_paths(h5)\n",
    "ppaths"
   ]
  },
  {
   "cell_type": "code",
   "execution_count": 4,
   "metadata": {},
   "outputs": [
    {
     "data": {
      "text/plain": [
       "['momentum', 'position', 'time', 'weight']"
      ]
     },
     "execution_count": 4,
     "metadata": {},
     "output_type": "execute_result"
    }
   ],
   "source": [
    "# Point to particles\n",
    "ph5 = h5[ppaths[0]]\n",
    "list(ph5)"
   ]
  },
  {
   "cell_type": "code",
   "execution_count": 5,
   "metadata": {},
   "outputs": [
    {
     "data": {
      "text/plain": [
       "['momentum/x',\n",
       " 'momentum/y',\n",
       " 'momentum/z',\n",
       " 'position/x',\n",
       " 'position/y',\n",
       " 'position/z',\n",
       " 'time',\n",
       " 'weight']"
      ]
     },
     "execution_count": 5,
     "metadata": {},
     "output_type": "execute_result"
    }
   ],
   "source": [
    "# Search for all valid components\n",
    "all_components(ph5)"
   ]
  },
  {
   "cell_type": "code",
   "execution_count": 6,
   "metadata": {},
   "outputs": [
    {
     "name": "stdout",
     "output_type": "stream",
     "text": [
      "momentum/x [10000 items] is a momentum with units: kg*m/s\n",
      "momentum/y [10000 items] is a momentum with units: kg*m/s\n",
      "momentum/z [10000 items] is a momentum with units: kg*m/s\n",
      "position/x [10000 items] is a length with units: m\n",
      "position/y [10000 items] is a length with units: m\n",
      "position/z [10000 items] is a length with units: m\n",
      "time [10000 items] is a time with units: s\n",
      "weight [10000 items] is a charge with units: C, but expected units: C\n"
     ]
    }
   ],
   "source": [
    "# Get some info\n",
    "for component in all_components(ph5):\n",
    "    info = component_str(ph5, component)\n",
    "    print(info)"
   ]
  },
  {
   "cell_type": "markdown",
   "metadata": {},
   "source": [
    "# ParticleGroup class"
   ]
  },
  {
   "cell_type": "code",
   "execution_count": 7,
   "metadata": {},
   "outputs": [],
   "source": [
    "# Parse all these into a class\n",
    "P = ParticleGroup(ph5)"
   ]
  },
  {
   "cell_type": "code",
   "execution_count": 8,
   "metadata": {},
   "outputs": [
    {
     "data": {
      "text/plain": [
       "\u001b[0;31mType:\u001b[0m        ParticleGroup\n",
       "\u001b[0;31mString form:\u001b[0m ParticleGroup with 10000 particles with total charge 2.3e-09 C\n",
       "\u001b[0;31mFile:\u001b[0m        ~/Code/GitHub/openPMD-beamphysics/pmd_beamphysics/particles.py\n",
       "\u001b[0;31mDocstring:\u001b[0m  \n",
       "Particle Group class\n",
       "\n",
       "Initialized on on openPMD beamphysics particle group.\n",
       "\n",
       "The fundamental bunch data is stored in __dict__ with keys\n",
       "    str: species\n",
       "    int: n_particle\n",
       "    np.array: x, px, y, py, z, pz, t, status, weight\n",
       "where:\n",
       "    x, y, z are positions in units of [m]\n",
       "    px, py, pz are momenta in units of [eV/c]\n",
       "    t is time in [s]\n",
       "    weight is the macro-charge weight in [C], used for all statistical calulations.\n",
       "    \n",
       "Derived data can be computed as attributes:\n",
       "    .gamma, .beta, .beta_x, .beta_y, .beta_z: relativistic factors\n",
       "    .energy, .kinetic_energy: energy, energy - mc2 in [eV]. \n",
       "    .p: total momentum in [eV/c]\n",
       "    .mass: rest mass in [eV]\n",
       "    \n",
       "Statistics of any of these are calculated with:\n",
       "    .min(X)\n",
       "    .max(X)\n",
       "    .avg(X)\n",
       "    .std(X)\n",
       "    .cov(X, Y, ...)\n",
       "    with a string X as the name any of the properties above.\n",
       "    \n",
       "Useful beam physics quantities are given as attributes:\n",
       "    .norm_emit_x\n",
       "    .norm_emit_y\n",
       "    .higher_order_energy_spread\n",
       "    .average_current\n",
       "        \n",
       "All attributes can be accessed with brackets:\n",
       "    [key]\n",
       "Additional keys are allowed for convenience:\n",
       "    ['min_prop']   will return  .min('prop')\n",
       "    ['max_prop']   will return  .max('prop')\n",
       "    ['mean_prop']  will return  .avg('prop')\n",
       "    ['sigma_prop'] will return  .std('prop')\n",
       "    \n",
       "Units for all attributes can be accessed by:\n",
       "    .units(key)\n",
       "\n",
       "Particles are often stored at the same time (i.e. from a t-based code), \n",
       "or with the same z position (i.e. from an s-based code.)\n",
       "Routines: \n",
       "    drift_to_z(z0)\n",
       "    drift_to_t(t0)\n",
       "help to convert these. If no argument is given, particles will be drifted to the mean.\n",
       "    \n"
      ]
     },
     "metadata": {},
     "output_type": "display_data"
    }
   ],
   "source": [
    "?P"
   ]
  },
  {
   "cell_type": "code",
   "execution_count": 9,
   "metadata": {},
   "outputs": [
    {
     "data": {
      "text/plain": [
       "array([0.00010713, 0.00034532, 0.00024771, ..., 0.00038017, 0.00028772,\n",
       "       0.00046803])"
      ]
     },
     "execution_count": 9,
     "metadata": {},
     "output_type": "execute_result"
    }
   ],
   "source": [
    "# x positions, in meters\n",
    "P.x"
   ]
  },
  {
   "cell_type": "code",
   "execution_count": 10,
   "metadata": {},
   "outputs": [
    {
     "data": {
      "text/plain": [
       "array([1.00000219, 1.00000203, 1.00000202, ..., 1.00000221, 1.00000192,\n",
       "       1.00000205])"
      ]
     },
     "execution_count": 10,
     "metadata": {},
     "output_type": "execute_result"
    }
   ],
   "source": [
    "# relativistic gamma, calculated on the fly\n",
    "P.gamma"
   ]
  },
  {
   "cell_type": "code",
   "execution_count": 21,
   "metadata": {},
   "outputs": [
    {
     "data": {
      "text/plain": [
       "(1.0000004403138203, 186.2248378137966)"
      ]
     },
     "execution_count": 21,
     "metadata": {},
     "output_type": "execute_result"
    }
   ],
   "source": [
    "# Statistics on any of these. Note that these properly use the .weight array. \n",
    "P.avg('gamma'), P.std('p')"
   ]
  },
  {
   "cell_type": "code",
   "execution_count": 22,
   "metadata": {},
   "outputs": [
    {
     "data": {
      "text/plain": [
       "array([[ 5.53444569e-08, -2.81295542e-05,  1.31851258e-13,\n",
       "        -6.51872911e-05],\n",
       "       [-2.81295542e-05,  7.66575022e+04, -2.96551469e-05,\n",
       "        -8.99505419e+01],\n",
       "       [ 1.31851258e-13, -2.96551469e-05,  5.53443810e-08,\n",
       "        -3.62347163e-05],\n",
       "       [-6.51872911e-05, -8.99505419e+01, -3.62347163e-05,\n",
       "         7.66575022e+04]])"
      ]
     },
     "execution_count": 22,
     "metadata": {},
     "output_type": "execute_result"
    }
   ],
   "source": [
    "# Covariance matrix of any list of keys\n",
    "P.cov('x', 'px', 'y', 'py')"
   ]
  },
  {
   "cell_type": "code",
   "execution_count": 30,
   "metadata": {},
   "outputs": [
    {
     "data": {
      "text/plain": [
       "(0.00023524226337429647,\n",
       " 0.18297475640831348,\n",
       " -0.0004981706687267229,\n",
       " 1.2746599745574129e-07)"
      ]
     },
     "execution_count": 30,
     "metadata": {},
     "output_type": "execute_result"
    }
   ],
   "source": [
    "# These can all be accessed with brackets. sigma_ and mean_ are also allowed\n",
    "P['sigma_x'], P['sigma_energy'], P['min_y'], P['norm_emit_x']"
   ]
  },
  {
   "cell_type": "code",
   "execution_count": 31,
   "metadata": {},
   "outputs": [
    {
     "data": {
      "text/plain": [
       "('m', 'eV', 'm*rad')"
      ]
     },
     "execution_count": 31,
     "metadata": {},
     "output_type": "execute_result"
    }
   ],
   "source": [
    "# Units\n",
    "P.units('x'), P.units('energy'), P.units('norm_emit_x')"
   ]
  },
  {
   "cell_type": "code",
   "execution_count": 25,
   "metadata": {},
   "outputs": [
    {
     "data": {
      "text/plain": [
       "(1.3782686402625986e-06, 2.802596928649634e-45)"
      ]
     },
     "execution_count": 25,
     "metadata": {},
     "output_type": "execute_result"
    }
   ],
   "source": [
    "# These particles are from Bmad, at the same z and different times\n",
    "P.std('z'), P.std('t')"
   ]
  },
  {
   "cell_type": "code",
   "execution_count": 26,
   "metadata": {},
   "outputs": [
    {
     "data": {
      "text/plain": [
       "1.8846240950683418e-29"
      ]
     },
     "execution_count": 26,
     "metadata": {},
     "output_type": "execute_result"
    }
   ],
   "source": [
    "# Get the central time\n",
    "t0 = P.avg('t')\n",
    "t0"
   ]
  },
  {
   "cell_type": "code",
   "execution_count": 27,
   "metadata": {},
   "outputs": [],
   "source": [
    "# Drift all particles to this time\n",
    "P.drift_to_t(t0)"
   ]
  },
  {
   "cell_type": "code",
   "execution_count": 28,
   "metadata": {},
   "outputs": [
    {
     "data": {
      "text/plain": [
       "(1.3782686402625986e-06, 1.8846240950683418e-29, {1.8846240950683418e-29})"
      ]
     },
     "execution_count": 28,
     "metadata": {},
     "output_type": "execute_result"
    }
   ],
   "source": [
    "# Now these are at different z, and the same t\n",
    "P.std('z'), P.avg('t'), set(P.t)"
   ]
  },
  {
   "cell_type": "code",
   "execution_count": 29,
   "metadata": {},
   "outputs": [],
   "source": [
    "# Write Astra-style particles\n",
    "P.write_astra('astra.dat')"
   ]
  },
  {
   "cell_type": "code",
   "execution_count": 20,
   "metadata": {},
   "outputs": [
    {
     "name": "stdout",
     "output_type": "stream",
     "text": [
      "  1.535211903978e-09   1.856269541216e-09   1.070586479124e-09   6.271287796258e-15  -4.158380796802e-15   2.209872489179e+02   1.884624095068e-20   0.000000000000e+00    1   -1\n",
      "  1.176211316871e-04   0.000000000000e+00  -1.070586479124e-09   0.000000000000e+00   0.000000000000e+00   0.000000000000e+00   1.401298464325e-45   0.000000000000e+00    1   -3\n",
      "  0.000000000000e+00   1.176210509770e-04  -1.070586479124e-09   0.000000000000e+00   0.000000000000e+00   0.000000000000e+00  -1.401298464325e-45   0.000000000000e+00    1   -3\n",
      "  2.352422633743e-04   0.000000000000e+00  -1.070586479124e-09   0.000000000000e+00   0.000000000000e+00   0.000000000000e+00   2.802596928650e-45   0.000000000000e+00    1   -3\n",
      "  0.000000000000e+00   2.352421019540e-04  -1.070586479124e-09   0.000000000000e+00   0.000000000000e+00   0.000000000000e+00  -2.802596928650e-45   0.000000000000e+00    1   -3\n",
      "  3.528633950614e-04   0.000000000000e+00  -1.070586479124e-09   0.000000000000e+00   0.000000000000e+00   0.000000000000e+00   4.203895392974e-45   0.000000000000e+00    1   -3\n",
      "  0.000000000000e+00   3.528631529310e-04  -1.070586479124e-09   0.000000000000e+00   0.000000000000e+00   0.000000000000e+00  -4.203895392974e-45   0.000000000000e+00    1   -3\n",
      "  1.065193280141e-04   1.735346925002e-06  -6.283040584423e-06   9.952455831699e+01  -2.713248083494e+02   8.094963387695e+02  -3.009265538105e-36   2.300000000000e-04    1   -1\n",
      "  3.477771387837e-04  -7.989879742208e-07   8.735794043941e-06   2.756521901170e+02  -1.399710606513e+02   7.599174294062e+02  -3.009265538105e-36   2.300000000000e-04    1   -1\n",
      "  2.470697624842e-04   4.228791604532e-07   1.563537452633e-06  -3.888510222210e+02  -3.510180008930e+01   7.298625966483e+02  -3.009265538105e-36   2.300000000000e-04    1   -1\n"
     ]
    }
   ],
   "source": [
    "!head astra.dat"
   ]
  },
  {
   "cell_type": "markdown",
   "metadata": {},
   "source": [
    "# Plot"
   ]
  },
  {
   "cell_type": "code",
   "execution_count": null,
   "metadata": {},
   "outputs": [],
   "source": [
    "import matplotlib.pyplot as plt\n",
    "import matplotlib\n",
    "cmap = plt.get_cmap('viridis')\n",
    "cmap.set_under('white')\n",
    "matplotlib.rcParams['figure.figsize'] = (13,8)\n",
    "%config InlineBackend.figure_format = 'retina'\n",
    "%matplotlib inline\n"
   ]
  },
  {
   "cell_type": "code",
   "execution_count": null,
   "metadata": {},
   "outputs": [],
   "source": [
    "fig, ax = plt.subplots()\n",
    "ax.set_aspect('equal')\n",
    "xkey = 'x'\n",
    "ykey = 'y'\n",
    "datx = P[xkey]\n",
    "daty = P[ykey]\n",
    "ax.set_xlabel(f'{xkey} ({P.units(xkey)})')\n",
    "ax.set_ylabel(f'{ykey} ({P.units(ykey)})')\n",
    "ax.hexbin(datx, daty, gridsize=40, cmap=cmap, vmin=1e-15)"
   ]
  },
  {
   "cell_type": "code",
   "execution_count": null,
   "metadata": {},
   "outputs": [],
   "source": [
    "# Cleanup\n",
    "os.remove('astra.dat')"
   ]
  },
  {
   "cell_type": "code",
   "execution_count": null,
   "metadata": {},
   "outputs": [],
   "source": []
  },
  {
   "cell_type": "code",
   "execution_count": null,
   "metadata": {},
   "outputs": [],
   "source": []
  }
 ],
 "metadata": {
  "kernelspec": {
   "display_name": "Python 3",
   "language": "python",
   "name": "python3"
  },
  "language_info": {
   "codemirror_mode": {
    "name": "ipython",
    "version": 3
   },
   "file_extension": ".py",
   "mimetype": "text/x-python",
   "name": "python",
   "nbconvert_exporter": "python",
   "pygments_lexer": "ipython3",
   "version": "3.7.5"
  }
 },
 "nbformat": 4,
 "nbformat_minor": 4
}
