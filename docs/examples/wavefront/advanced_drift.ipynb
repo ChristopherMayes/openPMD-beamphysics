{
 "cells": [
  {
   "cell_type": "markdown",
   "id": "e869bf44-a8cb-41c5-ae72-5c71e22685c1",
   "metadata": {},
   "source": [
    "# Drift vs Advanced Drift"
   ]
  },
  {
   "cell_type": "code",
   "execution_count": null,
   "id": "68d5ee4f-4327-4948-a87b-09564b3f8fbb",
   "metadata": {},
   "outputs": [],
   "source": [
    "%load_ext autoreload\n",
    "%autoreload 2"
   ]
  },
  {
   "cell_type": "code",
   "execution_count": null,
   "id": "90379d75-1189-4eed-8a3d-61214e489de9",
   "metadata": {},
   "outputs": [],
   "source": [
    "from pmd_beamphysics.wavefront.wavefront import Wavefront\n",
    "from pmd_beamphysics.wavefront.propagators import (\n",
    "    drift_wavefront,\n",
    "    drift_wavefront_advanced,\n",
    ")\n",
    "from pmd_beamphysics.wavefront.gaussian import add_gaussian\n",
    "from pmd_beamphysics.units import Z0, c_light\n",
    "import numpy as np\n",
    "\n",
    "import matplotlib.pyplot as plt"
   ]
  },
  {
   "cell_type": "markdown",
   "id": "77e4cf92-7850-444b-bf8e-53b084db1187",
   "metadata": {},
   "source": [
    "# Gaussian pulse "
   ]
  },
  {
   "cell_type": "code",
   "execution_count": null,
   "id": "bb843ce8-abd8-4070-b136-176e672b9ec6",
   "metadata": {},
   "outputs": [],
   "source": [
    "W0 = Wavefront(\n",
    "    Ex=np.zeros((101, 101, 1368)),\n",
    "    dx=5.999999999999999e-06,\n",
    "    dy=5.999999999999999e-06,\n",
    "    dz=1.46724e-09,\n",
    "    wavelength=1.2227e-10,\n",
    ")\n",
    "w0 = 50e-6\n",
    "zR = np.pi * w0**2 / W0.wavelength\n",
    "\n",
    "\n",
    "W = W0.copy()\n",
    "add_gaussian(W, z=0, w0=w0, energy=1.2345e-6)\n",
    "\n",
    "W.plot()"
   ]
  },
  {
   "cell_type": "markdown",
   "id": "4e448f53-d28d-449d-bbef-faaf5560e841",
   "metadata": {},
   "source": [
    "## Checking the total Energy in the W object"
   ]
  },
  {
   "cell_type": "code",
   "execution_count": null,
   "id": "35d60d9c-cd42-402c-8972-28650486ed6e",
   "metadata": {},
   "outputs": [],
   "source": [
    "W.energy"
   ]
  },
  {
   "cell_type": "code",
   "execution_count": null,
   "id": "412d9713-8469-4138-b862-d6ddf489defd",
   "metadata": {},
   "outputs": [],
   "source": [
    "# W.write_genesis4('field_test_gaussian.h5')"
   ]
  },
  {
   "cell_type": "markdown",
   "id": "3877cbc9-0940-4658-86ad-7c524307330b",
   "metadata": {},
   "source": [
    "## Propagate to 420 meters"
   ]
  },
  {
   "cell_type": "code",
   "execution_count": null,
   "id": "0139241f-dba3-4f03-8c01-a0610fc6bc33",
   "metadata": {},
   "outputs": [],
   "source": [
    "W1 = drift_wavefront(W, 420)\n",
    "W1.plot()"
   ]
  },
  {
   "cell_type": "markdown",
   "id": "0d3dc2ce-57d6-4229-befd-1156ad915fe6",
   "metadata": {},
   "source": [
    "## Advanced propagator "
   ]
  },
  {
   "cell_type": "code",
   "execution_count": null,
   "id": "7162e965-080b-469b-8a52-037523c933f9",
   "metadata": {},
   "outputs": [],
   "source": [
    "W2 = drift_wavefront_advanced(W, 420, Rcurv=200)\n",
    "W2.plot()"
   ]
  },
  {
   "cell_type": "code",
   "execution_count": null,
   "id": "ba3810bf-7a69-46f2-9625-5b0acb347934",
   "metadata": {},
   "outputs": [],
   "source": [
    "W2.energy"
   ]
  },
  {
   "cell_type": "markdown",
   "id": "ac3572c8-85a0-4be1-b829-8bf566c6d71a",
   "metadata": {},
   "source": [
    "## Check energy"
   ]
  },
  {
   "cell_type": "code",
   "execution_count": null,
   "id": "a0661ff2-d533-43d7-8c40-36e39a1632b7",
   "metadata": {},
   "outputs": [],
   "source": [
    "W2.energy"
   ]
  },
  {
   "cell_type": "markdown",
   "id": "95f9519e-11fa-4dd3-b2ae-9c33a03ed044",
   "metadata": {},
   "source": [
    "## Phase errors"
   ]
  },
  {
   "cell_type": "code",
   "execution_count": null,
   "id": "1b6e8af3-9aed-4d87-b398-8005de0c9f9a",
   "metadata": {},
   "outputs": [],
   "source": [
    "plt.figure(figsize=(12, 3))\n",
    "phase1 = np.sum(np.angle(W1.Ex), axis=2)[:, 51]\n",
    "phase2 = np.sum(np.angle(W2.Ex), axis=2)[:, 51]\n",
    "\n",
    "plt.plot(W1.xvec, phase1, label=\"drift\")\n",
    "plt.plot(W2.xvec, phase2, label=\"advanced drift\")\n",
    "plt.legend()"
   ]
  },
  {
   "cell_type": "markdown",
   "id": "28fe9c1c-642d-4952-b68d-25d7d9c60114",
   "metadata": {},
   "source": [
    "## Checking Gaussian beam propagation"
   ]
  },
  {
   "cell_type": "code",
   "execution_count": null,
   "id": "a88009e4-c880-488e-ae13-1c1f681413e5",
   "metadata": {},
   "outputs": [],
   "source": [
    "%%time\n",
    "Zlist = np.linspace(0, 100, 20)\n",
    "Wlist = [drift_wavefront(W, z) for z in Zlist]\n",
    "\n",
    "Wlist2 = [drift_wavefront_advanced(W, z, Rcurv=40) for z in Zlist]\n",
    "\n",
    "sizes = np.array([w.sigma_x for w in Wlist])\n",
    "sizes2 = np.array([w.sigma_x for w in Wlist2])"
   ]
  },
  {
   "cell_type": "code",
   "execution_count": null,
   "id": "e7877afc-a662-4ccb-8cb7-50f7c951fb19",
   "metadata": {},
   "outputs": [],
   "source": [
    "[w.energy for w in Wlist2]"
   ]
  },
  {
   "cell_type": "code",
   "execution_count": null,
   "id": "2da0dd5f-c4a5-4ed2-a570-5ed845fe0128",
   "metadata": {},
   "outputs": [],
   "source": [
    "np.sum(np.abs(Wlist2[2].Ex) ** 2) * Wlist2[2].dx * Wlist2[2].dy * Wlist2[2].dz / (\n",
    "    2 * Z0 * c_light\n",
    ")"
   ]
  },
  {
   "cell_type": "code",
   "execution_count": null,
   "id": "e9df6fd1-65f3-4757-9bfb-c1d6a4746ad0",
   "metadata": {},
   "outputs": [],
   "source": [
    "sigma_x0 = W.sigma_x\n",
    "\n",
    "expected_w = sigma_x0 * np.sqrt(1 + (Zlist / zR) ** 2)"
   ]
  },
  {
   "cell_type": "code",
   "execution_count": null,
   "id": "b2561b9d-a288-4572-b9f7-b4a6f8d17b38",
   "metadata": {},
   "outputs": [],
   "source": [
    "fig, ax = plt.subplots()\n",
    "ax.plot(Zlist, 1e6 * expected_w, label=\"expected\")\n",
    "ax.plot(Zlist, 1e6 * sizes, \"--\", label=\"drift\")\n",
    "ax.plot(Zlist, 1e6 * sizes2, \"--\", label=\"advanced drift\")\n",
    "ax.set_xlabel(r\"$z$ (m)\")\n",
    "\n",
    "ax.set_ylabel(r\"$\\sigma_x$ (µm)\")\n",
    "plt.legend()"
   ]
  },
  {
   "cell_type": "markdown",
   "id": "c21c9331-7168-421c-b306-760bf612a7b7",
   "metadata": {},
   "source": [
    "# K-space "
   ]
  },
  {
   "cell_type": "code",
   "execution_count": null,
   "id": "9eb8c9c0-63ad-441f-9e29-9ea258d71f5f",
   "metadata": {},
   "outputs": [],
   "source": [
    "Wk = W.to_kspace()\n",
    "Wk.plot()"
   ]
  },
  {
   "cell_type": "code",
   "execution_count": null,
   "id": "0393614b-c3fb-468f-88f3-8d5540e7ac99",
   "metadata": {},
   "outputs": [],
   "source": [
    "sigma_thetax = np.array([float(w.to_kspace().sigma_thetax) for w in Wlist])\n",
    "sigma_thetax2 = np.array([float(w.to_kspace().sigma_thetax) for w in Wlist2])"
   ]
  },
  {
   "cell_type": "code",
   "execution_count": null,
   "id": "c33684ad-f41d-4243-b2f0-5b7a156782c8",
   "metadata": {},
   "outputs": [],
   "source": [
    "fig, ax = plt.subplots()\n",
    "ax.plot(Zlist, 1e6 * sigma_thetax, \"--\", label=\"drift\")\n",
    "ax.plot(Zlist[1:], 1e6 * sigma_thetax2[1:], \"o-\", label=\"advanced drift\")\n",
    "ax.set_xlabel(r\"$z$ (m)\")\n",
    "\n",
    "ax.set_ylabel(r\"$\\sigma_\\theta$ (µrad)\")\n",
    "\n",
    "ax.set_ylim(0, 1)\n",
    "plt.legend()"
   ]
  }
 ],
 "metadata": {
  "kernelspec": {
   "display_name": "Python 3 (ipykernel)",
   "language": "python",
   "name": "python3"
  },
  "language_info": {
   "codemirror_mode": {
    "name": "ipython",
    "version": 3
   },
   "file_extension": ".py",
   "mimetype": "text/x-python",
   "name": "python",
   "nbconvert_exporter": "python",
   "pygments_lexer": "ipython3",
   "version": "3.13.3"
  }
 },
 "nbformat": 4,
 "nbformat_minor": 5
}
