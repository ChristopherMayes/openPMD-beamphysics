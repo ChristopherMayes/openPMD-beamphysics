{
 "cells": [
  {
   "cell_type": "markdown",
   "id": "e869bf44-a8cb-41c5-ae72-5c71e22685c1",
   "metadata": {},
   "source": [
    "# Wavefront and WavefrontK"
   ]
  },
  {
   "cell_type": "code",
   "execution_count": null,
   "id": "68d5ee4f-4327-4948-a87b-09564b3f8fbb",
   "metadata": {},
   "outputs": [],
   "source": [
    "%load_ext autoreload\n",
    "%autoreload 2"
   ]
  },
  {
   "cell_type": "code",
   "execution_count": null,
   "id": "90379d75-1189-4eed-8a3d-61214e489de9",
   "metadata": {},
   "outputs": [],
   "source": [
    "from pmd_beamphysics.wavefront.wavefront import Wavefront\n",
    "from pmd_beamphysics.wavefront.propagators import drift_wavefront\n",
    "from pmd_beamphysics.wavefront.gaussian import add_gaussian\n",
    "\n",
    "import numpy as np\n",
    "\n",
    "import os\n",
    "\n",
    "import matplotlib.pyplot as plt"
   ]
  },
  {
   "cell_type": "code",
   "execution_count": null,
   "id": "0ee74199-4257-422a-ba5f-0ca9275b1950",
   "metadata": {},
   "outputs": [],
   "source": [
    "W = Wavefront(\n",
    "    Ex=np.zeros((11, 11, 2)).astype(complex),\n",
    "    # Ex = np.random.rand(2,2,2).astype(complex),\n",
    "    dx=1,\n",
    "    dy=1,\n",
    "    dz=0.1,\n",
    ")\n",
    "W.Ex[5, 5, :] = 1\n",
    "\n",
    "W.plot()"
   ]
  },
  {
   "cell_type": "code",
   "execution_count": null,
   "id": "414044e3-e28a-4a8e-a0c5-428287174ef3",
   "metadata": {},
   "outputs": [],
   "source": [
    "W2 = drift_wavefront(W.pad(1000, 1000, 0), 1000)\n",
    "\n",
    "W2.plot()"
   ]
  },
  {
   "cell_type": "markdown",
   "id": "77e4cf92-7850-444b-bf8e-53b084db1187",
   "metadata": {},
   "source": [
    "# Gaussian pulse "
   ]
  },
  {
   "cell_type": "code",
   "execution_count": null,
   "id": "bb843ce8-abd8-4070-b136-176e672b9ec6",
   "metadata": {},
   "outputs": [],
   "source": [
    "W0 = Wavefront(\n",
    "    Ex=np.zeros((101, 101, 51)),\n",
    "    dx=10e-6,\n",
    "    dy=10e-6,\n",
    "    dz=10e-6,\n",
    "    wavelength=1e-9,\n",
    ")\n",
    "w0 = 100e-6\n",
    "zR = np.pi * w0**2 / W0.wavelength\n",
    "\n",
    "\n",
    "W = W0.copy()\n",
    "add_gaussian(W, z=0, w0=w0, energy=1.2345)\n",
    "\n",
    "W.plot()"
   ]
  },
  {
   "cell_type": "code",
   "execution_count": null,
   "id": "b1806f5b-7bcc-4d84-840c-ad9e6783b646",
   "metadata": {},
   "outputs": [],
   "source": [
    "# Check size\n",
    "W.sigma_x * 2"
   ]
  },
  {
   "cell_type": "code",
   "execution_count": null,
   "id": "5fa15056-e3b1-480d-81d8-2c4ffdabfd27",
   "metadata": {},
   "outputs": [],
   "source": [
    "# Check energy\n",
    "W.energy"
   ]
  },
  {
   "cell_type": "code",
   "execution_count": null,
   "id": "a88009e4-c880-488e-ae13-1c1f681413e5",
   "metadata": {},
   "outputs": [],
   "source": [
    "%%time\n",
    "Zlist = np.linspace(0, 100, 20)\n",
    "Wlist = [drift_wavefront(W, z) for z in Zlist]\n",
    "\n",
    "sizes = np.array([w.sigma_x for w in Wlist])\n",
    "sizes"
   ]
  },
  {
   "cell_type": "code",
   "execution_count": null,
   "id": "e9df6fd1-65f3-4757-9bfb-c1d6a4746ad0",
   "metadata": {},
   "outputs": [],
   "source": [
    "sigma_x0 = W.sigma_x\n",
    "\n",
    "expected_w = sigma_x0 * np.sqrt(1 + (Zlist / zR) ** 2)"
   ]
  },
  {
   "cell_type": "code",
   "execution_count": null,
   "id": "b2561b9d-a288-4572-b9f7-b4a6f8d17b38",
   "metadata": {},
   "outputs": [],
   "source": [
    "fig, ax = plt.subplots()\n",
    "ax.plot(Zlist, 1e6 * expected_w, label=\"expected\")\n",
    "ax.plot(Zlist, 1e6 * sizes, \"--\", label=\"propagated\")\n",
    "\n",
    "ax.set_xlabel(r\"$z$ (m)\")\n",
    "\n",
    "ax.set_ylabel(r\"$\\sigma_x$ (µm)\")\n",
    "plt.legend()"
   ]
  },
  {
   "cell_type": "markdown",
   "id": "838e1c7d-5dcb-45a6-9c6d-91f46468e76d",
   "metadata": {},
   "source": [
    "# $M^2$ fit\n",
    "\n",
    "The beam size squared equation is given by:\n",
    "\n",
    "$$\n",
    "w^2(z) = w_0^2 \\left[ 1 + \\left(\\frac{M^2 \\lambda}{\\pi w_0^2} (z - z_0) \\right)^2 \\right]\n",
    "$$\n",
    "\n",
    "Where:\n",
    "- $w(z)$: Beam radius at position \\(z\\).\n",
    "- $w_0$: Beam waist radius (minimum beam size).\n",
    "- $z_0$: Position of the beam waist.\n",
    "- $z$: Position along the propagation axis.\n",
    "- $M^2$: Beam quality factor.\n",
    "- $\\lambda$: Wavelength of the light.\n",
    "\n",
    "In this equation:\n",
    "- At $z = z_0$, the beam size is at its minimum: $w^2(z_0) = w_0^2$.\n",
    "- As $z$ increases or decreases from $z_0$, the beam size squared grows quadratically, scaled by the $M^2$ parameter.\n"
   ]
  },
  {
   "cell_type": "code",
   "execution_count": null,
   "id": "c072650d-d643-4f17-bf89-8d478743ca13",
   "metadata": {},
   "outputs": [],
   "source": [
    "z = Zlist\n",
    "w2 = (2 * expected_w) ** 2\n",
    "wavelength = W.wavelength"
   ]
  },
  {
   "cell_type": "code",
   "execution_count": null,
   "id": "d2208a65-4299-44f1-90a1-257ab23f9658",
   "metadata": {},
   "outputs": [],
   "source": [
    "from scipy.optimize import curve_fit\n",
    "\n",
    "\n",
    "# Define the beam size squared function\n",
    "def beam_size_squared(z, w0, z0, M2, wavelength=wavelength):\n",
    "    k = M2 * wavelength / (np.pi * w0**2)  # Divergence coefficient\n",
    "    return w0**2 * (1 + (k * (z - z0)) ** 2)\n",
    "\n",
    "\n",
    "# Initial guesses for w0, z0, and M2\n",
    "initial_guess = [1e-3, 0.0, 1.0]\n",
    "\n",
    "# Curve fitting\n",
    "popt, pcov = curve_fit(beam_size_squared, z, w2, p0=initial_guess)\n",
    "\n",
    "# Extract fitted parameters\n",
    "w0_fit, z0_fit, M2_fit = popt\n",
    "\n",
    "# Print results\n",
    "print(f\"Fitted w0 (beam waist):     {w0_fit:10.9f} m\")\n",
    "print(f\"Fitted z0 (waist position): {z0_fit:10.9f} m\")\n",
    "print(f\"Fitted M^2 (beam quality):  {M2_fit:10.9f}\")\n",
    "\n",
    "# Plot the results\n",
    "z_fit = np.linspace(min(z), max(z), 500)\n",
    "w2_fit = beam_size_squared(z_fit, *popt)\n",
    "\n",
    "plt.figure(figsize=(8, 6))\n",
    "plt.scatter(z, w2, label=\"Data\", color=\"blue\", marker=\"o\")\n",
    "plt.plot(z_fit, w2_fit, label=\"Fit\", color=\"red\")\n",
    "plt.xlabel(\"z (m)\")\n",
    "plt.ylabel(\"Beam Size Squared (w²) (m²)\")\n",
    "plt.legend()\n",
    "plt.title(\"Beam Size Squared vs. z\")\n",
    "plt.grid()\n",
    "plt.show()"
   ]
  },
  {
   "cell_type": "markdown",
   "id": "c21c9331-7168-421c-b306-760bf612a7b7",
   "metadata": {},
   "source": [
    "# K-space "
   ]
  },
  {
   "cell_type": "code",
   "execution_count": null,
   "id": "9eb8c9c0-63ad-441f-9e29-9ea258d71f5f",
   "metadata": {},
   "outputs": [],
   "source": [
    "Wk = W.to_kspace()\n",
    "\n",
    "Wk.plot()"
   ]
  },
  {
   "cell_type": "code",
   "execution_count": null,
   "id": "bc0641e6-60d9-4408-8dc8-2a8a4453db71",
   "metadata": {},
   "outputs": [],
   "source": [
    "Wk.energy"
   ]
  },
  {
   "cell_type": "code",
   "execution_count": null,
   "id": "9e8b7778-7821-423a-852a-cc76a7ab9c60",
   "metadata": {},
   "outputs": [],
   "source": [
    "Wk.sigma_thetax"
   ]
  },
  {
   "cell_type": "code",
   "execution_count": null,
   "id": "0393614b-c3fb-468f-88f3-8d5540e7ac99",
   "metadata": {},
   "outputs": [],
   "source": [
    "[float(w.to_kspace().sigma_thetax) for w in Wlist]"
   ]
  },
  {
   "cell_type": "code",
   "execution_count": null,
   "id": "c33684ad-f41d-4243-b2f0-5b7a156782c8",
   "metadata": {},
   "outputs": [],
   "source": [
    "1 / W.sigma_x / W.k0 / 2"
   ]
  },
  {
   "cell_type": "code",
   "execution_count": null,
   "id": "83bfdd76-ee57-4411-9de2-840add696171",
   "metadata": {},
   "outputs": [],
   "source": [
    "Wk.sigma_kx"
   ]
  },
  {
   "cell_type": "code",
   "execution_count": null,
   "id": "dfc6d4ae-eb03-4118-810b-a81896ed2b9e",
   "metadata": {},
   "outputs": [],
   "source": [
    "1 / W.sigma_x / 2"
   ]
  },
  {
   "cell_type": "markdown",
   "id": "1dd88a11-eeec-4d7d-8349-eb5d18c73a82",
   "metadata": {},
   "source": [
    "# Genesis4 conversion"
   ]
  },
  {
   "cell_type": "code",
   "execution_count": null,
   "id": "471e3478-f4df-45f5-bd49-df2dc971df01",
   "metadata": {},
   "outputs": [],
   "source": [
    "W.write_genesis4(\"genesis4_field.h5\")"
   ]
  },
  {
   "cell_type": "code",
   "execution_count": null,
   "id": "3090d7d2-8f9d-4f14-8210-6946b4600b8e",
   "metadata": {},
   "outputs": [],
   "source": [
    "W2 = Wavefront.from_genesis4(\"genesis4_field.h5\")"
   ]
  },
  {
   "cell_type": "code",
   "execution_count": null,
   "id": "b95ae703-1826-4ce6-ab0e-982793155e48",
   "metadata": {},
   "outputs": [],
   "source": [
    "np.allclose(W.Ex, W2.Ex)"
   ]
  },
  {
   "cell_type": "code",
   "execution_count": null,
   "id": "a20d81dd-cedd-4969-83af-8d0f823786a7",
   "metadata": {},
   "outputs": [],
   "source": [
    "# Cleanup\n",
    "os.remove(\"genesis4_field.h5\")"
   ]
  }
 ],
 "metadata": {
  "kernelspec": {
   "display_name": "Python 3 (ipykernel)",
   "language": "python",
   "name": "python3"
  },
  "language_info": {
   "codemirror_mode": {
    "name": "ipython",
    "version": 3
   },
   "file_extension": ".py",
   "mimetype": "text/x-python",
   "name": "python",
   "nbconvert_exporter": "python",
   "pygments_lexer": "ipython3",
   "version": "3.13.1"
  }
 },
 "nbformat": 4,
 "nbformat_minor": 5
}
