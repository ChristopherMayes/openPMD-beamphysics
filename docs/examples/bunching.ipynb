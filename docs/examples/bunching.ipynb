{
 "cells": [
  {
   "cell_type": "markdown",
   "id": "d6490636-6e3c-4d4b-9122-394a314e10d3",
   "metadata": {},
   "source": [
    "# Bunching\n",
    "\n",
    "Bunching at some wavelength $\\lambda$ for a list of particles $z$ is given by the weighted sum of complex phasors:\n",
    "\n",
    "$$B(z, \\lambda) \\equiv \\frac{\\sum_j w_j e^{i k z_j}}{\\sum w_j}\n",
    "$$\n",
    "\n",
    "where $k = 2\\pi/\\lambda$ and $w_j$ are the weights of the particles.\n",
    "\n",
    "See for example [D. Ratner's disseratation](https://www.osti.gov/servlets/purl/1443197). "
   ]
  },
  {
   "cell_type": "markdown",
   "id": "c72d25c9-ec8d-4a3a-88ef-e6aba001d113",
   "metadata": {},
   "source": [
    "## Add bunching to particles\n",
    "\n",
    "This uses a simple method to add perfect bunching at 0.1 µm"
   ]
  },
  {
   "cell_type": "code",
   "execution_count": null,
   "id": "89d98045-89b5-4d05-a1b3-33f956ba329c",
   "metadata": {
    "execution": {
     "iopub.execute_input": "2024-10-17T23:18:33.813007Z",
     "iopub.status.busy": "2024-10-17T23:18:33.812664Z",
     "iopub.status.idle": "2024-10-17T23:18:34.479319Z",
     "shell.execute_reply": "2024-10-17T23:18:34.479013Z"
    }
   },
   "outputs": [],
   "source": [
    "from pmd_beamphysics import ParticleGroup\n",
    "\n",
    "%config InlineBackend.figure_format = 'retina'"
   ]
  },
  {
   "cell_type": "code",
   "execution_count": null,
   "id": "2808d05b-41dc-44eb-ac98-ae00ec7ba97b",
   "metadata": {
    "execution": {
     "iopub.execute_input": "2024-10-17T23:18:34.481238Z",
     "iopub.status.busy": "2024-10-17T23:18:34.481065Z",
     "iopub.status.idle": "2024-10-17T23:18:34.491210Z",
     "shell.execute_reply": "2024-10-17T23:18:34.490941Z"
    }
   },
   "outputs": [],
   "source": [
    "P = ParticleGroup(\"data/bmad_particles2.h5\")\n",
    "P.drift_to_t()\n",
    "\n",
    "wavelength = 0.1e-6\n",
    "dz = (P.z / wavelength % 1) * wavelength\n",
    "P.z -= dz"
   ]
  },
  {
   "cell_type": "code",
   "execution_count": null,
   "id": "f92a71d1-2804-4fba-a38b-3089351a910d",
   "metadata": {
    "execution": {
     "iopub.execute_input": "2024-10-17T23:18:34.492696Z",
     "iopub.status.busy": "2024-10-17T23:18:34.492612Z",
     "iopub.status.idle": "2024-10-17T23:18:34.972146Z",
     "shell.execute_reply": "2024-10-17T23:18:34.971859Z"
    }
   },
   "outputs": [],
   "source": [
    "P.plot(\"z\")"
   ]
  },
  {
   "cell_type": "markdown",
   "id": "ecc456e2-226a-426f-82f3-6f20ce9a4441",
   "metadata": {},
   "source": [
    "## Calculate bunching\n",
    "\n",
    "All of these methods will calculate the bunching. The first returns a complex number `bunching`\n",
    "\n",
    "The string attributes return real numbers, magnitude and argument (phase):\n",
    "\n",
    "- `'bunching_` returns `np.abs(bunching)`\n",
    "- `'bunching_phase_` returns `np.angle(bunching)`\n"
   ]
  },
  {
   "cell_type": "code",
   "execution_count": null,
   "id": "95d51518-4dad-478d-a67f-4416e5e5a989",
   "metadata": {
    "execution": {
     "iopub.execute_input": "2024-10-17T23:18:34.973522Z",
     "iopub.status.busy": "2024-10-17T23:18:34.973431Z",
     "iopub.status.idle": "2024-10-17T23:18:34.979658Z",
     "shell.execute_reply": "2024-10-17T23:18:34.979301Z"
    }
   },
   "outputs": [],
   "source": [
    "b = P.bunching(wavelength)\n",
    "b"
   ]
  },
  {
   "cell_type": "code",
   "execution_count": null,
   "id": "9a0ba850-3e57-4b70-b0d1-31376166da55",
   "metadata": {
    "execution": {
     "iopub.execute_input": "2024-10-17T23:18:34.981012Z",
     "iopub.status.busy": "2024-10-17T23:18:34.980900Z",
     "iopub.status.idle": "2024-10-17T23:18:34.986795Z",
     "shell.execute_reply": "2024-10-17T23:18:34.986599Z"
    }
   },
   "outputs": [],
   "source": [
    "P[\"bunching_0.1e-6\"]"
   ]
  },
  {
   "cell_type": "code",
   "execution_count": null,
   "id": "4756a087-6e40-4000-a4ea-158fc7a54d74",
   "metadata": {
    "execution": {
     "iopub.execute_input": "2024-10-17T23:18:34.987995Z",
     "iopub.status.busy": "2024-10-17T23:18:34.987909Z",
     "iopub.status.idle": "2024-10-17T23:18:34.993875Z",
     "shell.execute_reply": "2024-10-17T23:18:34.993670Z"
    }
   },
   "outputs": [],
   "source": [
    "P[\"bunching_phase_0.1e-6\"]"
   ]
  },
  {
   "cell_type": "code",
   "execution_count": null,
   "id": "1627bba1-710e-47b6-b923-9c64a6d32903",
   "metadata": {
    "execution": {
     "iopub.execute_input": "2024-10-17T23:18:34.994950Z",
     "iopub.status.busy": "2024-10-17T23:18:34.994869Z",
     "iopub.status.idle": "2024-10-17T23:18:35.001303Z",
     "shell.execute_reply": "2024-10-17T23:18:35.001061Z"
    }
   },
   "outputs": [],
   "source": [
    "P[\"bunching_0.1_um\"]"
   ]
  },
  {
   "cell_type": "markdown",
   "id": "0d8186ef-a9ab-4db8-8963-b7bc1bdb9365",
   "metadata": {},
   "source": [
    "# Simple plot"
   ]
  },
  {
   "cell_type": "code",
   "execution_count": null,
   "id": "d24b9496-e828-45f1-a055-4e27e7aeba31",
   "metadata": {
    "execution": {
     "iopub.execute_input": "2024-10-17T23:18:35.002629Z",
     "iopub.status.busy": "2024-10-17T23:18:35.002546Z",
     "iopub.status.idle": "2024-10-17T23:18:35.004428Z",
     "shell.execute_reply": "2024-10-17T23:18:35.004137Z"
    }
   },
   "outputs": [],
   "source": [
    "import numpy as np\n",
    "\n",
    "import matplotlib.pyplot as plt"
   ]
  },
  {
   "cell_type": "code",
   "execution_count": null,
   "id": "c6b5c501-bfdd-492d-891e-ba10e6b546ef",
   "metadata": {
    "execution": {
     "iopub.execute_input": "2024-10-17T23:18:35.005595Z",
     "iopub.status.busy": "2024-10-17T23:18:35.005516Z",
     "iopub.status.idle": "2024-10-17T23:18:35.007395Z",
     "shell.execute_reply": "2024-10-17T23:18:35.007169Z"
    }
   },
   "outputs": [],
   "source": [
    "wavelengths = wavelength * np.linspace(0.9, 1.1, 200)"
   ]
  },
  {
   "cell_type": "code",
   "execution_count": null,
   "id": "50cda5af-4a97-4aa0-bf9c-c3984140d39c",
   "metadata": {
    "execution": {
     "iopub.execute_input": "2024-10-17T23:18:35.008946Z",
     "iopub.status.busy": "2024-10-17T23:18:35.008856Z",
     "iopub.status.idle": "2024-10-17T23:18:35.971722Z",
     "shell.execute_reply": "2024-10-17T23:18:35.971427Z"
    }
   },
   "outputs": [],
   "source": [
    "plt.plot(wavelengths * 1e6, np.abs(list(map(P.bunching, wavelengths))))\n",
    "plt.xlabel(\"wavelength (µm)\")\n",
    "plt.ylabel(\"bunching\")"
   ]
  },
  {
   "cell_type": "code",
   "execution_count": null,
   "id": "42b088fa-aaef-43df-910f-07cddac21bb0",
   "metadata": {
    "execution": {
     "iopub.execute_input": "2024-10-17T23:18:35.973897Z",
     "iopub.status.busy": "2024-10-17T23:18:35.973763Z",
     "iopub.status.idle": "2024-10-17T23:18:36.128449Z",
     "shell.execute_reply": "2024-10-17T23:18:36.128173Z"
    }
   },
   "outputs": [],
   "source": [
    "P.slice_plot(\"bunching_0.1_um\")"
   ]
  },
  {
   "cell_type": "code",
   "execution_count": null,
   "id": "d9c0236c-cab9-463f-a2f3-010ef120b11c",
   "metadata": {
    "execution": {
     "iopub.execute_input": "2024-10-17T23:18:36.129875Z",
     "iopub.status.busy": "2024-10-17T23:18:36.129757Z",
     "iopub.status.idle": "2024-10-17T23:18:36.402848Z",
     "shell.execute_reply": "2024-10-17T23:18:36.402548Z"
    }
   },
   "outputs": [],
   "source": [
    "P.slice_plot(\"bunching_phase_0.1_um\")"
   ]
  },
  {
   "cell_type": "code",
   "execution_count": null,
   "id": "bbc674b0-67d8-4a5c-abe0-583bdf0270f2",
   "metadata": {
    "execution": {
     "iopub.execute_input": "2024-10-17T23:18:36.405138Z",
     "iopub.status.busy": "2024-10-17T23:18:36.404962Z",
     "iopub.status.idle": "2024-10-17T23:18:36.410635Z",
     "shell.execute_reply": "2024-10-17T23:18:36.410217Z"
    }
   },
   "outputs": [],
   "source": [
    "P.in_z_coordinates"
   ]
  },
  {
   "cell_type": "markdown",
   "id": "aaa2cc83-9988-4249-a39c-9ee0e15529a3",
   "metadata": {},
   "source": [
    "## Units\n",
    "\n",
    "Bunching is dimensionless"
   ]
  },
  {
   "cell_type": "code",
   "execution_count": null,
   "id": "01b2f6d7-734c-4bea-add3-48ffa215dacc",
   "metadata": {
    "execution": {
     "iopub.execute_input": "2024-10-17T23:18:36.412100Z",
     "iopub.status.busy": "2024-10-17T23:18:36.411972Z",
     "iopub.status.idle": "2024-10-17T23:18:36.414279Z",
     "shell.execute_reply": "2024-10-17T23:18:36.414036Z"
    }
   },
   "outputs": [],
   "source": [
    "P.units(\"bunching_0.1_um\")"
   ]
  },
  {
   "cell_type": "code",
   "execution_count": null,
   "id": "f5ecde78-9f42-40be-907b-81109f511015",
   "metadata": {
    "execution": {
     "iopub.execute_input": "2024-10-17T23:18:36.415434Z",
     "iopub.status.busy": "2024-10-17T23:18:36.415331Z",
     "iopub.status.idle": "2024-10-17T23:18:36.417629Z",
     "shell.execute_reply": "2024-10-17T23:18:36.417386Z"
    }
   },
   "outputs": [],
   "source": [
    "P.units(\"bunching_phase_0.1_um\")"
   ]
  },
  {
   "cell_type": "markdown",
   "id": "8a0a3ee9-3fbe-4299-ba9f-7055cf2869ab",
   "metadata": {},
   "source": [
    "## Bunching function\n",
    "\n",
    "This is the function that is used."
   ]
  },
  {
   "cell_type": "code",
   "execution_count": null,
   "id": "ac7ee4c6-1b02-40a1-96a3-3be6629da002",
   "metadata": {
    "execution": {
     "iopub.execute_input": "2024-10-17T23:18:36.418900Z",
     "iopub.status.busy": "2024-10-17T23:18:36.418795Z",
     "iopub.status.idle": "2024-10-17T23:18:36.420474Z",
     "shell.execute_reply": "2024-10-17T23:18:36.420255Z"
    }
   },
   "outputs": [],
   "source": []
  },
  {
   "cell_type": "code",
   "execution_count": null,
   "id": "af2982d8-a19d-481f-b9ec-940d5d02e290",
   "metadata": {
    "execution": {
     "iopub.execute_input": "2024-10-17T23:18:36.421752Z",
     "iopub.status.busy": "2024-10-17T23:18:36.421640Z",
     "iopub.status.idle": "2024-10-17T23:18:36.442127Z",
     "shell.execute_reply": "2024-10-17T23:18:36.441569Z"
    }
   },
   "outputs": [],
   "source": [
    "?bunching"
   ]
  }
 ],
 "metadata": {
  "kernelspec": {
   "display_name": "Python 3 (ipykernel)",
   "language": "python",
   "name": "python3"
  },
  "language_info": {
   "codemirror_mode": {
    "name": "ipython",
    "version": 3
   },
   "file_extension": ".py",
   "mimetype": "text/x-python",
   "name": "python",
   "nbconvert_exporter": "python",
   "pygments_lexer": "ipython3",
   "version": "3.12.7"
  }
 },
 "nbformat": 4,
 "nbformat_minor": 5
}
