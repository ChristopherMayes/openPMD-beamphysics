{
 "cells": [
  {
   "cell_type": "markdown",
   "metadata": {},
   "source": [
    "# Units\n",
    "\n",
    "This package provides unit conversion tools "
   ]
  },
  {
   "cell_type": "code",
   "execution_count": 1,
   "metadata": {
    "execution": {
     "iopub.execute_input": "2022-09-08T23:42:19.031808Z",
     "iopub.status.busy": "2022-09-08T23:42:19.031569Z",
     "iopub.status.idle": "2022-09-08T23:42:19.046127Z",
     "shell.execute_reply": "2022-09-08T23:42:19.045593Z"
    }
   },
   "outputs": [],
   "source": [
    "# Useful for debugging\n",
    "%load_ext autoreload\n",
    "%autoreload 2"
   ]
  },
  {
   "cell_type": "code",
   "execution_count": 2,
   "metadata": {
    "execution": {
     "iopub.execute_input": "2022-09-08T23:42:19.048832Z",
     "iopub.status.busy": "2022-09-08T23:42:19.048633Z",
     "iopub.status.idle": "2022-09-08T23:42:19.768605Z",
     "shell.execute_reply": "2022-09-08T23:42:19.767983Z"
    }
   },
   "outputs": [],
   "source": [
    "from pmd_beamphysics import particle_paths\n",
    "from pmd_beamphysics.units import pmd_unit, dimension_name, sqrt_unit, known_unit, multiply_units\n",
    "from h5py import File\n",
    "import numpy as np"
   ]
  },
  {
   "cell_type": "code",
   "execution_count": 3,
   "metadata": {
    "execution": {
     "iopub.execute_input": "2022-09-08T23:42:19.772189Z",
     "iopub.status.busy": "2022-09-08T23:42:19.771587Z",
     "iopub.status.idle": "2022-09-08T23:42:19.820051Z",
     "shell.execute_reply": "2022-09-08T23:42:19.819455Z"
    }
   },
   "outputs": [],
   "source": [
    "# This is the basic class.\n",
    "?pmd_unit"
   ]
  },
  {
   "cell_type": "code",
   "execution_count": 4,
   "metadata": {
    "execution": {
     "iopub.execute_input": "2022-09-08T23:42:19.822933Z",
     "iopub.status.busy": "2022-09-08T23:42:19.822722Z",
     "iopub.status.idle": "2022-09-08T23:42:19.839349Z",
     "shell.execute_reply": "2022-09-08T23:42:19.838787Z"
    }
   },
   "outputs": [
    {
     "data": {
      "text/plain": [
       "(pmd_unit('J', 1, (2, 1, -2, 0, 0, 0, 0)),\n",
       " pmd_unit('m', 1, (1, 0, 0, 0, 0, 0, 0)),\n",
       " pmd_unit('J/m', 1.0, (1, 1, -2, 0, 0, 0, 0)),\n",
       " pmd_unit('J*m', 1, (3, 1, -2, 0, 0, 0, 0)))"
      ]
     },
     "execution_count": 4,
     "metadata": {},
     "output_type": "execute_result"
    }
   ],
   "source": [
    "# Get a known units. These can be multiplied and divided\n",
    "u1 = known_unit['J']\n",
    "u2 = known_unit['m']\n",
    "u1, u2, u1/u2, u1*u2"
   ]
  },
  {
   "cell_type": "code",
   "execution_count": 5,
   "metadata": {
    "execution": {
     "iopub.execute_input": "2022-09-08T23:42:19.877773Z",
     "iopub.status.busy": "2022-09-08T23:42:19.877255Z",
     "iopub.status.idle": "2022-09-08T23:42:19.889911Z",
     "shell.execute_reply": "2022-09-08T23:42:19.889286Z"
    }
   },
   "outputs": [
    {
     "data": {
      "text/plain": [
       "pmd_unit('\\sqrt{ J }', 1.0, (1.0, 0.5, -1.0, 0.0, 0.0, 0.0, 0.0))"
      ]
     },
     "execution_count": 5,
     "metadata": {},
     "output_type": "execute_result"
    }
   ],
   "source": [
    "# Special function for sqrt\n",
    "sqrt_unit(u1)"
   ]
  },
  {
   "cell_type": "markdown",
   "metadata": {},
   "source": [
    "# openPMD hdf5 units"
   ]
  },
  {
   "cell_type": "code",
   "execution_count": 6,
   "metadata": {
    "execution": {
     "iopub.execute_input": "2022-09-08T23:42:19.892798Z",
     "iopub.status.busy": "2022-09-08T23:42:19.892591Z",
     "iopub.status.idle": "2022-09-08T23:42:19.907298Z",
     "shell.execute_reply": "2022-09-08T23:42:19.906731Z"
    }
   },
   "outputs": [
    {
     "name": "stdout",
     "output_type": "stream",
     "text": [
      "['//']\n"
     ]
    },
    {
     "data": {
      "text/plain": [
       "['momentum', 'particleStatus', 'position', 'time', 'weight']"
      ]
     },
     "execution_count": 6,
     "metadata": {},
     "output_type": "execute_result"
    }
   ],
   "source": [
    "# Open a file, find the particle paths from the root attributes\n",
    "# Pick one:\n",
    "#H5FILE = 'data/bmad_particles.h5'\n",
    "H5FILE = 'data/distgen_particles.h5'\n",
    "#H5FILE = 'data/astra_particles.h5'\n",
    "h5 = File(H5FILE, 'r')\n",
    "\n",
    "ppaths = particle_paths(h5)\n",
    "print(ppaths)\n",
    "# This points to a partigle group\n",
    "ph5 = h5[ppaths[0]]\n",
    "list(ph5)"
   ]
  },
  {
   "cell_type": "code",
   "execution_count": 7,
   "metadata": {
    "execution": {
     "iopub.execute_input": "2022-09-08T23:42:19.910397Z",
     "iopub.status.busy": "2022-09-08T23:42:19.910196Z",
     "iopub.status.idle": "2022-09-08T23:42:19.923496Z",
     "shell.execute_reply": "2022-09-08T23:42:19.922914Z"
    }
   },
   "outputs": [
    {
     "data": {
      "text/plain": [
       "{'unitDimension': array([ 1,  1, -1,  0,  0,  0,  0]),\n",
       " 'unitSI': 5.344285992678308e-28,\n",
       " 'unitSymbol': 'eV/c'}"
      ]
     },
     "execution_count": 7,
     "metadata": {},
     "output_type": "execute_result"
    }
   ],
   "source": [
    "# Each component should have a dimension and a conversion factor to SI:\n",
    "d = dict(ph5['momentum/x'].attrs)\n",
    "d"
   ]
  },
  {
   "cell_type": "code",
   "execution_count": 8,
   "metadata": {
    "execution": {
     "iopub.execute_input": "2022-09-08T23:42:19.926242Z",
     "iopub.status.busy": "2022-09-08T23:42:19.926042Z",
     "iopub.status.idle": "2022-09-08T23:42:19.939415Z",
     "shell.execute_reply": "2022-09-08T23:42:19.938897Z"
    }
   },
   "outputs": [
    {
     "data": {
      "text/plain": [
       "(1, 1, -1, 0, 0, 0, 0)"
      ]
     },
     "execution_count": 8,
     "metadata": {},
     "output_type": "execute_result"
    }
   ],
   "source": [
    "tuple(d['unitDimension'])"
   ]
  },
  {
   "cell_type": "code",
   "execution_count": 9,
   "metadata": {
    "execution": {
     "iopub.execute_input": "2022-09-08T23:42:19.942049Z",
     "iopub.status.busy": "2022-09-08T23:42:19.941849Z",
     "iopub.status.idle": "2022-09-08T23:42:19.954337Z",
     "shell.execute_reply": "2022-09-08T23:42:19.953759Z"
    }
   },
   "outputs": [
    {
     "data": {
      "text/plain": [
       "'momentum'"
      ]
     },
     "execution_count": 9,
     "metadata": {},
     "output_type": "execute_result"
    }
   ],
   "source": [
    "# This will extract the name of this dimension\n",
    "\n",
    "dimension_name(d['unitDimension'])"
   ]
  },
  {
   "cell_type": "markdown",
   "metadata": {},
   "source": [
    "# Nice arrays"
   ]
  },
  {
   "cell_type": "code",
   "execution_count": 10,
   "metadata": {
    "execution": {
     "iopub.execute_input": "2022-09-08T23:42:19.957132Z",
     "iopub.status.busy": "2022-09-08T23:42:19.956926Z",
     "iopub.status.idle": "2022-09-08T23:42:19.968101Z",
     "shell.execute_reply": "2022-09-08T23:42:19.967556Z"
    }
   },
   "outputs": [],
   "source": [
    "from pmd_beamphysics.units import nice_array\n"
   ]
  },
  {
   "cell_type": "code",
   "execution_count": 11,
   "metadata": {
    "execution": {
     "iopub.execute_input": "2022-09-08T23:42:19.970617Z",
     "iopub.status.busy": "2022-09-08T23:42:19.970410Z",
     "iopub.status.idle": "2022-09-08T23:42:19.982501Z",
     "shell.execute_reply": "2022-09-08T23:42:19.981898Z"
    }
   },
   "outputs": [
    {
     "data": {
      "text/plain": [
       "(100.00000000000001, 1e-06, 'µ')"
      ]
     },
     "execution_count": 11,
     "metadata": {},
     "output_type": "execute_result"
    }
   ],
   "source": [
    "# This will scale the array, and return the appropriate SI prefix\n",
    "\n",
    "x = 1e-4\n",
    "unit = 'm'\n",
    "nice_array(x)"
   ]
  },
  {
   "cell_type": "code",
   "execution_count": 12,
   "metadata": {
    "execution": {
     "iopub.execute_input": "2022-09-08T23:42:19.985114Z",
     "iopub.status.busy": "2022-09-08T23:42:19.984904Z",
     "iopub.status.idle": "2022-09-08T23:42:19.997213Z",
     "shell.execute_reply": "2022-09-08T23:42:19.996634Z"
    }
   },
   "outputs": [
    {
     "data": {
      "text/plain": [
       "(array([-10.,  10.]), 0.001, 'm')"
      ]
     },
     "execution_count": 12,
     "metadata": {},
     "output_type": "execute_result"
    }
   ],
   "source": [
    "nice_array([-0.01, 0.01])"
   ]
  },
  {
   "cell_type": "code",
   "execution_count": 13,
   "metadata": {
    "execution": {
     "iopub.execute_input": "2022-09-08T23:42:19.999865Z",
     "iopub.status.busy": "2022-09-08T23:42:19.999666Z",
     "iopub.status.idle": "2022-09-08T23:42:20.010424Z",
     "shell.execute_reply": "2022-09-08T23:42:20.009886Z"
    }
   },
   "outputs": [],
   "source": [
    "from pmd_beamphysics.units import nice_scale_prefix"
   ]
  },
  {
   "cell_type": "code",
   "execution_count": 14,
   "metadata": {
    "execution": {
     "iopub.execute_input": "2022-09-08T23:42:20.012966Z",
     "iopub.status.busy": "2022-09-08T23:42:20.012760Z",
     "iopub.status.idle": "2022-09-08T23:42:20.024558Z",
     "shell.execute_reply": "2022-09-08T23:42:20.023968Z"
    }
   },
   "outputs": [
    {
     "data": {
      "text/plain": [
       "(0.001, 'm')"
      ]
     },
     "execution_count": 14,
     "metadata": {},
     "output_type": "execute_result"
    }
   ],
   "source": [
    "nice_scale_prefix(0.009)"
   ]
  },
  {
   "cell_type": "markdown",
   "metadata": {},
   "source": [
    "# Limitations\n",
    "\n",
    "This is a simple class for use with this package. So even simple things like the example below will fail. \n",
    "\n",
    "For more advanced units, use a package like Pint: https://pint.readthedocs.io/\n"
   ]
  },
  {
   "cell_type": "code",
   "execution_count": 15,
   "metadata": {
    "execution": {
     "iopub.execute_input": "2022-09-08T23:42:20.027243Z",
     "iopub.status.busy": "2022-09-08T23:42:20.027049Z",
     "iopub.status.idle": "2022-09-08T23:42:20.038328Z",
     "shell.execute_reply": "2022-09-08T23:42:20.037744Z"
    }
   },
   "outputs": [
    {
     "name": "stdout",
     "output_type": "stream",
     "text": [
      "you cannot do this\n"
     ]
    }
   ],
   "source": [
    "try:\n",
    "    u1/1\n",
    "except:\n",
    "    print('you cannot do this')\n",
    "    \n"
   ]
  }
 ],
 "metadata": {
  "kernelspec": {
   "display_name": "Python 3 (ipykernel)",
   "language": "python",
   "name": "python3"
  },
  "language_info": {
   "codemirror_mode": {
    "name": "ipython",
    "version": 3
   },
   "file_extension": ".py",
   "mimetype": "text/x-python",
   "name": "python",
   "nbconvert_exporter": "python",
   "pygments_lexer": "ipython3",
   "version": "3.9.13"
  }
 },
 "nbformat": 4,
 "nbformat_minor": 4
}
