{
 "cells": [
  {
   "cell_type": "markdown",
   "id": "e869bf44-a8cb-41c5-ae72-5c71e22685c1",
   "metadata": {},
   "source": [
    "# Wavefront and WavefrontK"
   ]
  },
  {
   "cell_type": "code",
   "execution_count": null,
   "id": "68d5ee4f-4327-4948-a87b-09564b3f8fbb",
   "metadata": {},
   "outputs": [],
   "source": [
    "%load_ext autoreload\n",
    "%autoreload 2"
   ]
  },
  {
   "cell_type": "code",
   "execution_count": null,
   "id": "90379d75-1189-4eed-8a3d-61214e489de9",
   "metadata": {},
   "outputs": [],
   "source": [
    "from pmd_beamphysics.wavefront.wavefront import Wavefront\n",
    "from pmd_beamphysics.wavefront.propagators import drift_wavefront\n",
    "from pmd_beamphysics.wavefront.gaussian import add_gaussian\n",
    "\n",
    "import numpy as np\n",
    "\n",
    "import matplotlib.pyplot as plt"
   ]
  },
  {
   "cell_type": "code",
   "execution_count": null,
   "id": "0ee74199-4257-422a-ba5f-0ca9275b1950",
   "metadata": {},
   "outputs": [],
   "source": [
    "W = Wavefront(\n",
    "    Ex=np.zeros((11, 11, 2)).astype(complex),\n",
    "    # Ex = np.random.rand(2,2,2).astype(complex),\n",
    "    dx=1,\n",
    "    dy=1,\n",
    "    dz=0.1,\n",
    ")\n",
    "W.Ex[5, 5, :] = 1\n",
    "\n",
    "\n",
    "W.xmin, W.xmax, W.xvec\n",
    "\n",
    "W.kxmin, W.kxmax, W.dkx, W.kzvec.min() == W.kzmin, W.kzvec.max() == W.kzmax\n",
    "\n",
    "W2 = W.to_kspace()\n",
    "W3 = W2.to_rspace()\n",
    "#\n",
    "#\n",
    "assert np.allclose(W3.Ex, W.Ex)\n",
    "#\n",
    "e1 = W.energy\n",
    "e2 = W2.energy\n",
    "e3 = W3.energy\n",
    "e1, e2, e3, e1 / e2"
   ]
  },
  {
   "cell_type": "code",
   "execution_count": null,
   "id": "9e1124a4-08fd-41ac-a311-6d51576b8648",
   "metadata": {},
   "outputs": [],
   "source": [
    "W.plot(logscale=True)"
   ]
  },
  {
   "cell_type": "code",
   "execution_count": null,
   "id": "7bce955a-3eeb-4c87-869c-20eacbe61bfb",
   "metadata": {},
   "outputs": [],
   "source": [
    "W = Wavefront(Ex=np.zeros((11, 11, 2)))\n",
    "W.Ex[5, 5, :] = 1\n",
    "\n",
    "W.plot()"
   ]
  },
  {
   "cell_type": "code",
   "execution_count": null,
   "id": "414044e3-e28a-4a8e-a0c5-428287174ef3",
   "metadata": {},
   "outputs": [],
   "source": [
    "W2 = drift_wavefront(W.pad(1000, 1000, 0), 1000)\n",
    "\n",
    "W2.plot()"
   ]
  },
  {
   "cell_type": "markdown",
   "id": "77e4cf92-7850-444b-bf8e-53b084db1187",
   "metadata": {},
   "source": [
    "# Gaussian pulse "
   ]
  },
  {
   "cell_type": "code",
   "execution_count": null,
   "id": "53a3ee98-e49e-4dd8-9954-4bbc823cdc6c",
   "metadata": {},
   "outputs": [],
   "source": []
  },
  {
   "cell_type": "code",
   "execution_count": null,
   "id": "bb843ce8-abd8-4070-b136-176e672b9ec6",
   "metadata": {},
   "outputs": [],
   "source": [
    "W = Wavefront(\n",
    "    Ex=np.zeros((101, 101, 51)),\n",
    "    dx=10e-6,\n",
    "    dy=10e-6,\n",
    "    dz=10e-6,\n",
    "    wavelength=1e-9,\n",
    ")\n",
    "\n",
    "\n",
    "zR = 10\n",
    "add_gaussian(W, zR=zR, energy=1.2345, x0=0)"
   ]
  },
  {
   "cell_type": "code",
   "execution_count": null,
   "id": "95daca3f-f9bb-4854-92d7-44257dd3b3a8",
   "metadata": {},
   "outputs": [],
   "source": [
    "W.sigma_x"
   ]
  },
  {
   "cell_type": "code",
   "execution_count": null,
   "id": "0774c3e3-ce86-4dd9-8b3b-c65dbcbf3e9f",
   "metadata": {},
   "outputs": [],
   "source": [
    "W.energy"
   ]
  },
  {
   "cell_type": "code",
   "execution_count": null,
   "id": "0e2729ff-574c-4d50-9829-0fff03324e68",
   "metadata": {},
   "outputs": [],
   "source": [
    "W.plot()"
   ]
  },
  {
   "cell_type": "code",
   "execution_count": null,
   "id": "a88009e4-c880-488e-ae13-1c1f681413e5",
   "metadata": {},
   "outputs": [],
   "source": [
    "%%time\n",
    "Zlist = np.linspace(0, 10, 20)\n",
    "Wlist = [drift_wavefront(W, z) for z in Zlist]\n",
    "\n",
    "sizes = np.array([w.sigma_x for w in Wlist])\n",
    "sizes"
   ]
  },
  {
   "cell_type": "code",
   "execution_count": null,
   "id": "e9df6fd1-65f3-4757-9bfb-c1d6a4746ad0",
   "metadata": {},
   "outputs": [],
   "source": [
    "sigma_x0 = W.sigma_x\n",
    "\n",
    "expected_w = sigma_x0 * np.sqrt(1 + (Zlist / zR) ** 2)"
   ]
  },
  {
   "cell_type": "code",
   "execution_count": null,
   "id": "b2561b9d-a288-4572-b9f7-b4a6f8d17b38",
   "metadata": {},
   "outputs": [],
   "source": [
    "fig, ax = plt.subplots()\n",
    "ax.plot(Zlist, 1e6 * expected_w, label=\"expected\")\n",
    "ax.plot(Zlist, 1e6 * sizes, \"--\", label=\"propagated\")\n",
    "\n",
    "ax.set_xlabel(r\"$z$ (m)\")\n",
    "\n",
    "ax.set_ylabel(r\"$\\sigma_x$ (µm)\")\n",
    "plt.legend()"
   ]
  },
  {
   "cell_type": "markdown",
   "id": "838e1c7d-5dcb-45a6-9c6d-91f46468e76d",
   "metadata": {},
   "source": [
    "# M^2 fit\n",
    "\n",
    "The beam size squared equation is given by:\n",
    "\n",
    "$$\n",
    "w^2(z) = w_0^2 \\left[ 1 + \\left(\\frac{M^2 \\lambda}{\\pi w_0^2} (z - z_0) \\right)^2 \\right]\n",
    "$$\n",
    "\n",
    "Where:\n",
    "- $w(z)$: Beam radius at position \\(z\\).\n",
    "- $w_0$: Beam waist radius (minimum beam size).\n",
    "- $z_0$: Position of the beam waist.\n",
    "- $z$: Position along the propagation axis.\n",
    "- $M^2$: Beam quality factor.\n",
    "- $\\lambda$: Wavelength of the light.\n",
    "\n",
    "In this equation:\n",
    "- At $z = z_0$, the beam size is at its minimum: $w^2(z_0) = w_0^2$.\n",
    "- As $z$ increases or decreases from $z_0$, the beam size squared grows quadratically, scaled by the $M^2$ parameter.\n"
   ]
  },
  {
   "cell_type": "code",
   "execution_count": null,
   "id": "c072650d-d643-4f17-bf89-8d478743ca13",
   "metadata": {},
   "outputs": [],
   "source": [
    "z = Zlist\n",
    "w2 = (2 * expected_w) ** 2\n",
    "wavelength = W.wavelength"
   ]
  },
  {
   "cell_type": "code",
   "execution_count": null,
   "id": "d2208a65-4299-44f1-90a1-257ab23f9658",
   "metadata": {},
   "outputs": [],
   "source": [
    "from scipy.optimize import curve_fit\n",
    "\n",
    "\n",
    "# Define the beam size squared function\n",
    "def beam_size_squared(z, w0, z0, M2, wavelength=wavelength):\n",
    "    k = M2 * wavelength / (np.pi * w0**2)  # Divergence coefficient\n",
    "    return w0**2 * (1 + (k * (z - z0)) ** 2)\n",
    "\n",
    "\n",
    "# Initial guesses for w0, z0, and M2\n",
    "initial_guess = [1e-3, 0.0, 1.0]  # Adjust as needed for your system\n",
    "\n",
    "# Curve fitting\n",
    "popt, pcov = curve_fit(beam_size_squared, z, w2, p0=initial_guess)\n",
    "\n",
    "# Extract fitted parameters\n",
    "w0_fit, z0_fit, M2_fit = popt\n",
    "\n",
    "# Print results\n",
    "print(f\"Fitted w0 (beam waist): {w0_fit:.6e} m\")\n",
    "print(f\"Fitted z0 (waist position): {z0_fit:.6e} m\")\n",
    "print(f\"Fitted M^2 (beam quality): {M2_fit:.6f}\")\n",
    "\n",
    "# Plot the results\n",
    "z_fit = np.linspace(min(z), max(z), 500)\n",
    "w2_fit = beam_size_squared(z_fit, *popt)\n",
    "\n",
    "plt.figure(figsize=(8, 6))\n",
    "plt.scatter(z, w2, label=\"Data\", color=\"blue\", marker=\"o\")\n",
    "plt.plot(z_fit, w2_fit, label=\"Fit\", color=\"red\")\n",
    "plt.xlabel(\"z (m)\")\n",
    "plt.ylabel(\"Beam Size Squared (w²) (m²)\")\n",
    "plt.legend()\n",
    "plt.title(\"Beam Size Squared vs. z\")\n",
    "plt.grid()\n",
    "plt.show()"
   ]
  },
  {
   "cell_type": "code",
   "execution_count": null,
   "id": "448cf8f5-e8c2-4266-84e8-c38fda4304fd",
   "metadata": {},
   "outputs": [],
   "source": [
    "w0_fit / (W.sigma_x * 2)"
   ]
  },
  {
   "cell_type": "code",
   "execution_count": null,
   "id": "e1fe6cc8-c400-4f8b-add3-2c568f98449d",
   "metadata": {},
   "outputs": [],
   "source": []
  }
 ],
 "metadata": {
  "kernelspec": {
   "display_name": "Python 3 (ipykernel)",
   "language": "python",
   "name": "python3"
  },
  "language_info": {
   "codemirror_mode": {
    "name": "ipython",
    "version": 3
   },
   "file_extension": ".py",
   "mimetype": "text/x-python",
   "name": "python",
   "nbconvert_exporter": "python",
   "pygments_lexer": "ipython3",
   "version": "3.12.8"
  }
 },
 "nbformat": 4,
 "nbformat_minor": 5
}
