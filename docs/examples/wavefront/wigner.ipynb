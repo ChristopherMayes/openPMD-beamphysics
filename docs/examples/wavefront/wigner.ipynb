{
 "cells": [
  {
   "cell_type": "markdown",
   "id": "e50c3275-8a8e-4c8f-a66d-6680ffda2c31",
   "metadata": {},
   "source": [
    "# Wigner Transform"
   ]
  },
  {
   "cell_type": "code",
   "execution_count": null,
   "id": "969ba673-158c-4965-81a2-a1585cef86bb",
   "metadata": {},
   "outputs": [],
   "source": [
    "%load_ext autoreload\n",
    "%autoreload 2"
   ]
  },
  {
   "cell_type": "code",
   "execution_count": null,
   "id": "666aac4c-4203-4a56-9426-c879d1901114",
   "metadata": {},
   "outputs": [],
   "source": [
    "from pmd_beamphysics.wavefront.wavefront import Wavefront\n",
    "from pmd_beamphysics.wavefront.gaussian import add_gaussian\n",
    "from pmd_beamphysics.wavefront.propagators import drift_wavefront\n",
    "from pmd_beamphysics.wavefront.wigner import wigner\n",
    "\n",
    "from pmd_beamphysics.plot import plot_2d_density_with_marginals\n",
    "\n",
    "from ipywidgets import interact\n",
    "\n",
    "from scipy.constants import epsilon_0\n",
    "\n",
    "import numpy as np\n",
    "\n",
    "import os\n",
    "\n",
    "import matplotlib.pyplot as plt"
   ]
  },
  {
   "cell_type": "code",
   "execution_count": null,
   "id": "3c19e8e1-3a26-4794-b1e1-deb86b3c5812",
   "metadata": {},
   "outputs": [],
   "source": [
    "W = Wavefront(\n",
    "    Ex=np.zeros((201, 201, 51)),\n",
    "    dx=10e-6,\n",
    "    dy=10e-6,\n",
    "    dz=10e-6,\n",
    "    wavelength=1e-9,\n",
    ")\n",
    "w0 = 100e-6\n",
    "# zR = np.pi * w0**2 / W0.wavelength\n",
    "\n",
    "add_gaussian(W, z=0, w0=w0, energy=1.2345)\n",
    "# add_gaussian(W, z=0, w0=w0, energy=1.2345, x0 = -.0001)\n",
    "# add_gaussian(W, z=0, w0=w0, energy=1.2345, x0 =  .0001, phase =0*np.pi)\n",
    "\n",
    "\n",
    "W.plot()"
   ]
  },
  {
   "cell_type": "code",
   "execution_count": null,
   "id": "99351d05-4f61-45c0-b10a-7dca6af40aba",
   "metadata": {},
   "outputs": [],
   "source": [
    "W1 = drift_wavefront(W, 100)\n",
    "# W1 = drift_wavefront_advanced(W, 100, Rcurv=10)\n",
    "W1.plot()\n",
    "W1.to_kspace().plot()"
   ]
  },
  {
   "cell_type": "code",
   "execution_count": null,
   "id": "99127be4-0151-4e60-9b13-b9ab033ed7f6",
   "metadata": {},
   "outputs": [],
   "source": [
    "W.to_kspace().sigma_kx"
   ]
  },
  {
   "cell_type": "code",
   "execution_count": null,
   "id": "8109cab9-c32c-490f-a2e4-bc419a7d2cce",
   "metadata": {},
   "outputs": [],
   "source": [
    "W1.to_kspace().sigma_kx"
   ]
  },
  {
   "cell_type": "code",
   "execution_count": null,
   "id": "46bd858d-0144-45db-9703-dd583583ce60",
   "metadata": {},
   "outputs": [],
   "source": [
    "Ex0 = W.Ex[:, W.ny // 2, W.nz // 2]  # slice along y=0, z=0"
   ]
  },
  {
   "cell_type": "code",
   "execution_count": null,
   "id": "ec1a87f8-c0c4-481a-a55b-67f65880b102",
   "metadata": {},
   "outputs": [],
   "source": [
    "# Energy in this slice\n",
    "np.sum(np.abs(Ex0) ** 2) * W.dx * W.dy * W.dz * epsilon_0 / 2"
   ]
  },
  {
   "cell_type": "code",
   "execution_count": null,
   "id": "06816740-e746-4fbc-a6d7-511ca4b6d9d3",
   "metadata": {},
   "outputs": [],
   "source": [
    "w, tvec, fvec = wigner(Ex0, dx=W.dx)  # Units are (V/m)^2 * m = V^2 / m\n",
    "\n",
    "dt = np.diff(tvec)[0]\n",
    "df = np.diff(fvec)[0]"
   ]
  },
  {
   "cell_type": "code",
   "execution_count": null,
   "id": "31a21851-2505-4e18-a27f-8b5ae2708247",
   "metadata": {},
   "outputs": [],
   "source": [
    "# The sum gives the same energy.\n",
    "# Because the  (V/m)^2 / (1/m) = V^2 / m\n",
    "np.sum(w) * W.dx * W.dy * W.dz * epsilon_0 / 2"
   ]
  },
  {
   "cell_type": "code",
   "execution_count": null,
   "id": "7513c64d-3ad3-42d5-ada7-c16e6e63fd97",
   "metadata": {},
   "outputs": [],
   "source": [
    "plot_2d_density_with_marginals(\n",
    "    w * W.dx * W.dy * W.dz * epsilon_0 / 2,\n",
    "    dx=dt,\n",
    "    dy=df,\n",
    "    x_name=r\"$x$\",\n",
    "    x_units=\"m\",\n",
    "    y_name=r\"$f$\",\n",
    "    y_units=\"1/m\",\n",
    "    z_name=\"energy density\",\n",
    "    z_units=\"J\",\n",
    "    cmap=\"bwr\",\n",
    "    vcenter=0,\n",
    ")"
   ]
  },
  {
   "cell_type": "markdown",
   "id": "6c4fafd7-0670-40b6-85db-48958ff5a5b6",
   "metadata": {},
   "source": [
    "# Make movie"
   ]
  },
  {
   "cell_type": "code",
   "execution_count": null,
   "id": "b9fbe45f-ccff-4998-b4b3-2570bc3d804c",
   "metadata": {},
   "outputs": [],
   "source": [
    "def plot1(z):\n",
    "    W1 = drift_wavefront(W, z)\n",
    "    # W1 = drift_wavefront_advanced(W, z, Rcurv=100)\n",
    "    # print(W1.to_kspace().sigma_kx)\n",
    "    Ex0 = W1.Ex[:, W1.ny // 2, W1.nz // 2]\n",
    "    w, tvec, fvec = wigner(Ex0, dx=W1.dx)\n",
    "    dt = np.diff(tvec)[0]\n",
    "    df = np.diff(fvec)[0]\n",
    "    plot_2d_density_with_marginals(\n",
    "        w * W1.dx * W1.dy * W1.dz * epsilon_0 / 2,\n",
    "        dx=dt,\n",
    "        dy=df,\n",
    "        x_name=r\"$x$\",\n",
    "        x_units=\"m\",\n",
    "        y_name=r\"$f$\",\n",
    "        y_units=\"1/m\",\n",
    "        z_name=\"energy density\",\n",
    "        z_units=\"J\",\n",
    "        cmap=\"bwr\",\n",
    "        # vcenter=0,\n",
    "        #   xlim=(-.001, .001),\n",
    "        #    ylim=(-10000, 10000),\n",
    "    )\n",
    "\n",
    "\n",
    "plot1(100)"
   ]
  },
  {
   "cell_type": "code",
   "execution_count": null,
   "id": "5d58d055-4155-43cb-845c-b0a72a77a0f8",
   "metadata": {},
   "outputs": [],
   "source": [
    "interact(plot1, z=(1, 100, 1))"
   ]
  },
  {
   "cell_type": "code",
   "execution_count": null,
   "id": "06ae0b55-90cd-4d61-96e5-1ddb8e83c258",
   "metadata": {},
   "outputs": [],
   "source": [
    "# Step 1: Create a directory to store frames\n",
    "output_dir = \"frames\"\n",
    "os.makedirs(output_dir, exist_ok=True)\n",
    "\n",
    "# Step 2: Generate frames\n",
    "z_values = np.linspace(0, 100, 100)\n",
    "\n",
    "for i, z in enumerate(z_values):\n",
    "    plot1(z)  # Call your plot1(z) function\n",
    "    fig = plt.gcf()\n",
    "    frame_path = os.path.join(output_dir, f\"frame_{i:04d}.png\")  # Zero-padded filenames\n",
    "    plt.savefig(frame_path)  # Save the current frame\n",
    "    plt.close(fig)  # Close the figure to free memory\n",
    "\n",
    "print(f\"Frames saved in {output_dir}\")"
   ]
  },
  {
   "cell_type": "code",
   "execution_count": null,
   "id": "32da1f74-21de-44a2-9211-3aeb1ade7599",
   "metadata": {},
   "outputs": [],
   "source": [
    "# Step 3: Combine frames into a video\n",
    "# ffmpeg command: Adjust the framerate (-r) as needed\n",
    "os.system(\n",
    "    f\"ffmpeg -r 30 -i {output_dir}/frame_%04d.png -vcodec libx264 -crf 25 -pix_fmt yuv420p output.mp4\"\n",
    ")\n",
    "print(\"Video created: output.mp4\")"
   ]
  }
 ],
 "metadata": {
  "kernelspec": {
   "display_name": "Python 3 (ipykernel)",
   "language": "python",
   "name": "python3"
  },
  "language_info": {
   "codemirror_mode": {
    "name": "ipython",
    "version": 3
   },
   "file_extension": ".py",
   "mimetype": "text/x-python",
   "name": "python",
   "nbconvert_exporter": "python",
   "pygments_lexer": "ipython3",
   "version": "3.13.1"
  }
 },
 "nbformat": 4,
 "nbformat_minor": 5
}
