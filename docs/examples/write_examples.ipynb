{
 "cells": [
  {
   "cell_type": "markdown",
   "metadata": {},
   "source": [
    "# Write examples"
   ]
  },
  {
   "cell_type": "code",
   "execution_count": 1,
   "metadata": {
    "execution": {
     "iopub.execute_input": "2024-10-17T21:48:47.685468Z",
     "iopub.status.busy": "2024-10-17T21:48:47.684855Z",
     "iopub.status.idle": "2024-10-17T21:48:47.716463Z",
     "shell.execute_reply": "2024-10-17T21:48:47.715752Z"
    },
    "tags": []
   },
   "outputs": [],
   "source": [
    "# Useful for debugging\n",
    "%load_ext autoreload\n",
    "%autoreload 2"
   ]
  },
  {
   "cell_type": "code",
   "execution_count": 2,
   "metadata": {
    "execution": {
     "iopub.execute_input": "2024-10-17T21:48:47.719653Z",
     "iopub.status.busy": "2024-10-17T21:48:47.719463Z",
     "iopub.status.idle": "2024-10-17T21:48:48.307911Z",
     "shell.execute_reply": "2024-10-17T21:48:48.307375Z"
    },
    "tags": []
   },
   "outputs": [],
   "source": [
    "from pmd_beamphysics import ParticleGroup, particle_paths, pmd_init\n",
    "from h5py import File\n",
    "import os"
   ]
  },
  {
   "cell_type": "code",
   "execution_count": 3,
   "metadata": {
    "execution": {
     "iopub.execute_input": "2024-10-17T21:48:48.310251Z",
     "iopub.status.busy": "2024-10-17T21:48:48.309818Z",
     "iopub.status.idle": "2024-10-17T21:48:48.326348Z",
     "shell.execute_reply": "2024-10-17T21:48:48.326048Z"
    },
    "tags": []
   },
   "outputs": [],
   "source": [
    "# Pick one:\n",
    "\n",
    "#H5File = 'data/bmad_particles2.h5'\n",
    "H5FILE = 'data/distgen_particles.h5'\n",
    "#H5FILE = 'data/astra_particles.h5'\n",
    "\n",
    "P = ParticleGroup(H5FILE)"
   ]
  },
  {
   "cell_type": "markdown",
   "metadata": {},
   "source": [
    "# openPMD"
   ]
  },
  {
   "cell_type": "markdown",
   "metadata": {},
   "source": [
    "The regular write routine writes in a proper openPMD format"
   ]
  },
  {
   "cell_type": "code",
   "execution_count": 4,
   "metadata": {
    "execution": {
     "iopub.execute_input": "2024-10-17T21:48:48.328300Z",
     "iopub.status.busy": "2024-10-17T21:48:48.328187Z",
     "iopub.status.idle": "2024-10-17T21:48:48.342845Z",
     "shell.execute_reply": "2024-10-17T21:48:48.342570Z"
    },
    "tags": []
   },
   "outputs": [],
   "source": [
    "P.write('openpmd_particles.h5')"
   ]
  },
  {
   "cell_type": "markdown",
   "metadata": {},
   "source": [
    "An open h5 hande can also be used, but it needs to be properly initialized"
   ]
  },
  {
   "cell_type": "code",
   "execution_count": 5,
   "metadata": {
    "execution": {
     "iopub.execute_input": "2024-10-17T21:48:48.344202Z",
     "iopub.status.busy": "2024-10-17T21:48:48.344044Z",
     "iopub.status.idle": "2024-10-17T21:48:48.357526Z",
     "shell.execute_reply": "2024-10-17T21:48:48.357266Z"
    },
    "tags": []
   },
   "outputs": [],
   "source": [
    "with File('openpmd_particles.h5', 'w') as h5:\n",
    "    pmd_init(h5, basePath='/', particlesPath='/' )\n",
    "    P.write(h5)"
   ]
  },
  {
   "cell_type": "markdown",
   "metadata": {},
   "source": [
    "This can be read in by another ParticleGroup"
   ]
  },
  {
   "cell_type": "code",
   "execution_count": 6,
   "metadata": {
    "execution": {
     "iopub.execute_input": "2024-10-17T21:48:48.358789Z",
     "iopub.status.busy": "2024-10-17T21:48:48.358700Z",
     "iopub.status.idle": "2024-10-17T21:48:48.371499Z",
     "shell.execute_reply": "2024-10-17T21:48:48.371236Z"
    },
    "tags": []
   },
   "outputs": [],
   "source": [
    "P2 = ParticleGroup('openpmd_particles.h5')"
   ]
  },
  {
   "cell_type": "markdown",
   "metadata": {},
   "source": [
    "Check that they are the same:"
   ]
  },
  {
   "cell_type": "code",
   "execution_count": 7,
   "metadata": {
    "execution": {
     "iopub.execute_input": "2024-10-17T21:48:48.372829Z",
     "iopub.status.busy": "2024-10-17T21:48:48.372750Z",
     "iopub.status.idle": "2024-10-17T21:48:48.384131Z",
     "shell.execute_reply": "2024-10-17T21:48:48.383901Z"
    },
    "tags": []
   },
   "outputs": [
    {
     "data": {
      "text/plain": [
       "True"
      ]
     },
     "execution_count": 7,
     "metadata": {},
     "output_type": "execute_result"
    }
   ],
   "source": [
    "P2 == P"
   ]
  },
  {
   "cell_type": "markdown",
   "metadata": {},
   "source": [
    "# Astra"
   ]
  },
  {
   "cell_type": "code",
   "execution_count": 8,
   "metadata": {
    "execution": {
     "iopub.execute_input": "2024-10-17T21:48:48.404407Z",
     "iopub.status.busy": "2024-10-17T21:48:48.404288Z",
     "iopub.status.idle": "2024-10-17T21:48:48.474038Z",
     "shell.execute_reply": "2024-10-17T21:48:48.473783Z"
    }
   },
   "outputs": [],
   "source": [
    "P.write_astra('astra_particles.txt')"
   ]
  },
  {
   "cell_type": "code",
   "execution_count": 9,
   "metadata": {
    "execution": {
     "iopub.execute_input": "2024-10-17T21:48:48.475557Z",
     "iopub.status.busy": "2024-10-17T21:48:48.475465Z",
     "iopub.status.idle": "2024-10-17T21:48:48.610795Z",
     "shell.execute_reply": "2024-10-17T21:48:48.610293Z"
    }
   },
   "outputs": [
    {
     "name": "stdout",
     "output_type": "stream",
     "text": [
      " -1.289814080985e-05   1.712192978919e-05   0.000000000000e+00  -9.245284702413e-01  -3.316650265292e+00   2.210558337183e+02   1.819664001274e-05   0.000000000000e+00    1    5\r\n",
      " -1.184861337727e-03  -2.101371437059e-03   0.000000000000e+00  -3.047044656318e+02  -3.039342419008e+02  -1.005645891013e+02  -9.745607002167e-04   1.000000000000e-06    1    5\r\n",
      " -5.181307340245e-04  -2.178353405029e-03   0.000000000000e+00   5.525456229648e+02   2.416723877028e+02  -6.554342847563e+01   1.280843753434e-03   1.000000000000e-06    1    5\r\n",
      " -1.773501610902e-03   2.864979597813e-03   0.000000000000e+00  -2.226004747820e+02   9.450238076106e+00  -1.055085411491e+02   3.835366744569e-04   1.000000000000e-06    1    5\r\n",
      "  1.686555815999e-03  -2.401048305081e-04   0.000000000000e+00  -1.891692499417e+02   4.859547751754e+01   3.339263495319e+02   1.902998338336e-03   1.000000000000e-06    1    5\r\n",
      " -7.779454935491e-04  -6.800063114796e-04   0.000000000000e+00   6.716138938638e+01  -2.064173000222e+02  -1.405963302134e+02   1.779005092730e-04   1.000000000000e-06    1    5\r\n",
      " -2.593702199590e-03  -2.301030494125e-03   0.000000000000e+00  -1.455653402031e+01   2.074634953296e+02  -1.397453142110e+02   1.368567098305e-03   1.000000000000e-06    1    5\r\n",
      "  1.997801509161e-03   2.648416193086e-03   0.000000000000e+00  -2.124047726665e+00  -6.792723569247e+01   6.931081537770e+01   2.616497721112e-04   1.000000000000e-06    1    5\r\n",
      "  1.999741847023e-03  -6.945690451493e-04   0.000000000000e+00  -9.991142908925e+01  -9.189412445573e+01   2.259539675809e+02  -8.681109991004e-04   1.000000000000e-06    1    5\r\n",
      " -7.033822974359e-04  -5.677746866954e-04   0.000000000000e+00   7.520962264129e+02   3.125940718167e+02  -1.451032665210e+02   4.315191990002e-04   1.000000000000e-06    1    5\r\n"
     ]
    }
   ],
   "source": [
    "!head astra_particles.txt"
   ]
  },
  {
   "cell_type": "markdown",
   "metadata": {},
   "source": [
    "Check the readback:"
   ]
  },
  {
   "cell_type": "code",
   "execution_count": 10,
   "metadata": {
    "execution": {
     "iopub.execute_input": "2024-10-17T21:48:48.613303Z",
     "iopub.status.busy": "2024-10-17T21:48:48.613051Z",
     "iopub.status.idle": "2024-10-17T21:48:48.643766Z",
     "shell.execute_reply": "2024-10-17T21:48:48.643490Z"
    }
   },
   "outputs": [],
   "source": [
    "from pmd_beamphysics.interfaces.astra import parse_astra_phase_file\n",
    "import numpy as np\n",
    "P1 = ParticleGroup(data=parse_astra_phase_file('astra_particles.txt'))\n",
    "for k in ['x', 'px', 'y', 'py', 'z', 'pz']:\n",
    "    assert np.allclose(P[k], P1[k])"
   ]
  },
  {
   "cell_type": "markdown",
   "metadata": {},
   "source": [
    "# Bmad ASCII"
   ]
  },
  {
   "cell_type": "code",
   "execution_count": 11,
   "metadata": {
    "execution": {
     "iopub.execute_input": "2024-10-17T21:48:48.645364Z",
     "iopub.status.busy": "2024-10-17T21:48:48.645266Z",
     "iopub.status.idle": "2024-10-17T21:48:48.683359Z",
     "shell.execute_reply": "2024-10-17T21:48:48.683128Z"
    }
   },
   "outputs": [],
   "source": [
    "P.write_bmad('bmad_particles.txt')"
   ]
  },
  {
   "cell_type": "code",
   "execution_count": 12,
   "metadata": {
    "execution": {
     "iopub.execute_input": "2024-10-17T21:48:48.684617Z",
     "iopub.status.busy": "2024-10-17T21:48:48.684540Z",
     "iopub.status.idle": "2024-10-17T21:48:48.812694Z",
     "shell.execute_reply": "2024-10-17T21:48:48.812149Z"
    }
   },
   "outputs": [
    {
     "name": "stdout",
     "output_type": "stream",
     "text": [
      "!ASCII::3\r\n",
      "0 ! ix_ele, not used\r\n",
      "1 ! n_bunch\r\n",
      "10000 ! n_particle\r\n",
      "BEGIN_BUNCH\r\n",
      "electron \r\n",
      "1.0000000000000003e-11  ! bunch_charge\r\n",
      "0 ! z_center\r\n",
      "0 ! t_center\r\n",
      " -1.184861337727e-03  -3.047044656318e+02  -2.101371437059e-03  -3.039342419008e+02  -9.563640602039e-13   1.204912446170e+02   1.000000000000e-15  1\r\n"
     ]
    }
   ],
   "source": [
    "!head bmad_particles.txt"
   ]
  },
  {
   "cell_type": "markdown",
   "metadata": {},
   "source": [
    "# Bmad dict"
   ]
  },
  {
   "cell_type": "code",
   "execution_count": 13,
   "metadata": {
    "execution": {
     "iopub.execute_input": "2024-10-17T21:48:48.815150Z",
     "iopub.status.busy": "2024-10-17T21:48:48.814950Z",
     "iopub.status.idle": "2024-10-17T21:48:48.835400Z",
     "shell.execute_reply": "2024-10-17T21:48:48.835065Z"
    }
   },
   "outputs": [
    {
     "data": {
      "text/plain": [
       "{'x': array([-0.00118486, -0.00051813, -0.0017735 , ..., -0.00052658,\n",
       "         0.00252813,  0.00113815]),\n",
       " 'y': array([-0.00210137, -0.00217835,  0.00286498, ..., -0.00161154,\n",
       "         0.00160049, -0.0010351 ]),\n",
       " 'px': array([-0.69011879,  1.25144906, -0.50416317, ...,  0.60249121,\n",
       "         0.505233  ,  0.74928061]),\n",
       " 'py': array([-0.68837433,  0.54735875,  0.02140365, ..., -0.07882388,\n",
       "         0.29433475, -0.25918357]),\n",
       " 'z': array([ 2.55529374e-07, -4.68009162e-07, -5.64739756e-08, ...,\n",
       "        -9.69805227e-09,  4.20165276e-07,  2.70278113e-07]),\n",
       " 'pz': array([ 0.01222356,  0.41059669, -0.4315584 , ..., -0.3093279 ,\n",
       "         0.02463904,  0.08781142]),\n",
       " 'charge': array([1.e-15, 1.e-15, 1.e-15, ..., 1.e-15, 1.e-15, 1.e-15]),\n",
       " 'species': 'electron',\n",
       " 'p0c': np.float64(441.52466167250947),\n",
       " 'tref': np.float64(1.8196640012738955e-14),\n",
       " 'state': array([1, 1, 1, ..., 1, 1, 1])}"
      ]
     },
     "execution_count": 13,
     "metadata": {},
     "output_type": "execute_result"
    }
   ],
   "source": [
    "P.to_bmad()"
   ]
  },
  {
   "cell_type": "markdown",
   "metadata": {},
   "source": [
    "Check that the conversion preserves information. Note that `==` uses `np.allclose`, because there is roundoff error in the conversion."
   ]
  },
  {
   "cell_type": "code",
   "execution_count": 14,
   "metadata": {
    "execution": {
     "iopub.execute_input": "2024-10-17T21:48:48.837004Z",
     "iopub.status.busy": "2024-10-17T21:48:48.836867Z",
     "iopub.status.idle": "2024-10-17T21:48:48.853025Z",
     "shell.execute_reply": "2024-10-17T21:48:48.852742Z"
    }
   },
   "outputs": [],
   "source": [
    "assert P == P.from_bmad(P.to_bmad()) "
   ]
  },
  {
   "cell_type": "markdown",
   "metadata": {},
   "source": [
    "# elegant"
   ]
  },
  {
   "cell_type": "code",
   "execution_count": 15,
   "metadata": {
    "execution": {
     "iopub.execute_input": "2024-10-17T21:48:48.854541Z",
     "iopub.status.busy": "2024-10-17T21:48:48.854448Z",
     "iopub.status.idle": "2024-10-17T21:48:48.889903Z",
     "shell.execute_reply": "2024-10-17T21:48:48.889691Z"
    }
   },
   "outputs": [
    {
     "name": "stdout",
     "output_type": "stream",
     "text": [
      "writing 10000 particles to elegant_particles.txt\n"
     ]
    }
   ],
   "source": [
    "P.write_elegant('elegant_particles.txt', verbose=True)"
   ]
  },
  {
   "cell_type": "code",
   "execution_count": 16,
   "metadata": {
    "execution": {
     "iopub.execute_input": "2024-10-17T21:48:48.891104Z",
     "iopub.status.busy": "2024-10-17T21:48:48.891022Z",
     "iopub.status.idle": "2024-10-17T21:48:49.016594Z",
     "shell.execute_reply": "2024-10-17T21:48:49.016161Z"
    }
   },
   "outputs": [
    {
     "name": "stdout",
     "output_type": "stream",
     "text": [
      "SDDS1\r\n",
      "! \r\n",
      "! Created using the openPMD-beamphysics Python package\r\n",
      "! https://github.com/ChristopherMayes/openPMD-beamphysics\r\n",
      "! species: electron\r\n",
      "!\r\n",
      "&parameter name=Charge, type=double, units=C, description=\"total charge in Coulombs\" &end\r\n",
      "&column name=t,  type=double, units=s, description=\"time in seconds\" &end\r\n",
      "&column name=x,  type=double, units=m, description=\"x in meters\" &end\r\n",
      "&column name=xp, type=double, description=\"px/pz\" &end\r\n",
      "&column name=y,  type=double, units=m, description=\"y in meters\" &end\r\n",
      "&column name=yp, type=double, description=\"py/pz\" &end\r\n",
      "&column name=p,  type=double, units=\"m$be$nc\", description=\"relativistic gamma*beta\" &end\r\n",
      "&data mode=ascii &end\r\n",
      "1.0000000000000003e-11\r\n",
      "10000\r\n",
      " -9.563640602039e-13  -1.184861337727e-03  -2.528851507845e+00  -2.101371437059e-03  -2.522459145201e+00   8.746038816275e-04\r\n",
      "  1.299040393447e-12  -5.181307340245e-04   3.553064606663e+00  -2.178353405029e-03   1.554039289185e+00   1.218815083118e-03\r\n",
      "  4.017333144697e-13  -1.773501610902e-03  -1.926488019169e+00   2.864979597813e-03   8.178675472159e-02   4.911575370556e-04\r\n",
      "  1.921194978349e-12   1.686555815999e-03  -3.408564376497e-01  -2.401048305081e-04   8.756222989528e-02   1.151365621035e-03\r\n"
     ]
    }
   ],
   "source": [
    "!head -n 20 elegant_particles.txt"
   ]
  },
  {
   "cell_type": "markdown",
   "metadata": {},
   "source": [
    "# Genesis 1.3 v2 "
   ]
  },
  {
   "cell_type": "code",
   "execution_count": 17,
   "metadata": {
    "execution": {
     "iopub.execute_input": "2024-10-17T21:48:49.018412Z",
     "iopub.status.busy": "2024-10-17T21:48:49.018161Z",
     "iopub.status.idle": "2024-10-17T21:48:49.057499Z",
     "shell.execute_reply": "2024-10-17T21:48:49.057232Z"
    }
   },
   "outputs": [
    {
     "name": "stdout",
     "output_type": "stream",
     "text": [
      "Beam written: genesis2.beam\n"
     ]
    }
   ],
   "source": [
    "P.write_genesis2_beam_file('genesis2.beam', n_slice=50, verbose=True)"
   ]
  },
  {
   "cell_type": "code",
   "execution_count": 18,
   "metadata": {
    "execution": {
     "iopub.execute_input": "2024-10-17T21:48:49.058792Z",
     "iopub.status.busy": "2024-10-17T21:48:49.058704Z",
     "iopub.status.idle": "2024-10-17T21:48:49.189134Z",
     "shell.execute_reply": "2024-10-17T21:48:49.188664Z"
    }
   },
   "outputs": [
    {
     "name": "stdout",
     "output_type": "stream",
     "text": [
      "? VERSION=1.0\r\n",
      "? SIZE=50\r\n",
      "? COLUMNS TPOS CURPEAK GAMMA0 DELGAM EMITX EMITY RXBEAM RYBEAM XBEAM YBEAM PXBEAM PYBEAM ALPHAX ALPHAY\r\n",
      "-1.96236040e-12 2.75359318e+00 1.00000042e+00 3.87022121e-07 1.19639887e-06 9.26536586e-07 2.04948080e-03 1.83621527e-03 -2.06231144e-04 5.85738124e-05 1.38209180e-05 4.17553934e-05 -1.01973407e-02 7.54079832e-04\r\n",
      "-1.88646733e-12 2.46723994e+00 1.00000043e+00 3.39783124e-07 1.04698472e-06 1.03470799e-06 2.05064183e-03 1.92139881e-03 -2.53107201e-05 -1.13678787e-04 -2.85190907e-05 -2.90105675e-05 -2.32400675e-02 -2.55583997e-03\r\n",
      "-1.80734757e-12 2.61898031e+00 1.00000043e+00 3.65257967e-07 9.78086023e-07 1.03038032e-06 1.97065976e-03 1.88550433e-03 -7.56576638e-05 1.77044304e-04 -4.48907172e-05 6.98821769e-05 5.38708456e-03 4.70844009e-03\r\n",
      "-1.72583745e-12 2.30361285e+00 1.00000043e+00 3.43343193e-07 9.42099457e-07 1.07137205e-06 1.90156644e-03 1.92054974e-03 4.82559113e-05 -6.43105052e-05 1.66595205e-05 1.33986604e-05 9.16890850e-02 8.20635086e-03\r\n",
      "-1.64047654e-12 2.48779835e+00 1.00000043e+00 3.76740497e-07 1.12901501e-06 1.01496464e-06 2.07085748e-03 1.84284581e-03 -2.63780641e-04 2.16425678e-05 9.07228824e-06 -2.65046022e-05 1.91567484e-03 3.63234933e-03\r\n",
      "-1.55820367e-12 2.33273410e+00 1.00000041e+00 3.38657590e-07 9.79796547e-07 1.04648255e-06 1.84685458e-03 1.99189484e-03 3.36520774e-05 1.02123362e-04 3.01402301e-06 6.13937003e-05 -7.84493116e-02 2.84788841e-02\r\n",
      "-1.47800120e-12 2.62363489e+00 1.00000044e+00 3.34570582e-07 1.12580877e-06 1.08628803e-06 1.97095399e-03 2.02149469e-03 -1.94415715e-04 -1.05666747e-04 -1.70675102e-05 -5.61809635e-06 -1.81522208e-01 -5.08353286e-03\r\n"
     ]
    }
   ],
   "source": [
    "!head genesis2.beam"
   ]
  },
  {
   "cell_type": "markdown",
   "metadata": {},
   "source": [
    "# Genesis 1.3 v4"
   ]
  },
  {
   "cell_type": "markdown",
   "metadata": {},
   "source": [
    "## beam file (slice statistics)"
   ]
  },
  {
   "cell_type": "code",
   "execution_count": 19,
   "metadata": {
    "execution": {
     "iopub.execute_input": "2024-10-17T21:48:49.191730Z",
     "iopub.status.busy": "2024-10-17T21:48:49.191298Z",
     "iopub.status.idle": "2024-10-17T21:48:49.255063Z",
     "shell.execute_reply": "2024-10-17T21:48:49.254810Z"
    },
    "tags": []
   },
   "outputs": [
    {
     "name": "stdout",
     "output_type": "stream",
     "text": [
      "Genesis4 beam file written: genesis4_beam.h5\n"
     ]
    }
   ],
   "source": [
    "input_str = P.write_genesis4_beam('genesis4_beam.h5', n_slice=123, verbose=True, return_input_str=True)"
   ]
  },
  {
   "cell_type": "markdown",
   "metadata": {
    "tags": []
   },
   "source": [
    "This string is optionally returned for use in the main Genesis4 input file:"
   ]
  },
  {
   "cell_type": "code",
   "execution_count": 20,
   "metadata": {
    "execution": {
     "iopub.execute_input": "2024-10-17T21:48:49.256388Z",
     "iopub.status.busy": "2024-10-17T21:48:49.256309Z",
     "iopub.status.idle": "2024-10-17T21:48:49.266086Z",
     "shell.execute_reply": "2024-10-17T21:48:49.265880Z"
    },
    "tags": []
   },
   "outputs": [
    {
     "name": "stdout",
     "output_type": "stream",
     "text": [
      "&profile_file\n",
      "  label = current\n",
      "  xdata = genesis4_beam.h5/t\n",
      "  ydata = genesis4_beam.h5/current\n",
      "  isTime = T\n",
      "  reverse = T\n",
      "&end\n",
      "&profile_file\n",
      "  label = gamma\n",
      "  xdata = genesis4_beam.h5/t\n",
      "  ydata = genesis4_beam.h5/gamma\n",
      "  isTime = T\n",
      "  reverse = T\n",
      "&end\n",
      "&profile_file\n",
      "  label = delgam\n",
      "  xdata = genesis4_beam.h5/t\n",
      "  ydata = genesis4_beam.h5/delgam\n",
      "  isTime = T\n",
      "  reverse = T\n",
      "&end\n",
      "&profile_file\n",
      "  label = ex\n",
      "  xdata = genesis4_beam.h5/t\n",
      "  ydata = genesis4_beam.h5/ex\n",
      "  isTime = T\n",
      "  reverse = T\n",
      "&end\n",
      "&profile_file\n",
      "  label = ey\n",
      "  xdata = genesis4_beam.h5/t\n",
      "  ydata = genesis4_beam.h5/ey\n",
      "  isTime = T\n",
      "  reverse = T\n",
      "&end\n",
      "&profile_file\n",
      "  label = xcenter\n",
      "  xdata = genesis4_beam.h5/t\n",
      "  ydata = genesis4_beam.h5/xcenter\n",
      "  isTime = T\n",
      "  reverse = T\n",
      "&end\n",
      "&profile_file\n",
      "  label = ycenter\n",
      "  xdata = genesis4_beam.h5/t\n",
      "  ydata = genesis4_beam.h5/ycenter\n",
      "  isTime = T\n",
      "  reverse = T\n",
      "&end\n",
      "&profile_file\n",
      "  label = pxcenter\n",
      "  xdata = genesis4_beam.h5/t\n",
      "  ydata = genesis4_beam.h5/pxcenter\n",
      "  isTime = T\n",
      "  reverse = T\n",
      "&end\n",
      "&profile_file\n",
      "  label = pycenter\n",
      "  xdata = genesis4_beam.h5/t\n",
      "  ydata = genesis4_beam.h5/pycenter\n",
      "  isTime = T\n",
      "  reverse = T\n",
      "&end\n",
      "&profile_file\n",
      "  label = alphax\n",
      "  xdata = genesis4_beam.h5/t\n",
      "  ydata = genesis4_beam.h5/alphax\n",
      "  isTime = T\n",
      "  reverse = T\n",
      "&end\n",
      "&profile_file\n",
      "  label = alphay\n",
      "  xdata = genesis4_beam.h5/t\n",
      "  ydata = genesis4_beam.h5/alphay\n",
      "  isTime = T\n",
      "  reverse = T\n",
      "&end\n",
      "&profile_file\n",
      "  label = betax\n",
      "  xdata = genesis4_beam.h5/t\n",
      "  ydata = genesis4_beam.h5/betax\n",
      "  isTime = T\n",
      "  reverse = T\n",
      "&end\n",
      "&profile_file\n",
      "  label = betay\n",
      "  xdata = genesis4_beam.h5/t\n",
      "  ydata = genesis4_beam.h5/betay\n",
      "  isTime = T\n",
      "  reverse = T\n",
      "&end\n",
      "&beam\n",
      "  current = @current\n",
      "  gamma = @gamma\n",
      "  delgam = @delgam\n",
      "  ex = @ex\n",
      "  ey = @ey\n",
      "  xcenter = @xcenter\n",
      "  ycenter = @ycenter\n",
      "  pxcenter = @pxcenter\n",
      "  pycenter = @pycenter\n",
      "  alphax = @alphax\n",
      "  alphay = @alphay\n",
      "  betax = @betax\n",
      "  betay = @betay\n",
      "&end\n"
     ]
    }
   ],
   "source": [
    "print(input_str)"
   ]
  },
  {
   "cell_type": "markdown",
   "metadata": {
    "tags": []
   },
   "source": [
    "These are the datasets written:"
   ]
  },
  {
   "cell_type": "code",
   "execution_count": 21,
   "metadata": {
    "execution": {
     "iopub.execute_input": "2024-10-17T21:48:49.267373Z",
     "iopub.status.busy": "2024-10-17T21:48:49.267292Z",
     "iopub.status.idle": "2024-10-17T21:48:49.279454Z",
     "shell.execute_reply": "2024-10-17T21:48:49.279211Z"
    },
    "tags": []
   },
   "outputs": [
    {
     "name": "stdout",
     "output_type": "stream",
     "text": [
      "alphax 123 \n",
      "alphay 123 \n",
      "betax 123 m\n",
      "betay 123 m\n",
      "current 123 A\n",
      "delgam 123 \n",
      "ex 123 m\n",
      "ey 123 m\n",
      "gamma 123 \n",
      "pxcenter 123 \n",
      "pycenter 123 \n",
      "t 123 s\n",
      "xcenter 123 m\n",
      "ycenter 123 m\n"
     ]
    }
   ],
   "source": [
    "with File('genesis4_beam.h5', 'r') as h5:\n",
    "    for g in h5:\n",
    "        print(g, len(h5[g]), h5[g].attrs['unitSymbol'])"
   ]
  },
  {
   "cell_type": "markdown",
   "metadata": {
    "tags": []
   },
   "source": [
    "## Distribution file (particles)"
   ]
  },
  {
   "cell_type": "code",
   "execution_count": 22,
   "metadata": {
    "execution": {
     "iopub.execute_input": "2024-10-17T21:48:49.280670Z",
     "iopub.status.busy": "2024-10-17T21:48:49.280592Z",
     "iopub.status.idle": "2024-10-17T21:48:49.291757Z",
     "shell.execute_reply": "2024-10-17T21:48:49.291551Z"
    },
    "tags": []
   },
   "outputs": [
    {
     "name": "stdout",
     "output_type": "stream",
     "text": [
      "Datasets x, xp, y, yp, t, p written to: genesis4_distribution.h5\n"
     ]
    }
   ],
   "source": [
    "P.write_genesis4_distribution('genesis4_distribution.h5', verbose=True)"
   ]
  },
  {
   "cell_type": "markdown",
   "metadata": {},
   "source": [
    "This is what is written:"
   ]
  },
  {
   "cell_type": "code",
   "execution_count": 23,
   "metadata": {
    "execution": {
     "iopub.execute_input": "2024-10-17T21:48:49.292901Z",
     "iopub.status.busy": "2024-10-17T21:48:49.292810Z",
     "iopub.status.idle": "2024-10-17T21:48:49.302915Z",
     "shell.execute_reply": "2024-10-17T21:48:49.302708Z"
    },
    "tags": []
   },
   "outputs": [
    {
     "name": "stdout",
     "output_type": "stream",
     "text": [
      "p 10000\n",
      "t 10000\n",
      "x 10000\n",
      "xp 10000\n",
      "y 10000\n",
      "yp 10000\n"
     ]
    }
   ],
   "source": [
    "with File('genesis4_distribution.h5', 'r') as h5:\n",
    "    for g in h5:\n",
    "        print(g, len(h5[g]))"
   ]
  },
  {
   "cell_type": "markdown",
   "metadata": {},
   "source": [
    "# GPT ASCII"
   ]
  },
  {
   "cell_type": "code",
   "execution_count": 24,
   "metadata": {
    "execution": {
     "iopub.execute_input": "2024-10-17T21:48:49.304140Z",
     "iopub.status.busy": "2024-10-17T21:48:49.304049Z",
     "iopub.status.idle": "2024-10-17T21:48:49.351262Z",
     "shell.execute_reply": "2024-10-17T21:48:49.351004Z"
    }
   },
   "outputs": [
    {
     "name": "stdout",
     "output_type": "stream",
     "text": [
      "writing 10000 particles to gpt_particles.txt\n",
      "ASCII particles written. Convert to GDF using: asci2df -o particles.gdf gpt_particles.txt\n"
     ]
    }
   ],
   "source": [
    "P.write_gpt('gpt_particles.txt', verbose=True)"
   ]
  },
  {
   "cell_type": "code",
   "execution_count": 25,
   "metadata": {
    "execution": {
     "iopub.execute_input": "2024-10-17T21:48:49.352560Z",
     "iopub.status.busy": "2024-10-17T21:48:49.352479Z",
     "iopub.status.idle": "2024-10-17T21:48:49.431520Z",
     "shell.execute_reply": "2024-10-17T21:48:49.431149Z"
    }
   },
   "outputs": [
    {
     "name": "stdout",
     "output_type": "stream",
     "text": [
      "writing 10000 particles to gpt_particles.gdf\n"
     ]
    }
   ],
   "source": [
    "if os.path.exists(os.path.expandvars('$ASCI2GDF_BIN')):\n",
    "    P.write_gpt('gpt_particles.gdf', verbose=True, asci2gdf_bin='$ASCI2GDF_BIN')"
   ]
  },
  {
   "cell_type": "code",
   "execution_count": 26,
   "metadata": {
    "execution": {
     "iopub.execute_input": "2024-10-17T21:48:49.432869Z",
     "iopub.status.busy": "2024-10-17T21:48:49.432751Z",
     "iopub.status.idle": "2024-10-17T21:48:49.445026Z",
     "shell.execute_reply": "2024-10-17T21:48:49.444694Z"
    }
   },
   "outputs": [],
   "source": [
    "#!head gpt_particles.txt"
   ]
  },
  {
   "cell_type": "markdown",
   "metadata": {},
   "source": [
    "# Impact-T\n",
    "\n",
    "Impact-T particles must all be a the same time:"
   ]
  },
  {
   "cell_type": "code",
   "execution_count": 27,
   "metadata": {
    "execution": {
     "iopub.execute_input": "2024-10-17T21:48:49.446525Z",
     "iopub.status.busy": "2024-10-17T21:48:49.446432Z",
     "iopub.status.idle": "2024-10-17T21:48:49.457998Z",
     "shell.execute_reply": "2024-10-17T21:48:49.457749Z"
    },
    "tags": []
   },
   "outputs": [],
   "source": [
    "P.drift_to_t(P['mean_t'])"
   ]
  },
  {
   "cell_type": "markdown",
   "metadata": {},
   "source": [
    "This will return settings for Impact-T to use:"
   ]
  },
  {
   "cell_type": "code",
   "execution_count": 28,
   "metadata": {
    "execution": {
     "iopub.execute_input": "2024-10-17T21:48:49.459439Z",
     "iopub.status.busy": "2024-10-17T21:48:49.459349Z",
     "iopub.status.idle": "2024-10-17T21:48:49.506561Z",
     "shell.execute_reply": "2024-10-17T21:48:49.506257Z"
    },
    "tags": []
   },
   "outputs": [
    {
     "data": {
      "text/plain": [
       "{'input_particle_file': 'impact_particles.txt',\n",
       " 'Np': 10000,\n",
       " 'Tini': np.float64(1.8196640012738955e-14),\n",
       " 'Flagimg': 0}"
      ]
     },
     "execution_count": 28,
     "metadata": {},
     "output_type": "execute_result"
    }
   ],
   "source": [
    "P.write_impact('impact_particles.txt')"
   ]
  },
  {
   "cell_type": "code",
   "execution_count": 29,
   "metadata": {
    "execution": {
     "iopub.execute_input": "2024-10-17T21:48:49.508457Z",
     "iopub.status.busy": "2024-10-17T21:48:49.508329Z",
     "iopub.status.idle": "2024-10-17T21:48:49.634963Z",
     "shell.execute_reply": "2024-10-17T21:48:49.634453Z"
    },
    "tags": []
   },
   "outputs": [
    {
     "name": "stdout",
     "output_type": "stream",
     "text": [
      "10000\r\n",
      "-1.185035553808772143e-03 -5.962917646539026830e-04 -2.101545212762252063e-03 -5.947844744118675406e-04 6.889138464881934423e-08 2.357954837617718942e-04\r\n",
      "-5.185459410277813361e-04 1.081304810831444467e-03 -2.178535008255722601e-03 4.729410651485857963e-04 -1.168588385748075652e-07 3.043301854978374224e-04\r\n",
      "-1.773451522909312962e-03 -4.356182625855454594e-04 2.864977471386669170e-03 1.849365458795189412e-05 -2.599963881922582336e-08 2.261204109504710640e-04\r\n",
      "1.686767013783966630e-03 -3.701949875665073173e-04 -2.401590848712557098e-04 9.509897724357652376e-05 -6.196091998406064887e-07 1.086073040365844247e-03\r\n",
      "-7.779525032181127363e-04 1.314315604491483489e-04 -6.799847675988795461e-04 -4.039485795854574836e-04 -8.397600117458311948e-09 1.574553206124528761e-04\r\n",
      "-2.593690512006350136e-03 -2.848642647956871966e-05 -2.301197068594195913e-03 4.059959327304890142e-04 -6.528501143099030074e-08 1.591207173856017771e-04\r\n",
      "1.997801835211931738e-03 -4.156657712632428962e-06 2.648426620219643604e-03 -1.329302842842789139e-04 -4.457257401140207729e-08 5.682333576145901953e-04\r\n",
      "1.999690961886589624e-03 -1.955217894072916647e-04 -6.946158470527933476e-04 -1.798323156157682705e-04 2.276631907326255499e-07 8.747763597149907193e-04\r\n",
      "-7.035727003852429310e-04 1.471815600429043306e-03 -5.678538239535645561e-04 6.117313388152665482e-04 -1.922838101944327160e-08 1.486354662711140203e-04\r\n"
     ]
    }
   ],
   "source": [
    "!head impact_particles.txt"
   ]
  },
  {
   "cell_type": "markdown",
   "metadata": {},
   "source": [
    "# LiTrack\n",
    "\n",
    "LiTrack particles must be at the same z:"
   ]
  },
  {
   "cell_type": "code",
   "execution_count": 30,
   "metadata": {
    "execution": {
     "iopub.execute_input": "2024-10-17T21:48:49.637172Z",
     "iopub.status.busy": "2024-10-17T21:48:49.636963Z",
     "iopub.status.idle": "2024-10-17T21:48:49.654263Z",
     "shell.execute_reply": "2024-10-17T21:48:49.653964Z"
    },
    "tags": []
   },
   "outputs": [],
   "source": [
    "P.drift_to_z()"
   ]
  },
  {
   "cell_type": "code",
   "execution_count": 31,
   "metadata": {
    "execution": {
     "iopub.execute_input": "2024-10-17T21:48:49.655811Z",
     "iopub.status.busy": "2024-10-17T21:48:49.655705Z",
     "iopub.status.idle": "2024-10-17T21:48:49.682770Z",
     "shell.execute_reply": "2024-10-17T21:48:49.682481Z"
    },
    "tags": []
   },
   "outputs": [
    {
     "name": "stdout",
     "output_type": "stream",
     "text": [
      "Using mean_p as the reference momentum: 441.52466167250947 eV/c\n",
      "writing 10000 LiTrack particles to litrack.zd\n"
     ]
    },
    {
     "data": {
      "text/plain": [
       "'litrack.zd'"
      ]
     },
     "execution_count": 31,
     "metadata": {},
     "output_type": "execute_result"
    }
   ],
   "source": [
    "P.write_litrack('litrack.zd', verbose=True)"
   ]
  },
  {
   "cell_type": "code",
   "execution_count": 32,
   "metadata": {
    "execution": {
     "iopub.execute_input": "2024-10-17T21:48:49.684152Z",
     "iopub.status.busy": "2024-10-17T21:48:49.684042Z",
     "iopub.status.idle": "2024-10-17T21:48:49.813471Z",
     "shell.execute_reply": "2024-10-17T21:48:49.812952Z"
    },
    "tags": []
   },
   "outputs": [
    {
     "name": "stdout",
     "output_type": "stream",
     "text": [
      "% LiTrack particles\r\n",
      "% \r\n",
      "% Created using the openPMD-beamphysics Python package\r\n",
      "% https://github.com/ChristopherMayes/openPMD-beamphysics\r\n",
      "%\r\n",
      "% species: electron\r\n",
      "% n_particle: 10000\r\n",
      "% total charge: 1.0000000000000003e-11 (C)\r\n",
      "% reference momentum p0: 441.52466167250947 (eV/c)\r\n",
      "%\r\n",
      "% Columns: ct, delta = p/p0 -1\r\n",
      "% Units: mm, percent\r\n",
      " -2.910140500388e-01   1.222356070583e+00\r\n",
      "  3.861082943987e-01   4.105966931910e+01\r\n",
      "  1.159491741202e-01  -4.315583986424e+01\r\n",
      "  5.750254785583e-01   3.325339997689e+01\r\n",
      "  5.234406211768e-02  -4.756793241308e+01\r\n",
      "  4.093643740668e-01  -4.942448528425e+01\r\n",
      "  8.211012905157e-02  -3.245820052454e+01\r\n",
      " -2.559578717432e-01   5.807578013130e+00\r\n"
     ]
    }
   ],
   "source": [
    "!head -n 20 litrack.zd"
   ]
  },
  {
   "cell_type": "markdown",
   "metadata": {},
   "source": [
    "# Lucretia"
   ]
  },
  {
   "cell_type": "code",
   "execution_count": 33,
   "metadata": {
    "execution": {
     "iopub.execute_input": "2024-10-17T21:48:49.815620Z",
     "iopub.status.busy": "2024-10-17T21:48:49.815435Z",
     "iopub.status.idle": "2024-10-17T21:48:49.834224Z",
     "shell.execute_reply": "2024-10-17T21:48:49.833871Z"
    },
    "tags": []
   },
   "outputs": [
    {
     "name": "stdout",
     "output_type": "stream",
     "text": [
      "writing 10000 particles in the Lucretia format to lucretia.mat\n"
     ]
    }
   ],
   "source": [
    "P.write_lucretia('lucretia.mat', ele_name='BEGINNING', t_ref=0, stop_ix=None, verbose=True)"
   ]
  },
  {
   "cell_type": "markdown",
   "metadata": {},
   "source": [
    "Read back:"
   ]
  },
  {
   "cell_type": "code",
   "execution_count": 34,
   "metadata": {
    "execution": {
     "iopub.execute_input": "2024-10-17T21:48:49.835986Z",
     "iopub.status.busy": "2024-10-17T21:48:49.835827Z",
     "iopub.status.idle": "2024-10-17T21:48:49.853062Z",
     "shell.execute_reply": "2024-10-17T21:48:49.852785Z"
    },
    "tags": []
   },
   "outputs": [
    {
     "name": "stdout",
     "output_type": "stream",
     "text": [
      "1 elements found in the file!\n",
      "10000 particles detected, 0 found dead!\n"
     ]
    },
    {
     "data": {
      "text/plain": [
       "<ParticleGroup with 10000 particles at 0x1066a5370>"
      ]
     },
     "execution_count": 34,
     "metadata": {},
     "output_type": "execute_result"
    }
   ],
   "source": [
    "from pmd_beamphysics.interfaces.lucretia import lucretia_to_data, list_element_names\n",
    "\n",
    "ParticleGroup(data=lucretia_to_data('lucretia.mat', verbose=True))"
   ]
  },
  {
   "cell_type": "markdown",
   "metadata": {},
   "source": [
    "Helper function to list the available elements:"
   ]
  },
  {
   "cell_type": "code",
   "execution_count": 35,
   "metadata": {
    "execution": {
     "iopub.execute_input": "2024-10-17T21:48:49.854342Z",
     "iopub.status.busy": "2024-10-17T21:48:49.854255Z",
     "iopub.status.idle": "2024-10-17T21:48:49.866268Z",
     "shell.execute_reply": "2024-10-17T21:48:49.866036Z"
    },
    "tags": []
   },
   "outputs": [
    {
     "data": {
      "text/plain": [
       "['BEGINNING']"
      ]
     },
     "execution_count": 35,
     "metadata": {},
     "output_type": "execute_result"
    }
   ],
   "source": [
    "list_element_names('lucretia.mat')"
   ]
  },
  {
   "cell_type": "markdown",
   "metadata": {},
   "source": [
    "# OPAL\n",
    "\n",
    "Injected particled must be at the same time:"
   ]
  },
  {
   "cell_type": "code",
   "execution_count": 36,
   "metadata": {
    "execution": {
     "iopub.execute_input": "2024-10-17T21:48:49.867521Z",
     "iopub.status.busy": "2024-10-17T21:48:49.867436Z",
     "iopub.status.idle": "2024-10-17T21:48:49.900798Z",
     "shell.execute_reply": "2024-10-17T21:48:49.900557Z"
    },
    "tags": []
   },
   "outputs": [],
   "source": [
    "P.drift_to_t()\n",
    "\n",
    "P.write_opal('opal_injected.txt', dist_type='injected')"
   ]
  },
  {
   "cell_type": "code",
   "execution_count": 37,
   "metadata": {
    "execution": {
     "iopub.execute_input": "2024-10-17T21:48:49.902132Z",
     "iopub.status.busy": "2024-10-17T21:48:49.902045Z",
     "iopub.status.idle": "2024-10-17T21:48:50.032099Z",
     "shell.execute_reply": "2024-10-17T21:48:50.031577Z"
    },
    "tags": []
   },
   "outputs": [
    {
     "name": "stdout",
     "output_type": "stream",
     "text": [
      "10000\r\n",
      " -1.185024568260e-03  -5.962917646539e-04  -2.101534254983e-03  -5.947844744119e-04   6.454729863911e-08   2.357954837618e-04\r\n",
      " -5.185658620175e-04   1.081304810831e-03  -2.178543721298e-03   4.729410651486e-04  -1.224655448770e-07   3.043301854978e-04\r\n",
      " -1.773443497464e-03  -4.356182625855e-04   2.864977130676e-03   1.849365458795e-05  -3.016548099423e-08   2.261204109505e-04\r\n",
      "  1.686773833925e-03  -3.701949875665e-04  -2.401608368896e-04   9.509897724358e-05  -6.396180367454e-07   1.086073040366e-03\r\n",
      " -7.779549245968e-04   1.314315604491e-04  -6.799773256079e-04  -4.039485795855e-04  -1.129841753741e-08   1.574553206125e-04\r\n",
      " -2.593689987198e-03  -2.848642647957e-05  -2.301204548304e-03   4.059959327305e-04  -6.821651066751e-08   1.591207173856e-04\r\n",
      "  1.997801911791e-03  -4.156657712632e-06   2.648429069209e-03  -1.329302842843e-04  -5.504120158406e-08   5.682333576146e-04\r\n",
      "  1.999694564006e-03  -1.955217894073e-04  -6.946125339825e-04  -1.798323156158e-04   2.115470906675e-07   8.747763597150e-04\r\n",
      " -7.035998157808e-04   1.471815600429e-03  -5.678650939369e-04   6.117313388153e-04  -2.196670602435e-08   1.486354662711e-04\r\n"
     ]
    }
   ],
   "source": [
    "!head opal_injected.txt"
   ]
  },
  {
   "cell_type": "markdown",
   "metadata": {},
   "source": [
    "Emitted particles must be at the same z:"
   ]
  },
  {
   "cell_type": "code",
   "execution_count": 38,
   "metadata": {
    "execution": {
     "iopub.execute_input": "2024-10-17T21:48:50.034426Z",
     "iopub.status.busy": "2024-10-17T21:48:50.034218Z",
     "iopub.status.idle": "2024-10-17T21:48:50.081070Z",
     "shell.execute_reply": "2024-10-17T21:48:50.080808Z"
    },
    "tags": []
   },
   "outputs": [],
   "source": [
    "P.drift_to_z(P['mean_z'])\n",
    "P.write_opal('opal_emitted.txt', dist_type='emitted')"
   ]
  },
  {
   "cell_type": "code",
   "execution_count": 39,
   "metadata": {
    "execution": {
     "iopub.execute_input": "2024-10-17T21:48:50.082328Z",
     "iopub.status.busy": "2024-10-17T21:48:50.082247Z",
     "iopub.status.idle": "2024-10-17T21:48:50.212417Z",
     "shell.execute_reply": "2024-10-17T21:48:50.211856Z"
    },
    "tags": []
   },
   "outputs": [
    {
     "name": "stdout",
     "output_type": "stream",
     "text": [
      "10000\r\n",
      " -1.184838617375e-03  -5.962917646539e-04  -2.101348774139e-03  -5.947844744119e-04  -1.083461177889e-12   2.357954837618e-04\r\n",
      " -5.181626563723e-04   1.081304810831e-03  -2.178367367225e-03   4.729410651486e-04   1.200565320731e-12   3.043301854978e-04\r\n",
      " -1.773484302458e-03  -4.356182625855e-04   2.864978863003e-03   1.849365458795e-05   2.691980940714e-13   2.261204109505e-04\r\n",
      "  1.686558878409e-03  -3.701949875665e-04  -2.401056172069e-04   9.509897724358e-05   1.893601130019e-12   1.086073040366e-03\r\n",
      " -7.779529930790e-04   1.314315604491e-04  -6.799832620349e-04  -4.039485795855e-04   5.764311716727e-15   1.574553206125e-04\r\n",
      " -2.593700591157e-03  -2.848642647957e-05  -2.301053417928e-03   4.059959327305e-04   1.198422972634e-12   1.591207173856e-04\r\n",
      "  1.997801574883e-03  -4.156657712632e-06   2.648418294875e-03  -1.329302842843e-04   2.271058970013e-13   5.682333576146e-04\r\n",
      "  1.999743855144e-03  -1.955217894073e-04  -6.945671981683e-04  -1.798323156158e-04  -8.841733180528e-13   8.747763597150e-04\r\n",
      " -7.034712631509e-04   1.471815600429e-03  -5.678116635531e-04   6.117313388153e-04   2.480886363183e-13   1.486354662711e-04\r\n"
     ]
    }
   ],
   "source": [
    "!head opal_emitted.txt"
   ]
  },
  {
   "cell_type": "markdown",
   "metadata": {},
   "source": [
    "# SIMION \n",
    "Write SIMION input files (*.ion) "
   ]
  },
  {
   "cell_type": "code",
   "execution_count": 40,
   "metadata": {
    "execution": {
     "iopub.execute_input": "2024-10-17T21:48:50.215270Z",
     "iopub.status.busy": "2024-10-17T21:48:50.214983Z",
     "iopub.status.idle": "2024-10-17T21:48:50.273075Z",
     "shell.execute_reply": "2024-10-17T21:48:50.272763Z"
    }
   },
   "outputs": [],
   "source": [
    "P.write_simion('simion_particles.ion')"
   ]
  },
  {
   "cell_type": "markdown",
   "metadata": {},
   "source": [
    "# Cleanup"
   ]
  },
  {
   "cell_type": "code",
   "execution_count": 41,
   "metadata": {
    "execution": {
     "iopub.execute_input": "2024-10-17T21:48:50.274527Z",
     "iopub.status.busy": "2024-10-17T21:48:50.274439Z",
     "iopub.status.idle": "2024-10-17T21:48:50.286221Z",
     "shell.execute_reply": "2024-10-17T21:48:50.285984Z"
    },
    "tags": []
   },
   "outputs": [],
   "source": [
    "for file in [\n",
    "    'astra_particles.txt',\n",
    "    'bmad_particles.txt',\n",
    "    'elegant_particles.txt',\n",
    "    'gpt_particles.txt',\n",
    "    'impact_particles.txt',\n",
    "    'opal_injected.txt',\n",
    "    'opal_emitted.txt',\n",
    "    'openpmd_particles.h5',\n",
    "    'genesis4_beam.h5',\n",
    "    'genesis4_distribution.h5',\n",
    "    'genesis2.beam',\n",
    "    'litrack.zd',\n",
    "    'gpt_particles.gdf',\n",
    "    'lucretia.mat',\n",
    "    'simion_particles.ion'\n",
    "    ]:\n",
    "    if os.path.exists(file):\n",
    "        os.remove(file)"
   ]
  }
 ],
 "metadata": {
  "kernelspec": {
   "display_name": "Python 3 (ipykernel)",
   "language": "python",
   "name": "python3"
  },
  "language_info": {
   "codemirror_mode": {
    "name": "ipython",
    "version": 3
   },
   "file_extension": ".py",
   "mimetype": "text/x-python",
   "name": "python",
   "nbconvert_exporter": "python",
   "pygments_lexer": "ipython3",
   "version": "3.12.7"
  }
 },
 "nbformat": 4,
 "nbformat_minor": 4
}
