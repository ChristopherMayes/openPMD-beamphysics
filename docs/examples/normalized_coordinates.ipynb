{
 "cells": [
  {
   "cell_type": "markdown",
   "metadata": {
    "tags": []
   },
   "source": [
    "# Simple Normalized Coordinates\n",
    "\n",
    "1D normalized coordinates originate from the normal form decomposition, where the transfer matrix that propagates phase space coordinates $(x, p)$ is decomposed as\n",
    "\n",
    "$M = A \\cdot R(\\theta) \\cdot A^{-1}$\n",
    "\n",
    "And the matrix $A$ can be parameterized as\n",
    "\n",
    "A = $\\begin{pmatrix}\\sqrt{\\beta} & 0\\\\-\\alpha/\\sqrt{\\beta} & 1/\\sqrt{\\beta}\\end{pmatrix}$\n"
   ]
  },
  {
   "cell_type": "code",
   "execution_count": null,
   "metadata": {
    "execution": {
     "iopub.execute_input": "2024-10-17T23:18:17.893216Z",
     "iopub.status.busy": "2024-10-17T23:18:17.892952Z",
     "iopub.status.idle": "2024-10-17T23:18:18.410051Z",
     "shell.execute_reply": "2024-10-17T23:18:18.409763Z"
    },
    "tags": []
   },
   "outputs": [],
   "source": [
    "from pmd_beamphysics import ParticleGroup\n",
    "from pmd_beamphysics.statistics import (\n",
    "    A_mat_calc,\n",
    "    twiss_calc,\n",
    "    normalized_particle_coordinate,\n",
    "    twiss_ellipse_points,\n",
    ")\n",
    "import numpy as np\n",
    "import matplotlib.pyplot as plt\n",
    "import matplotlib\n",
    "\n",
    "%config InlineBackend.figure_format = 'retina'"
   ]
  },
  {
   "cell_type": "code",
   "execution_count": null,
   "metadata": {
    "execution": {
     "iopub.execute_input": "2024-10-17T23:18:18.411592Z",
     "iopub.status.busy": "2024-10-17T23:18:18.411460Z",
     "iopub.status.idle": "2024-10-17T23:18:18.413475Z",
     "shell.execute_reply": "2024-10-17T23:18:18.413254Z"
    },
    "tags": []
   },
   "outputs": [],
   "source": [
    "help(A_mat_calc)"
   ]
  },
  {
   "cell_type": "markdown",
   "metadata": {},
   "source": [
    "Make phase space circle. This will represent some normalized coordinates:"
   ]
  },
  {
   "cell_type": "code",
   "execution_count": null,
   "metadata": {
    "execution": {
     "iopub.execute_input": "2024-10-17T23:18:18.433583Z",
     "iopub.status.busy": "2024-10-17T23:18:18.433460Z",
     "iopub.status.idle": "2024-10-17T23:18:18.822097Z",
     "shell.execute_reply": "2024-10-17T23:18:18.821832Z"
    },
    "tags": []
   },
   "outputs": [],
   "source": [
    "theta = np.linspace(0, np.pi * 2, 100)\n",
    "zvec0 = np.array([np.cos(theta), np.sin(theta)])\n",
    "plt.scatter(*zvec0)"
   ]
  },
  {
   "cell_type": "markdown",
   "metadata": {},
   "source": [
    "Make a 'beam' in 'lab coordinates':"
   ]
  },
  {
   "cell_type": "code",
   "execution_count": null,
   "metadata": {
    "execution": {
     "iopub.execute_input": "2024-10-17T23:18:18.823624Z",
     "iopub.status.busy": "2024-10-17T23:18:18.823497Z",
     "iopub.status.idle": "2024-10-17T23:18:18.892920Z",
     "shell.execute_reply": "2024-10-17T23:18:18.892694Z"
    },
    "tags": []
   },
   "outputs": [],
   "source": [
    "MYMAT = np.array([[10, 0], [-3, 5]])\n",
    "zvec = np.matmul(MYMAT, zvec0)\n",
    "plt.scatter(*zvec)"
   ]
  },
  {
   "cell_type": "markdown",
   "metadata": {},
   "source": [
    "With a beam, $\\alpha$ and $\\beta$ can be determined from moments of the covariance matrix."
   ]
  },
  {
   "cell_type": "code",
   "execution_count": null,
   "metadata": {
    "execution": {
     "iopub.execute_input": "2024-10-17T23:18:18.894216Z",
     "iopub.status.busy": "2024-10-17T23:18:18.894129Z",
     "iopub.status.idle": "2024-10-17T23:18:18.895899Z",
     "shell.execute_reply": "2024-10-17T23:18:18.895696Z"
    },
    "tags": []
   },
   "outputs": [],
   "source": [
    "help(twiss_calc)"
   ]
  },
  {
   "cell_type": "markdown",
   "metadata": {},
   "source": [
    "Calculate a sigma matrix, get the determinant:"
   ]
  },
  {
   "cell_type": "code",
   "execution_count": null,
   "metadata": {
    "execution": {
     "iopub.execute_input": "2024-10-17T23:18:18.897067Z",
     "iopub.status.busy": "2024-10-17T23:18:18.896980Z",
     "iopub.status.idle": "2024-10-17T23:18:18.899107Z",
     "shell.execute_reply": "2024-10-17T23:18:18.898899Z"
    },
    "tags": []
   },
   "outputs": [],
   "source": [
    "sigma_mat2 = np.cov(*zvec)\n",
    "np.linalg.det(sigma_mat2)"
   ]
  },
  {
   "cell_type": "markdown",
   "metadata": {},
   "source": [
    "Get some twiss:"
   ]
  },
  {
   "cell_type": "code",
   "execution_count": null,
   "metadata": {
    "execution": {
     "iopub.execute_input": "2024-10-17T23:18:18.900242Z",
     "iopub.status.busy": "2024-10-17T23:18:18.900169Z",
     "iopub.status.idle": "2024-10-17T23:18:18.902145Z",
     "shell.execute_reply": "2024-10-17T23:18:18.901947Z"
    },
    "tags": []
   },
   "outputs": [],
   "source": [
    "twiss = twiss_calc(sigma_mat2)\n",
    "twiss"
   ]
  },
  {
   "cell_type": "markdown",
   "metadata": {},
   "source": [
    "Analyzing matrices:"
   ]
  },
  {
   "cell_type": "code",
   "execution_count": null,
   "metadata": {
    "execution": {
     "iopub.execute_input": "2024-10-17T23:18:18.903300Z",
     "iopub.status.busy": "2024-10-17T23:18:18.903224Z",
     "iopub.status.idle": "2024-10-17T23:18:18.904886Z",
     "shell.execute_reply": "2024-10-17T23:18:18.904690Z"
    },
    "tags": []
   },
   "outputs": [],
   "source": [
    "A = A_mat_calc(twiss[\"beta\"], twiss[\"alpha\"])\n",
    "A_inv = A_mat_calc(twiss[\"beta\"], twiss[\"alpha\"], inverse=True)"
   ]
  },
  {
   "cell_type": "markdown",
   "metadata": {},
   "source": [
    "A_inv turns this back into a circle:"
   ]
  },
  {
   "cell_type": "code",
   "execution_count": null,
   "metadata": {
    "execution": {
     "iopub.execute_input": "2024-10-17T23:18:18.905995Z",
     "iopub.status.busy": "2024-10-17T23:18:18.905921Z",
     "iopub.status.idle": "2024-10-17T23:18:18.968846Z",
     "shell.execute_reply": "2024-10-17T23:18:18.968593Z"
    },
    "tags": []
   },
   "outputs": [],
   "source": [
    "zvec2 = np.matmul(A_inv, zvec)\n",
    "plt.scatter(*zvec2)"
   ]
  },
  {
   "cell_type": "markdown",
   "metadata": {},
   "source": [
    "# Twiss parameters\n",
    "\n",
    "Effective Twiss parameters can be calculated from the second order moments of the particles.\n",
    "\n",
    "This does not change the phase space area.\n"
   ]
  },
  {
   "cell_type": "code",
   "execution_count": null,
   "metadata": {
    "execution": {
     "iopub.execute_input": "2024-10-17T23:18:18.970193Z",
     "iopub.status.busy": "2024-10-17T23:18:18.970110Z",
     "iopub.status.idle": "2024-10-17T23:18:18.972237Z",
     "shell.execute_reply": "2024-10-17T23:18:18.972024Z"
    },
    "tags": []
   },
   "outputs": [],
   "source": [
    "twiss_calc(np.cov(*zvec2))"
   ]
  },
  {
   "cell_type": "code",
   "execution_count": null,
   "metadata": {
    "execution": {
     "iopub.execute_input": "2024-10-17T23:18:18.973391Z",
     "iopub.status.busy": "2024-10-17T23:18:18.973297Z",
     "iopub.status.idle": "2024-10-17T23:18:18.974831Z",
     "shell.execute_reply": "2024-10-17T23:18:18.974632Z"
    },
    "tags": []
   },
   "outputs": [],
   "source": [
    "matplotlib.rcParams[\"figure.figsize\"] = (13, 8)  # Reset plot"
   ]
  },
  {
   "cell_type": "markdown",
   "metadata": {},
   "source": [
    "# x_bar, px_bar, Jx, etc.\n",
    "\n",
    "These are essentially action-angle coordinates, calculated by using the an analyzing twiss dict"
   ]
  },
  {
   "cell_type": "code",
   "execution_count": null,
   "metadata": {
    "execution": {
     "iopub.execute_input": "2024-10-17T23:18:18.976055Z",
     "iopub.status.busy": "2024-10-17T23:18:18.975984Z",
     "iopub.status.idle": "2024-10-17T23:18:18.977774Z",
     "shell.execute_reply": "2024-10-17T23:18:18.977557Z"
    },
    "tags": []
   },
   "outputs": [],
   "source": [
    "help(normalized_particle_coordinate)"
   ]
  },
  {
   "cell_type": "markdown",
   "metadata": {},
   "source": [
    "Get some example particles, with a typical transverse phase space plot:"
   ]
  },
  {
   "cell_type": "code",
   "execution_count": null,
   "metadata": {
    "execution": {
     "iopub.execute_input": "2024-10-17T23:18:18.978900Z",
     "iopub.status.busy": "2024-10-17T23:18:18.978832Z",
     "iopub.status.idle": "2024-10-17T23:18:19.435355Z",
     "shell.execute_reply": "2024-10-17T23:18:19.435099Z"
    },
    "tags": []
   },
   "outputs": [],
   "source": [
    "P = ParticleGroup(\"data/bmad_particles2.h5\")\n",
    "P.plot(\"x\", \"px\", ellipse=True)"
   ]
  },
  {
   "cell_type": "markdown",
   "metadata": {},
   "source": [
    "If no twiss is given, then the analyzing matrix is computed from the beam itself:"
   ]
  },
  {
   "cell_type": "code",
   "execution_count": null,
   "metadata": {
    "execution": {
     "iopub.execute_input": "2024-10-17T23:18:19.437920Z",
     "iopub.status.busy": "2024-10-17T23:18:19.437806Z",
     "iopub.status.idle": "2024-10-17T23:18:19.441413Z",
     "shell.execute_reply": "2024-10-17T23:18:19.441192Z"
    },
    "tags": []
   },
   "outputs": [],
   "source": [
    "normalized_particle_coordinate(P, \"x\", twiss=None)"
   ]
  },
  {
   "cell_type": "markdown",
   "metadata": {},
   "source": [
    "This is equivelent:"
   ]
  },
  {
   "cell_type": "code",
   "execution_count": null,
   "metadata": {
    "execution": {
     "iopub.execute_input": "2024-10-17T23:18:19.442620Z",
     "iopub.status.busy": "2024-10-17T23:18:19.442545Z",
     "iopub.status.idle": "2024-10-17T23:18:19.446015Z",
     "shell.execute_reply": "2024-10-17T23:18:19.445808Z"
    },
    "tags": []
   },
   "outputs": [],
   "source": [
    "normalized_particle_coordinate(\n",
    "    P, \"x\", twiss=twiss_calc(P.cov(\"x\", \"px\")), mass_normalize=False\n",
    ") / np.sqrt(P.mass)"
   ]
  },
  {
   "cell_type": "markdown",
   "metadata": {},
   "source": [
    "And is given as a property:"
   ]
  },
  {
   "cell_type": "code",
   "execution_count": null,
   "metadata": {
    "execution": {
     "iopub.execute_input": "2024-10-17T23:18:19.447258Z",
     "iopub.status.busy": "2024-10-17T23:18:19.447174Z",
     "iopub.status.idle": "2024-10-17T23:18:19.450253Z",
     "shell.execute_reply": "2024-10-17T23:18:19.450033Z"
    },
    "tags": []
   },
   "outputs": [],
   "source": [
    "P.x_bar"
   ]
  },
  {
   "cell_type": "markdown",
   "metadata": {},
   "source": [
    "The amplitude is defined as:"
   ]
  },
  {
   "cell_type": "code",
   "execution_count": null,
   "metadata": {
    "execution": {
     "iopub.execute_input": "2024-10-17T23:18:19.451424Z",
     "iopub.status.busy": "2024-10-17T23:18:19.451344Z",
     "iopub.status.idle": "2024-10-17T23:18:19.455872Z",
     "shell.execute_reply": "2024-10-17T23:18:19.455632Z"
    },
    "tags": []
   },
   "outputs": [],
   "source": [
    "(P.x_bar**2 + P.px_bar**2) / 2"
   ]
  },
  {
   "cell_type": "markdown",
   "metadata": {},
   "source": [
    "This is also given as a property:"
   ]
  },
  {
   "cell_type": "code",
   "execution_count": null,
   "metadata": {
    "execution": {
     "iopub.execute_input": "2024-10-17T23:18:19.457119Z",
     "iopub.status.busy": "2024-10-17T23:18:19.457042Z",
     "iopub.status.idle": "2024-10-17T23:18:19.460331Z",
     "shell.execute_reply": "2024-10-17T23:18:19.460131Z"
    },
    "tags": []
   },
   "outputs": [],
   "source": [
    "P.Jx"
   ]
  },
  {
   "cell_type": "markdown",
   "metadata": {},
   "source": [
    " Note the mass normalization is the same:"
   ]
  },
  {
   "cell_type": "code",
   "execution_count": null,
   "metadata": {
    "execution": {
     "iopub.execute_input": "2024-10-17T23:18:19.461504Z",
     "iopub.status.busy": "2024-10-17T23:18:19.461426Z",
     "iopub.status.idle": "2024-10-17T23:18:19.466511Z",
     "shell.execute_reply": "2024-10-17T23:18:19.466323Z"
    },
    "tags": []
   },
   "outputs": [],
   "source": [
    "P.Jx.mean(), P[\"mean_Jx\"], P[\"norm_emit_x\"]"
   ]
  },
  {
   "cell_type": "markdown",
   "metadata": {},
   "source": [
    "This is now nice and roundish:"
   ]
  },
  {
   "cell_type": "code",
   "execution_count": null,
   "metadata": {
    "execution": {
     "iopub.execute_input": "2024-10-17T23:18:19.467703Z",
     "iopub.status.busy": "2024-10-17T23:18:19.467631Z",
     "iopub.status.idle": "2024-10-17T23:18:19.873171Z",
     "shell.execute_reply": "2024-10-17T23:18:19.872901Z"
    },
    "tags": []
   },
   "outputs": [],
   "source": [
    "P.plot(\"x_bar\", \"px_bar\")"
   ]
  },
  {
   "cell_type": "markdown",
   "metadata": {},
   "source": [
    "Jy also works. This gives some sense of where the emittance is larger."
   ]
  },
  {
   "cell_type": "code",
   "execution_count": null,
   "metadata": {
    "execution": {
     "iopub.execute_input": "2024-10-17T23:18:19.875517Z",
     "iopub.status.busy": "2024-10-17T23:18:19.875410Z",
     "iopub.status.idle": "2024-10-17T23:18:20.232454Z",
     "shell.execute_reply": "2024-10-17T23:18:20.232190Z"
    },
    "tags": []
   },
   "outputs": [],
   "source": [
    "P.plot(\"t\", \"Jy\")"
   ]
  },
  {
   "cell_type": "markdown",
   "metadata": {},
   "source": [
    "Sort by Jx:"
   ]
  },
  {
   "cell_type": "code",
   "execution_count": null,
   "metadata": {
    "execution": {
     "iopub.execute_input": "2024-10-17T23:18:20.234111Z",
     "iopub.status.busy": "2024-10-17T23:18:20.234003Z",
     "iopub.status.idle": "2024-10-17T23:18:20.261404Z",
     "shell.execute_reply": "2024-10-17T23:18:20.261162Z"
    },
    "tags": []
   },
   "outputs": [],
   "source": [
    "P = P[np.argsort(P.Jx)]"
   ]
  },
  {
   "cell_type": "markdown",
   "metadata": {},
   "source": [
    "Now particles are ordered:"
   ]
  },
  {
   "cell_type": "code",
   "execution_count": null,
   "metadata": {
    "execution": {
     "iopub.execute_input": "2024-10-17T23:18:20.262791Z",
     "iopub.status.busy": "2024-10-17T23:18:20.262706Z",
     "iopub.status.idle": "2024-10-17T23:18:20.377057Z",
     "shell.execute_reply": "2024-10-17T23:18:20.376788Z"
    },
    "tags": []
   },
   "outputs": [],
   "source": [
    "plt.plot(P.Jx)"
   ]
  },
  {
   "cell_type": "markdown",
   "metadata": {},
   "source": [
    "This can be used to calculate the 95% emittance:"
   ]
  },
  {
   "cell_type": "code",
   "execution_count": null,
   "metadata": {
    "execution": {
     "iopub.execute_input": "2024-10-17T23:18:20.378444Z",
     "iopub.status.busy": "2024-10-17T23:18:20.378332Z",
     "iopub.status.idle": "2024-10-17T23:18:20.397508Z",
     "shell.execute_reply": "2024-10-17T23:18:20.397278Z"
    },
    "tags": []
   },
   "outputs": [],
   "source": [
    "P[0 : int(0.95 * len(P))][\"norm_emit_x\"]"
   ]
  },
  {
   "cell_type": "markdown",
   "metadata": {},
   "source": [
    "# Plot ellipse\n",
    "\n",
    "For convenience this function is available"
   ]
  },
  {
   "cell_type": "code",
   "execution_count": null,
   "metadata": {
    "execution": {
     "iopub.execute_input": "2024-10-17T23:18:20.398831Z",
     "iopub.status.busy": "2024-10-17T23:18:20.398749Z",
     "iopub.status.idle": "2024-10-17T23:18:20.526673Z",
     "shell.execute_reply": "2024-10-17T23:18:20.526411Z"
    }
   },
   "outputs": [],
   "source": [
    "x, p = twiss_ellipse_points(sigma_mat2, n_points=100)\n",
    "plt.plot(x, p, color=\"red\")\n",
    "plt.scatter(x, p, color=\"red\")"
   ]
  },
  {
   "cell_type": "markdown",
   "metadata": {},
   "source": [
    "# Simple 'matching'\n",
    "\n",
    "Often a beam needs to be 'matched' for tracking in some program.\n",
    "\n",
    "This is a 'faked' tranformation that ultimately would need to be realized by a focusing system."
   ]
  },
  {
   "cell_type": "code",
   "execution_count": null,
   "metadata": {
    "execution": {
     "iopub.execute_input": "2024-10-17T23:18:20.528016Z",
     "iopub.status.busy": "2024-10-17T23:18:20.527904Z",
     "iopub.status.idle": "2024-10-17T23:18:20.529931Z",
     "shell.execute_reply": "2024-10-17T23:18:20.529722Z"
    },
    "tags": []
   },
   "outputs": [],
   "source": [
    "def twiss_match(x, p, beta0=1, alpha0=0, beta1=1, alpha1=0):\n",
    "    \"\"\"\n",
    "    Simple Twiss matching.\n",
    "\n",
    "    Takes positions x and momenta p, and transforms them according to\n",
    "    initial Twiss parameters:\n",
    "        beta0, alpha0\n",
    "    into final  Twiss parameters:\n",
    "        beta1, alpha1\n",
    "\n",
    "    This is simply the matrix ransformation:\n",
    "        xnew  = (   sqrt(beta1/beta0)                  0                 ) . ( x )\n",
    "        pnew    (  (alpha0-alpha1)/sqrt(beta0*beta1)   sqrt(beta0/beta1) )   ( p )\n",
    "\n",
    "\n",
    "    Returns new x, p\n",
    "\n",
    "    \"\"\"\n",
    "    m11 = np.sqrt(beta1 / beta0)\n",
    "    m21 = (alpha0 - alpha1) / np.sqrt(beta0 * beta1)\n",
    "\n",
    "    xnew = x * m11\n",
    "    pnew = x * m21 + p / m11\n",
    "\n",
    "    return xnew, pnew"
   ]
  },
  {
   "cell_type": "markdown",
   "metadata": {},
   "source": [
    "Get some Twiss:"
   ]
  },
  {
   "cell_type": "code",
   "execution_count": null,
   "metadata": {
    "execution": {
     "iopub.execute_input": "2024-10-17T23:18:20.531236Z",
     "iopub.status.busy": "2024-10-17T23:18:20.531131Z",
     "iopub.status.idle": "2024-10-17T23:18:20.534356Z",
     "shell.execute_reply": "2024-10-17T23:18:20.534114Z"
    },
    "tags": []
   },
   "outputs": [],
   "source": [
    "T0 = twiss_calc(P.cov(\"x\", \"xp\"))\n",
    "T0"
   ]
  },
  {
   "cell_type": "markdown",
   "metadata": {},
   "source": [
    " Make a copy and maniplulate:"
   ]
  },
  {
   "cell_type": "code",
   "execution_count": null,
   "metadata": {
    "execution": {
     "iopub.execute_input": "2024-10-17T23:18:20.535552Z",
     "iopub.status.busy": "2024-10-17T23:18:20.535459Z",
     "iopub.status.idle": "2024-10-17T23:18:20.538669Z",
     "shell.execute_reply": "2024-10-17T23:18:20.538434Z"
    },
    "tags": []
   },
   "outputs": [],
   "source": [
    "P2 = P.copy()\n",
    "P2.x, P2.px = twiss_match(\n",
    "    P.x, P.px / P[\"mean_p\"], beta0=T0[\"beta\"], alpha0=T0[\"alpha\"], beta1=9, alpha1=-2\n",
    ")\n",
    "P2.px *= P[\"mean_p\"]"
   ]
  },
  {
   "cell_type": "code",
   "execution_count": null,
   "metadata": {
    "execution": {
     "iopub.execute_input": "2024-10-17T23:18:20.539951Z",
     "iopub.status.busy": "2024-10-17T23:18:20.539870Z",
     "iopub.status.idle": "2024-10-17T23:18:20.542929Z",
     "shell.execute_reply": "2024-10-17T23:18:20.542716Z"
    },
    "tags": []
   },
   "outputs": [],
   "source": [
    "twiss_calc(P2.cov(\"x\", \"xp\"))"
   ]
  },
  {
   "cell_type": "markdown",
   "metadata": {},
   "source": [
    "This is a dedicated routine:"
   ]
  },
  {
   "cell_type": "code",
   "execution_count": null,
   "metadata": {
    "execution": {
     "iopub.execute_input": "2024-10-17T23:18:20.544113Z",
     "iopub.status.busy": "2024-10-17T23:18:20.544036Z",
     "iopub.status.idle": "2024-10-17T23:18:20.558918Z",
     "shell.execute_reply": "2024-10-17T23:18:20.558677Z"
    },
    "tags": []
   },
   "outputs": [],
   "source": [
    "def matched_particles(\n",
    "    particle_group, beta=None, alpha=None, plane=\"x\", p0c=None, inplace=False\n",
    "):\n",
    "    \"\"\"\n",
    "    Perfoms simple Twiss 'matching' by applying a linear transformation to\n",
    "        x, px if plane == 'x', or x, py if plane == 'y'\n",
    "\n",
    "    Returns a new ParticleGroup\n",
    "\n",
    "    If inplace, a copy will not be made, and changes will be done in place.\n",
    "\n",
    "    \"\"\"\n",
    "\n",
    "    assert plane in (\"x\", \"y\"), f\"Invalid plane: {plane}\"\n",
    "\n",
    "    if inplace:\n",
    "        P = particle_group\n",
    "    else:\n",
    "        P = particle_group.copy()\n",
    "\n",
    "    if not p0c:\n",
    "        p0c = P[\"mean_p\"]\n",
    "\n",
    "    # Use Bmad-style coordinates.\n",
    "    # Get plane.\n",
    "    if plane == \"x\":\n",
    "        x = P.x\n",
    "        p = P.px / p0c\n",
    "    else:\n",
    "        x = P.y\n",
    "        p = P.py / p0c\n",
    "\n",
    "    # Get current Twiss\n",
    "    tx = twiss_calc(np.cov(x, p, aweights=P.weight))\n",
    "\n",
    "    # If not specified, just fill in the current value.\n",
    "    if alpha is None:\n",
    "        alpha = tx[\"alpha\"]\n",
    "    if beta is None:\n",
    "        beta = tx[\"beta\"]\n",
    "\n",
    "    # New coordinates\n",
    "    xnew, pnew = twiss_match(\n",
    "        x, p, beta0=tx[\"beta\"], alpha0=tx[\"alpha\"], beta1=beta, alpha1=alpha\n",
    "    )\n",
    "\n",
    "    # Set\n",
    "    if plane == \"x\":\n",
    "        P.x = xnew\n",
    "        P.px = pnew * p0c\n",
    "    else:\n",
    "        P.y = xnew\n",
    "        P.py = pnew * p0c\n",
    "\n",
    "    return P\n",
    "\n",
    "\n",
    "# Check\n",
    "P3 = matched_particles(P, beta=None, alpha=-4, plane=\"y\")\n",
    "P.twiss(plane=\"y\"), P3.twiss(plane=\"y\")"
   ]
  },
  {
   "cell_type": "markdown",
   "metadata": {},
   "source": [
    "These functions are in statistics:"
   ]
  },
  {
   "cell_type": "code",
   "execution_count": null,
   "metadata": {
    "execution": {
     "iopub.execute_input": "2024-10-17T23:18:20.560329Z",
     "iopub.status.busy": "2024-10-17T23:18:20.560249Z",
     "iopub.status.idle": "2024-10-17T23:18:20.561873Z",
     "shell.execute_reply": "2024-10-17T23:18:20.561663Z"
    },
    "tags": []
   },
   "outputs": [],
   "source": [
    "from pmd_beamphysics.statistics import twiss_match, matched_particles"
   ]
  }
 ],
 "metadata": {
  "kernelspec": {
   "display_name": "Python 3 (ipykernel)",
   "language": "python",
   "name": "python3"
  },
  "language_info": {
   "codemirror_mode": {
    "name": "ipython",
    "version": 3
   },
   "file_extension": ".py",
   "mimetype": "text/x-python",
   "name": "python",
   "nbconvert_exporter": "python",
   "pygments_lexer": "ipython3",
   "version": "3.12.7"
  }
 },
 "nbformat": 4,
 "nbformat_minor": 4
}
