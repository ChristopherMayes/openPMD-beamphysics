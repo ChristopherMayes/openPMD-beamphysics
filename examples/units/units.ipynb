{
 "cells": [
  {
   "cell_type": "markdown",
   "metadata": {},
   "source": [
    "# Units\n",
    "\n",
    "This package provides unit conversion tools "
   ]
  },
  {
   "cell_type": "code",
   "execution_count": 1,
   "metadata": {
    "execution": {
     "iopub.execute_input": "2022-09-09T01:05:23.453291Z",
     "iopub.status.busy": "2022-09-09T01:05:23.452821Z",
     "iopub.status.idle": "2022-09-09T01:05:23.469833Z",
     "shell.execute_reply": "2022-09-09T01:05:23.469194Z"
    }
   },
   "outputs": [],
   "source": [
    "# Useful for debugging\n",
    "%load_ext autoreload\n",
    "%autoreload 2"
   ]
  },
  {
   "cell_type": "code",
   "execution_count": 2,
   "metadata": {
    "execution": {
     "iopub.execute_input": "2022-09-09T01:05:23.473380Z",
     "iopub.status.busy": "2022-09-09T01:05:23.472810Z",
     "iopub.status.idle": "2022-09-09T01:05:24.305752Z",
     "shell.execute_reply": "2022-09-09T01:05:24.304893Z"
    }
   },
   "outputs": [],
   "source": [
    "from pmd_beamphysics import particle_paths\n",
    "from pmd_beamphysics.units import pmd_unit, dimension_name, sqrt_unit, known_unit, multiply_units\n",
    "from h5py import File\n",
    "import numpy as np"
   ]
  },
  {
   "cell_type": "code",
   "execution_count": 3,
   "metadata": {
    "execution": {
     "iopub.execute_input": "2022-09-09T01:05:24.310952Z",
     "iopub.status.busy": "2022-09-09T01:05:24.310108Z",
     "iopub.status.idle": "2022-09-09T01:05:24.373614Z",
     "shell.execute_reply": "2022-09-09T01:05:24.372797Z"
    }
   },
   "outputs": [],
   "source": [
    "# This is the basic class.\n",
    "?pmd_unit"
   ]
  },
  {
   "cell_type": "code",
   "execution_count": 4,
   "metadata": {
    "execution": {
     "iopub.execute_input": "2022-09-09T01:05:24.377605Z",
     "iopub.status.busy": "2022-09-09T01:05:24.377177Z",
     "iopub.status.idle": "2022-09-09T01:05:24.396600Z",
     "shell.execute_reply": "2022-09-09T01:05:24.395920Z"
    }
   },
   "outputs": [
    {
     "data": {
      "text/plain": [
       "(pmd_unit('J', 1, (2, 1, -2, 0, 0, 0, 0)),\n",
       " pmd_unit('m', 1, (1, 0, 0, 0, 0, 0, 0)),\n",
       " pmd_unit('J/m', 1.0, (1, 1, -2, 0, 0, 0, 0)),\n",
       " pmd_unit('J*m', 1, (3, 1, -2, 0, 0, 0, 0)))"
      ]
     },
     "execution_count": 4,
     "metadata": {},
     "output_type": "execute_result"
    }
   ],
   "source": [
    "# Get a known units. These can be multiplied and divided\n",
    "u1 = known_unit['J']\n",
    "u2 = known_unit['m']\n",
    "u1, u2, u1/u2, u1*u2"
   ]
  },
  {
   "cell_type": "code",
   "execution_count": 5,
   "metadata": {
    "execution": {
     "iopub.execute_input": "2022-09-09T01:05:24.440115Z",
     "iopub.status.busy": "2022-09-09T01:05:24.439435Z",
     "iopub.status.idle": "2022-09-09T01:05:24.458318Z",
     "shell.execute_reply": "2022-09-09T01:05:24.457500Z"
    }
   },
   "outputs": [
    {
     "data": {
      "text/plain": [
       "pmd_unit('\\sqrt{ J }', 1.0, (1.0, 0.5, -1.0, 0.0, 0.0, 0.0, 0.0))"
      ]
     },
     "execution_count": 5,
     "metadata": {},
     "output_type": "execute_result"
    }
   ],
   "source": [
    "# Special function for sqrt\n",
    "sqrt_unit(u1)"
   ]
  },
  {
   "cell_type": "markdown",
   "metadata": {},
   "source": [
    "# openPMD hdf5 units"
   ]
  },
  {
   "cell_type": "code",
   "execution_count": 6,
   "metadata": {
    "execution": {
     "iopub.execute_input": "2022-09-09T01:05:24.462213Z",
     "iopub.status.busy": "2022-09-09T01:05:24.461607Z",
     "iopub.status.idle": "2022-09-09T01:05:24.479341Z",
     "shell.execute_reply": "2022-09-09T01:05:24.478657Z"
    }
   },
   "outputs": [
    {
     "name": "stdout",
     "output_type": "stream",
     "text": [
      "['//']\n"
     ]
    },
    {
     "data": {
      "text/plain": [
       "['momentum', 'particleStatus', 'position', 'time', 'weight']"
      ]
     },
     "execution_count": 6,
     "metadata": {},
     "output_type": "execute_result"
    }
   ],
   "source": [
    "# Open a file, find the particle paths from the root attributes\n",
    "# Pick one:\n",
    "#H5FILE = 'data/bmad_particles.h5'\n",
    "H5FILE = 'data/distgen_particles.h5'\n",
    "#H5FILE = 'data/astra_particles.h5'\n",
    "h5 = File(H5FILE, 'r')\n",
    "\n",
    "ppaths = particle_paths(h5)\n",
    "print(ppaths)\n",
    "# This points to a partigle group\n",
    "ph5 = h5[ppaths[0]]\n",
    "list(ph5)"
   ]
  },
  {
   "cell_type": "code",
   "execution_count": 7,
   "metadata": {
    "execution": {
     "iopub.execute_input": "2022-09-09T01:05:24.482978Z",
     "iopub.status.busy": "2022-09-09T01:05:24.482423Z",
     "iopub.status.idle": "2022-09-09T01:05:24.497649Z",
     "shell.execute_reply": "2022-09-09T01:05:24.496976Z"
    }
   },
   "outputs": [
    {
     "data": {
      "text/plain": [
       "{'unitDimension': array([ 1,  1, -1,  0,  0,  0,  0]),\n",
       " 'unitSI': 5.344285992678308e-28,\n",
       " 'unitSymbol': 'eV/c'}"
      ]
     },
     "execution_count": 7,
     "metadata": {},
     "output_type": "execute_result"
    }
   ],
   "source": [
    "# Each component should have a dimension and a conversion factor to SI:\n",
    "d = dict(ph5['momentum/x'].attrs)\n",
    "d"
   ]
  },
  {
   "cell_type": "code",
   "execution_count": 8,
   "metadata": {
    "execution": {
     "iopub.execute_input": "2022-09-09T01:05:24.500845Z",
     "iopub.status.busy": "2022-09-09T01:05:24.500254Z",
     "iopub.status.idle": "2022-09-09T01:05:24.513545Z",
     "shell.execute_reply": "2022-09-09T01:05:24.512875Z"
    }
   },
   "outputs": [
    {
     "data": {
      "text/plain": [
       "(1, 1, -1, 0, 0, 0, 0)"
      ]
     },
     "execution_count": 8,
     "metadata": {},
     "output_type": "execute_result"
    }
   ],
   "source": [
    "tuple(d['unitDimension'])"
   ]
  },
  {
   "cell_type": "code",
   "execution_count": 9,
   "metadata": {
    "execution": {
     "iopub.execute_input": "2022-09-09T01:05:24.516956Z",
     "iopub.status.busy": "2022-09-09T01:05:24.516351Z",
     "iopub.status.idle": "2022-09-09T01:05:24.529112Z",
     "shell.execute_reply": "2022-09-09T01:05:24.528421Z"
    }
   },
   "outputs": [
    {
     "data": {
      "text/plain": [
       "'momentum'"
      ]
     },
     "execution_count": 9,
     "metadata": {},
     "output_type": "execute_result"
    }
   ],
   "source": [
    "# This will extract the name of this dimension\n",
    "\n",
    "dimension_name(d['unitDimension'])"
   ]
  },
  {
   "cell_type": "markdown",
   "metadata": {},
   "source": [
    "# Nice arrays"
   ]
  },
  {
   "cell_type": "code",
   "execution_count": 10,
   "metadata": {
    "execution": {
     "iopub.execute_input": "2022-09-09T01:05:24.532527Z",
     "iopub.status.busy": "2022-09-09T01:05:24.531995Z",
     "iopub.status.idle": "2022-09-09T01:05:24.543808Z",
     "shell.execute_reply": "2022-09-09T01:05:24.543203Z"
    }
   },
   "outputs": [],
   "source": [
    "from pmd_beamphysics.units import nice_array\n"
   ]
  },
  {
   "cell_type": "code",
   "execution_count": 11,
   "metadata": {
    "execution": {
     "iopub.execute_input": "2022-09-09T01:05:24.546867Z",
     "iopub.status.busy": "2022-09-09T01:05:24.546474Z",
     "iopub.status.idle": "2022-09-09T01:05:24.559149Z",
     "shell.execute_reply": "2022-09-09T01:05:24.558542Z"
    }
   },
   "outputs": [
    {
     "data": {
      "text/plain": [
       "(100.00000000000001, 1e-06, 'µ')"
      ]
     },
     "execution_count": 11,
     "metadata": {},
     "output_type": "execute_result"
    }
   ],
   "source": [
    "# This will scale the array, and return the appropriate SI prefix\n",
    "\n",
    "x = 1e-4\n",
    "unit = 'm'\n",
    "nice_array(x)"
   ]
  },
  {
   "cell_type": "code",
   "execution_count": 12,
   "metadata": {
    "execution": {
     "iopub.execute_input": "2022-09-09T01:05:24.562036Z",
     "iopub.status.busy": "2022-09-09T01:05:24.561802Z",
     "iopub.status.idle": "2022-09-09T01:05:24.575223Z",
     "shell.execute_reply": "2022-09-09T01:05:24.574532Z"
    }
   },
   "outputs": [
    {
     "data": {
      "text/plain": [
       "(array([-10.,  10.]), 0.001, 'm')"
      ]
     },
     "execution_count": 12,
     "metadata": {},
     "output_type": "execute_result"
    }
   ],
   "source": [
    "nice_array([-0.01, 0.01])"
   ]
  },
  {
   "cell_type": "code",
   "execution_count": 13,
   "metadata": {
    "execution": {
     "iopub.execute_input": "2022-09-09T01:05:24.578559Z",
     "iopub.status.busy": "2022-09-09T01:05:24.578329Z",
     "iopub.status.idle": "2022-09-09T01:05:24.590766Z",
     "shell.execute_reply": "2022-09-09T01:05:24.589649Z"
    }
   },
   "outputs": [],
   "source": [
    "from pmd_beamphysics.units import nice_scale_prefix"
   ]
  },
  {
   "cell_type": "code",
   "execution_count": 14,
   "metadata": {
    "execution": {
     "iopub.execute_input": "2022-09-09T01:05:24.593672Z",
     "iopub.status.busy": "2022-09-09T01:05:24.593263Z",
     "iopub.status.idle": "2022-09-09T01:05:24.606549Z",
     "shell.execute_reply": "2022-09-09T01:05:24.605517Z"
    }
   },
   "outputs": [
    {
     "data": {
      "text/plain": [
       "(0.001, 'm')"
      ]
     },
     "execution_count": 14,
     "metadata": {},
     "output_type": "execute_result"
    }
   ],
   "source": [
    "nice_scale_prefix(0.009)"
   ]
  },
  {
   "cell_type": "markdown",
   "metadata": {},
   "source": [
    "# Limitations\n",
    "\n",
    "This is a simple class for use with this package. So even simple things like the example below will fail. \n",
    "\n",
    "For more advanced units, use a package like Pint: https://pint.readthedocs.io/\n"
   ]
  },
  {
   "cell_type": "code",
   "execution_count": 15,
   "metadata": {
    "execution": {
     "iopub.execute_input": "2022-09-09T01:05:24.610644Z",
     "iopub.status.busy": "2022-09-09T01:05:24.609439Z",
     "iopub.status.idle": "2022-09-09T01:05:24.624019Z",
     "shell.execute_reply": "2022-09-09T01:05:24.623267Z"
    }
   },
   "outputs": [
    {
     "name": "stdout",
     "output_type": "stream",
     "text": [
      "you cannot do this\n"
     ]
    }
   ],
   "source": [
    "try:\n",
    "    u1/1\n",
    "except:\n",
    "    print('you cannot do this')\n",
    "    \n"
   ]
  }
 ],
 "metadata": {
  "kernelspec": {
   "display_name": "Python 3 (ipykernel)",
   "language": "python",
   "name": "python3"
  },
  "language_info": {
   "codemirror_mode": {
    "name": "ipython",
    "version": 3
   },
   "file_extension": ".py",
   "mimetype": "text/x-python",
   "name": "python",
   "nbconvert_exporter": "python",
   "pygments_lexer": "ipython3",
   "version": "3.9.13"
  }
 },
 "nbformat": 4,
 "nbformat_minor": 4
}
