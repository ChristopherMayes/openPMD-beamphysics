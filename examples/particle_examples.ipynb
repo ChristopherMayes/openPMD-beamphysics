{
 "cells": [
  {
   "cell_type": "code",
   "execution_count": 1,
   "metadata": {},
   "outputs": [],
   "source": [
    "# Useful for debugging\n",
    "%load_ext autoreload\n",
    "%autoreload 2"
   ]
  },
  {
   "cell_type": "markdown",
   "metadata": {},
   "source": [
    "# openPMD beamphysics examples"
   ]
  },
  {
   "cell_type": "code",
   "execution_count": 2,
   "metadata": {},
   "outputs": [],
   "source": [
    "from pmd_beamphysics import ParticleGroup,  particle_paths\n",
    "from pmd_beamphysics.readers import all_components, component_str\n",
    "\n",
    "from h5py import File\n",
    "import numpy as np\n",
    "import os"
   ]
  },
  {
   "cell_type": "code",
   "execution_count": 3,
   "metadata": {},
   "outputs": [
    {
     "data": {
      "text/plain": [
       "'//'"
      ]
     },
     "execution_count": 3,
     "metadata": {},
     "output_type": "execute_result"
    }
   ],
   "source": [
    "# Open a file, fine the particle paths from the root attributes\n",
    "# Pick one:\n",
    "#H5FILE = 'data/bmad_particles.h5'\n",
    "H5FILE = 'data/distgen_particles.h5'\n",
    "#H5FILE = 'data/astra_particles.h5'\n",
    "h5 = File(H5FILE, 'r')\n",
    "\n",
    "\n",
    "ppaths = particle_paths(h5)\n",
    "ppaths"
   ]
  },
  {
   "cell_type": "code",
   "execution_count": 4,
   "metadata": {},
   "outputs": [
    {
     "data": {
      "text/plain": [
       "['momentum', 'particleStatus', 'position', 'time', 'weight']"
      ]
     },
     "execution_count": 4,
     "metadata": {},
     "output_type": "execute_result"
    }
   ],
   "source": [
    "# Point to particles\n",
    "ph5 = h5[ppaths[0]]\n",
    "list(ph5)"
   ]
  },
  {
   "cell_type": "code",
   "execution_count": 5,
   "metadata": {},
   "outputs": [
    {
     "data": {
      "text/plain": [
       "['momentum/x',\n",
       " 'momentum/y',\n",
       " 'momentum/z',\n",
       " 'particleStatus',\n",
       " 'position/x',\n",
       " 'position/y',\n",
       " 'position/z',\n",
       " 'time',\n",
       " 'weight']"
      ]
     },
     "execution_count": 5,
     "metadata": {},
     "output_type": "execute_result"
    }
   ],
   "source": [
    "# Search for all valid components\n",
    "all_components(ph5)"
   ]
  },
  {
   "cell_type": "code",
   "execution_count": 6,
   "metadata": {},
   "outputs": [
    {
     "name": "stdout",
     "output_type": "stream",
     "text": [
      "momentum/x [10000 items] is a momentum with units: kg*m/s\n",
      "momentum/y [10000 items] is a momentum with units: kg*m/s\n",
      "momentum/z [10000 items] is a momentum with units: kg*m/s\n",
      "particleStatus [constant 1 with shape [10000]]\n",
      "position/x [10000 items] is a length with units: m\n",
      "position/y [10000 items] is a length with units: m\n",
      "position/z [constant 0.0 with shape [10000]] is a length with units: m\n",
      "time [10000 items] is a time with units: s\n",
      "weight [constant 1e-15 with shape [10000]] is a charge with units: C\n"
     ]
    }
   ],
   "source": [
    "# Get some info\n",
    "for component in all_components(ph5):\n",
    "    info = component_str(ph5, component)\n",
    "    print(info)"
   ]
  },
  {
   "cell_type": "markdown",
   "metadata": {},
   "source": [
    "# ParticleGroup class"
   ]
  },
  {
   "cell_type": "code",
   "execution_count": 7,
   "metadata": {},
   "outputs": [],
   "source": [
    "# Parse all these into a class\n",
    "P = ParticleGroup(ph5)"
   ]
  },
  {
   "cell_type": "code",
   "execution_count": 8,
   "metadata": {},
   "outputs": [
    {
     "data": {
      "text/plain": [
       "\u001b[0;31mType:\u001b[0m        ParticleGroup\n",
       "\u001b[0;31mString form:\u001b[0m ParticleGroup with 10000 particles with total charge 1.0000000000000003e-11 C\n",
       "\u001b[0;31mFile:\u001b[0m        ~/Code/GitHub/openPMD-beamphysics/pmd_beamphysics/particles.py\n",
       "\u001b[0;31mDocstring:\u001b[0m  \n",
       "Particle Group class\n",
       "\n",
       "Initialized on on openPMD beamphysics particle group.\n",
       "\n",
       "The fundamental bunch data is stored in __dict__ with keys\n",
       "    str: species\n",
       "    int: n_particle\n",
       "    np.array: x, px, y, py, z, pz, t, status, weight\n",
       "where:\n",
       "    x, y, z are positions in units of [m]\n",
       "    px, py, pz are momenta in units of [eV/c]\n",
       "    t is time in [s]\n",
       "    weight is the macro-charge weight in [C], used for all statistical calulations.\n",
       "    \n",
       "Derived data can be computed as attributes:\n",
       "    .gamma, .beta, .beta_x, .beta_y, .beta_z: relativistic factors [1].\n",
       "    .energy : total energy [eV]\n",
       "    .kinetic_energy: total energy - mc^2 in [eV]. \n",
       "    .p: total momentum in [eV/c]\n",
       "    .mass: rest mass in [eV]\n",
       "    .xp, .yp: Slopes x' = dx/dz = dpx/dpz and y' = dy/dz = fpy/dpz [1].\n",
       "    \n",
       "Statistics of any of these are calculated with:\n",
       "    .min(X)\n",
       "    .max(X)\n",
       "    .ptp(X)\n",
       "    .avg(X)\n",
       "    .std(X)\n",
       "    .cov(X, Y, ...)\n",
       "    with a string X as the name any of the properties above.\n",
       "    \n",
       "Useful beam physics quantities are given as attributes:\n",
       "    .norm_emit_x\n",
       "    .norm_emit_y\n",
       "    .higher_order_energy_spread\n",
       "    .average_current\n",
       "        \n",
       "All attributes can be accessed with brackets:\n",
       "    [key]\n",
       "Additional keys are allowed for convenience:\n",
       "    ['min_prop']   will return  .min('prop')\n",
       "    ['max_prop']   will return  .max('prop')\n",
       "    ['ptp_prop']   will return  .ptp('prop')\n",
       "    ['mean_prop']  will return  .avg('prop')\n",
       "    ['sigma_prop'] will return  .std('prop')\n",
       "    ['cov_prop1__prop2'] will return .cov('prop1', 'prop2')[0,1]\n",
       "    \n",
       "Units for all attributes can be accessed by:\n",
       "    .units(key)\n",
       "\n",
       "Particles are often stored at the same time (i.e. from a t-based code), \n",
       "or with the same z position (i.e. from an s-based code.)\n",
       "Routines: \n",
       "    drift_to_z(z0)\n",
       "    drift_to_t(t0)\n",
       "help to convert these. If no argument is given, particles will be drifted to the mean.\n",
       "    \n"
      ]
     },
     "metadata": {},
     "output_type": "display_data"
    }
   ],
   "source": [
    "?P"
   ]
  },
  {
   "cell_type": "code",
   "execution_count": 9,
   "metadata": {},
   "outputs": [
    {
     "data": {
      "text/plain": [
       "array([-0.00118486, -0.00051813, -0.0017735 , ..., -0.00052658,\n",
       "        0.00252813,  0.00113815])"
      ]
     },
     "execution_count": 9,
     "metadata": {},
     "output_type": "execute_result"
    }
   ],
   "source": [
    "# x positions, in meters\n",
    "P.x"
   ]
  },
  {
   "cell_type": "code",
   "execution_count": 10,
   "metadata": {},
   "outputs": [
    {
     "data": {
      "text/plain": [
       "array([1.00000038, 1.00000074, 1.00000012, ..., 1.00000018, 1.00000039,\n",
       "       1.00000044])"
      ]
     },
     "execution_count": 10,
     "metadata": {},
     "output_type": "execute_result"
    }
   ],
   "source": [
    "# relativistic gamma, calculated on the fly\n",
    "P.gamma"
   ]
  },
  {
   "cell_type": "code",
   "execution_count": 11,
   "metadata": {},
   "outputs": [
    {
     "data": {
      "text/plain": [
       "(1.0000004405134006, 187.3758567627587)"
      ]
     },
     "execution_count": 11,
     "metadata": {},
     "output_type": "execute_result"
    }
   ],
   "source": [
    "# Statistics on any of these. Note that these properly use the .weight array. \n",
    "P.avg('gamma'), P.std('p')"
   ]
  },
  {
   "cell_type": "code",
   "execution_count": 12,
   "metadata": {},
   "outputs": [
    {
     "data": {
      "text/plain": [
       "array([[ 4.03109710e-06, -8.41425581e-03, -3.32976104e-08,\n",
       "         1.42671675e-04],\n",
       "       [-8.41425581e-03,  7.57940690e+04, -4.72281336e-03,\n",
       "        -9.10354343e-01],\n",
       "       [-3.32976104e-08, -4.72281336e-03,  3.90969742e-06,\n",
       "        -6.21801644e-06],\n",
       "       [ 1.42671675e-04, -9.10354343e-01, -6.21801644e-06,\n",
       "         3.37638958e-02]])"
      ]
     },
     "execution_count": 12,
     "metadata": {},
     "output_type": "execute_result"
    }
   ],
   "source": [
    "# Covariance matrix of any list of keys\n",
    "P.cov('x', 'px', 'y', 'kinetic_energy')"
   ]
  },
  {
   "cell_type": "code",
   "execution_count": 13,
   "metadata": {},
   "outputs": [
    {
     "data": {
      "text/plain": [
       "(0.0020076588340617774,\n",
       " 0.183740358638462,\n",
       " -0.00832584342723264,\n",
       " 1.0815806511165722e-06)"
      ]
     },
     "execution_count": 13,
     "metadata": {},
     "output_type": "execute_result"
    }
   ],
   "source": [
    "# These can all be accessed with brackets. sigma_ and mean_ are also allowed\n",
    "P['sigma_x'], P['sigma_energy'], P['min_y'], P['norm_emit_x']"
   ]
  },
  {
   "cell_type": "code",
   "execution_count": 14,
   "metadata": {},
   "outputs": [
    {
     "data": {
      "text/plain": [
       "0.00014267167501078306"
      ]
     },
     "execution_count": 14,
     "metadata": {},
     "output_type": "execute_result"
    }
   ],
   "source": [
    "# Covariance has a special syntax, items separated by __\n",
    "P['cov_x__kinetic_energy']"
   ]
  },
  {
   "cell_type": "code",
   "execution_count": 15,
   "metadata": {},
   "outputs": [
    {
     "data": {
      "text/plain": [
       "(pmd_unit('m', 1, (1, 0, 0, 0, 0, 0, 0)),\n",
       " pmd_unit('eV', 1.602176634e-19, (2, 1, -2, 0, 0, 0, 0)),\n",
       " pmd_unit('m', 1, (1, 0, 0, 0, 0, 0, 0)),\n",
       " pmd_unit('m*eV', 1.602176634e-19, (3, 1, -2, 0, 0, 0, 0)))"
      ]
     },
     "execution_count": 15,
     "metadata": {},
     "output_type": "execute_result"
    }
   ],
   "source": [
    "# Units can be retrieved from any computable quantitiy.\n",
    "# These are returned as a pmd_unit type.\n",
    "P.units('x'), P.units('energy'), P.units('norm_emit_x'), P.units('cov_x__kinetic_energy')"
   ]
  },
  {
   "cell_type": "code",
   "execution_count": 16,
   "metadata": {},
   "outputs": [
    {
     "data": {
      "text/plain": [
       "pmd_unit('eV', 1.602176634e-19, (2, 1, -2, 0, 0, 0, 0))"
      ]
     },
     "execution_count": 16,
     "metadata": {},
     "output_type": "execute_result"
    }
   ],
   "source": [
    "P.units('mean_energy')"
   ]
  },
  {
   "cell_type": "code",
   "execution_count": 17,
   "metadata": {},
   "outputs": [
    {
     "data": {
      "text/plain": [
       "'m*eV'"
      ]
     },
     "execution_count": 17,
     "metadata": {},
     "output_type": "execute_result"
    }
   ],
   "source": [
    "# \n",
    "str(P.units('cov_x__kinetic_energy'))"
   ]
  },
  {
   "cell_type": "code",
   "execution_count": 18,
   "metadata": {},
   "outputs": [
    {
     "data": {
      "text/plain": [
       "(0.0, 1.1604707204886252e-12)"
      ]
     },
     "execution_count": 18,
     "metadata": {},
     "output_type": "execute_result"
    }
   ],
   "source": [
    "# These particles are from Bmad, at the same z and different times\n",
    "P.std('z'), P.std('t')"
   ]
  },
  {
   "cell_type": "code",
   "execution_count": 19,
   "metadata": {},
   "outputs": [
    {
     "data": {
      "text/plain": [
       "1.8196640012738955e-14"
      ]
     },
     "execution_count": 19,
     "metadata": {},
     "output_type": "execute_result"
    }
   ],
   "source": [
    "# Get the central time\n",
    "t0 = P.avg('t')\n",
    "t0"
   ]
  },
  {
   "cell_type": "code",
   "execution_count": 20,
   "metadata": {},
   "outputs": [],
   "source": [
    "# Drift all particles to this time\n",
    "P.drift_to_t(t0)"
   ]
  },
  {
   "cell_type": "code",
   "execution_count": 21,
   "metadata": {},
   "outputs": [
    {
     "data": {
      "text/plain": [
       "(1.888210820118101e-07, 1.819664001273895e-14, {1.8196640012738955e-14})"
      ]
     },
     "execution_count": 21,
     "metadata": {},
     "output_type": "execute_result"
    }
   ],
   "source": [
    "# Now these are at different z, and the same t\n",
    "P.std('z'), P.avg('t'), set(P.t)"
   ]
  },
  {
   "cell_type": "markdown",
   "metadata": {},
   "source": [
    "# Writing"
   ]
  },
  {
   "cell_type": "code",
   "execution_count": 22,
   "metadata": {},
   "outputs": [],
   "source": [
    "newh5file = 'particles.h5'\n",
    "\n",
    "with File(newh5file, 'w') as h5:\n",
    "    P.write(h5)\n",
    "    \n",
    "with File(newh5file, 'r') as h5:\n",
    "    P2 = ParticleGroup(h5)    "
   ]
  },
  {
   "cell_type": "code",
   "execution_count": 23,
   "metadata": {},
   "outputs": [
    {
     "name": "stdout",
     "output_type": "stream",
     "text": [
      "x True\n",
      "px True\n",
      "y True\n",
      "py True\n",
      "z True\n",
      "pz True\n",
      "t True\n",
      "status True\n",
      "weight True\n"
     ]
    }
   ],
   "source": [
    "# Check if all are the same\n",
    "for key in ['x', 'px', 'y', 'py', 'z', 'pz', 't', 'status', 'weight']:\n",
    "    same = np.all(P[key] == P2[key])\n",
    "    print(key, same)"
   ]
  },
  {
   "cell_type": "code",
   "execution_count": 24,
   "metadata": {},
   "outputs": [],
   "source": [
    "# Write Astra-style particles\n",
    "P.write_astra('astra.dat')"
   ]
  },
  {
   "cell_type": "code",
   "execution_count": 25,
   "metadata": {},
   "outputs": [
    {
     "name": "stdout",
     "output_type": "stream",
     "text": [
      " -1.289719536974e-05   1.712460463101e-05  -1.014702487802e-09  -9.245284702413e-01  -3.316650265292e+00   2.210558337183e+02   1.819664001274e-05   0.000000000000e+00    1   -1\n",
      "  1.003829639341e-03   0.000000000000e+00   1.014702487802e-09   0.000000000000e+00   0.000000000000e+00   0.000000000000e+00   3.155443620884e-30   0.000000000000e+00    1   -3\n",
      "  0.000000000000e+00   9.885994047256e-04   1.014702487802e-09   0.000000000000e+00   0.000000000000e+00   0.000000000000e+00  -3.155443620884e-30   0.000000000000e+00    1   -3\n",
      "  2.007659278682e-03   0.000000000000e+00   1.014702487802e-09   0.000000000000e+00   0.000000000000e+00   0.000000000000e+00   6.310887241768e-30   0.000000000000e+00    1   -3\n",
      "  0.000000000000e+00   1.977198809451e-03   1.014702487802e-09   0.000000000000e+00   0.000000000000e+00   0.000000000000e+00  -6.310887241768e-30   0.000000000000e+00    1   -3\n",
      "  3.011488918022e-03   0.000000000000e+00   1.014702487802e-09   0.000000000000e+00   0.000000000000e+00   0.000000000000e+00   9.466330862652e-30   0.000000000000e+00    1   -3\n",
      "  0.000000000000e+00   2.965798214177e-03   1.014702487802e-09   0.000000000000e+00   0.000000000000e+00   0.000000000000e+00  -9.466330862652e-30   0.000000000000e+00    1   -3\n",
      " -1.185035553809e-03  -2.101545212762e-03   6.990608713662e-08  -3.047044656318e+02  -3.039342419008e+02  -1.005645891013e+02   6.776263578034e-21   1.000000000000e-06    1   -1\n",
      " -5.185459410278e-04  -2.178535008256e-03  -1.158441360870e-07   5.525456229648e+02   2.416723877028e+02  -6.554342847563e+01   6.776263578034e-21   1.000000000000e-06    1   -1\n",
      " -1.773451522909e-03   2.864977471387e-03  -2.498493633142e-08  -2.226004747820e+02   9.450238076106e+00  -1.055085411491e+02   6.776263578034e-21   1.000000000000e-06    1   -1\n"
     ]
    }
   ],
   "source": [
    "!head astra.dat"
   ]
  },
  {
   "cell_type": "code",
   "execution_count": 26,
   "metadata": {},
   "outputs": [],
   "source": [
    "# Optionally, a string can be given\n",
    "P.write('particles.h5')"
   ]
  },
  {
   "cell_type": "markdown",
   "metadata": {},
   "source": [
    "# Plot\n",
    "\n",
    "Direct plotting. See plot_examples.ipynb for better plotting. "
   ]
  },
  {
   "cell_type": "code",
   "execution_count": 27,
   "metadata": {},
   "outputs": [],
   "source": [
    "import matplotlib.pyplot as plt\n",
    "import matplotlib\n",
    "cmap = plt.get_cmap('viridis')\n",
    "cmap.set_under('white')\n",
    "matplotlib.rcParams['figure.figsize'] = (13,8)\n",
    "%config InlineBackend.figure_format = 'retina'\n",
    "%matplotlib inline\n"
   ]
  },
  {
   "cell_type": "code",
   "execution_count": 28,
   "metadata": {},
   "outputs": [
    {
     "data": {
      "text/plain": [
       "<matplotlib.collections.PolyCollection at 0x123b37d10>"
      ]
     },
     "execution_count": 28,
     "metadata": {},
     "output_type": "execute_result"
    },
    {
     "data": {
      "image/png": "[encoded data removed]",
      "text/plain": [
       "<Figure size 432x288 with 1 Axes>"
      ]
     },
     "metadata": {
      "image/png": {
       "height": 261,
       "width": 261
      },
      "needs_background": "light"
     },
     "output_type": "display_data"
    }
   ],
   "source": [
    "fig, ax = plt.subplots()\n",
    "ax.set_aspect('equal')\n",
    "xkey = 'x'\n",
    "ykey = 'y'\n",
    "datx = P[xkey]\n",
    "daty = P[ykey]\n",
    "ax.set_xlabel(f'{xkey} ({P.units(xkey)})')\n",
    "ax.set_ylabel(f'{ykey} ({P.units(ykey)})')\n",
    "ax.hexbin(datx, daty, gridsize=40, cmap=cmap, vmin=1e-15)"
   ]
  },
  {
   "cell_type": "code",
   "execution_count": 29,
   "metadata": {},
   "outputs": [],
   "source": [
    "# Cleanup\n",
    "os.remove('astra.dat')\n",
    "os.remove(newh5file)"
   ]
  }
 ],
 "metadata": {
  "kernelspec": {
   "display_name": "Python 3",
   "language": "python",
   "name": "python3"
  },
  "language_info": {
   "codemirror_mode": {
    "name": "ipython",
    "version": 3
   },
   "file_extension": ".py",
   "mimetype": "text/x-python",
   "name": "python",
   "nbconvert_exporter": "python",
   "pygments_lexer": "ipython3",
   "version": "3.7.6"
  }
 },
 "nbformat": 4,
 "nbformat_minor": 4
}
