{
 "cells": [
  {
   "cell_type": "markdown",
   "metadata": {},
   "source": [
    "# openPMD beamphysics examples"
   ]
  },
  {
   "cell_type": "code",
   "execution_count": null,
   "metadata": {
    "execution": {
     "iopub.execute_input": "2024-10-17T23:20:16.493563Z",
     "iopub.status.busy": "2024-10-17T23:20:16.493231Z",
     "iopub.status.idle": "2024-10-17T23:20:16.756224Z",
     "shell.execute_reply": "2024-10-17T23:20:16.755978Z"
    }
   },
   "outputs": [],
   "source": [
    "# Nicer plotting\n",
    "import matplotlib\n",
    "import matplotlib.pyplot as plt\n",
    "\n",
    "matplotlib.rcParams[\"figure.figsize\"] = (8, 4)"
   ]
  },
  {
   "cell_type": "markdown",
   "metadata": {},
   "source": [
    "# Basic Usage"
   ]
  },
  {
   "cell_type": "code",
   "execution_count": null,
   "metadata": {
    "execution": {
     "iopub.execute_input": "2024-10-17T23:20:16.757736Z",
     "iopub.status.busy": "2024-10-17T23:20:16.757618Z",
     "iopub.status.idle": "2024-10-17T23:20:17.066823Z",
     "shell.execute_reply": "2024-10-17T23:20:17.066533Z"
    }
   },
   "outputs": [],
   "source": [
    "from pmd_beamphysics import ParticleGroup"
   ]
  },
  {
   "cell_type": "code",
   "execution_count": null,
   "metadata": {
    "execution": {
     "iopub.execute_input": "2024-10-17T23:20:17.068335Z",
     "iopub.status.busy": "2024-10-17T23:20:17.068183Z",
     "iopub.status.idle": "2024-10-17T23:20:17.075538Z",
     "shell.execute_reply": "2024-10-17T23:20:17.075293Z"
    }
   },
   "outputs": [],
   "source": [
    "P = ParticleGroup(\"data/bmad_particles2.h5\")\n",
    "P"
   ]
  },
  {
   "cell_type": "code",
   "execution_count": null,
   "metadata": {
    "execution": {
     "iopub.execute_input": "2024-10-17T23:20:17.097947Z",
     "iopub.status.busy": "2024-10-17T23:20:17.097804Z",
     "iopub.status.idle": "2024-10-17T23:20:17.100584Z",
     "shell.execute_reply": "2024-10-17T23:20:17.100339Z"
    }
   },
   "outputs": [],
   "source": [
    "P.energy"
   ]
  },
  {
   "cell_type": "code",
   "execution_count": null,
   "metadata": {
    "execution": {
     "iopub.execute_input": "2024-10-17T23:20:17.101830Z",
     "iopub.status.busy": "2024-10-17T23:20:17.101729Z",
     "iopub.status.idle": "2024-10-17T23:20:17.104641Z",
     "shell.execute_reply": "2024-10-17T23:20:17.104411Z"
    }
   },
   "outputs": [],
   "source": [
    "P[\"mean_energy\"], P.units(\"mean_energy\")"
   ]
  },
  {
   "cell_type": "code",
   "execution_count": null,
   "metadata": {
    "execution": {
     "iopub.execute_input": "2024-10-17T23:20:17.105799Z",
     "iopub.status.busy": "2024-10-17T23:20:17.105706Z",
     "iopub.status.idle": "2024-10-17T23:20:17.117036Z",
     "shell.execute_reply": "2024-10-17T23:20:17.116807Z"
    }
   },
   "outputs": [],
   "source": [
    "P.where(P.x < P[\"mean_x\"])"
   ]
  },
  {
   "cell_type": "code",
   "execution_count": null,
   "metadata": {
    "execution": {
     "iopub.execute_input": "2024-10-17T23:20:17.118234Z",
     "iopub.status.busy": "2024-10-17T23:20:17.118138Z",
     "iopub.status.idle": "2024-10-17T23:20:17.568107Z",
     "shell.execute_reply": "2024-10-17T23:20:17.567825Z"
    }
   },
   "outputs": [],
   "source": [
    "a = P.plot(\"x\", \"px\", figsize=(8, 8))"
   ]
  },
  {
   "cell_type": "code",
   "execution_count": null,
   "metadata": {
    "execution": {
     "iopub.execute_input": "2024-10-17T23:20:17.570337Z",
     "iopub.status.busy": "2024-10-17T23:20:17.570233Z",
     "iopub.status.idle": "2024-10-17T23:20:17.813384Z",
     "shell.execute_reply": "2024-10-17T23:20:17.813006Z"
    }
   },
   "outputs": [],
   "source": [
    "P.write_elegant(\"elegant_particles.txt\", verbose=True)"
   ]
  },
  {
   "cell_type": "markdown",
   "metadata": {},
   "source": [
    "# ParticleGroup class"
   ]
  },
  {
   "cell_type": "markdown",
   "metadata": {},
   "source": [
    "x positions, in meters"
   ]
  },
  {
   "cell_type": "code",
   "execution_count": null,
   "metadata": {
    "execution": {
     "iopub.execute_input": "2024-10-17T23:20:17.818500Z",
     "iopub.status.busy": "2024-10-17T23:20:17.818325Z",
     "iopub.status.idle": "2024-10-17T23:20:17.821375Z",
     "shell.execute_reply": "2024-10-17T23:20:17.820860Z"
    }
   },
   "outputs": [],
   "source": [
    "P.x"
   ]
  },
  {
   "cell_type": "markdown",
   "metadata": {},
   "source": [
    "relativistic gamma, calculated on the fly"
   ]
  },
  {
   "cell_type": "code",
   "execution_count": null,
   "metadata": {
    "execution": {
     "iopub.execute_input": "2024-10-17T23:20:17.823608Z",
     "iopub.status.busy": "2024-10-17T23:20:17.823471Z",
     "iopub.status.idle": "2024-10-17T23:20:17.826057Z",
     "shell.execute_reply": "2024-10-17T23:20:17.825834Z"
    }
   },
   "outputs": [],
   "source": [
    "P.gamma"
   ]
  },
  {
   "cell_type": "markdown",
   "metadata": {},
   "source": [
    "Both are allowed"
   ]
  },
  {
   "cell_type": "code",
   "execution_count": null,
   "metadata": {
    "execution": {
     "iopub.execute_input": "2024-10-17T23:20:17.827703Z",
     "iopub.status.busy": "2024-10-17T23:20:17.827508Z",
     "iopub.status.idle": "2024-10-17T23:20:17.832477Z",
     "shell.execute_reply": "2024-10-17T23:20:17.832144Z"
    }
   },
   "outputs": [],
   "source": [
    "len(P), P[\"n_particle\"]"
   ]
  },
  {
   "cell_type": "markdown",
   "metadata": {},
   "source": [
    "## Basic Statistics"
   ]
  },
  {
   "cell_type": "markdown",
   "metadata": {},
   "source": [
    "Statistics on any of these. Note that these properly use the .weight array."
   ]
  },
  {
   "cell_type": "code",
   "execution_count": null,
   "metadata": {
    "execution": {
     "iopub.execute_input": "2024-10-17T23:20:17.840376Z",
     "iopub.status.busy": "2024-10-17T23:20:17.840165Z",
     "iopub.status.idle": "2024-10-17T23:20:17.844354Z",
     "shell.execute_reply": "2024-10-17T23:20:17.843905Z"
    }
   },
   "outputs": [],
   "source": [
    "P.avg(\"gamma\"), P.std(\"p\")"
   ]
  },
  {
   "cell_type": "markdown",
   "metadata": {},
   "source": [
    "Covariance matrix of any list of keys"
   ]
  },
  {
   "cell_type": "code",
   "execution_count": null,
   "metadata": {
    "execution": {
     "iopub.execute_input": "2024-10-17T23:20:17.846001Z",
     "iopub.status.busy": "2024-10-17T23:20:17.845906Z",
     "iopub.status.idle": "2024-10-17T23:20:17.851579Z",
     "shell.execute_reply": "2024-10-17T23:20:17.851273Z"
    }
   },
   "outputs": [],
   "source": [
    "P.cov(\"x\", \"px\", \"y\", \"kinetic_energy\")"
   ]
  },
  {
   "cell_type": "markdown",
   "metadata": {},
   "source": [
    "These can all be accessed with brackets. sigma_ and mean_ are also allowed"
   ]
  },
  {
   "cell_type": "code",
   "execution_count": null,
   "metadata": {
    "execution": {
     "iopub.execute_input": "2024-10-17T23:20:17.853476Z",
     "iopub.status.busy": "2024-10-17T23:20:17.853188Z",
     "iopub.status.idle": "2024-10-17T23:20:17.860581Z",
     "shell.execute_reply": "2024-10-17T23:20:17.860286Z"
    }
   },
   "outputs": [],
   "source": [
    "P[\"sigma_x\"], P[\"sigma_energy\"], P[\"min_y\"], P[\"norm_emit_x\"], P[\"norm_emit_4d\"]"
   ]
  },
  {
   "cell_type": "markdown",
   "metadata": {},
   "source": [
    "Covariance has a special syntax, items separated by __"
   ]
  },
  {
   "cell_type": "code",
   "execution_count": null,
   "metadata": {
    "execution": {
     "iopub.execute_input": "2024-10-17T23:20:17.862271Z",
     "iopub.status.busy": "2024-10-17T23:20:17.862162Z",
     "iopub.status.idle": "2024-10-17T23:20:17.866196Z",
     "shell.execute_reply": "2024-10-17T23:20:17.865886Z"
    }
   },
   "outputs": [],
   "source": [
    "P[\"cov_x__kinetic_energy\"]"
   ]
  },
  {
   "cell_type": "markdown",
   "metadata": {},
   "source": [
    "n-dimensional histogram. This is a wrapper for `numpy.histogramdd`"
   ]
  },
  {
   "cell_type": "code",
   "execution_count": null,
   "metadata": {
    "execution": {
     "iopub.execute_input": "2024-10-17T23:20:17.867645Z",
     "iopub.status.busy": "2024-10-17T23:20:17.867546Z",
     "iopub.status.idle": "2024-10-17T23:20:17.874795Z",
     "shell.execute_reply": "2024-10-17T23:20:17.874415Z"
    }
   },
   "outputs": [],
   "source": [
    "H, edges = P.histogramdd(\"t\", \"delta_pz\", bins=(5, 10))\n",
    "H.shape, edges"
   ]
  },
  {
   "cell_type": "markdown",
   "metadata": {},
   "source": [
    "## Slice statistics\n",
    "\n",
    "ParticleGroup can be sliced along one dimension into chunks of an equal number of particles. Here are the routines to create the raw data."
   ]
  },
  {
   "cell_type": "code",
   "execution_count": null,
   "metadata": {
    "execution": {
     "iopub.execute_input": "2024-10-17T23:20:17.876510Z",
     "iopub.status.busy": "2024-10-17T23:20:17.876297Z",
     "iopub.status.idle": "2024-10-17T23:20:17.916863Z",
     "shell.execute_reply": "2024-10-17T23:20:17.916585Z"
    }
   },
   "outputs": [],
   "source": [
    "ss = P.slice_statistics(\"norm_emit_x\")\n",
    "ss.keys()"
   ]
  },
  {
   "cell_type": "markdown",
   "metadata": {},
   "source": [
    "Multiple keys can also be accepted:"
   ]
  },
  {
   "cell_type": "code",
   "execution_count": null,
   "metadata": {
    "execution": {
     "iopub.execute_input": "2024-10-17T23:20:17.918784Z",
     "iopub.status.busy": "2024-10-17T23:20:17.918628Z",
     "iopub.status.idle": "2024-10-17T23:20:17.986930Z",
     "shell.execute_reply": "2024-10-17T23:20:17.986674Z"
    }
   },
   "outputs": [],
   "source": [
    "ss = P.slice_statistics(\"norm_emit_x\", \"norm_emit_y\", \"twiss\")\n",
    "ss.keys()"
   ]
  },
  {
   "cell_type": "markdown",
   "metadata": {},
   "source": [
    "Note that for a slice key `X`, the method will also calculate `mean_X`, `ptp_X`, as `charge` so that a `density` calculated from these. In the special case of `X=t`, the density will be labeled as `current` according to common convention."
   ]
  },
  {
   "cell_type": "markdown",
   "metadata": {},
   "source": [
    "## Advanced statisics\n",
    "\n",
    "Twiss and Dispersion can be calculated.\n",
    "\n",
    "These are the projected Twiss parameters. \n",
    "\n",
    "TODO: normal mode twiss. "
   ]
  },
  {
   "cell_type": "code",
   "execution_count": null,
   "metadata": {
    "execution": {
     "iopub.execute_input": "2024-10-17T23:20:17.988506Z",
     "iopub.status.busy": "2024-10-17T23:20:17.988404Z",
     "iopub.status.idle": "2024-10-17T23:20:17.995209Z",
     "shell.execute_reply": "2024-10-17T23:20:17.994828Z"
    }
   },
   "outputs": [],
   "source": [
    "P.twiss(\"x\")"
   ]
  },
  {
   "cell_type": "markdown",
   "metadata": {},
   "source": [
    "95% emittance calculation, x and y"
   ]
  },
  {
   "cell_type": "code",
   "execution_count": null,
   "metadata": {
    "execution": {
     "iopub.execute_input": "2024-10-17T23:20:17.996575Z",
     "iopub.status.busy": "2024-10-17T23:20:17.996481Z",
     "iopub.status.idle": "2024-10-17T23:20:18.090868Z",
     "shell.execute_reply": "2024-10-17T23:20:18.090588Z"
    }
   },
   "outputs": [],
   "source": [
    "P.twiss(\"xy\", fraction=0.95)"
   ]
  },
  {
   "cell_type": "markdown",
   "metadata": {},
   "source": [
    "This makes new particles:"
   ]
  },
  {
   "cell_type": "code",
   "execution_count": null,
   "metadata": {
    "execution": {
     "iopub.execute_input": "2024-10-17T23:20:18.092851Z",
     "iopub.status.busy": "2024-10-17T23:20:18.092732Z",
     "iopub.status.idle": "2024-10-17T23:20:18.101285Z",
     "shell.execute_reply": "2024-10-17T23:20:18.100955Z"
    }
   },
   "outputs": [],
   "source": [
    "P2 = P.twiss_match(beta=30, alpha=-3, plane=\"x\")\n",
    "P2.twiss(\"x\")"
   ]
  },
  {
   "cell_type": "markdown",
   "metadata": {},
   "source": [
    "## Resampling\n",
    "\n",
    "Particles can be resampled to either scramble the ordering of the particle arrays or subsample.\n",
    "\n",
    "With no argument or n=0, the same number of particles will be returned:\n"
   ]
  },
  {
   "cell_type": "code",
   "execution_count": null,
   "metadata": {
    "execution": {
     "iopub.execute_input": "2024-10-17T23:20:18.102934Z",
     "iopub.status.busy": "2024-10-17T23:20:18.102784Z",
     "iopub.status.idle": "2024-10-17T23:20:18.128067Z",
     "shell.execute_reply": "2024-10-17T23:20:18.127790Z"
    }
   },
   "outputs": [],
   "source": [
    "P.resample()"
   ]
  },
  {
   "cell_type": "markdown",
   "metadata": {},
   "source": [
    "With n > 0, particles will be subsampled. Note that this also works for differently weighed particles."
   ]
  },
  {
   "cell_type": "code",
   "execution_count": null,
   "metadata": {
    "execution": {
     "iopub.execute_input": "2024-10-17T23:20:18.129460Z",
     "iopub.status.busy": "2024-10-17T23:20:18.129369Z",
     "iopub.status.idle": "2024-10-17T23:20:18.137052Z",
     "shell.execute_reply": "2024-10-17T23:20:18.136774Z"
    }
   },
   "outputs": [],
   "source": [
    "P.resample(1000)"
   ]
  },
  {
   "cell_type": "code",
   "execution_count": null,
   "metadata": {
    "execution": {
     "iopub.execute_input": "2024-10-17T23:20:18.138293Z",
     "iopub.status.busy": "2024-10-17T23:20:18.138204Z",
     "iopub.status.idle": "2024-10-17T23:20:18.396743Z",
     "shell.execute_reply": "2024-10-17T23:20:18.396500Z"
    }
   },
   "outputs": [],
   "source": [
    "P.resample(1000).plot(\"x\", \"px\", bins=100)"
   ]
  },
  {
   "cell_type": "markdown",
   "metadata": {},
   "source": [
    "## Units\n",
    "\n",
    "Units can be retrieved from any computable quantitiy.\n",
    "These are returned as a pmd_unit type."
   ]
  },
  {
   "cell_type": "code",
   "execution_count": null,
   "metadata": {
    "execution": {
     "iopub.execute_input": "2024-10-17T23:20:18.398128Z",
     "iopub.status.busy": "2024-10-17T23:20:18.398013Z",
     "iopub.status.idle": "2024-10-17T23:20:18.400353Z",
     "shell.execute_reply": "2024-10-17T23:20:18.400088Z"
    }
   },
   "outputs": [],
   "source": [
    "(\n",
    "    P.units(\"x\"),\n",
    "    P.units(\"energy\"),\n",
    "    P.units(\"norm_emit_x\"),\n",
    "    P.units(\"cov_x__kinetic_energy\"),\n",
    "    P.units(\"norm_emit_4d\"),\n",
    ")"
   ]
  },
  {
   "cell_type": "code",
   "execution_count": null,
   "metadata": {
    "execution": {
     "iopub.execute_input": "2024-10-17T23:20:18.401556Z",
     "iopub.status.busy": "2024-10-17T23:20:18.401460Z",
     "iopub.status.idle": "2024-10-17T23:20:18.403371Z",
     "shell.execute_reply": "2024-10-17T23:20:18.403136Z"
    }
   },
   "outputs": [],
   "source": [
    "P.units(\"mean_energy\")"
   ]
  },
  {
   "cell_type": "code",
   "execution_count": null,
   "metadata": {
    "execution": {
     "iopub.execute_input": "2024-10-17T23:20:18.404591Z",
     "iopub.status.busy": "2024-10-17T23:20:18.404499Z",
     "iopub.status.idle": "2024-10-17T23:20:18.406349Z",
     "shell.execute_reply": "2024-10-17T23:20:18.406148Z"
    }
   },
   "outputs": [],
   "source": [
    "str(P.units(\"cov_x__kinetic_energy\"))"
   ]
  },
  {
   "cell_type": "markdown",
   "metadata": {},
   "source": [
    "## z vs t\n",
    "\n",
    "These particles are from Bmad, at the same z and different times"
   ]
  },
  {
   "cell_type": "code",
   "execution_count": null,
   "metadata": {
    "execution": {
     "iopub.execute_input": "2024-10-17T23:20:18.407490Z",
     "iopub.status.busy": "2024-10-17T23:20:18.407417Z",
     "iopub.status.idle": "2024-10-17T23:20:18.410062Z",
     "shell.execute_reply": "2024-10-17T23:20:18.409837Z"
    }
   },
   "outputs": [],
   "source": [
    "P.std(\"z\"), P.std(\"t\")"
   ]
  },
  {
   "cell_type": "markdown",
   "metadata": {},
   "source": [
    "Get the central time:"
   ]
  },
  {
   "cell_type": "code",
   "execution_count": null,
   "metadata": {
    "execution": {
     "iopub.execute_input": "2024-10-17T23:20:18.411207Z",
     "iopub.status.busy": "2024-10-17T23:20:18.411135Z",
     "iopub.status.idle": "2024-10-17T23:20:18.413231Z",
     "shell.execute_reply": "2024-10-17T23:20:18.413014Z"
    }
   },
   "outputs": [],
   "source": [
    "t0 = P.avg(\"t\")\n",
    "t0"
   ]
  },
  {
   "cell_type": "markdown",
   "metadata": {},
   "source": [
    "Drift all particles to this time. This operates in-place:"
   ]
  },
  {
   "cell_type": "code",
   "execution_count": null,
   "metadata": {
    "execution": {
     "iopub.execute_input": "2024-10-17T23:20:18.414455Z",
     "iopub.status.busy": "2024-10-17T23:20:18.414376Z",
     "iopub.status.idle": "2024-10-17T23:20:18.417177Z",
     "shell.execute_reply": "2024-10-17T23:20:18.416948Z"
    }
   },
   "outputs": [],
   "source": [
    "P.drift_to_t(t0)"
   ]
  },
  {
   "cell_type": "markdown",
   "metadata": {},
   "source": [
    "Now these are at different z, and the same t:"
   ]
  },
  {
   "cell_type": "code",
   "execution_count": null,
   "metadata": {
    "execution": {
     "iopub.execute_input": "2024-10-17T23:20:18.418394Z",
     "iopub.status.busy": "2024-10-17T23:20:18.418317Z",
     "iopub.status.idle": "2024-10-17T23:20:18.424567Z",
     "shell.execute_reply": "2024-10-17T23:20:18.424343Z"
    }
   },
   "outputs": [],
   "source": [
    "P.std(\"z\"), P.avg(\"t\"), set(P.t)"
   ]
  },
  {
   "cell_type": "markdown",
   "metadata": {},
   "source": [
    "## status, weight, id, copy\n",
    "\n",
    "`status == 1` is alive, otherwise dead. Set the first ten particles to a different status.\n",
    "\n",
    "`n_alive`, `n_dead` count these"
   ]
  },
  {
   "cell_type": "code",
   "execution_count": null,
   "metadata": {
    "execution": {
     "iopub.execute_input": "2024-10-17T23:20:18.425709Z",
     "iopub.status.busy": "2024-10-17T23:20:18.425638Z",
     "iopub.status.idle": "2024-10-17T23:20:18.427775Z",
     "shell.execute_reply": "2024-10-17T23:20:18.427538Z"
    }
   },
   "outputs": [],
   "source": [
    "P.status[0:10] = 0\n",
    "P.status, P.n_alive, P.n_dead"
   ]
  },
  {
   "cell_type": "markdown",
   "metadata": {},
   "source": [
    "There is a `.where` convenience routine to make selections easier:"
   ]
  },
  {
   "cell_type": "code",
   "execution_count": null,
   "metadata": {
    "execution": {
     "iopub.execute_input": "2024-10-17T23:20:18.428889Z",
     "iopub.status.busy": "2024-10-17T23:20:18.428814Z",
     "iopub.status.idle": "2024-10-17T23:20:18.448042Z",
     "shell.execute_reply": "2024-10-17T23:20:18.447783Z"
    }
   },
   "outputs": [],
   "source": [
    "P0 = P.where(P.status == 0)\n",
    "P1 = P.where(P.status == 1)\n",
    "len(P0), P0.charge, P1.charge"
   ]
  },
  {
   "cell_type": "markdown",
   "metadata": {},
   "source": [
    "Copy is a deep copy:"
   ]
  },
  {
   "cell_type": "code",
   "execution_count": null,
   "metadata": {
    "execution": {
     "iopub.execute_input": "2024-10-17T23:20:18.449394Z",
     "iopub.status.busy": "2024-10-17T23:20:18.449317Z",
     "iopub.status.idle": "2024-10-17T23:20:18.451377Z",
     "shell.execute_reply": "2024-10-17T23:20:18.451179Z"
    }
   },
   "outputs": [],
   "source": [
    "P2 = P1.copy()"
   ]
  },
  {
   "cell_type": "markdown",
   "metadata": {},
   "source": [
    "Charge can also be set. This will re-scale the weight array:"
   ]
  },
  {
   "cell_type": "code",
   "execution_count": null,
   "metadata": {
    "execution": {
     "iopub.execute_input": "2024-10-17T23:20:18.452540Z",
     "iopub.status.busy": "2024-10-17T23:20:18.452467Z",
     "iopub.status.idle": "2024-10-17T23:20:18.454606Z",
     "shell.execute_reply": "2024-10-17T23:20:18.454384Z"
    }
   },
   "outputs": [],
   "source": [
    "P2.charge = 9.8765e-12\n",
    "P1.weight[0:2], P2.weight[0:2], P2.charge"
   ]
  },
  {
   "cell_type": "markdown",
   "metadata": {},
   "source": [
    "Some codes provide ids for particles. If not, you can assign an id. "
   ]
  },
  {
   "cell_type": "code",
   "execution_count": null,
   "metadata": {
    "execution": {
     "iopub.execute_input": "2024-10-17T23:20:18.455747Z",
     "iopub.status.busy": "2024-10-17T23:20:18.455676Z",
     "iopub.status.idle": "2024-10-17T23:20:18.457416Z",
     "shell.execute_reply": "2024-10-17T23:20:18.457207Z"
    }
   },
   "outputs": [],
   "source": [
    "\"id\" in P2"
   ]
  },
  {
   "cell_type": "markdown",
   "metadata": {},
   "source": [
    "This will assign an id if none exists. "
   ]
  },
  {
   "cell_type": "code",
   "execution_count": null,
   "metadata": {
    "execution": {
     "iopub.execute_input": "2024-10-17T23:20:18.458547Z",
     "iopub.status.busy": "2024-10-17T23:20:18.458474Z",
     "iopub.status.idle": "2024-10-17T23:20:18.460471Z",
     "shell.execute_reply": "2024-10-17T23:20:18.460235Z"
    }
   },
   "outputs": [],
   "source": [
    "P2.id, \"id\" in P2"
   ]
  },
  {
   "cell_type": "markdown",
   "metadata": {},
   "source": [
    "# Writing"
   ]
  },
  {
   "cell_type": "code",
   "execution_count": null,
   "metadata": {
    "execution": {
     "iopub.execute_input": "2024-10-17T23:20:18.461634Z",
     "iopub.status.busy": "2024-10-17T23:20:18.461561Z",
     "iopub.status.idle": "2024-10-17T23:20:18.462964Z",
     "shell.execute_reply": "2024-10-17T23:20:18.462746Z"
    }
   },
   "outputs": [],
   "source": [
    "import h5py\n",
    "import numpy as np"
   ]
  },
  {
   "cell_type": "code",
   "execution_count": null,
   "metadata": {
    "execution": {
     "iopub.execute_input": "2024-10-17T23:20:18.464211Z",
     "iopub.status.busy": "2024-10-17T23:20:18.464142Z",
     "iopub.status.idle": "2024-10-17T23:20:18.473958Z",
     "shell.execute_reply": "2024-10-17T23:20:18.473683Z"
    }
   },
   "outputs": [],
   "source": [
    "newh5file = \"particles.h5\"\n",
    "\n",
    "with h5py.File(newh5file, \"w\") as h5:\n",
    "    P.write(h5)\n",
    "\n",
    "with h5py.File(newh5file, \"r\") as h5:\n",
    "    P2 = ParticleGroup(h5)"
   ]
  },
  {
   "cell_type": "markdown",
   "metadata": {},
   "source": [
    "Check if all are the same:"
   ]
  },
  {
   "cell_type": "code",
   "execution_count": null,
   "metadata": {
    "execution": {
     "iopub.execute_input": "2024-10-17T23:20:18.475337Z",
     "iopub.status.busy": "2024-10-17T23:20:18.475258Z",
     "iopub.status.idle": "2024-10-17T23:20:18.478010Z",
     "shell.execute_reply": "2024-10-17T23:20:18.477801Z"
    }
   },
   "outputs": [],
   "source": [
    "for key in [\"x\", \"px\", \"y\", \"py\", \"z\", \"pz\", \"t\", \"status\", \"weight\", \"id\"]:\n",
    "    same = np.all(P[key] == P2[key])\n",
    "    print(key, same)"
   ]
  },
  {
   "cell_type": "markdown",
   "metadata": {},
   "source": [
    "This does the same check:"
   ]
  },
  {
   "cell_type": "code",
   "execution_count": null,
   "metadata": {
    "execution": {
     "iopub.execute_input": "2024-10-17T23:20:18.479257Z",
     "iopub.status.busy": "2024-10-17T23:20:18.479167Z",
     "iopub.status.idle": "2024-10-17T23:20:18.483688Z",
     "shell.execute_reply": "2024-10-17T23:20:18.483461Z"
    }
   },
   "outputs": [],
   "source": [
    "P2 == P"
   ]
  },
  {
   "cell_type": "markdown",
   "metadata": {},
   "source": [
    "Write Astra-style particles"
   ]
  },
  {
   "cell_type": "code",
   "execution_count": null,
   "metadata": {
    "execution": {
     "iopub.execute_input": "2024-10-17T23:20:18.484951Z",
     "iopub.status.busy": "2024-10-17T23:20:18.484870Z",
     "iopub.status.idle": "2024-10-17T23:20:19.077238Z",
     "shell.execute_reply": "2024-10-17T23:20:19.076925Z"
    }
   },
   "outputs": [],
   "source": [
    "P.write_astra(\"astra.dat\")"
   ]
  },
  {
   "cell_type": "code",
   "execution_count": null,
   "metadata": {
    "execution": {
     "iopub.execute_input": "2024-10-17T23:20:19.078673Z",
     "iopub.status.busy": "2024-10-17T23:20:19.078564Z",
     "iopub.status.idle": "2024-10-17T23:20:19.205207Z",
     "shell.execute_reply": "2024-10-17T23:20:19.204803Z"
    }
   },
   "outputs": [],
   "source": [
    "!head astra.dat"
   ]
  },
  {
   "cell_type": "markdown",
   "metadata": {},
   "source": [
    "Optionally, a string can be given:"
   ]
  },
  {
   "cell_type": "code",
   "execution_count": null,
   "metadata": {
    "execution": {
     "iopub.execute_input": "2024-10-17T23:20:19.207284Z",
     "iopub.status.busy": "2024-10-17T23:20:19.206964Z",
     "iopub.status.idle": "2024-10-17T23:20:19.217583Z",
     "shell.execute_reply": "2024-10-17T23:20:19.217277Z"
    }
   },
   "outputs": [],
   "source": [
    "P.write(\"particles.h5\")"
   ]
  },
  {
   "cell_type": "markdown",
   "metadata": {},
   "source": [
    "# Plot\n",
    "\n",
    "Some plotting is included for convenience. See plot_examples.ipynb for better plotting. "
   ]
  },
  {
   "cell_type": "markdown",
   "metadata": {},
   "source": [
    "## 1D density plot"
   ]
  },
  {
   "cell_type": "code",
   "execution_count": null,
   "metadata": {
    "execution": {
     "iopub.execute_input": "2024-10-17T23:20:19.219281Z",
     "iopub.status.busy": "2024-10-17T23:20:19.219174Z",
     "iopub.status.idle": "2024-10-17T23:20:19.628355Z",
     "shell.execute_reply": "2024-10-17T23:20:19.628099Z"
    }
   },
   "outputs": [],
   "source": [
    "P.plot(\"x\")"
   ]
  },
  {
   "cell_type": "markdown",
   "metadata": {},
   "source": [
    "## Slice statistic plot"
   ]
  },
  {
   "cell_type": "code",
   "execution_count": null,
   "metadata": {
    "execution": {
     "iopub.execute_input": "2024-10-17T23:20:19.629649Z",
     "iopub.status.busy": "2024-10-17T23:20:19.629563Z",
     "iopub.status.idle": "2024-10-17T23:20:19.849704Z",
     "shell.execute_reply": "2024-10-17T23:20:19.849459Z"
    }
   },
   "outputs": [],
   "source": [
    "P.slice_plot(\"norm_emit_x\", \"norm_emit_y\", ylim=(0, 1e-6))"
   ]
  },
  {
   "cell_type": "code",
   "execution_count": null,
   "metadata": {
    "execution": {
     "iopub.execute_input": "2024-10-17T23:20:19.850981Z",
     "iopub.status.busy": "2024-10-17T23:20:19.850871Z",
     "iopub.status.idle": "2024-10-17T23:20:20.158771Z",
     "shell.execute_reply": "2024-10-17T23:20:20.158531Z"
    }
   },
   "outputs": [],
   "source": [
    "P.plot(\"z\", \"x\")"
   ]
  },
  {
   "cell_type": "markdown",
   "metadata": {},
   "source": [
    "Any other key that returbs an arrat can be sliced on"
   ]
  },
  {
   "cell_type": "code",
   "execution_count": null,
   "metadata": {
    "execution": {
     "iopub.execute_input": "2024-10-17T23:20:20.160286Z",
     "iopub.status.busy": "2024-10-17T23:20:20.160188Z",
     "iopub.status.idle": "2024-10-17T23:20:20.334573Z",
     "shell.execute_reply": "2024-10-17T23:20:20.334321Z"
    }
   },
   "outputs": [],
   "source": [
    "P.slice_plot(\"sigma_x\", slice_key=\"Jx\")"
   ]
  },
  {
   "cell_type": "markdown",
   "metadata": {},
   "source": [
    "## 2D density plot"
   ]
  },
  {
   "cell_type": "code",
   "execution_count": null,
   "metadata": {
    "execution": {
     "iopub.execute_input": "2024-10-17T23:20:20.335992Z",
     "iopub.status.busy": "2024-10-17T23:20:20.335891Z",
     "iopub.status.idle": "2024-10-17T23:20:20.643612Z",
     "shell.execute_reply": "2024-10-17T23:20:20.643380Z"
    }
   },
   "outputs": [],
   "source": [
    "P.plot(\"x\", \"px\", ellipse=True)"
   ]
  },
  {
   "cell_type": "markdown",
   "metadata": {},
   "source": [
    "Optionally the figure object can be returned, and the plot further modified."
   ]
  },
  {
   "cell_type": "code",
   "execution_count": null,
   "metadata": {
    "execution": {
     "iopub.execute_input": "2024-10-17T23:20:20.645203Z",
     "iopub.status.busy": "2024-10-17T23:20:20.645094Z",
     "iopub.status.idle": "2024-10-17T23:20:21.062886Z",
     "shell.execute_reply": "2024-10-17T23:20:21.062635Z"
    }
   },
   "outputs": [],
   "source": [
    "fig = P.plot(\"x\", return_figure=True)\n",
    "ax = fig.axes[0]\n",
    "ax.set_title(\"Density Plot\")\n",
    "ax.set_xlim(-50, 50)"
   ]
  },
  {
   "cell_type": "markdown",
   "metadata": {},
   "source": [
    "## Manual plotting"
   ]
  },
  {
   "cell_type": "code",
   "execution_count": null,
   "metadata": {
    "execution": {
     "iopub.execute_input": "2024-10-17T23:20:21.064216Z",
     "iopub.status.busy": "2024-10-17T23:20:21.064132Z",
     "iopub.status.idle": "2024-10-17T23:20:21.139837Z",
     "shell.execute_reply": "2024-10-17T23:20:21.139604Z"
    }
   },
   "outputs": [],
   "source": [
    "import copy\n",
    "\n",
    "fig, ax = plt.subplots()\n",
    "ax.set_aspect(\"equal\")\n",
    "xkey = \"x\"\n",
    "ykey = \"y\"\n",
    "datx = P[xkey]\n",
    "daty = P[ykey]\n",
    "ax.set_xlabel(f\"{xkey} ({P.units(xkey)})\")\n",
    "ax.set_ylabel(f\"{ykey} ({P.units(ykey)})\")\n",
    "\n",
    "cmap = copy.copy(plt.get_cmap(\"viridis\"))\n",
    "cmap.set_under(\"white\")\n",
    "ax.hexbin(datx, daty, gridsize=40, cmap=cmap, vmin=1e-15)"
   ]
  },
  {
   "cell_type": "code",
   "execution_count": null,
   "metadata": {
    "execution": {
     "iopub.execute_input": "2024-10-17T23:20:21.141053Z",
     "iopub.status.busy": "2024-10-17T23:20:21.140946Z",
     "iopub.status.idle": "2024-10-17T23:20:21.494659Z",
     "shell.execute_reply": "2024-10-17T23:20:21.494422Z"
    }
   },
   "outputs": [],
   "source": [
    "P.plot(\"delta_z\", \"delta_p\", figsize=(8, 6))"
   ]
  },
  {
   "cell_type": "markdown",
   "metadata": {},
   "source": [
    "## Manual binning and plotting"
   ]
  },
  {
   "cell_type": "code",
   "execution_count": null,
   "metadata": {
    "execution": {
     "iopub.execute_input": "2024-10-17T23:20:21.496329Z",
     "iopub.status.busy": "2024-10-17T23:20:21.496222Z",
     "iopub.status.idle": "2024-10-17T23:20:21.599826Z",
     "shell.execute_reply": "2024-10-17T23:20:21.599600Z"
    }
   },
   "outputs": [],
   "source": [
    "H, edges = P.histogramdd(\"delta_z\", \"delta_p\", bins=(150, 150))\n",
    "extent = [edges[0].min(), edges[0].max(), edges[1].min(), edges[1].max()]\n",
    "\n",
    "plt.imshow(H.T, origin=\"lower\", extent=extent, aspect=\"auto\", vmin=1e-15, cmap=cmap)"
   ]
  },
  {
   "cell_type": "markdown",
   "metadata": {},
   "source": [
    "# Multiple ParticleGroup in an HDF5 file\n",
    "\n",
    "This example has two particlegroups. This also shows how to examine the components, without loading the full data.\n"
   ]
  },
  {
   "cell_type": "code",
   "execution_count": null,
   "metadata": {
    "execution": {
     "iopub.execute_input": "2024-10-17T23:20:21.601117Z",
     "iopub.status.busy": "2024-10-17T23:20:21.601028Z",
     "iopub.status.idle": "2024-10-17T23:20:21.603036Z",
     "shell.execute_reply": "2024-10-17T23:20:21.602808Z"
    }
   },
   "outputs": [],
   "source": [
    "from pmd_beamphysics import particle_paths\n",
    "from pmd_beamphysics.readers import all_components, component_str\n",
    "\n",
    "H5FILE = \"data/astra_particles.h5\"\n",
    "h5 = h5py.File(H5FILE, \"r\")"
   ]
  },
  {
   "cell_type": "markdown",
   "metadata": {},
   "source": [
    "Get the valid paths"
   ]
  },
  {
   "cell_type": "code",
   "execution_count": null,
   "metadata": {
    "execution": {
     "iopub.execute_input": "2024-10-17T23:20:21.604195Z",
     "iopub.status.busy": "2024-10-17T23:20:21.604119Z",
     "iopub.status.idle": "2024-10-17T23:20:21.606826Z",
     "shell.execute_reply": "2024-10-17T23:20:21.606618Z"
    }
   },
   "outputs": [],
   "source": [
    "ppaths = particle_paths(h5)\n",
    "ppaths"
   ]
  },
  {
   "cell_type": "markdown",
   "metadata": {},
   "source": [
    "Search for all valid components in a single path"
   ]
  },
  {
   "cell_type": "code",
   "execution_count": null,
   "metadata": {
    "execution": {
     "iopub.execute_input": "2024-10-17T23:20:21.608025Z",
     "iopub.status.busy": "2024-10-17T23:20:21.607926Z",
     "iopub.status.idle": "2024-10-17T23:20:21.610352Z",
     "shell.execute_reply": "2024-10-17T23:20:21.610162Z"
    }
   },
   "outputs": [],
   "source": [
    "ph5 = h5[ppaths[0]]\n",
    "all_components(ph5)"
   ]
  },
  {
   "cell_type": "markdown",
   "metadata": {},
   "source": [
    "Get some info"
   ]
  },
  {
   "cell_type": "code",
   "execution_count": null,
   "metadata": {
    "execution": {
     "iopub.execute_input": "2024-10-17T23:20:21.611431Z",
     "iopub.status.busy": "2024-10-17T23:20:21.611344Z",
     "iopub.status.idle": "2024-10-17T23:20:21.615151Z",
     "shell.execute_reply": "2024-10-17T23:20:21.614931Z"
    }
   },
   "outputs": [],
   "source": [
    "for component in all_components(ph5):\n",
    "    info = component_str(ph5, component)\n",
    "    print(info)"
   ]
  },
  {
   "cell_type": "markdown",
   "metadata": {},
   "source": [
    "# Cleanup"
   ]
  },
  {
   "cell_type": "code",
   "execution_count": null,
   "metadata": {
    "execution": {
     "iopub.execute_input": "2024-10-17T23:20:21.616286Z",
     "iopub.status.busy": "2024-10-17T23:20:21.616194Z",
     "iopub.status.idle": "2024-10-17T23:20:21.618548Z",
     "shell.execute_reply": "2024-10-17T23:20:21.618357Z"
    },
    "tags": []
   },
   "outputs": [],
   "source": [
    "import os\n",
    "\n",
    "os.remove(\"astra.dat\")\n",
    "os.remove(newh5file)\n",
    "os.remove(\"elegant_particles.txt\")"
   ]
  }
 ],
 "metadata": {
  "kernelspec": {
   "display_name": "Python 3 (ipykernel)",
   "language": "python",
   "name": "python3"
  },
  "language_info": {
   "codemirror_mode": {
    "name": "ipython",
    "version": 3
   },
   "file_extension": ".py",
   "mimetype": "text/x-python",
   "name": "python",
   "nbconvert_exporter": "python",
   "pygments_lexer": "ipython3",
   "version": "3.12.7"
  },
  "vscode": {
   "interpreter": {
    "hash": "9aad625b2269b772441122f3be2977cd56ba1431d8788d1d01fad7ae69edc1dd"
   }
  }
 },
 "nbformat": 4,
 "nbformat_minor": 4
}
