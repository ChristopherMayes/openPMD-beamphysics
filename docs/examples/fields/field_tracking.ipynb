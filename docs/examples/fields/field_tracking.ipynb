{
 "cells": [
  {
   "cell_type": "markdown",
   "metadata": {},
   "source": [
    "# Field Phasing and Scaling (Autophase)"
   ]
  },
  {
   "cell_type": "code",
   "execution_count": null,
   "metadata": {
    "execution": {
     "iopub.execute_input": "2024-10-17T23:20:12.669542Z",
     "iopub.status.busy": "2024-10-17T23:20:12.668745Z",
     "iopub.status.idle": "2024-10-17T23:20:12.936985Z",
     "shell.execute_reply": "2024-10-17T23:20:12.936680Z"
    }
   },
   "outputs": [],
   "source": [
    "# Useful for debugging\n",
    "%load_ext autoreload\n",
    "%autoreload 2\n",
    "\n",
    "# Nicer plotting\n",
    "import matplotlib.pyplot as plt\n",
    "\n",
    "%matplotlib inline\n",
    "%config InlineBackend.figure_format = 'retina'\n",
    "\n",
    "import numpy as np"
   ]
  },
  {
   "cell_type": "markdown",
   "metadata": {},
   "source": [
    "# Get field"
   ]
  },
  {
   "cell_type": "code",
   "execution_count": null,
   "metadata": {
    "execution": {
     "iopub.execute_input": "2024-10-17T23:20:12.938637Z",
     "iopub.status.busy": "2024-10-17T23:20:12.938518Z",
     "iopub.status.idle": "2024-10-17T23:20:13.240878Z",
     "shell.execute_reply": "2024-10-17T23:20:13.240572Z"
    }
   },
   "outputs": [],
   "source": [
    "from pmd_beamphysics import FieldMesh"
   ]
  },
  {
   "cell_type": "code",
   "execution_count": null,
   "metadata": {
    "execution": {
     "iopub.execute_input": "2024-10-17T23:20:13.242572Z",
     "iopub.status.busy": "2024-10-17T23:20:13.242435Z",
     "iopub.status.idle": "2024-10-17T23:20:13.350861Z",
     "shell.execute_reply": "2024-10-17T23:20:13.350607Z"
    }
   },
   "outputs": [],
   "source": [
    "FM = FieldMesh(\"../data/rfgun.h5\")\n",
    "FM.plot(aspect=\"equal\", figsize=(12, 8))"
   ]
  },
  {
   "cell_type": "code",
   "execution_count": null,
   "metadata": {
    "execution": {
     "iopub.execute_input": "2024-10-17T23:20:13.371058Z",
     "iopub.status.busy": "2024-10-17T23:20:13.370929Z",
     "iopub.status.idle": "2024-10-17T23:20:13.448580Z",
     "shell.execute_reply": "2024-10-17T23:20:13.448328Z"
    }
   },
   "outputs": [],
   "source": [
    "# On-axis field\n",
    "z0 = FM.coord_vec(\"z\")\n",
    "Ez0 = FM.Ez[0, 0, :]  # this is complex\n",
    "plt.plot(z0, np.real(Ez0))"
   ]
  },
  {
   "cell_type": "markdown",
   "metadata": {},
   "source": [
    "# v=c voltage and phase"
   ]
  },
  {
   "cell_type": "code",
   "execution_count": null,
   "metadata": {
    "execution": {
     "iopub.execute_input": "2024-10-17T23:20:13.449943Z",
     "iopub.status.busy": "2024-10-17T23:20:13.449855Z",
     "iopub.status.idle": "2024-10-17T23:20:13.463101Z",
     "shell.execute_reply": "2024-10-17T23:20:13.462833Z"
    }
   },
   "outputs": [],
   "source": [
    "from pmd_beamphysics.fields.analysis import accelerating_voltage_and_phase"
   ]
  },
  {
   "cell_type": "code",
   "execution_count": null,
   "metadata": {
    "execution": {
     "iopub.execute_input": "2024-10-17T23:20:13.464700Z",
     "iopub.status.busy": "2024-10-17T23:20:13.464549Z",
     "iopub.status.idle": "2024-10-17T23:20:13.491802Z",
     "shell.execute_reply": "2024-10-17T23:20:13.491533Z"
    }
   },
   "outputs": [],
   "source": [
    "?accelerating_voltage_and_phase"
   ]
  },
  {
   "cell_type": "code",
   "execution_count": null,
   "metadata": {
    "execution": {
     "iopub.execute_input": "2024-10-17T23:20:13.493084Z",
     "iopub.status.busy": "2024-10-17T23:20:13.493002Z",
     "iopub.status.idle": "2024-10-17T23:20:13.504549Z",
     "shell.execute_reply": "2024-10-17T23:20:13.504313Z"
    }
   },
   "outputs": [],
   "source": [
    "V0, phase0 = accelerating_voltage_and_phase(z0, -Ez0 * 120e6, FM.frequency)\n",
    "\n",
    "V0, (phase0 * 180 / np.pi) % 360"
   ]
  },
  {
   "cell_type": "markdown",
   "metadata": {},
   "source": [
    "# Tracking"
   ]
  },
  {
   "cell_type": "markdown",
   "metadata": {},
   "source": [
    "Equations of motion:\n",
    "\n",
    "$\\frac{dz}{dt} = \\frac{pc}{\\sqrt{(pc)^2 + m^2 c^4)}} c$ \n",
    "\n",
    "$\\frac{dp}{dt} = q E_z $\n",
    "\n",
    "$E_z = \\Re f(z) \\exp(-i \\omega t) $"
   ]
  },
  {
   "cell_type": "code",
   "execution_count": null,
   "metadata": {
    "execution": {
     "iopub.execute_input": "2024-10-17T23:20:13.505979Z",
     "iopub.status.busy": "2024-10-17T23:20:13.505863Z",
     "iopub.status.idle": "2024-10-17T23:20:13.515485Z",
     "shell.execute_reply": "2024-10-17T23:20:13.515268Z"
    }
   },
   "outputs": [],
   "source": [
    "from pmd_beamphysics.fields.analysis import track_field_1d\n",
    "from pmd_beamphysics.units import mec2"
   ]
  },
  {
   "cell_type": "code",
   "execution_count": null,
   "metadata": {
    "execution": {
     "iopub.execute_input": "2024-10-17T23:20:13.516703Z",
     "iopub.status.busy": "2024-10-17T23:20:13.516623Z",
     "iopub.status.idle": "2024-10-17T23:20:13.527113Z",
     "shell.execute_reply": "2024-10-17T23:20:13.526637Z"
    }
   },
   "outputs": [],
   "source": [
    "?track_field_1d"
   ]
  },
  {
   "cell_type": "code",
   "execution_count": null,
   "metadata": {
    "execution": {
     "iopub.execute_input": "2024-10-17T23:20:13.529029Z",
     "iopub.status.busy": "2024-10-17T23:20:13.528862Z",
     "iopub.status.idle": "2024-10-17T23:20:13.544790Z",
     "shell.execute_reply": "2024-10-17T23:20:13.544526Z"
    }
   },
   "outputs": [],
   "source": [
    "Z = FM.coord_vec(\"z\")\n",
    "E = FM.Ez[0, 0, :] * np.exp(1j * 2 * np.pi / 360 * 0) * 120e6\n",
    "\n",
    "# Final z (m) and pz (eV/c)\n",
    "track_field_1d(Z, E, FM.frequency, pz0=0, t0=0)"
   ]
  },
  {
   "cell_type": "code",
   "execution_count": null,
   "metadata": {
    "execution": {
     "iopub.execute_input": "2024-10-17T23:20:13.546804Z",
     "iopub.status.busy": "2024-10-17T23:20:13.546456Z",
     "iopub.status.idle": "2024-10-17T23:20:13.577532Z",
     "shell.execute_reply": "2024-10-17T23:20:13.577078Z"
    }
   },
   "outputs": [],
   "source": [
    "# Use debug mode to see the actual track\n",
    "sol = track_field_1d(\n",
    "    Z, E, FM.frequency, pz0=0, t0=0, debug=True, max_step=1 / FM.frequency / 100\n",
    ")"
   ]
  },
  {
   "cell_type": "code",
   "execution_count": null,
   "metadata": {
    "execution": {
     "iopub.execute_input": "2024-10-17T23:20:13.579004Z",
     "iopub.status.busy": "2024-10-17T23:20:13.578914Z",
     "iopub.status.idle": "2024-10-17T23:20:13.709618Z",
     "shell.execute_reply": "2024-10-17T23:20:13.709372Z"
    }
   },
   "outputs": [],
   "source": [
    "# Plot the track\n",
    "fig, ax = plt.subplots()\n",
    "\n",
    "ax2 = ax.twinx()\n",
    "\n",
    "ax.set_xlabel(\"f*t\")\n",
    "ax.set_ylabel(\"z (m)\")\n",
    "ax2.set_ylabel(\"KE (MeV)\")\n",
    "\n",
    "ax.plot(sol.t * FM.frequency, sol.y[0])\n",
    "ax2.plot(sol.t * FM.frequency, (np.hypot(sol.y[1], mec2) - mec2) / 1e6, color=\"red\")"
   ]
  },
  {
   "cell_type": "markdown",
   "metadata": {},
   "source": [
    "# Autophase"
   ]
  },
  {
   "cell_type": "code",
   "execution_count": null,
   "metadata": {
    "execution": {
     "iopub.execute_input": "2024-10-17T23:20:13.710976Z",
     "iopub.status.busy": "2024-10-17T23:20:13.710871Z",
     "iopub.status.idle": "2024-10-17T23:20:13.721476Z",
     "shell.execute_reply": "2024-10-17T23:20:13.721241Z"
    }
   },
   "outputs": [],
   "source": [
    "from pmd_beamphysics.fields.analysis import autophase_field"
   ]
  },
  {
   "cell_type": "code",
   "execution_count": null,
   "metadata": {
    "execution": {
     "iopub.execute_input": "2024-10-17T23:20:13.722694Z",
     "iopub.status.busy": "2024-10-17T23:20:13.722607Z",
     "iopub.status.idle": "2024-10-17T23:20:13.796325Z",
     "shell.execute_reply": "2024-10-17T23:20:13.796081Z"
    }
   },
   "outputs": [],
   "source": [
    "phase_deg1, pz1 = autophase_field(FM, pz0=0, scale=120e6, verbose=True)\n",
    "phase_deg1, pz1"
   ]
  },
  {
   "cell_type": "code",
   "execution_count": null,
   "metadata": {
    "execution": {
     "iopub.execute_input": "2024-10-17T23:20:13.797581Z",
     "iopub.status.busy": "2024-10-17T23:20:13.797493Z",
     "iopub.status.idle": "2024-10-17T23:20:13.810594Z",
     "shell.execute_reply": "2024-10-17T23:20:13.810349Z"
    }
   },
   "outputs": [],
   "source": [
    "# Use debug mode to visualize. This returns the phasiing function\n",
    "phase_f = autophase_field(FM, pz0=0, scale=120e6, debug=True)\n",
    "phase_f(304.3348289439232)"
   ]
  },
  {
   "cell_type": "code",
   "execution_count": null,
   "metadata": {
    "execution": {
     "iopub.execute_input": "2024-10-17T23:20:13.811842Z",
     "iopub.status.busy": "2024-10-17T23:20:13.811760Z",
     "iopub.status.idle": "2024-10-17T23:20:14.089594Z",
     "shell.execute_reply": "2024-10-17T23:20:14.089305Z"
    }
   },
   "outputs": [],
   "source": [
    "plist = np.linspace(280, 330, 100)\n",
    "pzlist = np.array([phase_f(p) for p in plist])\n",
    "\n",
    "plt.plot(plist, pzlist / 1e6)\n",
    "plt.scatter(phase_deg1, pz1 / 1e6, color=\"red\")\n",
    "plt.xlabel(\"phase (deg)\")\n",
    "plt.ylabel(\"pz (MeV/c)\")"
   ]
  },
  {
   "cell_type": "markdown",
   "metadata": {},
   "source": [
    "# Autophase and Scale"
   ]
  },
  {
   "cell_type": "code",
   "execution_count": null,
   "metadata": {
    "execution": {
     "iopub.execute_input": "2024-10-17T23:20:14.091192Z",
     "iopub.status.busy": "2024-10-17T23:20:14.091082Z",
     "iopub.status.idle": "2024-10-17T23:20:14.102934Z",
     "shell.execute_reply": "2024-10-17T23:20:14.102691Z"
    }
   },
   "outputs": [],
   "source": [
    "from pmd_beamphysics.fields.analysis import autophase_and_scale_field\n",
    "\n",
    "?autophase_and_scale_field"
   ]
  },
  {
   "cell_type": "code",
   "execution_count": null,
   "metadata": {
    "execution": {
     "iopub.execute_input": "2024-10-17T23:20:14.104253Z",
     "iopub.status.busy": "2024-10-17T23:20:14.104174Z",
     "iopub.status.idle": "2024-10-17T23:20:14.291554Z",
     "shell.execute_reply": "2024-10-17T23:20:14.267902Z"
    }
   },
   "outputs": [],
   "source": [
    "phase_deg2, scale2 = autophase_and_scale_field(FM, 6e6, pz0=0, verbose=True)\n",
    "phase_deg2, scale2"
   ]
  },
  {
   "cell_type": "code",
   "execution_count": null,
   "metadata": {
    "execution": {
     "iopub.execute_input": "2024-10-17T23:20:14.293173Z",
     "iopub.status.busy": "2024-10-17T23:20:14.293037Z",
     "iopub.status.idle": "2024-10-17T23:20:14.307811Z",
     "shell.execute_reply": "2024-10-17T23:20:14.307507Z"
    }
   },
   "outputs": [],
   "source": [
    "# Use debug mode to visualize. This returns the phasing function\n",
    "ps_f = autophase_and_scale_field(FM, 6e6, pz0=0, debug=True)\n",
    "ps_f(phase_deg2, scale2)"
   ]
  },
  {
   "cell_type": "code",
   "execution_count": null,
   "metadata": {
    "execution": {
     "iopub.execute_input": "2024-10-17T23:20:14.309044Z",
     "iopub.status.busy": "2024-10-17T23:20:14.308929Z",
     "iopub.status.idle": "2024-10-17T23:20:14.613850Z",
     "shell.execute_reply": "2024-10-17T23:20:14.613580Z"
    }
   },
   "outputs": [],
   "source": [
    "plist = np.linspace(280, 330, 100)\n",
    "denergy = np.array([ps_f(p, scale2) for p in plist])\n",
    "\n",
    "plt.plot(plist, denergy / 1e6)\n",
    "plt.scatter(phase_deg2, ps_f(phase_deg2, scale2) / 1e6, color=\"red\", label=\"Autophased\")\n",
    "plt.xlabel(\"phase (deg)\")\n",
    "plt.ylabel(\"Voltage (MV)\")\n",
    "plt.legend()"
   ]
  }
 ],
 "metadata": {
  "kernelspec": {
   "display_name": "Python 3 (ipykernel)",
   "language": "python",
   "name": "python3"
  },
  "language_info": {
   "codemirror_mode": {
    "name": "ipython",
    "version": 3
   },
   "file_extension": ".py",
   "mimetype": "text/x-python",
   "name": "python",
   "nbconvert_exporter": "python",
   "pygments_lexer": "ipython3",
   "version": "3.12.7"
  }
 },
 "nbformat": 4,
 "nbformat_minor": 4
}
