{
 "cells": [
  {
   "cell_type": "markdown",
   "id": "37f0b064-6ec7-4152-bf46-b498a352b28f",
   "metadata": {},
   "source": [
    "# Aircore Corrector Modeling\n",
    "---\n",
    "Generating 3D field data and FieldMesh objectrs for aircore corrector magnets. There are two types of corrector coil shapes currently handled: rectangular and saddle shaped. For each type of corrector, the user can generate a FieldMesh object directly.  The main function for doing this is: `make_dipole_corrector_fieldmesh`.  To use this function the user must provide a current $I$, the definition for the uniform 3D grid of x, y, z points, specified using `xmin`, `xmax`, `nx` for each coordinate direction, and then the corrector geometry parameters specific to the type of corrector being modeled. See the two example below for a detailed description.\n",
    "\n",
    "The default direction for correctors to kick is in the x-direction. However, correctors can be offset and rotated by including a position offset and a rotation matrix or an offset and three angles (pitch, yaw, roll).  \n",
    "\n",
    "#### Note: care must be taken not to evaluate fields at the location of the corrector current elements, as the fields diverge there."
   ]
  },
  {
   "cell_type": "code",
   "execution_count": null,
   "id": "e5f38d78-dee7-4cb5-86ea-a868ed2e9b4d",
   "metadata": {},
   "outputs": [],
   "source": [
    "from matplotlib import pyplot as plt\n",
    "import numpy as np\n",
    "from scipy.constants import mu_0, pi\n",
    "\n",
    "from pmd_beamphysics.fields.corrector_modeling import make_dipole_corrector_fieldmesh"
   ]
  },
  {
   "cell_type": "markdown",
   "id": "59c84527-08e0-4861-99c4-7078d90f1983",
   "metadata": {},
   "source": [
    "## SADDLE COIL CORRECTOR\n",
    "\n",
    "The saddle coil corrector is parameterized by: \n",
    "\n",
    "1. $R$ [m], radius in x-y plane\n",
    "2. $L$ [m], length in the z-direction,\n",
    "3. $\\theta$ [rad],  openining angle of the saddle arc, specifying the arc length of the curved sections: $s=R\\theta$\n",
    "4. npts [int], number of straight line segments used to approximate the saddle arcs."
   ]
  },
  {
   "cell_type": "code",
   "execution_count": null,
   "id": "07bd7a6a-eb89-434e-a0cc-57beb2abde6f",
   "metadata": {},
   "outputs": [],
   "source": [
    "R = 2 * 2.54e-2  # 2\" radius [m]\n",
    "L = 0.1  # Length along z [m]\n",
    "theta = np.pi / 2  # Opening angle [rad]\n",
    "current = 1  # Current [Amp]\n",
    "\n",
    "FM = make_dipole_corrector_fieldmesh(\n",
    "    current=current,\n",
    "    xmin=-R,\n",
    "    xmax=R,\n",
    "    nx=101,\n",
    "    ymin=-R,\n",
    "    ymax=R,\n",
    "    ny=102,\n",
    "    zmin=-5 * L / 2,\n",
    "    zmax=5 * L / 2,\n",
    "    nz=103,\n",
    "    mode=\"saddle\",\n",
    "    R=R,\n",
    "    L=L,\n",
    "    theta=theta,\n",
    "    npts=20,\n",
    "    plot_wire=True,\n",
    ")\n",
    "FM.plot_onaxis(\"By\")"
   ]
  },
  {
   "cell_type": "code",
   "execution_count": null,
   "id": "40ca6bba-33d5-4f7f-a849-9efb151027a2",
   "metadata": {},
   "outputs": [],
   "source": [
    "FM.plot(\"By\", y=0.0123)"
   ]
  },
  {
   "cell_type": "code",
   "execution_count": null,
   "id": "67460826-a5d3-4169-be96-89b3fdeaa91e",
   "metadata": {},
   "outputs": [],
   "source": [
    "FM.plot_onaxis([\"Bx\", \"By\", \"Bz\"])"
   ]
  },
  {
   "cell_type": "code",
   "execution_count": null,
   "id": "22522c70-3431-4556-b93d-95b7b3321d1b",
   "metadata": {},
   "outputs": [],
   "source": [
    "FM = make_dipole_corrector_fieldmesh(\n",
    "    current=current,\n",
    "    xmin=-R,\n",
    "    xmax=R,\n",
    "    nx=101,\n",
    "    ymin=-R,\n",
    "    ymax=R,\n",
    "    ny=101,\n",
    "    zmin=-5 * L / 2,\n",
    "    zmax=5 * L / 2,\n",
    "    nz=101,\n",
    "    mode=\"saddle\",\n",
    "    R=R,\n",
    "    L=L,\n",
    "    theta=theta,\n",
    "    npts=20,\n",
    "    plot_wire=True,\n",
    "    tilt=np.pi / 2,\n",
    ")"
   ]
  },
  {
   "cell_type": "code",
   "execution_count": null,
   "id": "fb683aa0-6dd2-4d87-b771-cda14cf2040c",
   "metadata": {},
   "outputs": [],
   "source": [
    "FM.plot_onaxis([\"Bx\", \"By\", \"Bz\"])"
   ]
  },
  {
   "cell_type": "markdown",
   "id": "e8f75b4d-71c5-44ae-a236-3c571d54f3e6",
   "metadata": {},
   "source": [
    "## RECTANGULAR COIL CORRECTOR\n",
    "\n",
    "The rectangular coil corrector is defined by two rectangular coils separated in the x-direction and is parameterized by: \n",
    "\n",
    "1. $a$ [m], horizontal separation of to coils \n",
    "2. $h$ [m], height of coils (in y-direction)\n",
    "3. $b$ [m], length in coils (in z-direction),"
   ]
  },
  {
   "cell_type": "code",
   "execution_count": null,
   "id": "9fbc056e-96b8-459f-ab75-abcc26fc77fc",
   "metadata": {},
   "outputs": [],
   "source": [
    "a = 2 * 2.54e-2  # 2\" pipe [m]\n",
    "h = a  # Square corrector\n",
    "b = 0.1  # Length [m]\n",
    "L = 0.1  # Length along z [m]\n",
    "current = 1\n",
    "\n",
    "FM = make_dipole_corrector_fieldmesh(\n",
    "    current=current,\n",
    "    xmin=-0.99 * a,\n",
    "    xmax=0.99 * a,\n",
    "    nx=101,  # Mind the wires\n",
    "    ymin=-0.99 * h,\n",
    "    ymax=0.99 * h,\n",
    "    ny=101,  # Mind the wires\n",
    "    zmin=-5 * L / 2,\n",
    "    zmax=+5 * L / 2,\n",
    "    nz=101,\n",
    "    mode=\"rectangular\",\n",
    "    a=a,\n",
    "    b=b,\n",
    "    h=h,\n",
    "    plot_wire=True,\n",
    ")"
   ]
  },
  {
   "cell_type": "code",
   "execution_count": null,
   "id": "cb90b3d0-b016-41cd-bf5d-ace6c3fc7036",
   "metadata": {},
   "outputs": [],
   "source": [
    "FM.plot(component=\"By\", y=0)"
   ]
  },
  {
   "cell_type": "code",
   "execution_count": null,
   "id": "368b4141-8402-4656-8367-8078cb65ed5f",
   "metadata": {},
   "outputs": [],
   "source": [
    "FM.plot_onaxis([\"Bx\", \"By\", \"Bz\"])"
   ]
  },
  {
   "cell_type": "code",
   "execution_count": null,
   "id": "07a5c6a9-f1ab-4201-9912-4d695224f5aa",
   "metadata": {},
   "outputs": [],
   "source": [
    "FM = make_dipole_corrector_fieldmesh(\n",
    "    current=current,\n",
    "    xmin=-0.99 * h,\n",
    "    xmax=0.99 * h,\n",
    "    nx=101,  # Mind the wires\n",
    "    ymin=-0.99 * a,\n",
    "    ymax=0.99 * a,\n",
    "    ny=101,  # Mind the wires\n",
    "    zmin=-5 * L / 2,\n",
    "    zmax=+5 * L / 2,\n",
    "    nz=101,\n",
    "    mode=\"rectangular\",\n",
    "    a=a,\n",
    "    b=b,\n",
    "    h=h,\n",
    "    plot_wire=True,\n",
    "    tilt=np.pi / 2,\n",
    ")"
   ]
  },
  {
   "cell_type": "code",
   "execution_count": null,
   "id": "3904cd1a-7d39-413a-8d93-6ca6af5856a5",
   "metadata": {},
   "outputs": [],
   "source": [
    "FM.plot_onaxis([\"Bx\", \"By\", \"Bz\"])"
   ]
  },
  {
   "cell_type": "markdown",
   "id": "302fa225-55e8-4980-8d53-db4dfcb46265",
   "metadata": {},
   "source": [
    "## THIN STRAIGHT WIRE"
   ]
  },
  {
   "cell_type": "markdown",
   "id": "4974b7c2-9882-4b3d-a48e-191edf92378d",
   "metadata": {},
   "source": [
    "Users can generate a FieldMesh object storing fields from a thin straight wire segment by passing in the two points $\\textbf{r}_1$ and $\\textbf{r}_2$ defining the current element $Id\\textbf{l} = Idl \\frac{\\textbf{r}_2 - \\textbf{r}_1}{|\\textbf{r}_2 - \\textbf{r}_1|}$."
   ]
  },
  {
   "cell_type": "code",
   "execution_count": null,
   "id": "cf705194-784b-4185-ad13-29b99d41fa6b",
   "metadata": {},
   "outputs": [],
   "source": [
    "from pmd_beamphysics.fields.corrector_modeling import make_thin_straight_wire_fieldmesh\n",
    "\n",
    "r1 = np.array([-0.75, 0, 0])  # Start point of the wire\n",
    "r2 = np.array([+0.75, 0, 0])  # End point of the wire\n",
    "\n",
    "FM = make_thin_straight_wire_fieldmesh(\n",
    "    r1,\n",
    "    r2,\n",
    "    xmin=-1,\n",
    "    xmax=1,\n",
    "    nx=250,\n",
    "    ymin=-0.25,\n",
    "    ymax=0.25,\n",
    "    ny=300,\n",
    "    zmin=-1,\n",
    "    zmax=1,\n",
    "    nz=350,\n",
    ")"
   ]
  },
  {
   "cell_type": "code",
   "execution_count": null,
   "id": "c70c47b3-1597-4b71-b3d5-7d01d30ce75e",
   "metadata": {},
   "outputs": [],
   "source": [
    "FM.plot(component=\"Bz\", z=0)"
   ]
  },
  {
   "cell_type": "markdown",
   "id": "e523dd49-9d6a-4559-b266-8fc5676c0599",
   "metadata": {},
   "source": [
    "# Helper Functions\n",
    "---\n",
    "All of the corrector models here make use of one main helper function which computes the fields from a thin, straight current element exactly using the analytic solution from the Biot-Savart law:\n",
    "\n",
    "$\\textbf{B} = \\frac{\\mu_0I}{4\\pi R}\\left(\\frac{x_2}{\\sqrt{x_2^2+R^2}}-\\frac{x_1}{\\sqrt{x_1^2 + R^2}}\\right)\\hat\\phi$\n",
    "\n",
    "Here $R$ is the minimal distance from a line in 3d space which containts the current segment and the observation point $\\textbf{r}$, and $x_1$, and $x_2$.  The observation point and the current segment form a plane, in which one can specifcy a coordinate system so that the x-coordinate runs along the current segment and x=0 specifies the intersection point of the line used to define $R$.  In this coordinate system $x_1$ and $x_2$ are the start and end points of the wire.  $\\hat\\phi$ is the unit vector normal to the plane. \n",
    "\n",
    "Below give examples how how to use this function as well as other functions used to build up the corrector models."
   ]
  },
  {
   "cell_type": "code",
   "execution_count": null,
   "id": "bbb4bdfe-fa3b-48d8-a3b8-c0a3ddffc0ec",
   "metadata": {},
   "outputs": [],
   "source": [
    "from pmd_beamphysics.fields.corrector_modeling import bfield_from_thin_straight_wire\n",
    "from pmd_beamphysics.fields.corrector_modeling import bfield_from_thin_rectangular_coil\n",
    "from pmd_beamphysics.fields.corrector_modeling import (\n",
    "    bfield_from_thin_rectangular_corrector,\n",
    ")\n",
    "from pmd_beamphysics.fields.corrector_modeling import bfield_from_thin_wire_arc\n",
    "from pmd_beamphysics.fields.corrector_modeling import bfield_from_thin_saddle_coil\n",
    "from pmd_beamphysics.fields.corrector_modeling import bfield_from_thin_saddle_corrector"
   ]
  },
  {
   "cell_type": "code",
   "execution_count": null,
   "id": "0f5a1469-712d-40f8-adb9-8474e5c9a994",
   "metadata": {},
   "outputs": [],
   "source": [
    "# Example usage with a grid of points\n",
    "current = 1\n",
    "x = np.linspace(-1, 1, 250)\n",
    "y = np.linspace(-0.25, 0.25, 300)\n",
    "z = np.linspace(-1, 1, 150)\n",
    "\n",
    "# Create meshgrid\n",
    "X, Y, Z = np.meshgrid(x, y, z, indexing=\"ij\")\n",
    "\n",
    "# Define wire endpoints and current\n",
    "p1 = np.array([-0.75, 0, 0])  # Start point of the wire\n",
    "p2 = np.array([+0.75, 0, 0])  # End point of the wire\n",
    "\n",
    "\n",
    "# Compute the magnetic field over the grid\n",
    "Bx, By, Bz = bfield_from_thin_straight_wire(X, Y, Z, p1, p2, current, plot_wire=True)\n",
    "ax = plt.gca()\n",
    "ax.set_xlim([-1, 1])"
   ]
  },
  {
   "cell_type": "code",
   "execution_count": null,
   "id": "ddecadfc-592c-4c5a-adae-0d2056d75f47",
   "metadata": {},
   "outputs": [],
   "source": [
    "plt.imshow(Bz[:, :, 75], extent=[y[0], y[-1], x[0], x[-1]], origin=\"lower\")\n",
    "plt.xlabel(\"y (m)\")\n",
    "plt.ylabel(\"x (m)\")\n",
    "\n",
    "plt.colorbar(label=r\"$B_z(z=0)$ (T)\")"
   ]
  },
  {
   "cell_type": "markdown",
   "id": "69589b8c-f190-4c34-a7af-bff4fdf0f9c8",
   "metadata": {},
   "source": [
    "### Tests\n",
    "\n",
    "1. In the limit that the length of the wire $L\\rightarrow\\infty$, then $B_z(x=0, y=R, z=0)\\rightarrow \\frac{\\mu_0 I}{2\\pi R}$"
   ]
  },
  {
   "cell_type": "code",
   "execution_count": null,
   "id": "be14c8f7-e917-4628-b30c-b37dd991732c",
   "metadata": {},
   "outputs": [],
   "source": [
    "current = 1\n",
    "R = 1\n",
    "L = 1000\n",
    "p1 = [-L / 2, 0, 0]\n",
    "p2 = [+L / 2, 0, 0]\n",
    "\n",
    "P = [0, R, 0]\n",
    "\n",
    "x = np.linspace(-L / 2, L / 2, 11)\n",
    "y = np.linspace(0.1, R, 10)  # Makes sure not to evluate on the wire\n",
    "z = np.linspace(0, R, 10)\n",
    "\n",
    "X, Y, Z = np.meshgrid(x, y, z)\n",
    "\n",
    "_, _, Bz = bfield_from_thin_straight_wire(X, Y, Z, p1, p2, current)\n",
    "\n",
    "B0 = Bz[(X == 0) & (Y == R) & (Z == 0)]\n",
    "\n",
    "assert np.isclose(\n",
    "    mu_0 * current / 2 / pi / R, B0\n",
    "), \"Wire expression does not reproduce infinite limit\""
   ]
  },
  {
   "cell_type": "markdown",
   "id": "ce055fea-23f4-48a2-a757-b8110801d25d",
   "metadata": {},
   "source": [
    "## Fields from a rectangular coil in the X-Z plane\n",
    "\n",
    "Here we create basically half of a rectangular corrector."
   ]
  },
  {
   "cell_type": "code",
   "execution_count": null,
   "id": "466ca483-0829-443b-8c61-be4465683f68",
   "metadata": {},
   "outputs": [],
   "source": [
    "a = 2 * 2.54e-2  # Assume 2\" pipe\n",
    "h = a\n",
    "b = 0.1\n",
    "\n",
    "x = np.linspace(-2 * a, 2 * a, 200)\n",
    "y = np.linspace(-2 * a, 2 * a, 201)\n",
    "z = np.linspace(-3 * b, 3 * b, 200)\n",
    "\n",
    "X, Y, Z = np.meshgrid(x, y, z, indexing=\"ij\")\n",
    "\n",
    "BxCoil, ByCoil, BzCoil = bfield_from_thin_rectangular_coil(\n",
    "    X, Y, Z, a, b, h, current, plot_wire=True\n",
    ")\n",
    "# ax = plt.gca()\n",
    "# ax.set_xlim([-2*a, 2*a])\n",
    "# ax.set_ylim([-2*b, 2*b])"
   ]
  },
  {
   "cell_type": "code",
   "execution_count": null,
   "id": "dcd18313-3f03-4b9f-a4e7-4a3a2a197a55",
   "metadata": {},
   "outputs": [],
   "source": [
    "indx = np.argmin(np.abs(x))\n",
    "indy = np.argmin(np.abs(y))\n",
    "\n",
    "plt.imshow(ByCoil[:, indy, :], extent=[z[0], z[-1], x[0], x[-1]], origin=\"lower\")\n",
    "plt.xlabel(\"z (m)\")\n",
    "plt.ylabel(\"x (m)\")\n",
    "\n",
    "plt.colorbar(label=r\"$B_y(x=y=0,z)$ (T)\")"
   ]
  },
  {
   "cell_type": "code",
   "execution_count": null,
   "id": "6b60ee50-5a46-443a-900b-4896f29d0a9a",
   "metadata": {},
   "outputs": [],
   "source": [
    "plt.plot(z, BxCoil[indx, indy, :])\n",
    "plt.plot(z, ByCoil[indx, indy, :])\n",
    "plt.plot(z, BzCoil[indx, indy, :])\n",
    "\n",
    "plt.xlabel(\"z (m)\")\n",
    "plt.ylabel(r\"$B$ (T)\")\n",
    "plt.legend([r\"$B_x(x=y=0,z)$\", r\"$B_y(x=y=0,z)$\", r\"$B_z(x=y=0,z)$\"])"
   ]
  },
  {
   "cell_type": "markdown",
   "id": "719d3d7c-85da-4b79-b357-dd6fe6ce4cff",
   "metadata": {},
   "source": [
    "## Field from rectangular corrector (two coils)"
   ]
  },
  {
   "cell_type": "code",
   "execution_count": null,
   "id": "1af7b1f4-c6ad-4eb7-ad36-6b74fb79b2a7",
   "metadata": {},
   "outputs": [],
   "source": [
    "a = 2 * 2.54e-2  # Assume 2\" pipe\n",
    "h = a\n",
    "b = 0.1\n",
    "\n",
    "BxCor, ByCor, BzCor = bfield_from_thin_rectangular_corrector(\n",
    "    X, Y, Z, a, b, h, current, plot_wire=True\n",
    ")"
   ]
  },
  {
   "cell_type": "code",
   "execution_count": null,
   "id": "59fe066a-47ce-4601-9178-4424fa2b53f4",
   "metadata": {},
   "outputs": [],
   "source": [
    "indx = np.argmin(np.abs(x))\n",
    "indy = np.argmin(np.abs(y))\n",
    "\n",
    "plt.imshow(ByCor[:, indy, :], extent=[z[0], z[-1], x[0], x[-1]], origin=\"lower\")\n",
    "plt.xlabel(\"z (m)\")\n",
    "plt.ylabel(\"x (m)\")\n",
    "\n",
    "plt.colorbar(label=r\"$B_y(x=y=0,z)$ (T)\")"
   ]
  },
  {
   "cell_type": "code",
   "execution_count": null,
   "id": "a3f771f8-3bb5-43c6-ad0b-9f2d1c59cae2",
   "metadata": {},
   "outputs": [],
   "source": [
    "plt.plot(z, BxCor[indx, indy, :])\n",
    "plt.plot(z, ByCor[indx, indy, :])\n",
    "plt.plot(z, BzCor[indx, indy, :])\n",
    "\n",
    "plt.xlabel(\"z (m)\")\n",
    "plt.ylabel(r\"$B$ (T)\")\n",
    "plt.legend([r\"$B_x(x=y=0,z)$\", r\"$B_y(x=y=0,z)$\", r\"$B_z(x=y=0,z)$\"])"
   ]
  },
  {
   "cell_type": "markdown",
   "id": "95943db3-a7d4-424b-bb71-0ad5d8fb943b",
   "metadata": {},
   "source": [
    "## Field from segmented arc"
   ]
  },
  {
   "cell_type": "code",
   "execution_count": null,
   "id": "24eb37bd-19ab-4db0-83e4-91945118afd8",
   "metadata": {},
   "outputs": [],
   "source": [
    "h = 0\n",
    "R = 1\n",
    "theta = np.pi\n",
    "\n",
    "x = np.linspace(-1, 1, 200)\n",
    "y = np.linspace(-0.2, 1, 200)\n",
    "z = np.linspace(-1, 1, 150)\n",
    "\n",
    "X, Y, Z = np.meshgrid(x, y, z, indexing=\"ij\")\n",
    "\n",
    "Bx, By, Bz = bfield_from_thin_wire_arc(\n",
    "    X, Y, Z, 0, R, theta, npts=15, current=1, plot_wire=True\n",
    ")"
   ]
  },
  {
   "cell_type": "code",
   "execution_count": null,
   "id": "9ec67521-6ce6-443c-83eb-6c9f87df61c7",
   "metadata": {},
   "outputs": [],
   "source": [
    "indz = np.argmin(np.abs(z))\n",
    "\n",
    "plt.imshow(Bz[:, :, indz], extent=[y[0], y[-1], x[0], x[-1]], origin=\"lower\")\n",
    "plt.xlabel(\"y (m)\")\n",
    "plt.ylabel(\"x (m)\")\n",
    "\n",
    "plt.colorbar(label=r\"$B_z(z=0)$ (T)\")"
   ]
  },
  {
   "cell_type": "code",
   "execution_count": null,
   "id": "0e029882-0534-49fd-880b-84f2029539db",
   "metadata": {},
   "outputs": [],
   "source": [
    "h = 0\n",
    "R = 1\n",
    "L = 2\n",
    "theta = np.pi\n",
    "\n",
    "x = np.linspace(-2, 2, 100)\n",
    "y = np.linspace(-2, 2, 100)\n",
    "z = np.linspace(-3, 3, 100)\n",
    "\n",
    "X, Y, Z = np.meshgrid(x, y, z, indexing=\"ij\")\n",
    "\n",
    "Bx, By, Bz = bfield_from_thin_saddle_coil(\n",
    "    X, Y, Z, L, R, theta, npts=5, current=1, plot_wire=True\n",
    ")"
   ]
  },
  {
   "cell_type": "code",
   "execution_count": null,
   "id": "013a5785-dc0a-4c88-8d9c-ee6ab64aad20",
   "metadata": {},
   "outputs": [],
   "source": [
    "indz = np.argmin(np.abs(z))\n",
    "\n",
    "plt.imshow(Bz[:, :, indz], extent=[y[0], y[-1], x[0], x[-1]], origin=\"lower\")\n",
    "plt.xlabel(\"y (m)\")\n",
    "plt.ylabel(\"x (m)\")\n",
    "\n",
    "plt.colorbar(label=r\"$B_z(z=0)$ (T)\")"
   ]
  },
  {
   "cell_type": "code",
   "execution_count": null,
   "id": "f7dbbcd0-327c-4cdc-9efd-0072b306b6c9",
   "metadata": {},
   "outputs": [],
   "source": [
    "R = 2 * 2.54e-2\n",
    "L = 0.1\n",
    "theta = 2 * np.pi / 3\n",
    "\n",
    "x = np.linspace(-R, R, 101)\n",
    "y = np.linspace(-R, R, 101)\n",
    "z = np.linspace(-5 * L / 2, 5 * L / 2, 301)\n",
    "\n",
    "X, Y, Z = np.meshgrid(x, y, z, indexing=\"ij\")\n",
    "\n",
    "BxS, ByS, BzS = bfield_from_thin_saddle_corrector(\n",
    "    X, Y, Z, L, R, theta, npts=20, current=1, plot_wire=True\n",
    ")"
   ]
  },
  {
   "cell_type": "code",
   "execution_count": null,
   "id": "db94f838-6109-46fc-9135-eb75e9cf84a0",
   "metadata": {},
   "outputs": [],
   "source": [
    "indx = np.argmin(np.abs(x))\n",
    "indy = np.argmin(np.abs(y))\n",
    "\n",
    "plt.imshow(ByS[:, indy, :], extent=[z[0], z[-1], x[0], x[-1]], origin=\"lower\")\n",
    "plt.xlabel(\"z (m)\")\n",
    "plt.ylabel(\"x (m)\")\n",
    "\n",
    "plt.colorbar(label=r\"$B_y(x=y=0,z)$ (T)\")"
   ]
  },
  {
   "cell_type": "code",
   "execution_count": null,
   "id": "fcb98f5d-c138-4f42-8733-81cbd2dd87f7",
   "metadata": {},
   "outputs": [],
   "source": [
    "plt.plot(z, BxS[indx, indy, :])\n",
    "plt.plot(z, ByS[indx, indy, :])\n",
    "plt.plot(z, BzS[indx, indy, :])\n",
    "\n",
    "plt.xlabel(\"z (m)\")\n",
    "plt.ylabel(r\"$B$ (T)\")\n",
    "plt.legend([r\"$B_x(x=y=0,z)$\", r\"$B_y(x=y=0,z)$\", r\"$B_z(x=y=0,z)$\"])"
   ]
  },
  {
   "cell_type": "code",
   "execution_count": null,
   "id": "d93baf65-8035-4fd6-b237-23ef9769870a",
   "metadata": {},
   "outputs": [],
   "source": []
  },
  {
   "cell_type": "code",
   "execution_count": null,
   "id": "c6738af0-60ff-4ae5-ad45-ac574b810b10",
   "metadata": {},
   "outputs": [],
   "source": []
  }
 ],
 "metadata": {
  "kernelspec": {
   "display_name": "Python 3 (ipykernel)",
   "language": "python",
   "name": "python3"
  },
  "language_info": {
   "codemirror_mode": {
    "name": "ipython",
    "version": 3
   },
   "file_extension": ".py",
   "mimetype": "text/x-python",
   "name": "python",
   "nbconvert_exporter": "python",
   "pygments_lexer": "ipython3",
   "version": "3.9.18"
  }
 },
 "nbformat": 4,
 "nbformat_minor": 5
}
